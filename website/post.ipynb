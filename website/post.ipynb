{
 "cells": [
  {
   "cell_type": "markdown",
   "metadata": {},
   "source": [
    "52 million mothers in the United States live with their children.\n",
    "Of those, over 4.5 million are in poverty.\n",
    "\n",
    "That poverty rate of 9.0 percent is a bit lower than the overall poverty rate of 9.3 percent,[^spm] largely thanks to safety net programs that target families with children.\n",
    "Yet, many of those programs fail to reach low-income mothers due to qualification rules and complex bureaucracies.\n",
    "For example, [70 percent of single moms do not receive the full Child Tax Credit](https://tcf.org/content/report/what-a-child-allowance-like-canadas-would-do-for-child-poverty-in-america/?session=1).\n",
    "\n",
    "[^spm]: This analysis uses the 2020 Current Population Survey March Supplement, and the [Supplemental Poverty Measure](https://www.census.gov/library/publications/2021/demo/p60-275.html).\n",
    "The official SPM poverty rate was 9.1 percent in 2020, but the public use microdata that powers our analysis produces slightly different results.\n",
    "\n",
    "A simpler alternative, which [other countries adopt](https://child-allowance.ubicenter.org/policies.html#other-countries) and [which we've written about in several other reports](https://www.ubicenter.org/tag/child-allowance/), is a universal child allowance: a flat amount given each month to parents for each of their children.\n",
    "\n",
    "While child allowances chiefly reduce child poverty, they also lift mothers out of poverty.\n",
    "For example, a \\$200 per month child allowance would lift one million mothers out of poverty, at an annual cost of \\$173 billion.[^funding]\n",
    "\n",
    "[^funding]: This static analysis assumes no funding and no behavioral responses.\n",
    "It uses the open source [OpenFisca US](https://openfisca.us) microsimulation model from [PolicyEngine](https://policyengine.org)."
   ]
  },
  {
   "cell_type": "code",
   "execution_count": 1,
   "metadata": {},
   "outputs": [],
   "source": [
    "import plotly.express as px\n",
    "from ubicenter import format_fig\n",
    "from openfisca_us import Microsimulation\n",
    "\n",
    "sim = Microsimulation()"
   ]
  },
  {
   "cell_type": "code",
   "execution_count": 2,
   "metadata": {},
   "outputs": [],
   "source": [
    "# sim.calc(\"is_mother\").sum()  # 52 million.\n",
    "# sim.calc(\"spm_unit_is_in_spm_poverty\", map_to=\"person\").mean()  # 9.3%"
   ]
  },
  {
   "cell_type": "code",
   "execution_count": 3,
   "metadata": {},
   "outputs": [],
   "source": [
    "from openfisca_us.api import *\n",
    "\n",
    "from openfisca_us.model_api import *\n",
    "\n",
    "\n",
    "class spm_unit_net_income(Variable):\n",
    "    value_type = float\n",
    "    entity = SPMUnit\n",
    "    label = \"Net income\"\n",
    "    definition_period = YEAR\n",
    "    unit = USD\n",
    "\n",
    "    formula = sum_of_variables(\n",
    "        [\n",
    "            \"spm_unit_net_income_reported\", \"child_allowance\"\n",
    "        ]\n",
    "    )\n",
    "\n",
    "\n",
    "def get_mother_poverty(child_allowance_amount):\n",
    "    \n",
    "    class child_allowance(Variable):\n",
    "        value_type = float\n",
    "        entity = Person\n",
    "        definition_period = YEAR\n",
    "\n",
    "        def formula(person, period, parameters):\n",
    "            return person(\"is_child\", period) * child_allowance_amount * 12\n",
    "\n",
    "\n",
    "    class add_child_allowance(Reform):\n",
    "        def apply(self):\n",
    "            self.update_variable(child_allowance)\n",
    "            self.update_variable(spm_unit_net_income)\n",
    "\n",
    "    reformed = Microsimulation(add_child_allowance)\n",
    "\n",
    "    dfr = reformed.df([\"is_mother\", \"state_code\", \"child_allowance\", \"spm_unit_is_in_spm_poverty\"],\n",
    "                       map_to=\"person\")\n",
    "    dfr.state_code = dfr.state_code.astype(str)\n",
    "    dfr[\"mother_in_poverty\"] = (dfr[\"is_mother\"] * dfr[\"spm_unit_is_in_spm_poverty\"]).astype(int)\n",
    "    national = pd.Series(dict(\n",
    "        child_allowance=child_allowance_amount,\n",
    "        mother_poverty_count=dfr.mother_in_poverty.sum(),\n",
    "        cost=dfr.child_allowance.sum(),\n",
    "    ))\n",
    "    # return dfr\n",
    "    # print(dfr.dtypes)\n",
    "    \n",
    "    # print(dfr.groupby(\"state_code\").child_allowance.sum())\n",
    "    by_state = dfr.groupby(\"state_code\").child_allowance.sum().reset_index().rename(columns={0: \"cost\"})\n",
    "    by_state[\"mother_poverty_count\"] = dfr.groupby(\"state_code\").mother_in_poverty.sum().values\n",
    "    # by_state = dfr[[\"child_allowance\", \"mother_in_poverty\", \"state_code\"]].groupby(\"state_code\").sum()\n",
    "    # by_state.rename(columns={\"child_allowance\": \"cost\", \"mother_in_poverty\": \"mother_poverty_count\"}, inplace=True)\n",
    "    by_state[\"child_allowance\"] = child_allowance_amount\n",
    "    return national, by_state\n"
   ]
  },
  {
   "cell_type": "code",
   "execution_count": 4,
   "metadata": {},
   "outputs": [],
   "source": [
    "national_list = []\n",
    "state_list = []\n",
    "\n",
    "for i in np.arange(0, 510, 10):\n",
    "    res = get_mother_poverty(i)\n",
    "    national_list.append(res[0])\n",
    "    state_list.append(res[1])\n",
    "\n",
    "national_df = pd.DataFrame(national_list)\n",
    "state_df = pd.concat(state_list).reset_index()"
   ]
  },
  {
   "cell_type": "code",
   "execution_count": 12,
   "metadata": {},
   "outputs": [
    {
     "data": {
      "application/vnd.plotly.v1+json": {
       "config": {
        "displayModeBar": false,
        "plotlyServerURL": "https://plot.ly"
       },
       "data": [
        {
         "customdata": [
          [
           "<b>A $0 monthly child allowance</b><br>would lift 0.0 million mothers (100%) out of poverty<br> and cost $0 billion per year"
          ],
          [
           "<b>A $10 monthly child allowance</b><br>would lift 0.0 million mothers (98%) out of poverty<br> and cost $8 billion per year"
          ],
          [
           "<b>A $20 monthly child allowance</b><br>would lift 0.1 million mothers (97%) out of poverty<br> and cost $17 billion per year"
          ],
          [
           "<b>A $30 monthly child allowance</b><br>would lift 0.2 million mothers (96%) out of poverty<br> and cost $26 billion per year"
          ],
          [
           "<b>A $40 monthly child allowance</b><br>would lift 0.2 million mothers (94%) out of poverty<br> and cost $34 billion per year"
          ],
          [
           "<b>A $50 monthly child allowance</b><br>would lift 0.3 million mothers (94%) out of poverty<br> and cost $43 billion per year"
          ],
          [
           "<b>A $60 monthly child allowance</b><br>would lift 0.3 million mothers (93%) out of poverty<br> and cost $52 billion per year"
          ],
          [
           "<b>A $70 monthly child allowance</b><br>would lift 0.4 million mothers (91%) out of poverty<br> and cost $60 billion per year"
          ],
          [
           "<b>A $80 monthly child allowance</b><br>would lift 0.4 million mothers (91%) out of poverty<br> and cost $69 billion per year"
          ],
          [
           "<b>A $90 monthly child allowance</b><br>would lift 0.5 million mothers (89%) out of poverty<br> and cost $78 billion per year"
          ],
          [
           "<b>A $100 monthly child allowance</b><br>would lift 0.5 million mothers (88%) out of poverty<br> and cost $86 billion per year"
          ],
          [
           "<b>A $110 monthly child allowance</b><br>would lift 0.6 million mothers (86%) out of poverty<br> and cost $95 billion per year"
          ],
          [
           "<b>A $120 monthly child allowance</b><br>would lift 0.6 million mothers (86%) out of poverty<br> and cost $104 billion per year"
          ],
          [
           "<b>A $130 monthly child allowance</b><br>would lift 0.7 million mothers (85%) out of poverty<br> and cost $113 billion per year"
          ],
          [
           "<b>A $140 monthly child allowance</b><br>would lift 0.7 million mothers (83%) out of poverty<br> and cost $121 billion per year"
          ],
          [
           "<b>A $150 monthly child allowance</b><br>would lift 0.8 million mothers (83%) out of poverty<br> and cost $130 billion per year"
          ],
          [
           "<b>A $160 monthly child allowance</b><br>would lift 0.8 million mothers (82%) out of poverty<br> and cost $139 billion per year"
          ],
          [
           "<b>A $170 monthly child allowance</b><br>would lift 0.9 million mothers (81%) out of poverty<br> and cost $147 billion per year"
          ],
          [
           "<b>A $180 monthly child allowance</b><br>would lift 0.9 million mothers (79%) out of poverty<br> and cost $156 billion per year"
          ],
          [
           "<b>A $190 monthly child allowance</b><br>would lift 1.0 million mothers (78%) out of poverty<br> and cost $165 billion per year"
          ],
          [
           "<b>A $200 monthly child allowance</b><br>would lift 1.0 million mothers (78%) out of poverty<br> and cost $173 billion per year"
          ],
          [
           "<b>A $210 monthly child allowance</b><br>would lift 1.0 million mothers (77%) out of poverty<br> and cost $182 billion per year"
          ],
          [
           "<b>A $220 monthly child allowance</b><br>would lift 1.1 million mothers (76%) out of poverty<br> and cost $191 billion per year"
          ],
          [
           "<b>A $230 monthly child allowance</b><br>would lift 1.1 million mothers (76%) out of poverty<br> and cost $199 billion per year"
          ],
          [
           "<b>A $240 monthly child allowance</b><br>would lift 1.2 million mothers (75%) out of poverty<br> and cost $208 billion per year"
          ],
          [
           "<b>A $250 monthly child allowance</b><br>would lift 1.2 million mothers (74%) out of poverty<br> and cost $217 billion per year"
          ],
          [
           "<b>A $260 monthly child allowance</b><br>would lift 1.2 million mothers (73%) out of poverty<br> and cost $226 billion per year"
          ],
          [
           "<b>A $270 monthly child allowance</b><br>would lift 1.2 million mothers (73%) out of poverty<br> and cost $234 billion per year"
          ],
          [
           "<b>A $280 monthly child allowance</b><br>would lift 1.3 million mothers (71%) out of poverty<br> and cost $243 billion per year"
          ],
          [
           "<b>A $290 monthly child allowance</b><br>would lift 1.4 million mothers (70%) out of poverty<br> and cost $252 billion per year"
          ],
          [
           "<b>A $300 monthly child allowance</b><br>would lift 1.4 million mothers (70%) out of poverty<br> and cost $260 billion per year"
          ],
          [
           "<b>A $310 monthly child allowance</b><br>would lift 1.4 million mothers (69%) out of poverty<br> and cost $269 billion per year"
          ],
          [
           "<b>A $320 monthly child allowance</b><br>would lift 1.5 million mothers (68%) out of poverty<br> and cost $278 billion per year"
          ],
          [
           "<b>A $330 monthly child allowance</b><br>would lift 1.5 million mothers (67%) out of poverty<br> and cost $286 billion per year"
          ],
          [
           "<b>A $340 monthly child allowance</b><br>would lift 1.5 million mothers (66%) out of poverty<br> and cost $295 billion per year"
          ],
          [
           "<b>A $350 monthly child allowance</b><br>would lift 1.6 million mothers (66%) out of poverty<br> and cost $304 billion per year"
          ],
          [
           "<b>A $360 monthly child allowance</b><br>would lift 1.6 million mothers (65%) out of poverty<br> and cost $313 billion per year"
          ],
          [
           "<b>A $370 monthly child allowance</b><br>would lift 1.7 million mothers (63%) out of poverty<br> and cost $321 billion per year"
          ],
          [
           "<b>A $380 monthly child allowance</b><br>would lift 1.7 million mothers (62%) out of poverty<br> and cost $330 billion per year"
          ],
          [
           "<b>A $390 monthly child allowance</b><br>would lift 1.7 million mothers (62%) out of poverty<br> and cost $339 billion per year"
          ],
          [
           "<b>A $400 monthly child allowance</b><br>would lift 1.8 million mothers (61%) out of poverty<br> and cost $347 billion per year"
          ],
          [
           "<b>A $410 monthly child allowance</b><br>would lift 1.8 million mothers (60%) out of poverty<br> and cost $356 billion per year"
          ],
          [
           "<b>A $420 monthly child allowance</b><br>would lift 1.9 million mothers (59%) out of poverty<br> and cost $365 billion per year"
          ],
          [
           "<b>A $430 monthly child allowance</b><br>would lift 1.9 million mothers (59%) out of poverty<br> and cost $373 billion per year"
          ],
          [
           "<b>A $440 monthly child allowance</b><br>would lift 1.9 million mothers (58%) out of poverty<br> and cost $382 billion per year"
          ],
          [
           "<b>A $450 monthly child allowance</b><br>would lift 1.9 million mothers (58%) out of poverty<br> and cost $391 billion per year"
          ],
          [
           "<b>A $460 monthly child allowance</b><br>would lift 2.0 million mothers (57%) out of poverty<br> and cost $399 billion per year"
          ],
          [
           "<b>A $470 monthly child allowance</b><br>would lift 2.0 million mothers (56%) out of poverty<br> and cost $408 billion per year"
          ],
          [
           "<b>A $480 monthly child allowance</b><br>would lift 2.0 million mothers (55%) out of poverty<br> and cost $417 billion per year"
          ],
          [
           "<b>A $490 monthly child allowance</b><br>would lift 2.1 million mothers (55%) out of poverty<br> and cost $426 billion per year"
          ],
          [
           "<b>A $500 monthly child allowance</b><br>would lift 2.1 million mothers (55%) out of poverty<br> and cost $434 billion per year"
          ]
         ],
         "hovertemplate": "%{customdata[0]}<extra></extra>",
         "legendgroup": "",
         "line": {
          "color": "#636efa",
          "dash": "solid"
         },
         "marker": {
          "symbol": "circle"
         },
         "mode": "lines",
         "name": "",
         "orientation": "v",
         "showlegend": false,
         "type": "scatter",
         "x": [
          0,
          10,
          20,
          30,
          40,
          50,
          60,
          70,
          80,
          90,
          100,
          110,
          120,
          130,
          140,
          150,
          160,
          170,
          180,
          190,
          200,
          210,
          220,
          230,
          240,
          250,
          260,
          270,
          280,
          290,
          300,
          310,
          320,
          330,
          340,
          350,
          360,
          370,
          380,
          390,
          400,
          410,
          420,
          430,
          440,
          450,
          460,
          470,
          480,
          490,
          500
         ],
         "xaxis": "x",
         "y": [
          4637714.04788208,
          4589049.247558594,
          4541634.787658691,
          4468437.307861328,
          4405358.997314453,
          4376307.197418213,
          4317801.897491455,
          4254511.017913818,
          4222136.827575684,
          4146290.077697754,
          4097081.337890625,
          4034198.886932373,
          3994925.9668884277,
          3953549.946624756,
          3895433.1867370605,
          3855670.327026367,
          3817896.1670532227,
          3760180.8677368164,
          3707888.268310547,
          3643901.428100586,
          3621373.618347168,
          3595964.768432617,
          3551274.267944336,
          3528817.4576416016,
          3480995.5982666016,
          3460547.258117676,
          3415511.3783569336,
          3389217.4381713867,
          3318713.668334961,
          3285993.798095703,
          3262599.088195801,
          3219778.1482543945,
          3178411.5282592773,
          3145004.628601074,
          3105674.4083251953,
          3061571.9984436035,
          3040479.398162842,
          2955861.3587036133,
          2902010.0386047363,
          2888008.308380127,
          2849612.1784973145,
          2816402.4386291504,
          2779818.888885498,
          2742702.7183532715,
          2717422.2078552246,
          2691179.3875427246,
          2674582.087615967,
          2637441.0672912598,
          2589261.7367248535,
          2576323.236968994,
          2560992.766998291
         ],
         "yaxis": "y"
        }
       ],
       "layout": {
        "font": {
         "family": "Roboto"
        },
        "height": 600,
        "hoverlabel": {
         "align": "right"
        },
        "images": [
         {
          "sizex": 0.12,
          "sizey": 0.12,
          "source": "https://raw.githubusercontent.com/UBICenter/ubicenter.org/master/assets/images/logos/wide-blue.jpg",
          "x": 0.98,
          "xanchor": "right",
          "xref": "paper",
          "y": -0.12,
          "yanchor": "bottom",
          "yref": "paper"
         }
        ],
        "legend": {
         "tracegroupgap": 0
        },
        "paper_bgcolor": "white",
        "plot_bgcolor": "white",
        "template": {
         "data": {
          "bar": [
           {
            "error_x": {
             "color": "#2a3f5f"
            },
            "error_y": {
             "color": "#2a3f5f"
            },
            "marker": {
             "line": {
              "color": "#E5ECF6",
              "width": 0.5
             },
             "pattern": {
              "fillmode": "overlay",
              "size": 10,
              "solidity": 0.2
             }
            },
            "type": "bar"
           }
          ],
          "barpolar": [
           {
            "marker": {
             "line": {
              "color": "#E5ECF6",
              "width": 0.5
             },
             "pattern": {
              "fillmode": "overlay",
              "size": 10,
              "solidity": 0.2
             }
            },
            "type": "barpolar"
           }
          ],
          "carpet": [
           {
            "aaxis": {
             "endlinecolor": "#2a3f5f",
             "gridcolor": "white",
             "linecolor": "white",
             "minorgridcolor": "white",
             "startlinecolor": "#2a3f5f"
            },
            "baxis": {
             "endlinecolor": "#2a3f5f",
             "gridcolor": "white",
             "linecolor": "white",
             "minorgridcolor": "white",
             "startlinecolor": "#2a3f5f"
            },
            "type": "carpet"
           }
          ],
          "choropleth": [
           {
            "colorbar": {
             "outlinewidth": 0,
             "ticks": ""
            },
            "type": "choropleth"
           }
          ],
          "contour": [
           {
            "colorbar": {
             "outlinewidth": 0,
             "ticks": ""
            },
            "colorscale": [
             [
              0,
              "#0d0887"
             ],
             [
              0.1111111111111111,
              "#46039f"
             ],
             [
              0.2222222222222222,
              "#7201a8"
             ],
             [
              0.3333333333333333,
              "#9c179e"
             ],
             [
              0.4444444444444444,
              "#bd3786"
             ],
             [
              0.5555555555555556,
              "#d8576b"
             ],
             [
              0.6666666666666666,
              "#ed7953"
             ],
             [
              0.7777777777777778,
              "#fb9f3a"
             ],
             [
              0.8888888888888888,
              "#fdca26"
             ],
             [
              1,
              "#f0f921"
             ]
            ],
            "type": "contour"
           }
          ],
          "contourcarpet": [
           {
            "colorbar": {
             "outlinewidth": 0,
             "ticks": ""
            },
            "type": "contourcarpet"
           }
          ],
          "heatmap": [
           {
            "colorbar": {
             "outlinewidth": 0,
             "ticks": ""
            },
            "colorscale": [
             [
              0,
              "#0d0887"
             ],
             [
              0.1111111111111111,
              "#46039f"
             ],
             [
              0.2222222222222222,
              "#7201a8"
             ],
             [
              0.3333333333333333,
              "#9c179e"
             ],
             [
              0.4444444444444444,
              "#bd3786"
             ],
             [
              0.5555555555555556,
              "#d8576b"
             ],
             [
              0.6666666666666666,
              "#ed7953"
             ],
             [
              0.7777777777777778,
              "#fb9f3a"
             ],
             [
              0.8888888888888888,
              "#fdca26"
             ],
             [
              1,
              "#f0f921"
             ]
            ],
            "type": "heatmap"
           }
          ],
          "heatmapgl": [
           {
            "colorbar": {
             "outlinewidth": 0,
             "ticks": ""
            },
            "colorscale": [
             [
              0,
              "#0d0887"
             ],
             [
              0.1111111111111111,
              "#46039f"
             ],
             [
              0.2222222222222222,
              "#7201a8"
             ],
             [
              0.3333333333333333,
              "#9c179e"
             ],
             [
              0.4444444444444444,
              "#bd3786"
             ],
             [
              0.5555555555555556,
              "#d8576b"
             ],
             [
              0.6666666666666666,
              "#ed7953"
             ],
             [
              0.7777777777777778,
              "#fb9f3a"
             ],
             [
              0.8888888888888888,
              "#fdca26"
             ],
             [
              1,
              "#f0f921"
             ]
            ],
            "type": "heatmapgl"
           }
          ],
          "histogram": [
           {
            "marker": {
             "pattern": {
              "fillmode": "overlay",
              "size": 10,
              "solidity": 0.2
             }
            },
            "type": "histogram"
           }
          ],
          "histogram2d": [
           {
            "colorbar": {
             "outlinewidth": 0,
             "ticks": ""
            },
            "colorscale": [
             [
              0,
              "#0d0887"
             ],
             [
              0.1111111111111111,
              "#46039f"
             ],
             [
              0.2222222222222222,
              "#7201a8"
             ],
             [
              0.3333333333333333,
              "#9c179e"
             ],
             [
              0.4444444444444444,
              "#bd3786"
             ],
             [
              0.5555555555555556,
              "#d8576b"
             ],
             [
              0.6666666666666666,
              "#ed7953"
             ],
             [
              0.7777777777777778,
              "#fb9f3a"
             ],
             [
              0.8888888888888888,
              "#fdca26"
             ],
             [
              1,
              "#f0f921"
             ]
            ],
            "type": "histogram2d"
           }
          ],
          "histogram2dcontour": [
           {
            "colorbar": {
             "outlinewidth": 0,
             "ticks": ""
            },
            "colorscale": [
             [
              0,
              "#0d0887"
             ],
             [
              0.1111111111111111,
              "#46039f"
             ],
             [
              0.2222222222222222,
              "#7201a8"
             ],
             [
              0.3333333333333333,
              "#9c179e"
             ],
             [
              0.4444444444444444,
              "#bd3786"
             ],
             [
              0.5555555555555556,
              "#d8576b"
             ],
             [
              0.6666666666666666,
              "#ed7953"
             ],
             [
              0.7777777777777778,
              "#fb9f3a"
             ],
             [
              0.8888888888888888,
              "#fdca26"
             ],
             [
              1,
              "#f0f921"
             ]
            ],
            "type": "histogram2dcontour"
           }
          ],
          "mesh3d": [
           {
            "colorbar": {
             "outlinewidth": 0,
             "ticks": ""
            },
            "type": "mesh3d"
           }
          ],
          "parcoords": [
           {
            "line": {
             "colorbar": {
              "outlinewidth": 0,
              "ticks": ""
             }
            },
            "type": "parcoords"
           }
          ],
          "pie": [
           {
            "automargin": true,
            "type": "pie"
           }
          ],
          "scatter": [
           {
            "marker": {
             "colorbar": {
              "outlinewidth": 0,
              "ticks": ""
             }
            },
            "type": "scatter"
           }
          ],
          "scatter3d": [
           {
            "line": {
             "colorbar": {
              "outlinewidth": 0,
              "ticks": ""
             }
            },
            "marker": {
             "colorbar": {
              "outlinewidth": 0,
              "ticks": ""
             }
            },
            "type": "scatter3d"
           }
          ],
          "scattercarpet": [
           {
            "marker": {
             "colorbar": {
              "outlinewidth": 0,
              "ticks": ""
             }
            },
            "type": "scattercarpet"
           }
          ],
          "scattergeo": [
           {
            "marker": {
             "colorbar": {
              "outlinewidth": 0,
              "ticks": ""
             }
            },
            "type": "scattergeo"
           }
          ],
          "scattergl": [
           {
            "marker": {
             "colorbar": {
              "outlinewidth": 0,
              "ticks": ""
             }
            },
            "type": "scattergl"
           }
          ],
          "scattermapbox": [
           {
            "marker": {
             "colorbar": {
              "outlinewidth": 0,
              "ticks": ""
             }
            },
            "type": "scattermapbox"
           }
          ],
          "scatterpolar": [
           {
            "marker": {
             "colorbar": {
              "outlinewidth": 0,
              "ticks": ""
             }
            },
            "type": "scatterpolar"
           }
          ],
          "scatterpolargl": [
           {
            "marker": {
             "colorbar": {
              "outlinewidth": 0,
              "ticks": ""
             }
            },
            "type": "scatterpolargl"
           }
          ],
          "scatterternary": [
           {
            "marker": {
             "colorbar": {
              "outlinewidth": 0,
              "ticks": ""
             }
            },
            "type": "scatterternary"
           }
          ],
          "surface": [
           {
            "colorbar": {
             "outlinewidth": 0,
             "ticks": ""
            },
            "colorscale": [
             [
              0,
              "#0d0887"
             ],
             [
              0.1111111111111111,
              "#46039f"
             ],
             [
              0.2222222222222222,
              "#7201a8"
             ],
             [
              0.3333333333333333,
              "#9c179e"
             ],
             [
              0.4444444444444444,
              "#bd3786"
             ],
             [
              0.5555555555555556,
              "#d8576b"
             ],
             [
              0.6666666666666666,
              "#ed7953"
             ],
             [
              0.7777777777777778,
              "#fb9f3a"
             ],
             [
              0.8888888888888888,
              "#fdca26"
             ],
             [
              1,
              "#f0f921"
             ]
            ],
            "type": "surface"
           }
          ],
          "table": [
           {
            "cells": {
             "fill": {
              "color": "#EBF0F8"
             },
             "line": {
              "color": "white"
             }
            },
            "header": {
             "fill": {
              "color": "#C8D4E3"
             },
             "line": {
              "color": "white"
             }
            },
            "type": "table"
           }
          ]
         },
         "layout": {
          "annotationdefaults": {
           "arrowcolor": "#2a3f5f",
           "arrowhead": 0,
           "arrowwidth": 1
          },
          "autotypenumbers": "strict",
          "coloraxis": {
           "colorbar": {
            "outlinewidth": 0,
            "ticks": ""
           }
          },
          "colorscale": {
           "diverging": [
            [
             0,
             "#8e0152"
            ],
            [
             0.1,
             "#c51b7d"
            ],
            [
             0.2,
             "#de77ae"
            ],
            [
             0.3,
             "#f1b6da"
            ],
            [
             0.4,
             "#fde0ef"
            ],
            [
             0.5,
             "#f7f7f7"
            ],
            [
             0.6,
             "#e6f5d0"
            ],
            [
             0.7,
             "#b8e186"
            ],
            [
             0.8,
             "#7fbc41"
            ],
            [
             0.9,
             "#4d9221"
            ],
            [
             1,
             "#276419"
            ]
           ],
           "sequential": [
            [
             0,
             "#0d0887"
            ],
            [
             0.1111111111111111,
             "#46039f"
            ],
            [
             0.2222222222222222,
             "#7201a8"
            ],
            [
             0.3333333333333333,
             "#9c179e"
            ],
            [
             0.4444444444444444,
             "#bd3786"
            ],
            [
             0.5555555555555556,
             "#d8576b"
            ],
            [
             0.6666666666666666,
             "#ed7953"
            ],
            [
             0.7777777777777778,
             "#fb9f3a"
            ],
            [
             0.8888888888888888,
             "#fdca26"
            ],
            [
             1,
             "#f0f921"
            ]
           ],
           "sequentialminus": [
            [
             0,
             "#0d0887"
            ],
            [
             0.1111111111111111,
             "#46039f"
            ],
            [
             0.2222222222222222,
             "#7201a8"
            ],
            [
             0.3333333333333333,
             "#9c179e"
            ],
            [
             0.4444444444444444,
             "#bd3786"
            ],
            [
             0.5555555555555556,
             "#d8576b"
            ],
            [
             0.6666666666666666,
             "#ed7953"
            ],
            [
             0.7777777777777778,
             "#fb9f3a"
            ],
            [
             0.8888888888888888,
             "#fdca26"
            ],
            [
             1,
             "#f0f921"
            ]
           ]
          },
          "colorway": [
           "#636efa",
           "#EF553B",
           "#00cc96",
           "#ab63fa",
           "#FFA15A",
           "#19d3f3",
           "#FF6692",
           "#B6E880",
           "#FF97FF",
           "#FECB52"
          ],
          "font": {
           "color": "#2a3f5f"
          },
          "geo": {
           "bgcolor": "white",
           "lakecolor": "white",
           "landcolor": "#E5ECF6",
           "showlakes": true,
           "showland": true,
           "subunitcolor": "white"
          },
          "hoverlabel": {
           "align": "left"
          },
          "hovermode": "closest",
          "mapbox": {
           "style": "light"
          },
          "paper_bgcolor": "white",
          "plot_bgcolor": "#E5ECF6",
          "polar": {
           "angularaxis": {
            "gridcolor": "white",
            "linecolor": "white",
            "ticks": ""
           },
           "bgcolor": "#E5ECF6",
           "radialaxis": {
            "gridcolor": "white",
            "linecolor": "white",
            "ticks": ""
           }
          },
          "scene": {
           "xaxis": {
            "backgroundcolor": "#E5ECF6",
            "gridcolor": "white",
            "gridwidth": 2,
            "linecolor": "white",
            "showbackground": true,
            "ticks": "",
            "zerolinecolor": "white"
           },
           "yaxis": {
            "backgroundcolor": "#E5ECF6",
            "gridcolor": "white",
            "gridwidth": 2,
            "linecolor": "white",
            "showbackground": true,
            "ticks": "",
            "zerolinecolor": "white"
           },
           "zaxis": {
            "backgroundcolor": "#E5ECF6",
            "gridcolor": "white",
            "gridwidth": 2,
            "linecolor": "white",
            "showbackground": true,
            "ticks": "",
            "zerolinecolor": "white"
           }
          },
          "shapedefaults": {
           "line": {
            "color": "#2a3f5f"
           }
          },
          "ternary": {
           "aaxis": {
            "gridcolor": "white",
            "linecolor": "white",
            "ticks": ""
           },
           "baxis": {
            "gridcolor": "white",
            "linecolor": "white",
            "ticks": ""
           },
           "bgcolor": "#E5ECF6",
           "caxis": {
            "gridcolor": "white",
            "linecolor": "white",
            "ticks": ""
           }
          },
          "title": {
           "x": 0.05
          },
          "xaxis": {
           "automargin": true,
           "gridcolor": "white",
           "linecolor": "white",
           "ticks": "",
           "title": {
            "standoff": 15
           },
           "zerolinecolor": "white",
           "zerolinewidth": 2
          },
          "yaxis": {
           "automargin": true,
           "gridcolor": "white",
           "linecolor": "white",
           "ticks": "",
           "title": {
            "standoff": 15
           },
           "zerolinecolor": "white",
           "zerolinewidth": 2
          }
         }
        },
        "title": {
         "font": {
          "size": 20
         },
         "text": "How a monthly child allowance would lift moms out of poverty"
        },
        "width": 800,
        "xaxis": {
         "anchor": "y",
         "domain": [
          0,
          1
         ],
         "tickfont": {
          "size": 14
         },
         "tickformat": "$0",
         "title": {
          "font": {
           "color": "black",
           "size": 16
          },
          "text": "Monthly child allowance"
         }
        },
        "yaxis": {
         "anchor": "x",
         "domain": [
          0,
          1
         ],
         "range": [
          0,
          5000000
         ],
         "tickfont": {
          "size": 14
         },
         "title": {
          "font": {
           "color": "black",
           "size": 16
          },
          "text": "Mothers in poverty"
         }
        }
       }
      }
     },
     "metadata": {},
     "output_type": "display_data"
    }
   ],
   "source": [
    "national_df[\"mother_poverty_cut\"] = national_df.mother_poverty_count[0] - national_df.mother_poverty_count\n",
    "national_df[\"mother_poverty_pct_cut\"] = national_df.mother_poverty_count / national_df.mother_poverty_count[0]\n",
    "national_df[\"hover\"] = (\n",
    "    \"<b>A $\" + national_df.child_allowance.astype(int).astype(str) +\n",
    "    \" monthly child allowance</b><br>\" +\n",
    "    \"would lift \" +\n",
    "    (national_df.mother_poverty_cut / 1e6).round(1).astype(str) + \n",
    "    \" million mothers (\" + (national_df.mother_poverty_pct_cut * 100).astype(int).astype(str) +\n",
    "    \"%) out of poverty<br>\" +\n",
    "    \" and cost $\" +\n",
    "    (national_df.cost / 1e9).astype(int).astype(str) +\n",
    "    \" billion per year\"\n",
    "    )\n",
    "LABELS = dict(child_allowance=\"Monthly child allowance\", mother_poverty_count=\"Mothers in poverty\")\n",
    "HOVER_TEMPLATE = \"%{customdata[0]}<extra></extra>\"\n",
    "fig = px.line(\n",
    "    national_df, x=\"child_allowance\", y=\"mother_poverty_count\", labels=LABELS, custom_data=[\"hover\"],\n",
    "    title=\"How a monthly child allowance would lift moms out of poverty\")\n",
    "fig.update_layout(yaxis_range=[0, 5e6], xaxis_tickformat=\"$0\")\n",
    "fig.update_traces(hovertemplate=HOVER_TEMPLATE)\n",
    "format_fig(fig)"
   ]
  },
  {
   "cell_type": "markdown",
   "metadata": {},
   "source": [
    "Child allowances would cut maternal poverty at similar relative rates across states.\n",
    "For example, a \\$200 monthly child allowance would cut it by about 15 percent in both California and Maryland.\n",
    "In California, the policy would cost \\$21 billion per year and lift 114,000 mothers out of poverty, while in Maryland, it would cost \\$3.1 billion per year and lift 16,000 mothers out of poverty."
   ]
  },
  {
   "cell_type": "code",
   "execution_count": 14,
   "metadata": {},
   "outputs": [
    {
     "data": {
      "application/vnd.plotly.v1+json": {
       "config": {
        "displayModeBar": false,
        "plotlyServerURL": "https://plot.ly"
       },
       "data": [
        {
         "coloraxis": "coloraxis",
         "customdata": [
          [
           "<b>A $0 monthly child allowance in Alaska</b><br>would lift 0,000 mothers (0%) out of poverty<br>and cost $0.0 billion per year"
          ],
          [
           "<b>A $0 monthly child allowance in Alabama</b><br>would lift 0,000 mothers (0%) out of poverty<br>and cost $0.0 billion per year"
          ],
          [
           "<b>A $0 monthly child allowance in Arkansas</b><br>would lift 0,000 mothers (0%) out of poverty<br>and cost $0.0 billion per year"
          ],
          [
           "<b>A $0 monthly child allowance in Arizona</b><br>would lift 0,000 mothers (0%) out of poverty<br>and cost $0.0 billion per year"
          ],
          [
           "<b>A $0 monthly child allowance in California</b><br>would lift 0,000 mothers (0%) out of poverty<br>and cost $0.0 billion per year"
          ],
          [
           "<b>A $0 monthly child allowance in Colorado</b><br>would lift 0,000 mothers (0%) out of poverty<br>and cost $0.0 billion per year"
          ],
          [
           "<b>A $0 monthly child allowance in Connecticut</b><br>would lift 0,000 mothers (0%) out of poverty<br>and cost $0.0 billion per year"
          ],
          [
           "<b>A $0 monthly child allowance in District of Columbia</b><br>would lift 0,000 mothers (0%) out of poverty<br>and cost $0.0 billion per year"
          ],
          [
           "<b>A $0 monthly child allowance in Delaware</b><br>would lift 0,000 mothers (0%) out of poverty<br>and cost $0.0 billion per year"
          ],
          [
           "<b>A $0 monthly child allowance in Florida</b><br>would lift 0,000 mothers (0%) out of poverty<br>and cost $0.0 billion per year"
          ],
          [
           "<b>A $0 monthly child allowance in Georgia</b><br>would lift 0,000 mothers (0%) out of poverty<br>and cost $0.0 billion per year"
          ],
          [
           "<b>A $0 monthly child allowance in Hawaii</b><br>would lift 0,000 mothers (0%) out of poverty<br>and cost $0.0 billion per year"
          ],
          [
           "<b>A $0 monthly child allowance in Iowa</b><br>would lift 0,000 mothers (0%) out of poverty<br>and cost $0.0 billion per year"
          ],
          [
           "<b>A $0 monthly child allowance in Idaho</b><br>would lift 0,000 mothers (0%) out of poverty<br>and cost $0.0 billion per year"
          ],
          [
           "<b>A $0 monthly child allowance in Illinois</b><br>would lift 0,000 mothers (0%) out of poverty<br>and cost $0.0 billion per year"
          ],
          [
           "<b>A $0 monthly child allowance in Indiana</b><br>would lift 0,000 mothers (0%) out of poverty<br>and cost $0.0 billion per year"
          ],
          [
           "<b>A $0 monthly child allowance in Kansas</b><br>would lift 0,000 mothers (0%) out of poverty<br>and cost $0.0 billion per year"
          ],
          [
           "<b>A $0 monthly child allowance in Kentucky</b><br>would lift 0,000 mothers (0%) out of poverty<br>and cost $0.0 billion per year"
          ],
          [
           "<b>A $0 monthly child allowance in Louisiana</b><br>would lift 0,000 mothers (0%) out of poverty<br>and cost $0.0 billion per year"
          ],
          [
           "<b>A $0 monthly child allowance in Massachusetts</b><br>would lift 0,000 mothers (0%) out of poverty<br>and cost $0.0 billion per year"
          ],
          [
           "<b>A $0 monthly child allowance in Maryland</b><br>would lift 0,000 mothers (0%) out of poverty<br>and cost $0.0 billion per year"
          ],
          [
           "<b>A $0 monthly child allowance in Maine</b><br>would lift 0,000 mothers (0%) out of poverty<br>and cost $0.0 billion per year"
          ],
          [
           "<b>A $0 monthly child allowance in Michigan</b><br>would lift 0,000 mothers (0%) out of poverty<br>and cost $0.0 billion per year"
          ],
          [
           "<b>A $0 monthly child allowance in Minnesota</b><br>would lift 0,000 mothers (0%) out of poverty<br>and cost $0.0 billion per year"
          ],
          [
           "<b>A $0 monthly child allowance in Missouri</b><br>would lift 0,000 mothers (0%) out of poverty<br>and cost $0.0 billion per year"
          ],
          [
           "<b>A $0 monthly child allowance in Mississippi</b><br>would lift 0,000 mothers (0%) out of poverty<br>and cost $0.0 billion per year"
          ],
          [
           "<b>A $0 monthly child allowance in Montana</b><br>would lift 0,000 mothers (0%) out of poverty<br>and cost $0.0 billion per year"
          ],
          [
           "<b>A $0 monthly child allowance in North Carolina</b><br>would lift 0,000 mothers (0%) out of poverty<br>and cost $0.0 billion per year"
          ],
          [
           "<b>A $0 monthly child allowance in North Dakota</b><br>would lift 0,000 mothers (0%) out of poverty<br>and cost $0.0 billion per year"
          ],
          [
           "<b>A $0 monthly child allowance in Nebraska</b><br>would lift 0,000 mothers (0%) out of poverty<br>and cost $0.0 billion per year"
          ],
          [
           "<b>A $0 monthly child allowance in New Hampshire</b><br>would lift 0,000 mothers (0%) out of poverty<br>and cost $0.0 billion per year"
          ],
          [
           "<b>A $0 monthly child allowance in New Jersey</b><br>would lift 0,000 mothers (0%) out of poverty<br>and cost $0.0 billion per year"
          ],
          [
           "<b>A $0 monthly child allowance in New Mexico</b><br>would lift 0,000 mothers (0%) out of poverty<br>and cost $0.0 billion per year"
          ],
          [
           "<b>A $0 monthly child allowance in Nevada</b><br>would lift 0,000 mothers (0%) out of poverty<br>and cost $0.0 billion per year"
          ],
          [
           "<b>A $0 monthly child allowance in New York</b><br>would lift 0,000 mothers (0%) out of poverty<br>and cost $0.0 billion per year"
          ],
          [
           "<b>A $0 monthly child allowance in Ohio</b><br>would lift 0,000 mothers (0%) out of poverty<br>and cost $0.0 billion per year"
          ],
          [
           "<b>A $0 monthly child allowance in Oklahoma</b><br>would lift 0,000 mothers (0%) out of poverty<br>and cost $0.0 billion per year"
          ],
          [
           "<b>A $0 monthly child allowance in Oregon</b><br>would lift 0,000 mothers (0%) out of poverty<br>and cost $0.0 billion per year"
          ],
          [
           "<b>A $0 monthly child allowance in Pennsylvania</b><br>would lift 0,000 mothers (0%) out of poverty<br>and cost $0.0 billion per year"
          ],
          [
           "<b>A $0 monthly child allowance in Rhode Island</b><br>would lift 0,000 mothers (0%) out of poverty<br>and cost $0.0 billion per year"
          ],
          [
           "<b>A $0 monthly child allowance in South Carolina</b><br>would lift 0,000 mothers (0%) out of poverty<br>and cost $0.0 billion per year"
          ],
          [
           "<b>A $0 monthly child allowance in South Dakota</b><br>would lift 0,000 mothers (0%) out of poverty<br>and cost $0.0 billion per year"
          ],
          [
           "<b>A $0 monthly child allowance in Tennessee</b><br>would lift 0,000 mothers (0%) out of poverty<br>and cost $0.0 billion per year"
          ],
          [
           "<b>A $0 monthly child allowance in Texas</b><br>would lift 0,000 mothers (0%) out of poverty<br>and cost $0.0 billion per year"
          ],
          [
           "<b>A $0 monthly child allowance in Utah</b><br>would lift 0,000 mothers (0%) out of poverty<br>and cost $0.0 billion per year"
          ],
          [
           "<b>A $0 monthly child allowance in Virginia</b><br>would lift 0,000 mothers (0%) out of poverty<br>and cost $0.0 billion per year"
          ],
          [
           "<b>A $0 monthly child allowance in Vermont</b><br>would lift 0,000 mothers (0%) out of poverty<br>and cost $0.0 billion per year"
          ],
          [
           "<b>A $0 monthly child allowance in Washington</b><br>would lift 0,000 mothers (0%) out of poverty<br>and cost $0.0 billion per year"
          ],
          [
           "<b>A $0 monthly child allowance in Wisconsin</b><br>would lift 0,000 mothers (0%) out of poverty<br>and cost $0.0 billion per year"
          ],
          [
           "<b>A $0 monthly child allowance in West Virginia</b><br>would lift 0,000 mothers (0%) out of poverty<br>and cost $0.0 billion per year"
          ],
          [
           "<b>A $0 monthly child allowance in Wyoming</b><br>would lift 0,000 mothers (0%) out of poverty<br>and cost $0.0 billion per year"
          ]
         ],
         "geo": "geo",
         "hovertemplate": "%{customdata[0]}<extra></extra>",
         "locationmode": "USA-states",
         "locations": [
          "AK",
          "AL",
          "AR",
          "AZ",
          "CA",
          "CO",
          "CT",
          "DC",
          "DE",
          "FL",
          "GA",
          "HI",
          "IA",
          "ID",
          "IL",
          "IN",
          "KS",
          "KY",
          "LA",
          "MA",
          "MD",
          "ME",
          "MI",
          "MN",
          "MO",
          "MS",
          "MT",
          "NC",
          "ND",
          "NE",
          "NH",
          "NJ",
          "NM",
          "NV",
          "NY",
          "OH",
          "OK",
          "OR",
          "PA",
          "RI",
          "SC",
          "SD",
          "TN",
          "TX",
          "UT",
          "VA",
          "VT",
          "WA",
          "WI",
          "WV",
          "WY"
         ],
         "name": "",
         "type": "choropleth",
         "z": [
          0,
          0,
          0,
          0,
          0,
          0,
          0,
          0,
          0,
          0,
          0,
          0,
          0,
          0,
          0,
          0,
          0,
          0,
          0,
          0,
          0,
          0,
          0,
          0,
          0,
          0,
          0,
          0,
          0,
          0,
          0,
          0,
          0,
          0,
          0,
          0,
          0,
          0,
          0,
          0,
          0,
          0,
          0,
          0,
          0,
          0,
          0,
          0,
          0,
          0,
          0
         ]
        }
       ],
       "frames": [
        {
         "data": [
          {
           "coloraxis": "coloraxis",
           "customdata": [
            [
             "<b>A $0 monthly child allowance in Alaska</b><br>would lift 0,000 mothers (0%) out of poverty<br>and cost $0.0 billion per year"
            ],
            [
             "<b>A $0 monthly child allowance in Alabama</b><br>would lift 0,000 mothers (0%) out of poverty<br>and cost $0.0 billion per year"
            ],
            [
             "<b>A $0 monthly child allowance in Arkansas</b><br>would lift 0,000 mothers (0%) out of poverty<br>and cost $0.0 billion per year"
            ],
            [
             "<b>A $0 monthly child allowance in Arizona</b><br>would lift 0,000 mothers (0%) out of poverty<br>and cost $0.0 billion per year"
            ],
            [
             "<b>A $0 monthly child allowance in California</b><br>would lift 0,000 mothers (0%) out of poverty<br>and cost $0.0 billion per year"
            ],
            [
             "<b>A $0 monthly child allowance in Colorado</b><br>would lift 0,000 mothers (0%) out of poverty<br>and cost $0.0 billion per year"
            ],
            [
             "<b>A $0 monthly child allowance in Connecticut</b><br>would lift 0,000 mothers (0%) out of poverty<br>and cost $0.0 billion per year"
            ],
            [
             "<b>A $0 monthly child allowance in District of Columbia</b><br>would lift 0,000 mothers (0%) out of poverty<br>and cost $0.0 billion per year"
            ],
            [
             "<b>A $0 monthly child allowance in Delaware</b><br>would lift 0,000 mothers (0%) out of poverty<br>and cost $0.0 billion per year"
            ],
            [
             "<b>A $0 monthly child allowance in Florida</b><br>would lift 0,000 mothers (0%) out of poverty<br>and cost $0.0 billion per year"
            ],
            [
             "<b>A $0 monthly child allowance in Georgia</b><br>would lift 0,000 mothers (0%) out of poverty<br>and cost $0.0 billion per year"
            ],
            [
             "<b>A $0 monthly child allowance in Hawaii</b><br>would lift 0,000 mothers (0%) out of poverty<br>and cost $0.0 billion per year"
            ],
            [
             "<b>A $0 monthly child allowance in Iowa</b><br>would lift 0,000 mothers (0%) out of poverty<br>and cost $0.0 billion per year"
            ],
            [
             "<b>A $0 monthly child allowance in Idaho</b><br>would lift 0,000 mothers (0%) out of poverty<br>and cost $0.0 billion per year"
            ],
            [
             "<b>A $0 monthly child allowance in Illinois</b><br>would lift 0,000 mothers (0%) out of poverty<br>and cost $0.0 billion per year"
            ],
            [
             "<b>A $0 monthly child allowance in Indiana</b><br>would lift 0,000 mothers (0%) out of poverty<br>and cost $0.0 billion per year"
            ],
            [
             "<b>A $0 monthly child allowance in Kansas</b><br>would lift 0,000 mothers (0%) out of poverty<br>and cost $0.0 billion per year"
            ],
            [
             "<b>A $0 monthly child allowance in Kentucky</b><br>would lift 0,000 mothers (0%) out of poverty<br>and cost $0.0 billion per year"
            ],
            [
             "<b>A $0 monthly child allowance in Louisiana</b><br>would lift 0,000 mothers (0%) out of poverty<br>and cost $0.0 billion per year"
            ],
            [
             "<b>A $0 monthly child allowance in Massachusetts</b><br>would lift 0,000 mothers (0%) out of poverty<br>and cost $0.0 billion per year"
            ],
            [
             "<b>A $0 monthly child allowance in Maryland</b><br>would lift 0,000 mothers (0%) out of poverty<br>and cost $0.0 billion per year"
            ],
            [
             "<b>A $0 monthly child allowance in Maine</b><br>would lift 0,000 mothers (0%) out of poverty<br>and cost $0.0 billion per year"
            ],
            [
             "<b>A $0 monthly child allowance in Michigan</b><br>would lift 0,000 mothers (0%) out of poverty<br>and cost $0.0 billion per year"
            ],
            [
             "<b>A $0 monthly child allowance in Minnesota</b><br>would lift 0,000 mothers (0%) out of poverty<br>and cost $0.0 billion per year"
            ],
            [
             "<b>A $0 monthly child allowance in Missouri</b><br>would lift 0,000 mothers (0%) out of poverty<br>and cost $0.0 billion per year"
            ],
            [
             "<b>A $0 monthly child allowance in Mississippi</b><br>would lift 0,000 mothers (0%) out of poverty<br>and cost $0.0 billion per year"
            ],
            [
             "<b>A $0 monthly child allowance in Montana</b><br>would lift 0,000 mothers (0%) out of poverty<br>and cost $0.0 billion per year"
            ],
            [
             "<b>A $0 monthly child allowance in North Carolina</b><br>would lift 0,000 mothers (0%) out of poverty<br>and cost $0.0 billion per year"
            ],
            [
             "<b>A $0 monthly child allowance in North Dakota</b><br>would lift 0,000 mothers (0%) out of poverty<br>and cost $0.0 billion per year"
            ],
            [
             "<b>A $0 monthly child allowance in Nebraska</b><br>would lift 0,000 mothers (0%) out of poverty<br>and cost $0.0 billion per year"
            ],
            [
             "<b>A $0 monthly child allowance in New Hampshire</b><br>would lift 0,000 mothers (0%) out of poverty<br>and cost $0.0 billion per year"
            ],
            [
             "<b>A $0 monthly child allowance in New Jersey</b><br>would lift 0,000 mothers (0%) out of poverty<br>and cost $0.0 billion per year"
            ],
            [
             "<b>A $0 monthly child allowance in New Mexico</b><br>would lift 0,000 mothers (0%) out of poverty<br>and cost $0.0 billion per year"
            ],
            [
             "<b>A $0 monthly child allowance in Nevada</b><br>would lift 0,000 mothers (0%) out of poverty<br>and cost $0.0 billion per year"
            ],
            [
             "<b>A $0 monthly child allowance in New York</b><br>would lift 0,000 mothers (0%) out of poverty<br>and cost $0.0 billion per year"
            ],
            [
             "<b>A $0 monthly child allowance in Ohio</b><br>would lift 0,000 mothers (0%) out of poverty<br>and cost $0.0 billion per year"
            ],
            [
             "<b>A $0 monthly child allowance in Oklahoma</b><br>would lift 0,000 mothers (0%) out of poverty<br>and cost $0.0 billion per year"
            ],
            [
             "<b>A $0 monthly child allowance in Oregon</b><br>would lift 0,000 mothers (0%) out of poverty<br>and cost $0.0 billion per year"
            ],
            [
             "<b>A $0 monthly child allowance in Pennsylvania</b><br>would lift 0,000 mothers (0%) out of poverty<br>and cost $0.0 billion per year"
            ],
            [
             "<b>A $0 monthly child allowance in Rhode Island</b><br>would lift 0,000 mothers (0%) out of poverty<br>and cost $0.0 billion per year"
            ],
            [
             "<b>A $0 monthly child allowance in South Carolina</b><br>would lift 0,000 mothers (0%) out of poverty<br>and cost $0.0 billion per year"
            ],
            [
             "<b>A $0 monthly child allowance in South Dakota</b><br>would lift 0,000 mothers (0%) out of poverty<br>and cost $0.0 billion per year"
            ],
            [
             "<b>A $0 monthly child allowance in Tennessee</b><br>would lift 0,000 mothers (0%) out of poverty<br>and cost $0.0 billion per year"
            ],
            [
             "<b>A $0 monthly child allowance in Texas</b><br>would lift 0,000 mothers (0%) out of poverty<br>and cost $0.0 billion per year"
            ],
            [
             "<b>A $0 monthly child allowance in Utah</b><br>would lift 0,000 mothers (0%) out of poverty<br>and cost $0.0 billion per year"
            ],
            [
             "<b>A $0 monthly child allowance in Virginia</b><br>would lift 0,000 mothers (0%) out of poverty<br>and cost $0.0 billion per year"
            ],
            [
             "<b>A $0 monthly child allowance in Vermont</b><br>would lift 0,000 mothers (0%) out of poverty<br>and cost $0.0 billion per year"
            ],
            [
             "<b>A $0 monthly child allowance in Washington</b><br>would lift 0,000 mothers (0%) out of poverty<br>and cost $0.0 billion per year"
            ],
            [
             "<b>A $0 monthly child allowance in Wisconsin</b><br>would lift 0,000 mothers (0%) out of poverty<br>and cost $0.0 billion per year"
            ],
            [
             "<b>A $0 monthly child allowance in West Virginia</b><br>would lift 0,000 mothers (0%) out of poverty<br>and cost $0.0 billion per year"
            ],
            [
             "<b>A $0 monthly child allowance in Wyoming</b><br>would lift 0,000 mothers (0%) out of poverty<br>and cost $0.0 billion per year"
            ]
           ],
           "geo": "geo",
           "hovertemplate": "%{customdata[0]}<extra></extra>",
           "locationmode": "USA-states",
           "locations": [
            "AK",
            "AL",
            "AR",
            "AZ",
            "CA",
            "CO",
            "CT",
            "DC",
            "DE",
            "FL",
            "GA",
            "HI",
            "IA",
            "ID",
            "IL",
            "IN",
            "KS",
            "KY",
            "LA",
            "MA",
            "MD",
            "ME",
            "MI",
            "MN",
            "MO",
            "MS",
            "MT",
            "NC",
            "ND",
            "NE",
            "NH",
            "NJ",
            "NM",
            "NV",
            "NY",
            "OH",
            "OK",
            "OR",
            "PA",
            "RI",
            "SC",
            "SD",
            "TN",
            "TX",
            "UT",
            "VA",
            "VT",
            "WA",
            "WI",
            "WV",
            "WY"
           ],
           "name": "",
           "type": "choropleth",
           "z": [
            0,
            0,
            0,
            0,
            0,
            0,
            0,
            0,
            0,
            0,
            0,
            0,
            0,
            0,
            0,
            0,
            0,
            0,
            0,
            0,
            0,
            0,
            0,
            0,
            0,
            0,
            0,
            0,
            0,
            0,
            0,
            0,
            0,
            0,
            0,
            0,
            0,
            0,
            0,
            0,
            0,
            0,
            0,
            0,
            0,
            0,
            0,
            0,
            0,
            0,
            0
           ]
          }
         ],
         "name": "0"
        },
        {
         "data": [
          {
           "coloraxis": "coloraxis",
           "customdata": [
            [
             "<b>A $10 monthly child allowance in Alaska</b><br>would lift 0,000 mothers (0%) out of poverty<br>and cost $0.0 billion per year"
            ],
            [
             "<b>A $10 monthly child allowance in Alabama</b><br>would lift 0,000 mothers (0%) out of poverty<br>and cost $0.1 billion per year"
            ],
            [
             "<b>A $10 monthly child allowance in Arkansas</b><br>would lift 0,000 mothers (0%) out of poverty<br>and cost $0.1 billion per year"
            ],
            [
             "<b>A $10 monthly child allowance in Arizona</b><br>would lift 0,000 mothers (0%) out of poverty<br>and cost $0.2 billion per year"
            ],
            [
             "<b>A $10 monthly child allowance in California</b><br>would lift 0,000 mothers (0%) out of poverty<br>and cost $1.1 billion per year"
            ],
            [
             "<b>A $10 monthly child allowance in Colorado</b><br>would lift 0,000 mothers (0%) out of poverty<br>and cost $0.2 billion per year"
            ],
            [
             "<b>A $10 monthly child allowance in Connecticut</b><br>would lift 3,000 mothers (5%) out of poverty<br>and cost $0.1 billion per year"
            ],
            [
             "<b>A $10 monthly child allowance in District of Columbia</b><br>would lift 1,000 mothers (8%) out of poverty<br>and cost $0.0 billion per year"
            ],
            [
             "<b>A $10 monthly child allowance in Delaware</b><br>would lift 0,000 mothers (0%) out of poverty<br>and cost $0.0 billion per year"
            ],
            [
             "<b>A $10 monthly child allowance in Florida</b><br>would lift 0,000 mothers (0%) out of poverty<br>and cost $0.5 billion per year"
            ],
            [
             "<b>A $10 monthly child allowance in Georgia</b><br>would lift 0,000 mothers (0%) out of poverty<br>and cost $0.3 billion per year"
            ],
            [
             "<b>A $10 monthly child allowance in Hawaii</b><br>would lift 2,000 mothers (9%) out of poverty<br>and cost $0.0 billion per year"
            ],
            [
             "<b>A $10 monthly child allowance in Iowa</b><br>would lift 2,000 mothers (9%) out of poverty<br>and cost $0.1 billion per year"
            ],
            [
             "<b>A $10 monthly child allowance in Idaho</b><br>would lift 0,000 mothers (0%) out of poverty<br>and cost $0.1 billion per year"
            ],
            [
             "<b>A $10 monthly child allowance in Illinois</b><br>would lift 4,000 mothers (3%) out of poverty<br>and cost $0.3 billion per year"
            ],
            [
             "<b>A $10 monthly child allowance in Indiana</b><br>would lift 0,000 mothers (0%) out of poverty<br>and cost $0.2 billion per year"
            ],
            [
             "<b>A $10 monthly child allowance in Kansas</b><br>would lift 0,000 mothers (0%) out of poverty<br>and cost $0.1 billion per year"
            ],
            [
             "<b>A $10 monthly child allowance in Kentucky</b><br>would lift 0,000 mothers (0%) out of poverty<br>and cost $0.1 billion per year"
            ],
            [
             "<b>A $10 monthly child allowance in Louisiana</b><br>would lift 1,000 mothers (2%) out of poverty<br>and cost $0.1 billion per year"
            ],
            [
             "<b>A $10 monthly child allowance in Massachusetts</b><br>would lift 0,000 mothers (0%) out of poverty<br>and cost $0.2 billion per year"
            ],
            [
             "<b>A $10 monthly child allowance in Maryland</b><br>would lift 0,000 mothers (0%) out of poverty<br>and cost $0.2 billion per year"
            ],
            [
             "<b>A $10 monthly child allowance in Maine</b><br>would lift 0,000 mothers (0%) out of poverty<br>and cost $0.0 billion per year"
            ],
            [
             "<b>A $10 monthly child allowance in Michigan</b><br>would lift 0,000 mothers (0%) out of poverty<br>and cost $0.3 billion per year"
            ],
            [
             "<b>A $10 monthly child allowance in Minnesota</b><br>would lift 0,000 mothers (0%) out of poverty<br>and cost $0.2 billion per year"
            ],
            [
             "<b>A $10 monthly child allowance in Missouri</b><br>would lift 0,000 mothers (0%) out of poverty<br>and cost $0.2 billion per year"
            ],
            [
             "<b>A $10 monthly child allowance in Mississippi</b><br>would lift 2,000 mothers (4%) out of poverty<br>and cost $0.1 billion per year"
            ],
            [
             "<b>A $10 monthly child allowance in Montana</b><br>would lift 0,000 mothers (0%) out of poverty<br>and cost $0.0 billion per year"
            ],
            [
             "<b>A $10 monthly child allowance in North Carolina</b><br>would lift 0,000 mothers (0%) out of poverty<br>and cost $0.3 billion per year"
            ],
            [
             "<b>A $10 monthly child allowance in North Dakota</b><br>would lift 0,000 mothers (0%) out of poverty<br>and cost $0.0 billion per year"
            ],
            [
             "<b>A $10 monthly child allowance in Nebraska</b><br>would lift 0,000 mothers (0%) out of poverty<br>and cost $0.1 billion per year"
            ],
            [
             "<b>A $10 monthly child allowance in New Hampshire</b><br>would lift 0,000 mothers (0%) out of poverty<br>and cost $0.0 billion per year"
            ],
            [
             "<b>A $10 monthly child allowance in New Jersey</b><br>would lift 0,000 mothers (0%) out of poverty<br>and cost $0.2 billion per year"
            ],
            [
             "<b>A $10 monthly child allowance in New Mexico</b><br>would lift 0,000 mothers (2%) out of poverty<br>and cost $0.1 billion per year"
            ],
            [
             "<b>A $10 monthly child allowance in Nevada</b><br>would lift 0,000 mothers (0%) out of poverty<br>and cost $0.1 billion per year"
            ],
            [
             "<b>A $10 monthly child allowance in New York</b><br>would lift 0,000 mothers (0%) out of poverty<br>and cost $0.5 billion per year"
            ],
            [
             "<b>A $10 monthly child allowance in Ohio</b><br>would lift 11,000 mothers (8%) out of poverty<br>and cost $0.3 billion per year"
            ],
            [
             "<b>A $10 monthly child allowance in Oklahoma</b><br>would lift 2,000 mothers (4%) out of poverty<br>and cost $0.1 billion per year"
            ],
            [
             "<b>A $10 monthly child allowance in Oregon</b><br>would lift 0,000 mothers (0%) out of poverty<br>and cost $0.1 billion per year"
            ],
            [
             "<b>A $10 monthly child allowance in Pennsylvania</b><br>would lift 0,000 mothers (0%) out of poverty<br>and cost $0.3 billion per year"
            ],
            [
             "<b>A $10 monthly child allowance in Rhode Island</b><br>would lift 0,000 mothers (0%) out of poverty<br>and cost $0.0 billion per year"
            ],
            [
             "<b>A $10 monthly child allowance in South Carolina</b><br>would lift 0,000 mothers (0%) out of poverty<br>and cost $0.1 billion per year"
            ],
            [
             "<b>A $10 monthly child allowance in South Dakota</b><br>would lift 0,000 mothers (0%) out of poverty<br>and cost $0.0 billion per year"
            ],
            [
             "<b>A $10 monthly child allowance in Tennessee</b><br>would lift 0,000 mothers (0%) out of poverty<br>and cost $0.2 billion per year"
            ],
            [
             "<b>A $10 monthly child allowance in Texas</b><br>would lift 6,000 mothers (1%) out of poverty<br>and cost $0.9 billion per year"
            ],
            [
             "<b>A $10 monthly child allowance in Utah</b><br>would lift 0,000 mothers (0%) out of poverty<br>and cost $0.1 billion per year"
            ],
            [
             "<b>A $10 monthly child allowance in Virginia</b><br>would lift 4,000 mothers (3%) out of poverty<br>and cost $0.2 billion per year"
            ],
            [
             "<b>A $10 monthly child allowance in Vermont</b><br>would lift 0,000 mothers (0%) out of poverty<br>and cost $0.0 billion per year"
            ],
            [
             "<b>A $10 monthly child allowance in Washington</b><br>would lift 3,000 mothers (4%) out of poverty<br>and cost $0.2 billion per year"
            ],
            [
             "<b>A $10 monthly child allowance in Wisconsin</b><br>would lift 0,000 mothers (0%) out of poverty<br>and cost $0.1 billion per year"
            ],
            [
             "<b>A $10 monthly child allowance in West Virginia</b><br>would lift 1,000 mothers (6%) out of poverty<br>and cost $0.0 billion per year"
            ],
            [
             "<b>A $10 monthly child allowance in Wyoming</b><br>would lift 0,000 mothers (10%) out of poverty<br>and cost $0.0 billion per year"
            ]
           ],
           "geo": "geo",
           "hovertemplate": "%{customdata[0]}<extra></extra>",
           "locationmode": "USA-states",
           "locations": [
            "AK",
            "AL",
            "AR",
            "AZ",
            "CA",
            "CO",
            "CT",
            "DC",
            "DE",
            "FL",
            "GA",
            "HI",
            "IA",
            "ID",
            "IL",
            "IN",
            "KS",
            "KY",
            "LA",
            "MA",
            "MD",
            "ME",
            "MI",
            "MN",
            "MO",
            "MS",
            "MT",
            "NC",
            "ND",
            "NE",
            "NH",
            "NJ",
            "NM",
            "NV",
            "NY",
            "OH",
            "OK",
            "OR",
            "PA",
            "RI",
            "SC",
            "SD",
            "TN",
            "TX",
            "UT",
            "VA",
            "VT",
            "WA",
            "WI",
            "WV",
            "WY"
           ],
           "name": "",
           "type": "choropleth",
           "z": [
            0,
            0,
            0,
            0,
            0,
            0,
            0.05446613599770398,
            0.08860686362426352,
            0,
            0,
            0,
            0.0927138886746364,
            0.09853242606230632,
            0,
            0.03711817687142075,
            0,
            0,
            0,
            0.02468628093125531,
            0,
            0,
            0,
            0,
            0,
            0,
            0.045143773207495366,
            0,
            0,
            0,
            0,
            0,
            0,
            0.028045736761697023,
            0,
            0,
            0.08761908770641359,
            0.04761810573283482,
            0,
            0,
            0,
            0,
            0,
            0,
            0.01414934538097116,
            0,
            0.03915264410857333,
            0,
            0.04748982114151984,
            0,
            0.06296864077125525,
            0.10374780710873005
           ]
          }
         ],
         "name": "10"
        },
        {
         "data": [
          {
           "coloraxis": "coloraxis",
           "customdata": [
            [
             "<b>A $20 monthly child allowance in Alaska</b><br>would lift 0,000 mothers (4%) out of poverty<br>and cost $0.0 billion per year"
            ],
            [
             "<b>A $20 monthly child allowance in Alabama</b><br>would lift 0,000 mothers (0%) out of poverty<br>and cost $0.3 billion per year"
            ],
            [
             "<b>A $20 monthly child allowance in Arkansas</b><br>would lift 0,000 mothers (0%) out of poverty<br>and cost $0.2 billion per year"
            ],
            [
             "<b>A $20 monthly child allowance in Arizona</b><br>would lift 0,000 mothers (0%) out of poverty<br>and cost $0.4 billion per year"
            ],
            [
             "<b>A $20 monthly child allowance in California</b><br>would lift 4,000 mothers (0%) out of poverty<br>and cost $2.1 billion per year"
            ],
            [
             "<b>A $20 monthly child allowance in Colorado</b><br>would lift 4,000 mothers (5%) out of poverty<br>and cost $0.3 billion per year"
            ],
            [
             "<b>A $20 monthly child allowance in Connecticut</b><br>would lift 6,000 mothers (10%) out of poverty<br>and cost $0.2 billion per year"
            ],
            [
             "<b>A $20 monthly child allowance in District of Columbia</b><br>would lift 1,000 mothers (8%) out of poverty<br>and cost $0.0 billion per year"
            ],
            [
             "<b>A $20 monthly child allowance in Delaware</b><br>would lift 0,000 mothers (0%) out of poverty<br>and cost $0.0 billion per year"
            ],
            [
             "<b>A $20 monthly child allowance in Florida</b><br>would lift 4,000 mothers (1%) out of poverty<br>and cost $1.0 billion per year"
            ],
            [
             "<b>A $20 monthly child allowance in Georgia</b><br>would lift 0,000 mothers (0%) out of poverty<br>and cost $0.6 billion per year"
            ],
            [
             "<b>A $20 monthly child allowance in Hawaii</b><br>would lift 2,000 mothers (9%) out of poverty<br>and cost $0.1 billion per year"
            ],
            [
             "<b>A $20 monthly child allowance in Iowa</b><br>would lift 2,000 mothers (9%) out of poverty<br>and cost $0.2 billion per year"
            ],
            [
             "<b>A $20 monthly child allowance in Idaho</b><br>would lift 0,000 mothers (0%) out of poverty<br>and cost $0.1 billion per year"
            ],
            [
             "<b>A $20 monthly child allowance in Illinois</b><br>would lift 4,000 mothers (3%) out of poverty<br>and cost $0.7 billion per year"
            ],
            [
             "<b>A $20 monthly child allowance in Indiana</b><br>would lift 0,000 mothers (0%) out of poverty<br>and cost $0.4 billion per year"
            ],
            [
             "<b>A $20 monthly child allowance in Kansas</b><br>would lift 0,000 mothers (0%) out of poverty<br>and cost $0.2 billion per year"
            ],
            [
             "<b>A $20 monthly child allowance in Kentucky</b><br>would lift 0,000 mothers (0%) out of poverty<br>and cost $0.2 billion per year"
            ],
            [
             "<b>A $20 monthly child allowance in Louisiana</b><br>would lift 1,000 mothers (2%) out of poverty<br>and cost $0.3 billion per year"
            ],
            [
             "<b>A $20 monthly child allowance in Massachusetts</b><br>would lift 0,000 mothers (0%) out of poverty<br>and cost $0.3 billion per year"
            ],
            [
             "<b>A $20 monthly child allowance in Maryland</b><br>would lift 3,000 mothers (3%) out of poverty<br>and cost $0.3 billion per year"
            ],
            [
             "<b>A $20 monthly child allowance in Maine</b><br>would lift 0,000 mothers (0%) out of poverty<br>and cost $0.1 billion per year"
            ],
            [
             "<b>A $20 monthly child allowance in Michigan</b><br>would lift 0,000 mothers (0%) out of poverty<br>and cost $0.5 billion per year"
            ],
            [
             "<b>A $20 monthly child allowance in Minnesota</b><br>would lift 3,000 mothers (8%) out of poverty<br>and cost $0.3 billion per year"
            ],
            [
             "<b>A $20 monthly child allowance in Missouri</b><br>would lift 0,000 mothers (0%) out of poverty<br>and cost $0.3 billion per year"
            ],
            [
             "<b>A $20 monthly child allowance in Mississippi</b><br>would lift 2,000 mothers (4%) out of poverty<br>and cost $0.2 billion per year"
            ],
            [
             "<b>A $20 monthly child allowance in Montana</b><br>would lift 0,000 mothers (0%) out of poverty<br>and cost $0.1 billion per year"
            ],
            [
             "<b>A $20 monthly child allowance in North Carolina</b><br>would lift 0,000 mothers (0%) out of poverty<br>and cost $0.5 billion per year"
            ],
            [
             "<b>A $20 monthly child allowance in North Dakota</b><br>would lift 0,000 mothers (0%) out of poverty<br>and cost $0.0 billion per year"
            ],
            [
             "<b>A $20 monthly child allowance in Nebraska</b><br>would lift 0,000 mothers (0%) out of poverty<br>and cost $0.1 billion per year"
            ],
            [
             "<b>A $20 monthly child allowance in New Hampshire</b><br>would lift 0,000 mothers (0%) out of poverty<br>and cost $0.1 billion per year"
            ],
            [
             "<b>A $20 monthly child allowance in New Jersey</b><br>would lift 0,000 mothers (0%) out of poverty<br>and cost $0.5 billion per year"
            ],
            [
             "<b>A $20 monthly child allowance in New Mexico</b><br>would lift 2,000 mothers (6%) out of poverty<br>and cost $0.1 billion per year"
            ],
            [
             "<b>A $20 monthly child allowance in Nevada</b><br>would lift 0,000 mothers (0%) out of poverty<br>and cost $0.2 billion per year"
            ],
            [
             "<b>A $20 monthly child allowance in New York</b><br>would lift 4,000 mothers (1%) out of poverty<br>and cost $1.0 billion per year"
            ],
            [
             "<b>A $20 monthly child allowance in Ohio</b><br>would lift 16,000 mothers (13%) out of poverty<br>and cost $0.6 billion per year"
            ],
            [
             "<b>A $20 monthly child allowance in Oklahoma</b><br>would lift 2,000 mothers (4%) out of poverty<br>and cost $0.2 billion per year"
            ],
            [
             "<b>A $20 monthly child allowance in Oregon</b><br>would lift 0,000 mothers (0%) out of poverty<br>and cost $0.2 billion per year"
            ],
            [
             "<b>A $20 monthly child allowance in Pennsylvania</b><br>would lift 0,000 mothers (0%) out of poverty<br>and cost $0.6 billion per year"
            ],
            [
             "<b>A $20 monthly child allowance in Rhode Island</b><br>would lift 1,000 mothers (10%) out of poverty<br>and cost $0.0 billion per year"
            ],
            [
             "<b>A $20 monthly child allowance in South Carolina</b><br>would lift 2,000 mothers (2%) out of poverty<br>and cost $0.3 billion per year"
            ],
            [
             "<b>A $20 monthly child allowance in South Dakota</b><br>would lift 0,000 mothers (0%) out of poverty<br>and cost $0.1 billion per year"
            ],
            [
             "<b>A $20 monthly child allowance in Tennessee</b><br>would lift 2,000 mothers (2%) out of poverty<br>and cost $0.4 billion per year"
            ],
            [
             "<b>A $20 monthly child allowance in Texas</b><br>would lift 11,000 mothers (2%) out of poverty<br>and cost $1.8 billion per year"
            ],
            [
             "<b>A $20 monthly child allowance in Utah</b><br>would lift 0,000 mothers (0%) out of poverty<br>and cost $0.2 billion per year"
            ],
            [
             "<b>A $20 monthly child allowance in Virginia</b><br>would lift 4,000 mothers (3%) out of poverty<br>and cost $0.4 billion per year"
            ],
            [
             "<b>A $20 monthly child allowance in Vermont</b><br>would lift 0,000 mothers (0%) out of poverty<br>and cost $0.0 billion per year"
            ],
            [
             "<b>A $20 monthly child allowance in Washington</b><br>would lift 3,000 mothers (4%) out of poverty<br>and cost $0.4 billion per year"
            ],
            [
             "<b>A $20 monthly child allowance in Wisconsin</b><br>would lift 0,000 mothers (0%) out of poverty<br>and cost $0.3 billion per year"
            ],
            [
             "<b>A $20 monthly child allowance in West Virginia</b><br>would lift 1,000 mothers (6%) out of poverty<br>and cost $0.1 billion per year"
            ],
            [
             "<b>A $20 monthly child allowance in Wyoming</b><br>would lift 0,000 mothers (10%) out of poverty<br>and cost $0.0 billion per year"
            ]
           ],
           "geo": "geo",
           "hovertemplate": "%{customdata[0]}<extra></extra>",
           "locationmode": "USA-states",
           "locations": [
            "AK",
            "AL",
            "AR",
            "AZ",
            "CA",
            "CO",
            "CT",
            "DC",
            "DE",
            "FL",
            "GA",
            "HI",
            "IA",
            "ID",
            "IL",
            "IN",
            "KS",
            "KY",
            "LA",
            "MA",
            "MD",
            "ME",
            "MI",
            "MN",
            "MO",
            "MS",
            "MT",
            "NC",
            "ND",
            "NE",
            "NH",
            "NJ",
            "NM",
            "NV",
            "NY",
            "OH",
            "OK",
            "OR",
            "PA",
            "RI",
            "SC",
            "SD",
            "TN",
            "TX",
            "UT",
            "VA",
            "VT",
            "WA",
            "WI",
            "WV",
            "WY"
           ],
           "name": "",
           "type": "choropleth",
           "z": [
            0.04740717454866193,
            0,
            0,
            0,
            0.00509480619446806,
            0.053019610315532095,
            0.10791601583167647,
            0.08860686362426352,
            0,
            0.010405841140204514,
            0,
            0.0927138886746364,
            0.09853242606230632,
            0,
            0.03711817687142075,
            0,
            0,
            0,
            0.02468628093125531,
            0,
            0.03576587452055395,
            0,
            0,
            0.0839213769255112,
            0,
            0.045143773207495366,
            0,
            0,
            0,
            0,
            0,
            0,
            0.0696086549437041,
            0,
            0.014028584133030104,
            0.13417589462513727,
            0.04761810573283482,
            0,
            0,
            0.1044036715289164,
            0.023105550873379743,
            0,
            0.02871062639468693,
            0.025557007172857076,
            0,
            0.03915264410857333,
            0,
            0.04748982114151984,
            0,
            0.06296864077125525,
            0.10374780710873005
           ]
          }
         ],
         "name": "20"
        },
        {
         "data": [
          {
           "coloraxis": "coloraxis",
           "customdata": [
            [
             "<b>A $30 monthly child allowance in Alaska</b><br>would lift 0,000 mothers (4%) out of poverty<br>and cost $0.1 billion per year"
            ],
            [
             "<b>A $30 monthly child allowance in Alabama</b><br>would lift 0,000 mothers (0%) out of poverty<br>and cost $0.4 billion per year"
            ],
            [
             "<b>A $30 monthly child allowance in Arkansas</b><br>would lift 0,000 mothers (0%) out of poverty<br>and cost $0.2 billion per year"
            ],
            [
             "<b>A $30 monthly child allowance in Arizona</b><br>would lift 3,000 mothers (4%) out of poverty<br>and cost $0.6 billion per year"
            ],
            [
             "<b>A $30 monthly child allowance in California</b><br>would lift 4,000 mothers (0%) out of poverty<br>and cost $3.2 billion per year"
            ],
            [
             "<b>A $30 monthly child allowance in Colorado</b><br>would lift 4,000 mothers (5%) out of poverty<br>and cost $0.5 billion per year"
            ],
            [
             "<b>A $30 monthly child allowance in Connecticut</b><br>would lift 6,000 mothers (10%) out of poverty<br>and cost $0.2 billion per year"
            ],
            [
             "<b>A $30 monthly child allowance in District of Columbia</b><br>would lift 1,000 mothers (8%) out of poverty<br>and cost $0.0 billion per year"
            ],
            [
             "<b>A $30 monthly child allowance in Delaware</b><br>would lift 0,000 mothers (0%) out of poverty<br>and cost $0.1 billion per year"
            ],
            [
             "<b>A $30 monthly child allowance in Florida</b><br>would lift 13,000 mothers (3%) out of poverty<br>and cost $1.5 billion per year"
            ],
            [
             "<b>A $30 monthly child allowance in Georgia</b><br>would lift 8,000 mothers (6%) out of poverty<br>and cost $0.9 billion per year"
            ],
            [
             "<b>A $30 monthly child allowance in Hawaii</b><br>would lift 2,000 mothers (9%) out of poverty<br>and cost $0.1 billion per year"
            ],
            [
             "<b>A $30 monthly child allowance in Iowa</b><br>would lift 9,000 mothers (35%) out of poverty<br>and cost $0.3 billion per year"
            ],
            [
             "<b>A $30 monthly child allowance in Idaho</b><br>would lift 1,000 mothers (9%) out of poverty<br>and cost $0.2 billion per year"
            ],
            [
             "<b>A $30 monthly child allowance in Illinois</b><br>would lift 9,000 mothers (7%) out of poverty<br>and cost $1.0 billion per year"
            ],
            [
             "<b>A $30 monthly child allowance in Indiana</b><br>would lift 0,000 mothers (0%) out of poverty<br>and cost $0.6 billion per year"
            ],
            [
             "<b>A $30 monthly child allowance in Kansas</b><br>would lift 3,000 mothers (14%) out of poverty<br>and cost $0.2 billion per year"
            ],
            [
             "<b>A $30 monthly child allowance in Kentucky</b><br>would lift 2,000 mothers (4%) out of poverty<br>and cost $0.4 billion per year"
            ],
            [
             "<b>A $30 monthly child allowance in Louisiana</b><br>would lift 1,000 mothers (2%) out of poverty<br>and cost $0.4 billion per year"
            ],
            [
             "<b>A $30 monthly child allowance in Massachusetts</b><br>would lift 5,000 mothers (5%) out of poverty<br>and cost $0.5 billion per year"
            ],
            [
             "<b>A $30 monthly child allowance in Maryland</b><br>would lift 3,000 mothers (3%) out of poverty<br>and cost $0.5 billion per year"
            ],
            [
             "<b>A $30 monthly child allowance in Maine</b><br>would lift 0,000 mothers (0%) out of poverty<br>and cost $0.1 billion per year"
            ],
            [
             "<b>A $30 monthly child allowance in Michigan</b><br>would lift 8,000 mothers (9%) out of poverty<br>and cost $0.8 billion per year"
            ],
            [
             "<b>A $30 monthly child allowance in Minnesota</b><br>would lift 3,000 mothers (8%) out of poverty<br>and cost $0.5 billion per year"
            ],
            [
             "<b>A $30 monthly child allowance in Missouri</b><br>would lift 0,000 mothers (0%) out of poverty<br>and cost $0.5 billion per year"
            ],
            [
             "<b>A $30 monthly child allowance in Mississippi</b><br>would lift 2,000 mothers (4%) out of poverty<br>and cost $0.2 billion per year"
            ],
            [
             "<b>A $30 monthly child allowance in Montana</b><br>would lift 0,000 mothers (0%) out of poverty<br>and cost $0.1 billion per year"
            ],
            [
             "<b>A $30 monthly child allowance in North Carolina</b><br>would lift 4,000 mothers (3%) out of poverty<br>and cost $0.8 billion per year"
            ],
            [
             "<b>A $30 monthly child allowance in North Dakota</b><br>would lift 0,000 mothers (10%) out of poverty<br>and cost $0.1 billion per year"
            ],
            [
             "<b>A $30 monthly child allowance in Nebraska</b><br>would lift 0,000 mothers (0%) out of poverty<br>and cost $0.2 billion per year"
            ],
            [
             "<b>A $30 monthly child allowance in New Hampshire</b><br>would lift 0,000 mothers (0%) out of poverty<br>and cost $0.1 billion per year"
            ],
            [
             "<b>A $30 monthly child allowance in New Jersey</b><br>would lift 0,000 mothers (0%) out of poverty<br>and cost $0.7 billion per year"
            ],
            [
             "<b>A $30 monthly child allowance in New Mexico</b><br>would lift 2,000 mothers (6%) out of poverty<br>and cost $0.2 billion per year"
            ],
            [
             "<b>A $30 monthly child allowance in Nevada</b><br>would lift 0,000 mothers (0%) out of poverty<br>and cost $0.3 billion per year"
            ],
            [
             "<b>A $30 monthly child allowance in New York</b><br>would lift 4,000 mothers (1%) out of poverty<br>and cost $1.4 billion per year"
            ],
            [
             "<b>A $30 monthly child allowance in Ohio</b><br>would lift 16,000 mothers (13%) out of poverty<br>and cost $0.9 billion per year"
            ],
            [
             "<b>A $30 monthly child allowance in Oklahoma</b><br>would lift 2,000 mothers (4%) out of poverty<br>and cost $0.3 billion per year"
            ],
            [
             "<b>A $30 monthly child allowance in Oregon</b><br>would lift 0,000 mothers (0%) out of poverty<br>and cost $0.3 billion per year"
            ],
            [
             "<b>A $30 monthly child allowance in Pennsylvania</b><br>would lift 0,000 mothers (0%) out of poverty<br>and cost $0.9 billion per year"
            ],
            [
             "<b>A $30 monthly child allowance in Rhode Island</b><br>would lift 1,000 mothers (10%) out of poverty<br>and cost $0.1 billion per year"
            ],
            [
             "<b>A $30 monthly child allowance in South Carolina</b><br>would lift 2,000 mothers (2%) out of poverty<br>and cost $0.4 billion per year"
            ],
            [
             "<b>A $30 monthly child allowance in South Dakota</b><br>would lift 0,000 mothers (0%) out of poverty<br>and cost $0.1 billion per year"
            ],
            [
             "<b>A $30 monthly child allowance in Tennessee</b><br>would lift 2,000 mothers (2%) out of poverty<br>and cost $0.5 billion per year"
            ],
            [
             "<b>A $30 monthly child allowance in Texas</b><br>would lift 24,000 mothers (5%) out of poverty<br>and cost $2.7 billion per year"
            ],
            [
             "<b>A $30 monthly child allowance in Utah</b><br>would lift 0,000 mothers (0%) out of poverty<br>and cost $0.3 billion per year"
            ],
            [
             "<b>A $30 monthly child allowance in Virginia</b><br>would lift 4,000 mothers (3%) out of poverty<br>and cost $0.7 billion per year"
            ],
            [
             "<b>A $30 monthly child allowance in Vermont</b><br>would lift 0,000 mothers (13%) out of poverty<br>and cost $0.0 billion per year"
            ],
            [
             "<b>A $30 monthly child allowance in Washington</b><br>would lift 3,000 mothers (4%) out of poverty<br>and cost $0.6 billion per year"
            ],
            [
             "<b>A $30 monthly child allowance in Wisconsin</b><br>would lift 0,000 mothers (0%) out of poverty<br>and cost $0.4 billion per year"
            ],
            [
             "<b>A $30 monthly child allowance in West Virginia</b><br>would lift 2,000 mothers (11%) out of poverty<br>and cost $0.1 billion per year"
            ],
            [
             "<b>A $30 monthly child allowance in Wyoming</b><br>would lift 0,000 mothers (20%) out of poverty<br>and cost $0.0 billion per year"
            ]
           ],
           "geo": "geo",
           "hovertemplate": "%{customdata[0]}<extra></extra>",
           "locationmode": "USA-states",
           "locations": [
            "AK",
            "AL",
            "AR",
            "AZ",
            "CA",
            "CO",
            "CT",
            "DC",
            "DE",
            "FL",
            "GA",
            "HI",
            "IA",
            "ID",
            "IL",
            "IN",
            "KS",
            "KY",
            "LA",
            "MA",
            "MD",
            "ME",
            "MI",
            "MN",
            "MO",
            "MS",
            "MT",
            "NC",
            "ND",
            "NE",
            "NH",
            "NJ",
            "NM",
            "NV",
            "NY",
            "OH",
            "OK",
            "OR",
            "PA",
            "RI",
            "SC",
            "SD",
            "TN",
            "TX",
            "UT",
            "VA",
            "VT",
            "WA",
            "WI",
            "WV",
            "WY"
           ],
           "name": "",
           "type": "choropleth",
           "z": [
            0.04740717454866193,
            0,
            0,
            0.04292612434092367,
            0.00509480619446806,
            0.053019610315532095,
            0.10791601583167647,
            0.08860686362426352,
            0,
            0.03120473184023019,
            0.06778883506524827,
            0.0927138886746364,
            0.35045129870082237,
            0.09617237956809253,
            0.07456541064577217,
            0,
            0.14631107986033584,
            0.042411231818761004,
            0.02468628093125531,
            0.05787728497133345,
            0.03576587452055395,
            0,
            0.09005992697989812,
            0.0839213769255112,
            0,
            0.045143773207495366,
            0,
            0.03723118335769211,
            0.10544905498754634,
            0,
            0,
            0,
            0.0696086549437041,
            0,
            0.014028584133030104,
            0.13417589462513727,
            0.04761810573283482,
            0,
            0,
            0.1044036715289164,
            0.023105550873379743,
            0,
            0.02871062639468693,
            0.05150792427525538,
            0,
            0.03915264410857333,
            0.13717543350354747,
            0.04748982114151984,
            0,
            0.11270721976646199,
            0.2020732966557877
           ]
          }
         ],
         "name": "30"
        },
        {
         "data": [
          {
           "coloraxis": "coloraxis",
           "customdata": [
            [
             "<b>A $40 monthly child allowance in Alaska</b><br>would lift 0,000 mothers (4%) out of poverty<br>and cost $0.1 billion per year"
            ],
            [
             "<b>A $40 monthly child allowance in Alabama</b><br>would lift 0,000 mothers (0%) out of poverty<br>and cost $0.5 billion per year"
            ],
            [
             "<b>A $40 monthly child allowance in Arkansas</b><br>would lift 2,000 mothers (4%) out of poverty<br>and cost $0.3 billion per year"
            ],
            [
             "<b>A $40 monthly child allowance in Arizona</b><br>would lift 3,000 mothers (4%) out of poverty<br>and cost $0.8 billion per year"
            ],
            [
             "<b>A $40 monthly child allowance in California</b><br>would lift 8,000 mothers (1%) out of poverty<br>and cost $4.2 billion per year"
            ],
            [
             "<b>A $40 monthly child allowance in Colorado</b><br>would lift 9,000 mothers (11%) out of poverty<br>and cost $0.6 billion per year"
            ],
            [
             "<b>A $40 monthly child allowance in Connecticut</b><br>would lift 6,000 mothers (10%) out of poverty<br>and cost $0.3 billion per year"
            ],
            [
             "<b>A $40 monthly child allowance in District of Columbia</b><br>would lift 1,000 mothers (8%) out of poverty<br>and cost $0.1 billion per year"
            ],
            [
             "<b>A $40 monthly child allowance in Delaware</b><br>would lift 0,000 mothers (0%) out of poverty<br>and cost $0.1 billion per year"
            ],
            [
             "<b>A $40 monthly child allowance in Florida</b><br>would lift 20,000 mothers (4%) out of poverty<br>and cost $2.0 billion per year"
            ],
            [
             "<b>A $40 monthly child allowance in Georgia</b><br>would lift 8,000 mothers (6%) out of poverty<br>and cost $1.2 billion per year"
            ],
            [
             "<b>A $40 monthly child allowance in Hawaii</b><br>would lift 2,000 mothers (9%) out of poverty<br>and cost $0.1 billion per year"
            ],
            [
             "<b>A $40 monthly child allowance in Iowa</b><br>would lift 9,000 mothers (35%) out of poverty<br>and cost $0.3 billion per year"
            ],
            [
             "<b>A $40 monthly child allowance in Idaho</b><br>would lift 1,000 mothers (9%) out of poverty<br>and cost $0.2 billion per year"
            ],
            [
             "<b>A $40 monthly child allowance in Illinois</b><br>would lift 9,000 mothers (7%) out of poverty<br>and cost $1.3 billion per year"
            ],
            [
             "<b>A $40 monthly child allowance in Indiana</b><br>would lift 0,000 mothers (0%) out of poverty<br>and cost $0.7 billion per year"
            ],
            [
             "<b>A $40 monthly child allowance in Kansas</b><br>would lift 8,000 mothers (40%) out of poverty<br>and cost $0.3 billion per year"
            ],
            [
             "<b>A $40 monthly child allowance in Kentucky</b><br>would lift 2,000 mothers (4%) out of poverty<br>and cost $0.5 billion per year"
            ],
            [
             "<b>A $40 monthly child allowance in Louisiana</b><br>would lift 1,000 mothers (2%) out of poverty<br>and cost $0.5 billion per year"
            ],
            [
             "<b>A $40 monthly child allowance in Massachusetts</b><br>would lift 5,000 mothers (5%) out of poverty<br>and cost $0.6 billion per year"
            ],
            [
             "<b>A $40 monthly child allowance in Maryland</b><br>would lift 3,000 mothers (3%) out of poverty<br>and cost $0.6 billion per year"
            ],
            [
             "<b>A $40 monthly child allowance in Maine</b><br>would lift 0,000 mothers (0%) out of poverty<br>and cost $0.1 billion per year"
            ],
            [
             "<b>A $40 monthly child allowance in Michigan</b><br>would lift 8,000 mothers (9%) out of poverty<br>and cost $1.0 billion per year"
            ],
            [
             "<b>A $40 monthly child allowance in Minnesota</b><br>would lift 3,000 mothers (8%) out of poverty<br>and cost $0.6 billion per year"
            ],
            [
             "<b>A $40 monthly child allowance in Missouri</b><br>would lift 0,000 mothers (0%) out of poverty<br>and cost $0.6 billion per year"
            ],
            [
             "<b>A $40 monthly child allowance in Mississippi</b><br>would lift 3,000 mothers (6%) out of poverty<br>and cost $0.3 billion per year"
            ],
            [
             "<b>A $40 monthly child allowance in Montana</b><br>would lift 0,000 mothers (0%) out of poverty<br>and cost $0.1 billion per year"
            ],
            [
             "<b>A $40 monthly child allowance in North Carolina</b><br>would lift 4,000 mothers (3%) out of poverty<br>and cost $1.1 billion per year"
            ],
            [
             "<b>A $40 monthly child allowance in North Dakota</b><br>would lift 0,000 mothers (10%) out of poverty<br>and cost $0.1 billion per year"
            ],
            [
             "<b>A $40 monthly child allowance in Nebraska</b><br>would lift 0,000 mothers (0%) out of poverty<br>and cost $0.2 billion per year"
            ],
            [
             "<b>A $40 monthly child allowance in New Hampshire</b><br>would lift 0,000 mothers (0%) out of poverty<br>and cost $0.1 billion per year"
            ],
            [
             "<b>A $40 monthly child allowance in New Jersey</b><br>would lift 3,000 mothers (2%) out of poverty<br>and cost $0.9 billion per year"
            ],
            [
             "<b>A $40 monthly child allowance in New Mexico</b><br>would lift 2,000 mothers (6%) out of poverty<br>and cost $0.2 billion per year"
            ],
            [
             "<b>A $40 monthly child allowance in Nevada</b><br>would lift 0,000 mothers (0%) out of poverty<br>and cost $0.3 billion per year"
            ],
            [
             "<b>A $40 monthly child allowance in New York</b><br>would lift 14,000 mothers (4%) out of poverty<br>and cost $1.9 billion per year"
            ],
            [
             "<b>A $40 monthly child allowance in Ohio</b><br>would lift 25,000 mothers (19%) out of poverty<br>and cost $1.2 billion per year"
            ],
            [
             "<b>A $40 monthly child allowance in Oklahoma</b><br>would lift 5,000 mothers (11%) out of poverty<br>and cost $0.5 billion per year"
            ],
            [
             "<b>A $40 monthly child allowance in Oregon</b><br>would lift 0,000 mothers (0%) out of poverty<br>and cost $0.4 billion per year"
            ],
            [
             "<b>A $40 monthly child allowance in Pennsylvania</b><br>would lift 0,000 mothers (0%) out of poverty<br>and cost $1.2 billion per year"
            ],
            [
             "<b>A $40 monthly child allowance in Rhode Island</b><br>would lift 1,000 mothers (10%) out of poverty<br>and cost $0.1 billion per year"
            ],
            [
             "<b>A $40 monthly child allowance in South Carolina</b><br>would lift 2,000 mothers (2%) out of poverty<br>and cost $0.5 billion per year"
            ],
            [
             "<b>A $40 monthly child allowance in South Dakota</b><br>would lift 0,000 mothers (0%) out of poverty<br>and cost $0.1 billion per year"
            ],
            [
             "<b>A $40 monthly child allowance in Tennessee</b><br>would lift 5,000 mothers (5%) out of poverty<br>and cost $0.7 billion per year"
            ],
            [
             "<b>A $40 monthly child allowance in Texas</b><br>would lift 24,000 mothers (5%) out of poverty<br>and cost $3.6 billion per year"
            ],
            [
             "<b>A $40 monthly child allowance in Utah</b><br>would lift 0,000 mothers (0%) out of poverty<br>and cost $0.4 billion per year"
            ],
            [
             "<b>A $40 monthly child allowance in Virginia</b><br>would lift 4,000 mothers (3%) out of poverty<br>and cost $0.9 billion per year"
            ],
            [
             "<b>A $40 monthly child allowance in Vermont</b><br>would lift 0,000 mothers (13%) out of poverty<br>and cost $0.1 billion per year"
            ],
            [
             "<b>A $40 monthly child allowance in Washington</b><br>would lift 7,000 mothers (10%) out of poverty<br>and cost $0.8 billion per year"
            ],
            [
             "<b>A $40 monthly child allowance in Wisconsin</b><br>would lift 4,000 mothers (17%) out of poverty<br>and cost $0.6 billion per year"
            ],
            [
             "<b>A $40 monthly child allowance in West Virginia</b><br>would lift 2,000 mothers (11%) out of poverty<br>and cost $0.2 billion per year"
            ],
            [
             "<b>A $40 monthly child allowance in Wyoming</b><br>would lift 0,000 mothers (20%) out of poverty<br>and cost $0.1 billion per year"
            ]
           ],
           "geo": "geo",
           "hovertemplate": "%{customdata[0]}<extra></extra>",
           "locationmode": "USA-states",
           "locations": [
            "AK",
            "AL",
            "AR",
            "AZ",
            "CA",
            "CO",
            "CT",
            "DC",
            "DE",
            "FL",
            "GA",
            "HI",
            "IA",
            "ID",
            "IL",
            "IN",
            "KS",
            "KY",
            "LA",
            "MA",
            "MD",
            "ME",
            "MI",
            "MN",
            "MO",
            "MS",
            "MT",
            "NC",
            "ND",
            "NE",
            "NH",
            "NJ",
            "NM",
            "NV",
            "NY",
            "OH",
            "OK",
            "OR",
            "PA",
            "RI",
            "SC",
            "SD",
            "TN",
            "TX",
            "UT",
            "VA",
            "VT",
            "WA",
            "WI",
            "WV",
            "WY"
           ],
           "name": "",
           "type": "choropleth",
           "z": [
            0.04740717454866193,
            0,
            0.04143026329210386,
            0.04292612434092367,
            0.010588287194605098,
            0.11431105494288929,
            0.10791601583167647,
            0.08860686362426352,
            0,
            0.04784855341810255,
            0.06778883506524827,
            0.0927138886746364,
            0.35045129870082237,
            0.09617237956809253,
            0.07456541064577217,
            0,
            0.4046599564702099,
            0.042411231818761004,
            0.02468628093125531,
            0.05787728497133345,
            0.03576587452055395,
            0,
            0.09005992697989812,
            0.0839213769255112,
            0,
            0.06179965566699224,
            0,
            0.03723118335769211,
            0.10544905498754634,
            0,
            0,
            0.02861599954465608,
            0.0696086549437041,
            0,
            0.047708956583617554,
            0.19991729224992308,
            0.11678491229926174,
            0,
            0,
            0.1044036715289164,
            0.023105550873379743,
            0,
            0.05866541305344932,
            0.05150792427525538,
            0,
            0.03915264410857333,
            0.13717543350354747,
            0.10377954254119309,
            0.17872538569368202,
            0.11270721976646199,
            0.2020732966557877
           ]
          }
         ],
         "name": "40"
        },
        {
         "data": [
          {
           "coloraxis": "coloraxis",
           "customdata": [
            [
             "<b>A $50 monthly child allowance in Alaska</b><br>would lift 0,000 mothers (8%) out of poverty<br>and cost $0.1 billion per year"
            ],
            [
             "<b>A $50 monthly child allowance in Alabama</b><br>would lift 0,000 mothers (0%) out of poverty<br>and cost $0.7 billion per year"
            ],
            [
             "<b>A $50 monthly child allowance in Arkansas</b><br>would lift 2,000 mothers (4%) out of poverty<br>and cost $0.4 billion per year"
            ],
            [
             "<b>A $50 monthly child allowance in Arizona</b><br>would lift 3,000 mothers (4%) out of poverty<br>and cost $1.0 billion per year"
            ],
            [
             "<b>A $50 monthly child allowance in California</b><br>would lift 15,000 mothers (1%) out of poverty<br>and cost $5.3 billion per year"
            ],
            [
             "<b>A $50 monthly child allowance in Colorado</b><br>would lift 9,000 mothers (11%) out of poverty<br>and cost $0.8 billion per year"
            ],
            [
             "<b>A $50 monthly child allowance in Connecticut</b><br>would lift 6,000 mothers (10%) out of poverty<br>and cost $0.4 billion per year"
            ],
            [
             "<b>A $50 monthly child allowance in District of Columbia</b><br>would lift 1,000 mothers (8%) out of poverty<br>and cost $0.1 billion per year"
            ],
            [
             "<b>A $50 monthly child allowance in Delaware</b><br>would lift 0,000 mothers (0%) out of poverty<br>and cost $0.1 billion per year"
            ],
            [
             "<b>A $50 monthly child allowance in Florida</b><br>would lift 25,000 mothers (5%) out of poverty<br>and cost $2.5 billion per year"
            ],
            [
             "<b>A $50 monthly child allowance in Georgia</b><br>would lift 8,000 mothers (6%) out of poverty<br>and cost $1.5 billion per year"
            ],
            [
             "<b>A $50 monthly child allowance in Hawaii</b><br>would lift 2,000 mothers (9%) out of poverty<br>and cost $0.2 billion per year"
            ],
            [
             "<b>A $50 monthly child allowance in Iowa</b><br>would lift 9,000 mothers (35%) out of poverty<br>and cost $0.4 billion per year"
            ],
            [
             "<b>A $50 monthly child allowance in Idaho</b><br>would lift 1,000 mothers (9%) out of poverty<br>and cost $0.3 billion per year"
            ],
            [
             "<b>A $50 monthly child allowance in Illinois</b><br>would lift 13,000 mothers (10%) out of poverty<br>and cost $1.7 billion per year"
            ],
            [
             "<b>A $50 monthly child allowance in Indiana</b><br>would lift 0,000 mothers (0%) out of poverty<br>and cost $0.9 billion per year"
            ],
            [
             "<b>A $50 monthly child allowance in Kansas</b><br>would lift 10,000 mothers (50%) out of poverty<br>and cost $0.4 billion per year"
            ],
            [
             "<b>A $50 monthly child allowance in Kentucky</b><br>would lift 2,000 mothers (4%) out of poverty<br>and cost $0.6 billion per year"
            ],
            [
             "<b>A $50 monthly child allowance in Louisiana</b><br>would lift 1,000 mothers (2%) out of poverty<br>and cost $0.7 billion per year"
            ],
            [
             "<b>A $50 monthly child allowance in Massachusetts</b><br>would lift 5,000 mothers (5%) out of poverty<br>and cost $0.8 billion per year"
            ],
            [
             "<b>A $50 monthly child allowance in Maryland</b><br>would lift 3,000 mothers (3%) out of poverty<br>and cost $0.8 billion per year"
            ],
            [
             "<b>A $50 monthly child allowance in Maine</b><br>would lift 0,000 mothers (0%) out of poverty<br>and cost $0.1 billion per year"
            ],
            [
             "<b>A $50 monthly child allowance in Michigan</b><br>would lift 8,000 mothers (9%) out of poverty<br>and cost $1.3 billion per year"
            ],
            [
             "<b>A $50 monthly child allowance in Minnesota</b><br>would lift 3,000 mothers (8%) out of poverty<br>and cost $0.8 billion per year"
            ],
            [
             "<b>A $50 monthly child allowance in Missouri</b><br>would lift 0,000 mothers (0%) out of poverty<br>and cost $0.8 billion per year"
            ],
            [
             "<b>A $50 monthly child allowance in Mississippi</b><br>would lift 3,000 mothers (6%) out of poverty<br>and cost $0.4 billion per year"
            ],
            [
             "<b>A $50 monthly child allowance in Montana</b><br>would lift 0,000 mothers (0%) out of poverty<br>and cost $0.1 billion per year"
            ],
            [
             "<b>A $50 monthly child allowance in North Carolina</b><br>would lift 4,000 mothers (3%) out of poverty<br>and cost $1.4 billion per year"
            ],
            [
             "<b>A $50 monthly child allowance in North Dakota</b><br>would lift 0,000 mothers (10%) out of poverty<br>and cost $0.1 billion per year"
            ],
            [
             "<b>A $50 monthly child allowance in Nebraska</b><br>would lift 0,000 mothers (0%) out of poverty<br>and cost $0.3 billion per year"
            ],
            [
             "<b>A $50 monthly child allowance in New Hampshire</b><br>would lift 0,000 mothers (0%) out of poverty<br>and cost $0.1 billion per year"
            ],
            [
             "<b>A $50 monthly child allowance in New Jersey</b><br>would lift 3,000 mothers (2%) out of poverty<br>and cost $1.1 billion per year"
            ],
            [
             "<b>A $50 monthly child allowance in New Mexico</b><br>would lift 2,000 mothers (6%) out of poverty<br>and cost $0.3 billion per year"
            ],
            [
             "<b>A $50 monthly child allowance in Nevada</b><br>would lift 0,000 mothers (0%) out of poverty<br>and cost $0.4 billion per year"
            ],
            [
             "<b>A $50 monthly child allowance in New York</b><br>would lift 14,000 mothers (4%) out of poverty<br>and cost $2.4 billion per year"
            ],
            [
             "<b>A $50 monthly child allowance in Ohio</b><br>would lift 25,000 mothers (19%) out of poverty<br>and cost $1.5 billion per year"
            ],
            [
             "<b>A $50 monthly child allowance in Oklahoma</b><br>would lift 8,000 mothers (15%) out of poverty<br>and cost $0.6 billion per year"
            ],
            [
             "<b>A $50 monthly child allowance in Oregon</b><br>would lift 0,000 mothers (0%) out of poverty<br>and cost $0.5 billion per year"
            ],
            [
             "<b>A $50 monthly child allowance in Pennsylvania</b><br>would lift 0,000 mothers (0%) out of poverty<br>and cost $1.5 billion per year"
            ],
            [
             "<b>A $50 monthly child allowance in Rhode Island</b><br>would lift 1,000 mothers (10%) out of poverty<br>and cost $0.1 billion per year"
            ],
            [
             "<b>A $50 monthly child allowance in South Carolina</b><br>would lift 2,000 mothers (2%) out of poverty<br>and cost $0.7 billion per year"
            ],
            [
             "<b>A $50 monthly child allowance in South Dakota</b><br>would lift 0,000 mothers (7%) out of poverty<br>and cost $0.1 billion per year"
            ],
            [
             "<b>A $50 monthly child allowance in Tennessee</b><br>would lift 5,000 mothers (5%) out of poverty<br>and cost $0.9 billion per year"
            ],
            [
             "<b>A $50 monthly child allowance in Texas</b><br>would lift 32,000 mothers (7%) out of poverty<br>and cost $4.5 billion per year"
            ],
            [
             "<b>A $50 monthly child allowance in Utah</b><br>would lift 0,000 mothers (0%) out of poverty<br>and cost $0.6 billion per year"
            ],
            [
             "<b>A $50 monthly child allowance in Virginia</b><br>would lift 4,000 mothers (3%) out of poverty<br>and cost $1.1 billion per year"
            ],
            [
             "<b>A $50 monthly child allowance in Vermont</b><br>would lift 0,000 mothers (13%) out of poverty<br>and cost $0.1 billion per year"
            ],
            [
             "<b>A $50 monthly child allowance in Washington</b><br>would lift 7,000 mothers (10%) out of poverty<br>and cost $1.0 billion per year"
            ],
            [
             "<b>A $50 monthly child allowance in Wisconsin</b><br>would lift 4,000 mothers (17%) out of poverty<br>and cost $0.7 billion per year"
            ],
            [
             "<b>A $50 monthly child allowance in West Virginia</b><br>would lift 2,000 mothers (11%) out of poverty<br>and cost $0.2 billion per year"
            ],
            [
             "<b>A $50 monthly child allowance in Wyoming</b><br>would lift 0,000 mothers (20%) out of poverty<br>and cost $0.1 billion per year"
            ]
           ],
           "geo": "geo",
           "hovertemplate": "%{customdata[0]}<extra></extra>",
           "locationmode": "USA-states",
           "locations": [
            "AK",
            "AL",
            "AR",
            "AZ",
            "CA",
            "CO",
            "CT",
            "DC",
            "DE",
            "FL",
            "GA",
            "HI",
            "IA",
            "ID",
            "IL",
            "IN",
            "KS",
            "KY",
            "LA",
            "MA",
            "MD",
            "ME",
            "MI",
            "MN",
            "MO",
            "MS",
            "MT",
            "NC",
            "ND",
            "NE",
            "NH",
            "NJ",
            "NM",
            "NV",
            "NY",
            "OH",
            "OK",
            "OR",
            "PA",
            "RI",
            "SC",
            "SD",
            "TN",
            "TX",
            "UT",
            "VA",
            "VT",
            "WA",
            "WI",
            "WV",
            "WY"
           ],
           "name": "",
           "type": "choropleth",
           "z": [
            0.08725871778441607,
            0,
            0.04143026329210386,
            0.04292612434092367,
            0.018891856913122847,
            0.11431105494288929,
            0.10791601583167647,
            0.08860686362426352,
            0,
            0.057316463770753986,
            0.06778883506524827,
            0.0927138886746364,
            0.35045129870082237,
            0.09617237956809253,
            0.1047088188348283,
            0,
            0.5082083609097353,
            0.042411231818761004,
            0.02468628093125531,
            0.05787728497133345,
            0.03576587452055395,
            0,
            0.09005992697989812,
            0.0839213769255112,
            0,
            0.06179965566699224,
            0,
            0.03723118335769211,
            0.10544905498754634,
            0,
            0,
            0.02861599954465608,
            0.0696086549437041,
            0,
            0.047708956583617554,
            0.19991729224992308,
            0.1597963040400691,
            0,
            0,
            0.1044036715289164,
            0.023105550873379743,
            0.07211633160715526,
            0.05866541305344932,
            0.0705033881953349,
            0,
            0.03915264410857333,
            0.13717543350354747,
            0.10377954254119309,
            0.17872538569368202,
            0.11270721976646199,
            0.2020732966557877
           ]
          }
         ],
         "name": "50"
        },
        {
         "data": [
          {
           "coloraxis": "coloraxis",
           "customdata": [
            [
             "<b>A $60 monthly child allowance in Alaska</b><br>would lift 0,000 mothers (8%) out of poverty<br>and cost $0.1 billion per year"
            ],
            [
             "<b>A $60 monthly child allowance in Alabama</b><br>would lift 3,000 mothers (4%) out of poverty<br>and cost $0.8 billion per year"
            ],
            [
             "<b>A $60 monthly child allowance in Arkansas</b><br>would lift 4,000 mothers (9%) out of poverty<br>and cost $0.5 billion per year"
            ],
            [
             "<b>A $60 monthly child allowance in Arizona</b><br>would lift 8,000 mothers (10%) out of poverty<br>and cost $1.2 billion per year"
            ],
            [
             "<b>A $60 monthly child allowance in California</b><br>would lift 27,000 mothers (3%) out of poverty<br>and cost $6.3 billion per year"
            ],
            [
             "<b>A $60 monthly child allowance in Colorado</b><br>would lift 9,000 mothers (11%) out of poverty<br>and cost $0.9 billion per year"
            ],
            [
             "<b>A $60 monthly child allowance in Connecticut</b><br>would lift 6,000 mothers (10%) out of poverty<br>and cost $0.5 billion per year"
            ],
            [
             "<b>A $60 monthly child allowance in District of Columbia</b><br>would lift 1,000 mothers (8%) out of poverty<br>and cost $0.1 billion per year"
            ],
            [
             "<b>A $60 monthly child allowance in Delaware</b><br>would lift 0,000 mothers (0%) out of poverty<br>and cost $0.1 billion per year"
            ],
            [
             "<b>A $60 monthly child allowance in Florida</b><br>would lift 25,000 mothers (5%) out of poverty<br>and cost $3.0 billion per year"
            ],
            [
             "<b>A $60 monthly child allowance in Georgia</b><br>would lift 8,000 mothers (6%) out of poverty<br>and cost $1.8 billion per year"
            ],
            [
             "<b>A $60 monthly child allowance in Hawaii</b><br>would lift 2,000 mothers (9%) out of poverty<br>and cost $0.2 billion per year"
            ],
            [
             "<b>A $60 monthly child allowance in Iowa</b><br>would lift 9,000 mothers (35%) out of poverty<br>and cost $0.5 billion per year"
            ],
            [
             "<b>A $60 monthly child allowance in Idaho</b><br>would lift 1,000 mothers (9%) out of poverty<br>and cost $0.3 billion per year"
            ],
            [
             "<b>A $60 monthly child allowance in Illinois</b><br>would lift 13,000 mothers (10%) out of poverty<br>and cost $2.0 billion per year"
            ],
            [
             "<b>A $60 monthly child allowance in Indiana</b><br>would lift 0,000 mothers (0%) out of poverty<br>and cost $1.1 billion per year"
            ],
            [
             "<b>A $60 monthly child allowance in Kansas</b><br>would lift 10,000 mothers (50%) out of poverty<br>and cost $0.5 billion per year"
            ],
            [
             "<b>A $60 monthly child allowance in Kentucky</b><br>would lift 2,000 mothers (4%) out of poverty<br>and cost $0.7 billion per year"
            ],
            [
             "<b>A $60 monthly child allowance in Louisiana</b><br>would lift 1,000 mothers (2%) out of poverty<br>and cost $0.8 billion per year"
            ],
            [
             "<b>A $60 monthly child allowance in Massachusetts</b><br>would lift 5,000 mothers (5%) out of poverty<br>and cost $1.0 billion per year"
            ],
            [
             "<b>A $60 monthly child allowance in Maryland</b><br>would lift 3,000 mothers (3%) out of poverty<br>and cost $0.9 billion per year"
            ],
            [
             "<b>A $60 monthly child allowance in Maine</b><br>would lift 0,000 mothers (0%) out of poverty<br>and cost $0.2 billion per year"
            ],
            [
             "<b>A $60 monthly child allowance in Michigan</b><br>would lift 8,000 mothers (9%) out of poverty<br>and cost $1.5 billion per year"
            ],
            [
             "<b>A $60 monthly child allowance in Minnesota</b><br>would lift 3,000 mothers (8%) out of poverty<br>and cost $0.9 billion per year"
            ],
            [
             "<b>A $60 monthly child allowance in Missouri</b><br>would lift 0,000 mothers (0%) out of poverty<br>and cost $1.0 billion per year"
            ],
            [
             "<b>A $60 monthly child allowance in Mississippi</b><br>would lift 5,000 mothers (8%) out of poverty<br>and cost $0.5 billion per year"
            ],
            [
             "<b>A $60 monthly child allowance in Montana</b><br>would lift 0,000 mothers (0%) out of poverty<br>and cost $0.2 billion per year"
            ],
            [
             "<b>A $60 monthly child allowance in North Carolina</b><br>would lift 4,000 mothers (3%) out of poverty<br>and cost $1.6 billion per year"
            ],
            [
             "<b>A $60 monthly child allowance in North Dakota</b><br>would lift 1,000 mothers (31%) out of poverty<br>and cost $0.1 billion per year"
            ],
            [
             "<b>A $60 monthly child allowance in Nebraska</b><br>would lift 1,000 mothers (6%) out of poverty<br>and cost $0.3 billion per year"
            ],
            [
             "<b>A $60 monthly child allowance in New Hampshire</b><br>would lift 0,000 mothers (0%) out of poverty<br>and cost $0.2 billion per year"
            ],
            [
             "<b>A $60 monthly child allowance in New Jersey</b><br>would lift 3,000 mothers (2%) out of poverty<br>and cost $1.4 billion per year"
            ],
            [
             "<b>A $60 monthly child allowance in New Mexico</b><br>would lift 2,000 mothers (6%) out of poverty<br>and cost $0.3 billion per year"
            ],
            [
             "<b>A $60 monthly child allowance in Nevada</b><br>would lift 0,000 mothers (0%) out of poverty<br>and cost $0.5 billion per year"
            ],
            [
             "<b>A $60 monthly child allowance in New York</b><br>would lift 21,000 mothers (7%) out of poverty<br>and cost $2.9 billion per year"
            ],
            [
             "<b>A $60 monthly child allowance in Ohio</b><br>would lift 25,000 mothers (19%) out of poverty<br>and cost $1.8 billion per year"
            ],
            [
             "<b>A $60 monthly child allowance in Oklahoma</b><br>would lift 13,000 mothers (25%) out of poverty<br>and cost $0.7 billion per year"
            ],
            [
             "<b>A $60 monthly child allowance in Oregon</b><br>would lift 0,000 mothers (0%) out of poverty<br>and cost $0.6 billion per year"
            ],
            [
             "<b>A $60 monthly child allowance in Pennsylvania</b><br>would lift 3,000 mothers (2%) out of poverty<br>and cost $1.8 billion per year"
            ],
            [
             "<b>A $60 monthly child allowance in Rhode Island</b><br>would lift 1,000 mothers (10%) out of poverty<br>and cost $0.1 billion per year"
            ],
            [
             "<b>A $60 monthly child allowance in South Carolina</b><br>would lift 2,000 mothers (2%) out of poverty<br>and cost $0.8 billion per year"
            ],
            [
             "<b>A $60 monthly child allowance in South Dakota</b><br>would lift 1,000 mothers (13%) out of poverty<br>and cost $0.2 billion per year"
            ],
            [
             "<b>A $60 monthly child allowance in Tennessee</b><br>would lift 5,000 mothers (5%) out of poverty<br>and cost $1.1 billion per year"
            ],
            [
             "<b>A $60 monthly child allowance in Texas</b><br>would lift 43,000 mothers (9%) out of poverty<br>and cost $5.4 billion per year"
            ],
            [
             "<b>A $60 monthly child allowance in Utah</b><br>would lift 0,000 mothers (0%) out of poverty<br>and cost $0.7 billion per year"
            ],
            [
             "<b>A $60 monthly child allowance in Virginia</b><br>would lift 4,000 mothers (3%) out of poverty<br>and cost $1.3 billion per year"
            ],
            [
             "<b>A $60 monthly child allowance in Vermont</b><br>would lift 1,000 mothers (26%) out of poverty<br>and cost $0.1 billion per year"
            ],
            [
             "<b>A $60 monthly child allowance in Washington</b><br>would lift 10,000 mothers (15%) out of poverty<br>and cost $1.2 billion per year"
            ],
            [
             "<b>A $60 monthly child allowance in Wisconsin</b><br>would lift 4,000 mothers (17%) out of poverty<br>and cost $0.9 billion per year"
            ],
            [
             "<b>A $60 monthly child allowance in West Virginia</b><br>would lift 2,000 mothers (11%) out of poverty<br>and cost $0.2 billion per year"
            ],
            [
             "<b>A $60 monthly child allowance in Wyoming</b><br>would lift 0,000 mothers (20%) out of poverty<br>and cost $0.1 billion per year"
            ]
           ],
           "geo": "geo",
           "hovertemplate": "%{customdata[0]}<extra></extra>",
           "locationmode": "USA-states",
           "locations": [
            "AK",
            "AL",
            "AR",
            "AZ",
            "CA",
            "CO",
            "CT",
            "DC",
            "DE",
            "FL",
            "GA",
            "HI",
            "IA",
            "ID",
            "IL",
            "IN",
            "KS",
            "KY",
            "LA",
            "MA",
            "MD",
            "ME",
            "MI",
            "MN",
            "MO",
            "MS",
            "MT",
            "NC",
            "ND",
            "NE",
            "NH",
            "NJ",
            "NM",
            "NV",
            "NY",
            "OH",
            "OK",
            "OR",
            "PA",
            "RI",
            "SC",
            "SD",
            "TN",
            "TX",
            "UT",
            "VA",
            "VT",
            "WA",
            "WI",
            "WV",
            "WY"
           ],
           "name": "",
           "type": "choropleth",
           "z": [
            0.08725871778441607,
            0.044571250670402636,
            0.09351105726510457,
            0.1000934416555643,
            0.03399647764334314,
            0.11431105494288929,
            0.10791601583167647,
            0.08860686362426352,
            0,
            0.057316463770753986,
            0.06778883506524827,
            0.0927138886746364,
            0.35045129870082237,
            0.09617237956809253,
            0.1047088188348283,
            0,
            0.5082083609097353,
            0.042411231818761004,
            0.02468628093125531,
            0.05787728497133345,
            0.03576587452055395,
            0,
            0.09005992697989812,
            0.0839213769255112,
            0,
            0.0843924240485563,
            0,
            0.03723118335769211,
            0.3195518093040217,
            0.06792279066448485,
            0,
            0.02861599954465608,
            0.0696086549437041,
            0,
            0.0733883954634454,
            0.19991729224992308,
            0.25548369297826623,
            0,
            0.027934572009308174,
            0.1044036715289164,
            0.023105550873379743,
            0.13742744129471476,
            0.05866541305344932,
            0.0930233262433508,
            0,
            0.03915264410857333,
            0.26612180253623907,
            0.15744489753744498,
            0.17872538569368202,
            0.11270721976646199,
            0.2020732966557877
           ]
          }
         ],
         "name": "60"
        },
        {
         "data": [
          {
           "coloraxis": "coloraxis",
           "customdata": [
            [
             "<b>A $70 monthly child allowance in Alaska</b><br>would lift 0,000 mothers (8%) out of poverty<br>and cost $0.2 billion per year"
            ],
            [
             "<b>A $70 monthly child allowance in Alabama</b><br>would lift 3,000 mothers (4%) out of poverty<br>and cost $0.9 billion per year"
            ],
            [
             "<b>A $70 monthly child allowance in Arkansas</b><br>would lift 4,000 mothers (9%) out of poverty<br>and cost $0.6 billion per year"
            ],
            [
             "<b>A $70 monthly child allowance in Arizona</b><br>would lift 8,000 mothers (10%) out of poverty<br>and cost $1.4 billion per year"
            ],
            [
             "<b>A $70 monthly child allowance in California</b><br>would lift 27,000 mothers (3%) out of poverty<br>and cost $7.4 billion per year"
            ],
            [
             "<b>A $70 monthly child allowance in Colorado</b><br>would lift 9,000 mothers (11%) out of poverty<br>and cost $1.1 billion per year"
            ],
            [
             "<b>A $70 monthly child allowance in Connecticut</b><br>would lift 15,000 mothers (25%) out of poverty<br>and cost $0.6 billion per year"
            ],
            [
             "<b>A $70 monthly child allowance in District of Columbia</b><br>would lift 1,000 mothers (8%) out of poverty<br>and cost $0.1 billion per year"
            ],
            [
             "<b>A $70 monthly child allowance in Delaware</b><br>would lift 0,000 mothers (0%) out of poverty<br>and cost $0.2 billion per year"
            ],
            [
             "<b>A $70 monthly child allowance in Florida</b><br>would lift 30,000 mothers (6%) out of poverty<br>and cost $3.5 billion per year"
            ],
            [
             "<b>A $70 monthly child allowance in Georgia</b><br>would lift 12,000 mothers (9%) out of poverty<br>and cost $2.1 billion per year"
            ],
            [
             "<b>A $70 monthly child allowance in Hawaii</b><br>would lift 3,000 mothers (15%) out of poverty<br>and cost $0.3 billion per year"
            ],
            [
             "<b>A $70 monthly child allowance in Iowa</b><br>would lift 9,000 mothers (35%) out of poverty<br>and cost $0.6 billion per year"
            ],
            [
             "<b>A $70 monthly child allowance in Idaho</b><br>would lift 1,000 mothers (9%) out of poverty<br>and cost $0.4 billion per year"
            ],
            [
             "<b>A $70 monthly child allowance in Illinois</b><br>would lift 13,000 mothers (10%) out of poverty<br>and cost $2.3 billion per year"
            ],
            [
             "<b>A $70 monthly child allowance in Indiana</b><br>would lift 11,000 mothers (16%) out of poverty<br>and cost $1.3 billion per year"
            ],
            [
             "<b>A $70 monthly child allowance in Kansas</b><br>would lift 10,000 mothers (50%) out of poverty<br>and cost $0.6 billion per year"
            ],
            [
             "<b>A $70 monthly child allowance in Kentucky</b><br>would lift 2,000 mothers (4%) out of poverty<br>and cost $0.8 billion per year"
            ],
            [
             "<b>A $70 monthly child allowance in Louisiana</b><br>would lift 3,000 mothers (4%) out of poverty<br>and cost $0.9 billion per year"
            ],
            [
             "<b>A $70 monthly child allowance in Massachusetts</b><br>would lift 5,000 mothers (5%) out of poverty<br>and cost $1.1 billion per year"
            ],
            [
             "<b>A $70 monthly child allowance in Maryland</b><br>would lift 13,000 mothers (12%) out of poverty<br>and cost $1.1 billion per year"
            ],
            [
             "<b>A $70 monthly child allowance in Maine</b><br>would lift 0,000 mothers (0%) out of poverty<br>and cost $0.2 billion per year"
            ],
            [
             "<b>A $70 monthly child allowance in Michigan</b><br>would lift 11,000 mothers (12%) out of poverty<br>and cost $1.8 billion per year"
            ],
            [
             "<b>A $70 monthly child allowance in Minnesota</b><br>would lift 3,000 mothers (8%) out of poverty<br>and cost $1.1 billion per year"
            ],
            [
             "<b>A $70 monthly child allowance in Missouri</b><br>would lift 0,000 mothers (0%) out of poverty<br>and cost $1.1 billion per year"
            ],
            [
             "<b>A $70 monthly child allowance in Mississippi</b><br>would lift 5,000 mothers (8%) out of poverty<br>and cost $0.6 billion per year"
            ],
            [
             "<b>A $70 monthly child allowance in Montana</b><br>would lift 0,000 mothers (0%) out of poverty<br>and cost $0.2 billion per year"
            ],
            [
             "<b>A $70 monthly child allowance in North Carolina</b><br>would lift 9,000 mothers (7%) out of poverty<br>and cost $1.9 billion per year"
            ],
            [
             "<b>A $70 monthly child allowance in North Dakota</b><br>would lift 1,000 mothers (31%) out of poverty<br>and cost $0.2 billion per year"
            ],
            [
             "<b>A $70 monthly child allowance in Nebraska</b><br>would lift 1,000 mothers (6%) out of poverty<br>and cost $0.4 billion per year"
            ],
            [
             "<b>A $70 monthly child allowance in New Hampshire</b><br>would lift 0,000 mothers (0%) out of poverty<br>and cost $0.2 billion per year"
            ],
            [
             "<b>A $70 monthly child allowance in New Jersey</b><br>would lift 7,000 mothers (5%) out of poverty<br>and cost $1.6 billion per year"
            ],
            [
             "<b>A $70 monthly child allowance in New Mexico</b><br>would lift 2,000 mothers (6%) out of poverty<br>and cost $0.4 billion per year"
            ],
            [
             "<b>A $70 monthly child allowance in Nevada</b><br>would lift 0,000 mothers (0%) out of poverty<br>and cost $0.6 billion per year"
            ],
            [
             "<b>A $70 monthly child allowance in New York</b><br>would lift 21,000 mothers (7%) out of poverty<br>and cost $3.4 billion per year"
            ],
            [
             "<b>A $70 monthly child allowance in Ohio</b><br>would lift 25,000 mothers (19%) out of poverty<br>and cost $2.1 billion per year"
            ],
            [
             "<b>A $70 monthly child allowance in Oklahoma</b><br>would lift 14,000 mothers (28%) out of poverty<br>and cost $0.8 billion per year"
            ],
            [
             "<b>A $70 monthly child allowance in Oregon</b><br>would lift 0,000 mothers (0%) out of poverty<br>and cost $0.7 billion per year"
            ],
            [
             "<b>A $70 monthly child allowance in Pennsylvania</b><br>would lift 3,000 mothers (2%) out of poverty<br>and cost $2.1 billion per year"
            ],
            [
             "<b>A $70 monthly child allowance in Rhode Island</b><br>would lift 1,000 mothers (10%) out of poverty<br>and cost $0.2 billion per year"
            ],
            [
             "<b>A $70 monthly child allowance in South Carolina</b><br>would lift 2,000 mothers (2%) out of poverty<br>and cost $0.9 billion per year"
            ],
            [
             "<b>A $70 monthly child allowance in South Dakota</b><br>would lift 1,000 mothers (13%) out of poverty<br>and cost $0.2 billion per year"
            ],
            [
             "<b>A $70 monthly child allowance in Tennessee</b><br>would lift 5,000 mothers (5%) out of poverty<br>and cost $1.3 billion per year"
            ],
            [
             "<b>A $70 monthly child allowance in Texas</b><br>would lift 47,000 mothers (10%) out of poverty<br>and cost $6.3 billion per year"
            ],
            [
             "<b>A $70 monthly child allowance in Utah</b><br>would lift 0,000 mothers (0%) out of poverty<br>and cost $0.8 billion per year"
            ],
            [
             "<b>A $70 monthly child allowance in Virginia</b><br>would lift 4,000 mothers (3%) out of poverty<br>and cost $1.5 billion per year"
            ],
            [
             "<b>A $70 monthly child allowance in Vermont</b><br>would lift 1,000 mothers (26%) out of poverty<br>and cost $0.1 billion per year"
            ],
            [
             "<b>A $70 monthly child allowance in Washington</b><br>would lift 15,000 mothers (21%) out of poverty<br>and cost $1.4 billion per year"
            ],
            [
             "<b>A $70 monthly child allowance in Wisconsin</b><br>would lift 4,000 mothers (17%) out of poverty<br>and cost $1.0 billion per year"
            ],
            [
             "<b>A $70 monthly child allowance in West Virginia</b><br>would lift 2,000 mothers (11%) out of poverty<br>and cost $0.3 billion per year"
            ],
            [
             "<b>A $70 monthly child allowance in Wyoming</b><br>would lift 0,000 mothers (20%) out of poverty<br>and cost $0.1 billion per year"
            ]
           ],
           "geo": "geo",
           "hovertemplate": "%{customdata[0]}<extra></extra>",
           "locationmode": "USA-states",
           "locations": [
            "AK",
            "AL",
            "AR",
            "AZ",
            "CA",
            "CO",
            "CT",
            "DC",
            "DE",
            "FL",
            "GA",
            "HI",
            "IA",
            "ID",
            "IL",
            "IN",
            "KS",
            "KY",
            "LA",
            "MA",
            "MD",
            "ME",
            "MI",
            "MN",
            "MO",
            "MS",
            "MT",
            "NC",
            "ND",
            "NE",
            "NH",
            "NJ",
            "NM",
            "NV",
            "NY",
            "OH",
            "OK",
            "OR",
            "PA",
            "RI",
            "SC",
            "SD",
            "TN",
            "TX",
            "UT",
            "VA",
            "VT",
            "WA",
            "WI",
            "WV",
            "WY"
           ],
           "name": "",
           "type": "choropleth",
           "z": [
            0.08725871778441607,
            0.044571250670402636,
            0.09351105726510457,
            0.1000934416555643,
            0.03399647764334314,
            0.11431105494288929,
            0.25593675036255353,
            0.08860686362426352,
            0,
            0.06913779361964205,
            0.09858989182771809,
            0.15759072995359186,
            0.35045129870082237,
            0.09617237956809253,
            0.1047088188348283,
            0.16529145047440988,
            0.5082083609097353,
            0.042411231818761004,
            0.04885101039124357,
            0.05787728497133345,
            0.12343013398869816,
            0,
            0.12543007327621067,
            0.0839213769255112,
            0,
            0.0843924240485563,
            0,
            0.07184864738644998,
            0.3195518093040217,
            0.06792279066448485,
            0,
            0.05270896941019968,
            0.0696086549437041,
            0,
            0.0733883954634454,
            0.19991729224992308,
            0.2883321996387941,
            0,
            0.027934572009308174,
            0.1044036715289164,
            0.023105550873379743,
            0.13742744129471476,
            0.05866541305344932,
            0.10199976069384147,
            0,
            0.03915264410857333,
            0.26612180253623907,
            0.21843620692387875,
            0.17872538569368202,
            0.11270721976646199,
            0.2020732966557877
           ]
          }
         ],
         "name": "70"
        },
        {
         "data": [
          {
           "coloraxis": "coloraxis",
           "customdata": [
            [
             "<b>A $80 monthly child allowance in Alaska</b><br>would lift 0,000 mothers (8%) out of poverty<br>and cost $0.2 billion per year"
            ],
            [
             "<b>A $80 monthly child allowance in Alabama</b><br>would lift 5,000 mothers (7%) out of poverty<br>and cost $1.1 billion per year"
            ],
            [
             "<b>A $80 monthly child allowance in Arkansas</b><br>would lift 4,000 mothers (9%) out of poverty<br>and cost $0.7 billion per year"
            ],
            [
             "<b>A $80 monthly child allowance in Arizona</b><br>would lift 8,000 mothers (10%) out of poverty<br>and cost $1.6 billion per year"
            ],
            [
             "<b>A $80 monthly child allowance in California</b><br>would lift 27,000 mothers (3%) out of poverty<br>and cost $8.4 billion per year"
            ],
            [
             "<b>A $80 monthly child allowance in Colorado</b><br>would lift 9,000 mothers (11%) out of poverty<br>and cost $1.2 billion per year"
            ],
            [
             "<b>A $80 monthly child allowance in Connecticut</b><br>would lift 15,000 mothers (25%) out of poverty<br>and cost $0.7 billion per year"
            ],
            [
             "<b>A $80 monthly child allowance in District of Columbia</b><br>would lift 1,000 mothers (11%) out of poverty<br>and cost $0.1 billion per year"
            ],
            [
             "<b>A $80 monthly child allowance in Delaware</b><br>would lift 0,000 mothers (0%) out of poverty<br>and cost $0.2 billion per year"
            ],
            [
             "<b>A $80 monthly child allowance in Florida</b><br>would lift 30,000 mothers (6%) out of poverty<br>and cost $4.1 billion per year"
            ],
            [
             "<b>A $80 monthly child allowance in Georgia</b><br>would lift 12,000 mothers (9%) out of poverty<br>and cost $2.4 billion per year"
            ],
            [
             "<b>A $80 monthly child allowance in Hawaii</b><br>would lift 3,000 mothers (15%) out of poverty<br>and cost $0.3 billion per year"
            ],
            [
             "<b>A $80 monthly child allowance in Iowa</b><br>would lift 9,000 mothers (35%) out of poverty<br>and cost $0.7 billion per year"
            ],
            [
             "<b>A $80 monthly child allowance in Idaho</b><br>would lift 1,000 mothers (16%) out of poverty<br>and cost $0.4 billion per year"
            ],
            [
             "<b>A $80 monthly child allowance in Illinois</b><br>would lift 13,000 mothers (10%) out of poverty<br>and cost $2.7 billion per year"
            ],
            [
             "<b>A $80 monthly child allowance in Indiana</b><br>would lift 11,000 mothers (16%) out of poverty<br>and cost $1.5 billion per year"
            ],
            [
             "<b>A $80 monthly child allowance in Kansas</b><br>would lift 10,000 mothers (50%) out of poverty<br>and cost $0.6 billion per year"
            ],
            [
             "<b>A $80 monthly child allowance in Kentucky</b><br>would lift 2,000 mothers (4%) out of poverty<br>and cost $1.0 billion per year"
            ],
            [
             "<b>A $80 monthly child allowance in Louisiana</b><br>would lift 3,000 mothers (4%) out of poverty<br>and cost $1.1 billion per year"
            ],
            [
             "<b>A $80 monthly child allowance in Massachusetts</b><br>would lift 5,000 mothers (5%) out of poverty<br>and cost $1.3 billion per year"
            ],
            [
             "<b>A $80 monthly child allowance in Maryland</b><br>would lift 13,000 mothers (12%) out of poverty<br>and cost $1.2 billion per year"
            ],
            [
             "<b>A $80 monthly child allowance in Maine</b><br>would lift 0,000 mothers (0%) out of poverty<br>and cost $0.2 billion per year"
            ],
            [
             "<b>A $80 monthly child allowance in Michigan</b><br>would lift 17,000 mothers (18%) out of poverty<br>and cost $2.0 billion per year"
            ],
            [
             "<b>A $80 monthly child allowance in Minnesota</b><br>would lift 3,000 mothers (8%) out of poverty<br>and cost $1.3 billion per year"
            ],
            [
             "<b>A $80 monthly child allowance in Missouri</b><br>would lift 0,000 mothers (0%) out of poverty<br>and cost $1.3 billion per year"
            ],
            [
             "<b>A $80 monthly child allowance in Mississippi</b><br>would lift 8,000 mothers (13%) out of poverty<br>and cost $0.7 billion per year"
            ],
            [
             "<b>A $80 monthly child allowance in Montana</b><br>would lift 1,000 mothers (16%) out of poverty<br>and cost $0.2 billion per year"
            ],
            [
             "<b>A $80 monthly child allowance in North Carolina</b><br>would lift 9,000 mothers (7%) out of poverty<br>and cost $2.2 billion per year"
            ],
            [
             "<b>A $80 monthly child allowance in North Dakota</b><br>would lift 1,000 mothers (31%) out of poverty<br>and cost $0.2 billion per year"
            ],
            [
             "<b>A $80 monthly child allowance in Nebraska</b><br>would lift 1,000 mothers (6%) out of poverty<br>and cost $0.5 billion per year"
            ],
            [
             "<b>A $80 monthly child allowance in New Hampshire</b><br>would lift 0,000 mothers (0%) out of poverty<br>and cost $0.2 billion per year"
            ],
            [
             "<b>A $80 monthly child allowance in New Jersey</b><br>would lift 7,000 mothers (5%) out of poverty<br>and cost $1.8 billion per year"
            ],
            [
             "<b>A $80 monthly child allowance in New Mexico</b><br>would lift 2,000 mothers (6%) out of poverty<br>and cost $0.4 billion per year"
            ],
            [
             "<b>A $80 monthly child allowance in Nevada</b><br>would lift 2,000 mothers (3%) out of poverty<br>and cost $0.7 billion per year"
            ],
            [
             "<b>A $80 monthly child allowance in New York</b><br>would lift 25,000 mothers (8%) out of poverty<br>and cost $3.9 billion per year"
            ],
            [
             "<b>A $80 monthly child allowance in Ohio</b><br>would lift 25,000 mothers (19%) out of poverty<br>and cost $2.4 billion per year"
            ],
            [
             "<b>A $80 monthly child allowance in Oklahoma</b><br>would lift 16,000 mothers (32%) out of poverty<br>and cost $0.9 billion per year"
            ],
            [
             "<b>A $80 monthly child allowance in Oregon</b><br>would lift 0,000 mothers (0%) out of poverty<br>and cost $0.8 billion per year"
            ],
            [
             "<b>A $80 monthly child allowance in Pennsylvania</b><br>would lift 3,000 mothers (2%) out of poverty<br>and cost $2.4 billion per year"
            ],
            [
             "<b>A $80 monthly child allowance in Rhode Island</b><br>would lift 2,000 mothers (23%) out of poverty<br>and cost $0.2 billion per year"
            ],
            [
             "<b>A $80 monthly child allowance in South Carolina</b><br>would lift 5,000 mothers (5%) out of poverty<br>and cost $1.1 billion per year"
            ],
            [
             "<b>A $80 monthly child allowance in South Dakota</b><br>would lift 1,000 mothers (13%) out of poverty<br>and cost $0.2 billion per year"
            ],
            [
             "<b>A $80 monthly child allowance in Tennessee</b><br>would lift 5,000 mothers (5%) out of poverty<br>and cost $1.5 billion per year"
            ],
            [
             "<b>A $80 monthly child allowance in Texas</b><br>would lift 53,000 mothers (11%) out of poverty<br>and cost $7.2 billion per year"
            ],
            [
             "<b>A $80 monthly child allowance in Utah</b><br>would lift 0,000 mothers (0%) out of poverty<br>and cost $0.9 billion per year"
            ],
            [
             "<b>A $80 monthly child allowance in Virginia</b><br>would lift 4,000 mothers (3%) out of poverty<br>and cost $1.8 billion per year"
            ],
            [
             "<b>A $80 monthly child allowance in Vermont</b><br>would lift 1,000 mothers (26%) out of poverty<br>and cost $0.1 billion per year"
            ],
            [
             "<b>A $80 monthly child allowance in Washington</b><br>would lift 15,000 mothers (21%) out of poverty<br>and cost $1.6 billion per year"
            ],
            [
             "<b>A $80 monthly child allowance in Wisconsin</b><br>would lift 4,000 mothers (17%) out of poverty<br>and cost $1.2 billion per year"
            ],
            [
             "<b>A $80 monthly child allowance in West Virginia</b><br>would lift 2,000 mothers (15%) out of poverty<br>and cost $0.3 billion per year"
            ],
            [
             "<b>A $80 monthly child allowance in Wyoming</b><br>would lift 0,000 mothers (20%) out of poverty<br>and cost $0.1 billion per year"
            ]
           ],
           "geo": "geo",
           "hovertemplate": "%{customdata[0]}<extra></extra>",
           "locationmode": "USA-states",
           "locations": [
            "AK",
            "AL",
            "AR",
            "AZ",
            "CA",
            "CO",
            "CT",
            "DC",
            "DE",
            "FL",
            "GA",
            "HI",
            "IA",
            "ID",
            "IL",
            "IN",
            "KS",
            "KY",
            "LA",
            "MA",
            "MD",
            "ME",
            "MI",
            "MN",
            "MO",
            "MS",
            "MT",
            "NC",
            "ND",
            "NE",
            "NH",
            "NJ",
            "NM",
            "NV",
            "NY",
            "OH",
            "OK",
            "OR",
            "PA",
            "RI",
            "SC",
            "SD",
            "TN",
            "TX",
            "UT",
            "VA",
            "VT",
            "WA",
            "WI",
            "WV",
            "WY"
           ],
           "name": "",
           "type": "choropleth",
           "z": [
            0.08725871778441607,
            0.07903619920286103,
            0.09351105726510457,
            0.1000934416555643,
            0.03399647764334314,
            0.11431105494288929,
            0.25593675036255353,
            0.11492363672699725,
            0,
            0.06913779361964205,
            0.09858989182771809,
            0.15759072995359186,
            0.35045129870082237,
            0.1632868284832315,
            0.1047088188348283,
            0.16529145047440988,
            0.5082083609097353,
            0.042411231818761004,
            0.04885101039124357,
            0.05787728497133345,
            0.12343013398869816,
            0,
            0.18598945794605468,
            0.0839213769255112,
            0,
            0.13491259495622215,
            0.1626109623756569,
            0.07184864738644998,
            0.3195518093040217,
            0.06792279066448485,
            0,
            0.05270896941019968,
            0.0696086549437041,
            0.035961789202846504,
            0.0869679142207142,
            0.19991729224992308,
            0.32307061956395233,
            0,
            0.027934572009308174,
            0.23601986289780827,
            0.050199182336726565,
            0.13742744129471476,
            0.05866541305344932,
            0.11410406226390858,
            0,
            0.03915264410857333,
            0.26612180253623907,
            0.21843620692387875,
            0.17872538569368202,
            0.15581729365769395,
            0.2020732966557877
           ]
          }
         ],
         "name": "80"
        },
        {
         "data": [
          {
           "coloraxis": "coloraxis",
           "customdata": [
            [
             "<b>A $90 monthly child allowance in Alaska</b><br>would lift 1,000 mothers (17%) out of poverty<br>and cost $0.2 billion per year"
            ],
            [
             "<b>A $90 monthly child allowance in Alabama</b><br>would lift 5,000 mothers (7%) out of poverty<br>and cost $1.2 billion per year"
            ],
            [
             "<b>A $90 monthly child allowance in Arkansas</b><br>would lift 4,000 mothers (9%) out of poverty<br>and cost $0.7 billion per year"
            ],
            [
             "<b>A $90 monthly child allowance in Arizona</b><br>would lift 8,000 mothers (10%) out of poverty<br>and cost $1.8 billion per year"
            ],
            [
             "<b>A $90 monthly child allowance in California</b><br>would lift 43,000 mothers (5%) out of poverty<br>and cost $9.5 billion per year"
            ],
            [
             "<b>A $90 monthly child allowance in Colorado</b><br>would lift 12,000 mothers (14%) out of poverty<br>and cost $1.4 billion per year"
            ],
            [
             "<b>A $90 monthly child allowance in Connecticut</b><br>would lift 15,000 mothers (25%) out of poverty<br>and cost $0.7 billion per year"
            ],
            [
             "<b>A $90 monthly child allowance in District of Columbia</b><br>would lift 1,000 mothers (11%) out of poverty<br>and cost $0.1 billion per year"
            ],
            [
             "<b>A $90 monthly child allowance in Delaware</b><br>would lift 0,000 mothers (0%) out of poverty<br>and cost $0.2 billion per year"
            ],
            [
             "<b>A $90 monthly child allowance in Florida</b><br>would lift 34,000 mothers (7%) out of poverty<br>and cost $4.6 billion per year"
            ],
            [
             "<b>A $90 monthly child allowance in Georgia</b><br>would lift 16,000 mothers (12%) out of poverty<br>and cost $2.7 billion per year"
            ],
            [
             "<b>A $90 monthly child allowance in Hawaii</b><br>would lift 4,000 mothers (19%) out of poverty<br>and cost $0.3 billion per year"
            ],
            [
             "<b>A $90 monthly child allowance in Iowa</b><br>would lift 14,000 mothers (51%) out of poverty<br>and cost $0.8 billion per year"
            ],
            [
             "<b>A $90 monthly child allowance in Idaho</b><br>would lift 2,000 mothers (24%) out of poverty<br>and cost $0.5 billion per year"
            ],
            [
             "<b>A $90 monthly child allowance in Illinois</b><br>would lift 13,000 mothers (10%) out of poverty<br>and cost $3.0 billion per year"
            ],
            [
             "<b>A $90 monthly child allowance in Indiana</b><br>would lift 11,000 mothers (16%) out of poverty<br>and cost $1.7 billion per year"
            ],
            [
             "<b>A $90 monthly child allowance in Kansas</b><br>would lift 10,000 mothers (50%) out of poverty<br>and cost $0.7 billion per year"
            ],
            [
             "<b>A $90 monthly child allowance in Kentucky</b><br>would lift 2,000 mothers (4%) out of poverty<br>and cost $1.1 billion per year"
            ],
            [
             "<b>A $90 monthly child allowance in Louisiana</b><br>would lift 3,000 mothers (4%) out of poverty<br>and cost $1.2 billion per year"
            ],
            [
             "<b>A $90 monthly child allowance in Massachusetts</b><br>would lift 11,000 mothers (13%) out of poverty<br>and cost $1.5 billion per year"
            ],
            [
             "<b>A $90 monthly child allowance in Maryland</b><br>would lift 13,000 mothers (12%) out of poverty<br>and cost $1.4 billion per year"
            ],
            [
             "<b>A $90 monthly child allowance in Maine</b><br>would lift 0,000 mothers (0%) out of poverty<br>and cost $0.3 billion per year"
            ],
            [
             "<b>A $90 monthly child allowance in Michigan</b><br>would lift 23,000 mothers (25%) out of poverty<br>and cost $2.3 billion per year"
            ],
            [
             "<b>A $90 monthly child allowance in Minnesota</b><br>would lift 3,000 mothers (8%) out of poverty<br>and cost $1.4 billion per year"
            ],
            [
             "<b>A $90 monthly child allowance in Missouri</b><br>would lift 3,000 mothers (5%) out of poverty<br>and cost $1.5 billion per year"
            ],
            [
             "<b>A $90 monthly child allowance in Mississippi</b><br>would lift 8,000 mothers (13%) out of poverty<br>and cost $0.7 billion per year"
            ],
            [
             "<b>A $90 monthly child allowance in Montana</b><br>would lift 1,000 mothers (16%) out of poverty<br>and cost $0.2 billion per year"
            ],
            [
             "<b>A $90 monthly child allowance in North Carolina</b><br>would lift 9,000 mothers (7%) out of poverty<br>and cost $2.5 billion per year"
            ],
            [
             "<b>A $90 monthly child allowance in North Dakota</b><br>would lift 1,000 mothers (31%) out of poverty<br>and cost $0.2 billion per year"
            ],
            [
             "<b>A $90 monthly child allowance in Nebraska</b><br>would lift 1,000 mothers (6%) out of poverty<br>and cost $0.5 billion per year"
            ],
            [
             "<b>A $90 monthly child allowance in New Hampshire</b><br>would lift 0,000 mothers (0%) out of poverty<br>and cost $0.3 billion per year"
            ],
            [
             "<b>A $90 monthly child allowance in New Jersey</b><br>would lift 7,000 mothers (5%) out of poverty<br>and cost $2.0 billion per year"
            ],
            [
             "<b>A $90 monthly child allowance in New Mexico</b><br>would lift 2,000 mothers (6%) out of poverty<br>and cost $0.5 billion per year"
            ],
            [
             "<b>A $90 monthly child allowance in Nevada</b><br>would lift 2,000 mothers (3%) out of poverty<br>and cost $0.8 billion per year"
            ],
            [
             "<b>A $90 monthly child allowance in New York</b><br>would lift 25,000 mothers (8%) out of poverty<br>and cost $4.3 billion per year"
            ],
            [
             "<b>A $90 monthly child allowance in Ohio</b><br>would lift 25,000 mothers (19%) out of poverty<br>and cost $2.7 billion per year"
            ],
            [
             "<b>A $90 monthly child allowance in Oklahoma</b><br>would lift 16,000 mothers (32%) out of poverty<br>and cost $1.0 billion per year"
            ],
            [
             "<b>A $90 monthly child allowance in Oregon</b><br>would lift 4,000 mothers (13%) out of poverty<br>and cost $0.9 billion per year"
            ],
            [
             "<b>A $90 monthly child allowance in Pennsylvania</b><br>would lift 13,000 mothers (10%) out of poverty<br>and cost $2.7 billion per year"
            ],
            [
             "<b>A $90 monthly child allowance in Rhode Island</b><br>would lift 2,000 mothers (23%) out of poverty<br>and cost $0.2 billion per year"
            ],
            [
             "<b>A $90 monthly child allowance in South Carolina</b><br>would lift 5,000 mothers (5%) out of poverty<br>and cost $1.2 billion per year"
            ],
            [
             "<b>A $90 monthly child allowance in South Dakota</b><br>would lift 1,000 mothers (13%) out of poverty<br>and cost $0.2 billion per year"
            ],
            [
             "<b>A $90 monthly child allowance in Tennessee</b><br>would lift 8,000 mothers (8%) out of poverty<br>and cost $1.6 billion per year"
            ],
            [
             "<b>A $90 monthly child allowance in Texas</b><br>would lift 57,000 mothers (12%) out of poverty<br>and cost $8.1 billion per year"
            ],
            [
             "<b>A $90 monthly child allowance in Utah</b><br>would lift 0,000 mothers (0%) out of poverty<br>and cost $1.0 billion per year"
            ],
            [
             "<b>A $90 monthly child allowance in Virginia</b><br>would lift 8,000 mothers (7%) out of poverty<br>and cost $2.0 billion per year"
            ],
            [
             "<b>A $90 monthly child allowance in Vermont</b><br>would lift 1,000 mothers (26%) out of poverty<br>and cost $0.1 billion per year"
            ],
            [
             "<b>A $90 monthly child allowance in Washington</b><br>would lift 15,000 mothers (21%) out of poverty<br>and cost $1.8 billion per year"
            ],
            [
             "<b>A $90 monthly child allowance in Wisconsin</b><br>would lift 4,000 mothers (17%) out of poverty<br>and cost $1.3 billion per year"
            ],
            [
             "<b>A $90 monthly child allowance in West Virginia</b><br>would lift 2,000 mothers (15%) out of poverty<br>and cost $0.4 billion per year"
            ],
            [
             "<b>A $90 monthly child allowance in Wyoming</b><br>would lift 0,000 mothers (20%) out of poverty<br>and cost $0.1 billion per year"
            ]
           ],
           "geo": "geo",
           "hovertemplate": "%{customdata[0]}<extra></extra>",
           "locationmode": "USA-states",
           "locations": [
            "AK",
            "AL",
            "AR",
            "AZ",
            "CA",
            "CO",
            "CT",
            "DC",
            "DE",
            "FL",
            "GA",
            "HI",
            "IA",
            "ID",
            "IL",
            "IN",
            "KS",
            "KY",
            "LA",
            "MA",
            "MD",
            "ME",
            "MI",
            "MN",
            "MO",
            "MS",
            "MT",
            "NC",
            "ND",
            "NE",
            "NH",
            "NJ",
            "NM",
            "NV",
            "NY",
            "OH",
            "OK",
            "OR",
            "PA",
            "RI",
            "SC",
            "SD",
            "TN",
            "TX",
            "UT",
            "VA",
            "VT",
            "WA",
            "WI",
            "WV",
            "WY"
           ],
           "name": "",
           "type": "choropleth",
           "z": [
            0.1704379980569837,
            0.07903619920286103,
            0.09351105726510457,
            0.1000934416555643,
            0.053834064979667764,
            0.14352912813718932,
            0.25593675036255353,
            0.11492363672699725,
            0,
            0.07904571064936884,
            0.12840713095073786,
            0.19887541083220164,
            0.5160527384281682,
            0.24465038100574402,
            0.1047088188348283,
            0.16529145047440988,
            0.5082083609097353,
            0.042411231818761004,
            0.04885101039124357,
            0.13053984254726037,
            0.12343013398869816,
            0,
            0.2509778156941149,
            0.0839213769255112,
            0.051868083314018446,
            0.13491259495622215,
            0.1626109623756569,
            0.07184864738644998,
            0.3195518093040217,
            0.06792279066448485,
            0,
            0.05270896941019968,
            0.0696086549437041,
            0.035961789202846504,
            0.0869679142207142,
            0.19991729224992308,
            0.32307061956395233,
            0.13625953880522965,
            0.10005837849581975,
            0.23601986289780827,
            0.050199182336726565,
            0.13742744129471476,
            0.08763356509886241,
            0.12395774564390959,
            0,
            0.07794180442660008,
            0.26612180253623907,
            0.21843620692387875,
            0.17872538569368202,
            0.15581729365769395,
            0.2020732966557877
           ]
          }
         ],
         "name": "90"
        },
        {
         "data": [
          {
           "coloraxis": "coloraxis",
           "customdata": [
            [
             "<b>A $100 monthly child allowance in Alaska</b><br>would lift 1,000 mothers (17%) out of poverty<br>and cost $0.2 billion per year"
            ],
            [
             "<b>A $100 monthly child allowance in Alabama</b><br>would lift 5,000 mothers (7%) out of poverty<br>and cost $1.3 billion per year"
            ],
            [
             "<b>A $100 monthly child allowance in Arkansas</b><br>would lift 4,000 mothers (9%) out of poverty<br>and cost $0.8 billion per year"
            ],
            [
             "<b>A $100 monthly child allowance in Arizona</b><br>would lift 8,000 mothers (10%) out of poverty<br>and cost $2.0 billion per year"
            ],
            [
             "<b>A $100 monthly child allowance in California</b><br>would lift 47,000 mothers (5%) out of poverty<br>and cost $10.5 billion per year"
            ],
            [
             "<b>A $100 monthly child allowance in Colorado</b><br>would lift 12,000 mothers (14%) out of poverty<br>and cost $1.5 billion per year"
            ],
            [
             "<b>A $100 monthly child allowance in Connecticut</b><br>would lift 15,000 mothers (25%) out of poverty<br>and cost $0.8 billion per year"
            ],
            [
             "<b>A $100 monthly child allowance in District of Columbia</b><br>would lift 1,000 mothers (11%) out of poverty<br>and cost $0.2 billion per year"
            ],
            [
             "<b>A $100 monthly child allowance in Delaware</b><br>would lift 0,000 mothers (0%) out of poverty<br>and cost $0.2 billion per year"
            ],
            [
             "<b>A $100 monthly child allowance in Florida</b><br>would lift 34,000 mothers (7%) out of poverty<br>and cost $5.1 billion per year"
            ],
            [
             "<b>A $100 monthly child allowance in Georgia</b><br>would lift 16,000 mothers (12%) out of poverty<br>and cost $3.0 billion per year"
            ],
            [
             "<b>A $100 monthly child allowance in Hawaii</b><br>would lift 4,000 mothers (19%) out of poverty<br>and cost $0.4 billion per year"
            ],
            [
             "<b>A $100 monthly child allowance in Iowa</b><br>would lift 14,000 mothers (51%) out of poverty<br>and cost $0.9 billion per year"
            ],
            [
             "<b>A $100 monthly child allowance in Idaho</b><br>would lift 3,000 mothers (32%) out of poverty<br>and cost $0.5 billion per year"
            ],
            [
             "<b>A $100 monthly child allowance in Illinois</b><br>would lift 13,000 mothers (10%) out of poverty<br>and cost $3.3 billion per year"
            ],
            [
             "<b>A $100 monthly child allowance in Indiana</b><br>would lift 11,000 mothers (16%) out of poverty<br>and cost $1.9 billion per year"
            ],
            [
             "<b>A $100 monthly child allowance in Kansas</b><br>would lift 10,000 mothers (50%) out of poverty<br>and cost $0.8 billion per year"
            ],
            [
             "<b>A $100 monthly child allowance in Kentucky</b><br>would lift 2,000 mothers (4%) out of poverty<br>and cost $1.2 billion per year"
            ],
            [
             "<b>A $100 monthly child allowance in Louisiana</b><br>would lift 3,000 mothers (4%) out of poverty<br>and cost $1.3 billion per year"
            ],
            [
             "<b>A $100 monthly child allowance in Massachusetts</b><br>would lift 14,000 mothers (16%) out of poverty<br>and cost $1.6 billion per year"
            ],
            [
             "<b>A $100 monthly child allowance in Maryland</b><br>would lift 16,000 mothers (15%) out of poverty<br>and cost $1.6 billion per year"
            ],
            [
             "<b>A $100 monthly child allowance in Maine</b><br>would lift 0,000 mothers (0%) out of poverty<br>and cost $0.3 billion per year"
            ],
            [
             "<b>A $100 monthly child allowance in Michigan</b><br>would lift 23,000 mothers (25%) out of poverty<br>and cost $2.5 billion per year"
            ],
            [
             "<b>A $100 monthly child allowance in Minnesota</b><br>would lift 3,000 mothers (8%) out of poverty<br>and cost $1.6 billion per year"
            ],
            [
             "<b>A $100 monthly child allowance in Missouri</b><br>would lift 3,000 mothers (5%) out of poverty<br>and cost $1.6 billion per year"
            ],
            [
             "<b>A $100 monthly child allowance in Mississippi</b><br>would lift 9,000 mothers (16%) out of poverty<br>and cost $0.8 billion per year"
            ],
            [
             "<b>A $100 monthly child allowance in Montana</b><br>would lift 1,000 mothers (16%) out of poverty<br>and cost $0.3 billion per year"
            ],
            [
             "<b>A $100 monthly child allowance in North Carolina</b><br>would lift 17,000 mothers (13%) out of poverty<br>and cost $2.7 billion per year"
            ],
            [
             "<b>A $100 monthly child allowance in North Dakota</b><br>would lift 1,000 mothers (31%) out of poverty<br>and cost $0.2 billion per year"
            ],
            [
             "<b>A $100 monthly child allowance in Nebraska</b><br>would lift 1,000 mothers (6%) out of poverty<br>and cost $0.6 billion per year"
            ],
            [
             "<b>A $100 monthly child allowance in New Hampshire</b><br>would lift 0,000 mothers (0%) out of poverty<br>and cost $0.3 billion per year"
            ],
            [
             "<b>A $100 monthly child allowance in New Jersey</b><br>would lift 7,000 mothers (5%) out of poverty<br>and cost $2.3 billion per year"
            ],
            [
             "<b>A $100 monthly child allowance in New Mexico</b><br>would lift 3,000 mothers (9%) out of poverty<br>and cost $0.6 billion per year"
            ],
            [
             "<b>A $100 monthly child allowance in Nevada</b><br>would lift 4,000 mothers (6%) out of poverty<br>and cost $0.9 billion per year"
            ],
            [
             "<b>A $100 monthly child allowance in New York</b><br>would lift 29,000 mothers (10%) out of poverty<br>and cost $4.8 billion per year"
            ],
            [
             "<b>A $100 monthly child allowance in Ohio</b><br>would lift 25,000 mothers (19%) out of poverty<br>and cost $3.0 billion per year"
            ],
            [
             "<b>A $100 monthly child allowance in Oklahoma</b><br>would lift 16,000 mothers (32%) out of poverty<br>and cost $1.2 billion per year"
            ],
            [
             "<b>A $100 monthly child allowance in Oregon</b><br>would lift 4,000 mothers (13%) out of poverty<br>and cost $1.0 billion per year"
            ],
            [
             "<b>A $100 monthly child allowance in Pennsylvania</b><br>would lift 13,000 mothers (10%) out of poverty<br>and cost $3.0 billion per year"
            ],
            [
             "<b>A $100 monthly child allowance in Rhode Island</b><br>would lift 2,000 mothers (23%) out of poverty<br>and cost $0.2 billion per year"
            ],
            [
             "<b>A $100 monthly child allowance in South Carolina</b><br>would lift 17,000 mothers (17%) out of poverty<br>and cost $1.3 billion per year"
            ],
            [
             "<b>A $100 monthly child allowance in South Dakota</b><br>would lift 1,000 mothers (13%) out of poverty<br>and cost $0.3 billion per year"
            ],
            [
             "<b>A $100 monthly child allowance in Tennessee</b><br>would lift 8,000 mothers (8%) out of poverty<br>and cost $1.8 billion per year"
            ],
            [
             "<b>A $100 monthly child allowance in Texas</b><br>would lift 62,000 mothers (13%) out of poverty<br>and cost $9.0 billion per year"
            ],
            [
             "<b>A $100 monthly child allowance in Utah</b><br>would lift 0,000 mothers (0%) out of poverty<br>and cost $1.1 billion per year"
            ],
            [
             "<b>A $100 monthly child allowance in Virginia</b><br>would lift 8,000 mothers (7%) out of poverty<br>and cost $2.2 billion per year"
            ],
            [
             "<b>A $100 monthly child allowance in Vermont</b><br>would lift 1,000 mothers (26%) out of poverty<br>and cost $0.1 billion per year"
            ],
            [
             "<b>A $100 monthly child allowance in Washington</b><br>would lift 19,000 mothers (27%) out of poverty<br>and cost $2.0 billion per year"
            ],
            [
             "<b>A $100 monthly child allowance in Wisconsin</b><br>would lift 4,000 mothers (17%) out of poverty<br>and cost $1.5 billion per year"
            ],
            [
             "<b>A $100 monthly child allowance in West Virginia</b><br>would lift 2,000 mothers (15%) out of poverty<br>and cost $0.4 billion per year"
            ],
            [
             "<b>A $100 monthly child allowance in Wyoming</b><br>would lift 0,000 mothers (20%) out of poverty<br>and cost $0.2 billion per year"
            ]
           ],
           "geo": "geo",
           "hovertemplate": "%{customdata[0]}<extra></extra>",
           "locationmode": "USA-states",
           "locations": [
            "AK",
            "AL",
            "AR",
            "AZ",
            "CA",
            "CO",
            "CT",
            "DC",
            "DE",
            "FL",
            "GA",
            "HI",
            "IA",
            "ID",
            "IL",
            "IN",
            "KS",
            "KY",
            "LA",
            "MA",
            "MD",
            "ME",
            "MI",
            "MN",
            "MO",
            "MS",
            "MT",
            "NC",
            "ND",
            "NE",
            "NH",
            "NJ",
            "NM",
            "NV",
            "NY",
            "OH",
            "OK",
            "OR",
            "PA",
            "RI",
            "SC",
            "SD",
            "TN",
            "TX",
            "UT",
            "VA",
            "VT",
            "WA",
            "WI",
            "WV",
            "WY"
           ],
           "name": "",
           "type": "choropleth",
           "z": [
            0.1704379980569837,
            0.07903619920286103,
            0.09351105726510457,
            0.1000934416555643,
            0.05844056737806593,
            0.14352912813718932,
            0.25593675036255353,
            0.11492363672699725,
            0,
            0.07904571064936884,
            0.12840713095073786,
            0.19887541083220164,
            0.5160527384281682,
            0.3220624294687109,
            0.1047088188348283,
            0.16529145047440988,
            0.5082083609097353,
            0.042411231818761004,
            0.04885101039124357,
            0.16380219753588143,
            0.1584324460344331,
            0,
            0.2509778156941149,
            0.0839213769255112,
            0.051868083314018446,
            0.16132689035251926,
            0.1626109623756569,
            0.13457127252825538,
            0.3195518093040217,
            0.06792279066448485,
            0,
            0.05270896941019968,
            0.09897761418429397,
            0.06787472756160605,
            0.10007133020270319,
            0.19991729224992308,
            0.32307061956395233,
            0.13625953880522965,
            0.10005837849581975,
            0.23601986289780827,
            0.1748143388873757,
            0.13742744129471476,
            0.08763356509886241,
            0.13363443793064017,
            0,
            0.07794180442660008,
            0.26612180253623907,
            0.2791988647359977,
            0.17872538569368202,
            0.15581729365769395,
            0.2020732966557877
           ]
          }
         ],
         "name": "100"
        },
        {
         "data": [
          {
           "coloraxis": "coloraxis",
           "customdata": [
            [
             "<b>A $110 monthly child allowance in Alaska</b><br>would lift 2,000 mothers (27%) out of poverty<br>and cost $0.2 billion per year"
            ],
            [
             "<b>A $110 monthly child allowance in Alabama</b><br>would lift 9,000 mothers (14%) out of poverty<br>and cost $1.5 billion per year"
            ],
            [
             "<b>A $110 monthly child allowance in Arkansas</b><br>would lift 4,000 mothers (9%) out of poverty<br>and cost $0.9 billion per year"
            ],
            [
             "<b>A $110 monthly child allowance in Arizona</b><br>would lift 8,000 mothers (10%) out of poverty<br>and cost $2.2 billion per year"
            ],
            [
             "<b>A $110 monthly child allowance in California</b><br>would lift 56,000 mothers (6%) out of poverty<br>and cost $11.6 billion per year"
            ],
            [
             "<b>A $110 monthly child allowance in Colorado</b><br>would lift 12,000 mothers (14%) out of poverty<br>and cost $1.7 billion per year"
            ],
            [
             "<b>A $110 monthly child allowance in Connecticut</b><br>would lift 15,000 mothers (25%) out of poverty<br>and cost $0.9 billion per year"
            ],
            [
             "<b>A $110 monthly child allowance in District of Columbia</b><br>would lift 1,000 mothers (11%) out of poverty<br>and cost $0.2 billion per year"
            ],
            [
             "<b>A $110 monthly child allowance in Delaware</b><br>would lift 0,000 mothers (0%) out of poverty<br>and cost $0.3 billion per year"
            ],
            [
             "<b>A $110 monthly child allowance in Florida</b><br>would lift 34,000 mothers (7%) out of poverty<br>and cost $5.6 billion per year"
            ],
            [
             "<b>A $110 monthly child allowance in Georgia</b><br>would lift 16,000 mothers (12%) out of poverty<br>and cost $3.3 billion per year"
            ],
            [
             "<b>A $110 monthly child allowance in Hawaii</b><br>would lift 4,000 mothers (19%) out of poverty<br>and cost $0.4 billion per year"
            ],
            [
             "<b>A $110 monthly child allowance in Iowa</b><br>would lift 14,000 mothers (51%) out of poverty<br>and cost $1.0 billion per year"
            ],
            [
             "<b>A $110 monthly child allowance in Idaho</b><br>would lift 4,000 mothers (43%) out of poverty<br>and cost $0.6 billion per year"
            ],
            [
             "<b>A $110 monthly child allowance in Illinois</b><br>would lift 13,000 mothers (10%) out of poverty<br>and cost $3.7 billion per year"
            ],
            [
             "<b>A $110 monthly child allowance in Indiana</b><br>would lift 11,000 mothers (16%) out of poverty<br>and cost $2.1 billion per year"
            ],
            [
             "<b>A $110 monthly child allowance in Kansas</b><br>would lift 10,000 mothers (50%) out of poverty<br>and cost $0.9 billion per year"
            ],
            [
             "<b>A $110 monthly child allowance in Kentucky</b><br>would lift 6,000 mothers (9%) out of poverty<br>and cost $1.3 billion per year"
            ],
            [
             "<b>A $110 monthly child allowance in Louisiana</b><br>would lift 3,000 mothers (4%) out of poverty<br>and cost $1.5 billion per year"
            ],
            [
             "<b>A $110 monthly child allowance in Massachusetts</b><br>would lift 14,000 mothers (16%) out of poverty<br>and cost $1.8 billion per year"
            ],
            [
             "<b>A $110 monthly child allowance in Maryland</b><br>would lift 16,000 mothers (15%) out of poverty<br>and cost $1.7 billion per year"
            ],
            [
             "<b>A $110 monthly child allowance in Maine</b><br>would lift 0,000 mothers (0%) out of poverty<br>and cost $0.3 billion per year"
            ],
            [
             "<b>A $110 monthly child allowance in Michigan</b><br>would lift 23,000 mothers (25%) out of poverty<br>and cost $2.8 billion per year"
            ],
            [
             "<b>A $110 monthly child allowance in Minnesota</b><br>would lift 7,000 mothers (17%) out of poverty<br>and cost $1.7 billion per year"
            ],
            [
             "<b>A $110 monthly child allowance in Missouri</b><br>would lift 11,000 mothers (17%) out of poverty<br>and cost $1.8 billion per year"
            ],
            [
             "<b>A $110 monthly child allowance in Mississippi</b><br>would lift 14,000 mothers (23%) out of poverty<br>and cost $0.9 billion per year"
            ],
            [
             "<b>A $110 monthly child allowance in Montana</b><br>would lift 1,000 mothers (16%) out of poverty<br>and cost $0.3 billion per year"
            ],
            [
             "<b>A $110 monthly child allowance in North Carolina</b><br>would lift 17,000 mothers (13%) out of poverty<br>and cost $3.0 billion per year"
            ],
            [
             "<b>A $110 monthly child allowance in North Dakota</b><br>would lift 1,000 mothers (43%) out of poverty<br>and cost $0.2 billion per year"
            ],
            [
             "<b>A $110 monthly child allowance in Nebraska</b><br>would lift 1,000 mothers (6%) out of poverty<br>and cost $0.6 billion per year"
            ],
            [
             "<b>A $110 monthly child allowance in New Hampshire</b><br>would lift 0,000 mothers (0%) out of poverty<br>and cost $0.3 billion per year"
            ],
            [
             "<b>A $110 monthly child allowance in New Jersey</b><br>would lift 7,000 mothers (5%) out of poverty<br>and cost $2.5 billion per year"
            ],
            [
             "<b>A $110 monthly child allowance in New Mexico</b><br>would lift 3,000 mothers (9%) out of poverty<br>and cost $0.6 billion per year"
            ],
            [
             "<b>A $110 monthly child allowance in Nevada</b><br>would lift 4,000 mothers (6%) out of poverty<br>and cost $0.9 billion per year"
            ],
            [
             "<b>A $110 monthly child allowance in New York</b><br>would lift 37,000 mothers (12%) out of poverty<br>and cost $5.3 billion per year"
            ],
            [
             "<b>A $110 monthly child allowance in Ohio</b><br>would lift 30,000 mothers (24%) out of poverty<br>and cost $3.3 billion per year"
            ],
            [
             "<b>A $110 monthly child allowance in Oklahoma</b><br>would lift 16,000 mothers (32%) out of poverty<br>and cost $1.3 billion per year"
            ],
            [
             "<b>A $110 monthly child allowance in Oregon</b><br>would lift 6,000 mothers (21%) out of poverty<br>and cost $1.1 billion per year"
            ],
            [
             "<b>A $110 monthly child allowance in Pennsylvania</b><br>would lift 13,000 mothers (10%) out of poverty<br>and cost $3.3 billion per year"
            ],
            [
             "<b>A $110 monthly child allowance in Rhode Island</b><br>would lift 2,000 mothers (23%) out of poverty<br>and cost $0.3 billion per year"
            ],
            [
             "<b>A $110 monthly child allowance in South Carolina</b><br>would lift 21,000 mothers (20%) out of poverty<br>and cost $1.5 billion per year"
            ],
            [
             "<b>A $110 monthly child allowance in South Dakota</b><br>would lift 1,000 mothers (13%) out of poverty<br>and cost $0.3 billion per year"
            ],
            [
             "<b>A $110 monthly child allowance in Tennessee</b><br>would lift 8,000 mothers (8%) out of poverty<br>and cost $2.0 billion per year"
            ],
            [
             "<b>A $110 monthly child allowance in Texas</b><br>would lift 62,000 mothers (13%) out of poverty<br>and cost $9.9 billion per year"
            ],
            [
             "<b>A $110 monthly child allowance in Utah</b><br>would lift 0,000 mothers (0%) out of poverty<br>and cost $1.2 billion per year"
            ],
            [
             "<b>A $110 monthly child allowance in Virginia</b><br>would lift 16,000 mothers (14%) out of poverty<br>and cost $2.4 billion per year"
            ],
            [
             "<b>A $110 monthly child allowance in Vermont</b><br>would lift 1,000 mothers (26%) out of poverty<br>and cost $0.1 billion per year"
            ],
            [
             "<b>A $110 monthly child allowance in Washington</b><br>would lift 19,000 mothers (27%) out of poverty<br>and cost $2.2 billion per year"
            ],
            [
             "<b>A $110 monthly child allowance in Wisconsin</b><br>would lift 4,000 mothers (17%) out of poverty<br>and cost $1.6 billion per year"
            ],
            [
             "<b>A $110 monthly child allowance in West Virginia</b><br>would lift 2,000 mothers (15%) out of poverty<br>and cost $0.5 billion per year"
            ],
            [
             "<b>A $110 monthly child allowance in Wyoming</b><br>would lift 0,000 mothers (20%) out of poverty<br>and cost $0.2 billion per year"
            ]
           ],
           "geo": "geo",
           "hovertemplate": "%{customdata[0]}<extra></extra>",
           "locationmode": "USA-states",
           "locations": [
            "AK",
            "AL",
            "AR",
            "AZ",
            "CA",
            "CO",
            "CT",
            "DC",
            "DE",
            "FL",
            "GA",
            "HI",
            "IA",
            "ID",
            "IL",
            "IN",
            "KS",
            "KY",
            "LA",
            "MA",
            "MD",
            "ME",
            "MI",
            "MN",
            "MO",
            "MS",
            "MT",
            "NC",
            "ND",
            "NE",
            "NH",
            "NJ",
            "NM",
            "NV",
            "NY",
            "OH",
            "OK",
            "OR",
            "PA",
            "RI",
            "SC",
            "SD",
            "TN",
            "TX",
            "UT",
            "VA",
            "VT",
            "WA",
            "WI",
            "WV",
            "WY"
           ],
           "name": "",
           "type": "choropleth",
           "z": [
            0.2708569442681103,
            0.14092838302549973,
            0.09351105726510457,
            0.1000934416555643,
            0.06941959828196005,
            0.14352912813718932,
            0.25593675036255353,
            0.11492363672699725,
            0,
            0.07904571064936884,
            0.12840713095073786,
            0.19887541083220164,
            0.5160527384281682,
            0.43044750690488326,
            0.1047088188348283,
            0.16529145047440988,
            0.5082083609097353,
            0.09530715371907614,
            0.04885101039124357,
            0.16380219753588143,
            0.1584324460344331,
            0,
            0.2509778156941149,
            0.17690632900108877,
            0.17444637835949148,
            0.23602346447275613,
            0.1626109623756569,
            0.13457127252825538,
            0.43251805985170033,
            0.06792279066448485,
            0,
            0.05270896941019968,
            0.09897761418429397,
            0.06787472756160605,
            0.12736059013265968,
            0.24052777170477302,
            0.32307061956395233,
            0.21516468543885753,
            0.10005837849581975,
            0.23601986289780827,
            0.20668358698042882,
            0.13742744129471476,
            0.08763356509886241,
            0.13363443793064017,
            0,
            0.14769897385963549,
            0.26612180253623907,
            0.2791988647359977,
            0.17872538569368202,
            0.15581729365769395,
            0.2020732966557877
           ]
          }
         ],
         "name": "110"
        },
        {
         "data": [
          {
           "coloraxis": "coloraxis",
           "customdata": [
            [
             "<b>A $120 monthly child allowance in Alaska</b><br>would lift 3,000 mothers (33%) out of poverty<br>and cost $0.3 billion per year"
            ],
            [
             "<b>A $120 monthly child allowance in Alabama</b><br>would lift 9,000 mothers (14%) out of poverty<br>and cost $1.6 billion per year"
            ],
            [
             "<b>A $120 monthly child allowance in Arkansas</b><br>would lift 4,000 mothers (9%) out of poverty<br>and cost $1.0 billion per year"
            ],
            [
             "<b>A $120 monthly child allowance in Arizona</b><br>would lift 8,000 mothers (10%) out of poverty<br>and cost $2.4 billion per year"
            ],
            [
             "<b>A $120 monthly child allowance in California</b><br>would lift 64,000 mothers (7%) out of poverty<br>and cost $12.6 billion per year"
            ],
            [
             "<b>A $120 monthly child allowance in Colorado</b><br>would lift 12,000 mothers (14%) out of poverty<br>and cost $1.8 billion per year"
            ],
            [
             "<b>A $120 monthly child allowance in Connecticut</b><br>would lift 15,000 mothers (25%) out of poverty<br>and cost $1.0 billion per year"
            ],
            [
             "<b>A $120 monthly child allowance in District of Columbia</b><br>would lift 1,000 mothers (11%) out of poverty<br>and cost $0.2 billion per year"
            ],
            [
             "<b>A $120 monthly child allowance in Delaware</b><br>would lift 0,000 mothers (0%) out of poverty<br>and cost $0.3 billion per year"
            ],
            [
             "<b>A $120 monthly child allowance in Florida</b><br>would lift 34,000 mothers (7%) out of poverty<br>and cost $6.1 billion per year"
            ],
            [
             "<b>A $120 monthly child allowance in Georgia</b><br>would lift 16,000 mothers (12%) out of poverty<br>and cost $3.6 billion per year"
            ],
            [
             "<b>A $120 monthly child allowance in Hawaii</b><br>would lift 4,000 mothers (19%) out of poverty<br>and cost $0.4 billion per year"
            ],
            [
             "<b>A $120 monthly child allowance in Iowa</b><br>would lift 14,000 mothers (51%) out of poverty<br>and cost $1.0 billion per year"
            ],
            [
             "<b>A $120 monthly child allowance in Idaho</b><br>would lift 4,000 mothers (43%) out of poverty<br>and cost $0.6 billion per year"
            ],
            [
             "<b>A $120 monthly child allowance in Illinois</b><br>would lift 13,000 mothers (10%) out of poverty<br>and cost $4.0 billion per year"
            ],
            [
             "<b>A $120 monthly child allowance in Indiana</b><br>would lift 11,000 mothers (16%) out of poverty<br>and cost $2.2 billion per year"
            ],
            [
             "<b>A $120 monthly child allowance in Kansas</b><br>would lift 10,000 mothers (50%) out of poverty<br>and cost $1.0 billion per year"
            ],
            [
             "<b>A $120 monthly child allowance in Kentucky</b><br>would lift 10,000 mothers (15%) out of poverty<br>and cost $1.5 billion per year"
            ],
            [
             "<b>A $120 monthly child allowance in Louisiana</b><br>would lift 3,000 mothers (4%) out of poverty<br>and cost $1.6 billion per year"
            ],
            [
             "<b>A $120 monthly child allowance in Massachusetts</b><br>would lift 14,000 mothers (16%) out of poverty<br>and cost $1.9 billion per year"
            ],
            [
             "<b>A $120 monthly child allowance in Maryland</b><br>would lift 16,000 mothers (15%) out of poverty<br>and cost $1.9 billion per year"
            ],
            [
             "<b>A $120 monthly child allowance in Maine</b><br>would lift 0,000 mothers (0%) out of poverty<br>and cost $0.3 billion per year"
            ],
            [
             "<b>A $120 monthly child allowance in Michigan</b><br>would lift 23,000 mothers (25%) out of poverty<br>and cost $3.0 billion per year"
            ],
            [
             "<b>A $120 monthly child allowance in Minnesota</b><br>would lift 10,000 mothers (26%) out of poverty<br>and cost $1.9 billion per year"
            ],
            [
             "<b>A $120 monthly child allowance in Missouri</b><br>would lift 11,000 mothers (17%) out of poverty<br>and cost $1.9 billion per year"
            ],
            [
             "<b>A $120 monthly child allowance in Mississippi</b><br>would lift 14,000 mothers (23%) out of poverty<br>and cost $1.0 billion per year"
            ],
            [
             "<b>A $120 monthly child allowance in Montana</b><br>would lift 1,000 mothers (16%) out of poverty<br>and cost $0.3 billion per year"
            ],
            [
             "<b>A $120 monthly child allowance in North Carolina</b><br>would lift 17,000 mothers (13%) out of poverty<br>and cost $3.3 billion per year"
            ],
            [
             "<b>A $120 monthly child allowance in North Dakota</b><br>would lift 1,000 mothers (43%) out of poverty<br>and cost $0.3 billion per year"
            ],
            [
             "<b>A $120 monthly child allowance in Nebraska</b><br>would lift 1,000 mothers (6%) out of poverty<br>and cost $0.7 billion per year"
            ],
            [
             "<b>A $120 monthly child allowance in New Hampshire</b><br>would lift 0,000 mothers (0%) out of poverty<br>and cost $0.4 billion per year"
            ],
            [
             "<b>A $120 monthly child allowance in New Jersey</b><br>would lift 7,000 mothers (5%) out of poverty<br>and cost $2.7 billion per year"
            ],
            [
             "<b>A $120 monthly child allowance in New Mexico</b><br>would lift 3,000 mothers (9%) out of poverty<br>and cost $0.7 billion per year"
            ],
            [
             "<b>A $120 monthly child allowance in Nevada</b><br>would lift 4,000 mothers (6%) out of poverty<br>and cost $1.0 billion per year"
            ],
            [
             "<b>A $120 monthly child allowance in New York</b><br>would lift 49,000 mothers (16%) out of poverty<br>and cost $5.8 billion per year"
            ],
            [
             "<b>A $120 monthly child allowance in Ohio</b><br>would lift 30,000 mothers (24%) out of poverty<br>and cost $3.6 billion per year"
            ],
            [
             "<b>A $120 monthly child allowance in Oklahoma</b><br>would lift 16,000 mothers (32%) out of poverty<br>and cost $1.4 billion per year"
            ],
            [
             "<b>A $120 monthly child allowance in Oregon</b><br>would lift 6,000 mothers (21%) out of poverty<br>and cost $1.2 billion per year"
            ],
            [
             "<b>A $120 monthly child allowance in Pennsylvania</b><br>would lift 13,000 mothers (10%) out of poverty<br>and cost $3.6 billion per year"
            ],
            [
             "<b>A $120 monthly child allowance in Rhode Island</b><br>would lift 4,000 mothers (33%) out of poverty<br>and cost $0.3 billion per year"
            ],
            [
             "<b>A $120 monthly child allowance in South Carolina</b><br>would lift 21,000 mothers (20%) out of poverty<br>and cost $1.6 billion per year"
            ],
            [
             "<b>A $120 monthly child allowance in South Dakota</b><br>would lift 1,000 mothers (13%) out of poverty<br>and cost $0.3 billion per year"
            ],
            [
             "<b>A $120 monthly child allowance in Tennessee</b><br>would lift 8,000 mothers (8%) out of poverty<br>and cost $2.2 billion per year"
            ],
            [
             "<b>A $120 monthly child allowance in Texas</b><br>would lift 62,000 mothers (13%) out of poverty<br>and cost $10.8 billion per year"
            ],
            [
             "<b>A $120 monthly child allowance in Utah</b><br>would lift 0,000 mothers (0%) out of poverty<br>and cost $1.3 billion per year"
            ],
            [
             "<b>A $120 monthly child allowance in Virginia</b><br>would lift 16,000 mothers (14%) out of poverty<br>and cost $2.6 billion per year"
            ],
            [
             "<b>A $120 monthly child allowance in Vermont</b><br>would lift 1,000 mothers (26%) out of poverty<br>and cost $0.2 billion per year"
            ],
            [
             "<b>A $120 monthly child allowance in Washington</b><br>would lift 22,000 mothers (32%) out of poverty<br>and cost $2.4 billion per year"
            ],
            [
             "<b>A $120 monthly child allowance in Wisconsin</b><br>would lift 10,000 mothers (37%) out of poverty<br>and cost $1.8 billion per year"
            ],
            [
             "<b>A $120 monthly child allowance in West Virginia</b><br>would lift 3,000 mothers (19%) out of poverty<br>and cost $0.5 billion per year"
            ],
            [
             "<b>A $120 monthly child allowance in Wyoming</b><br>would lift 0,000 mothers (20%) out of poverty<br>and cost $0.2 billion per year"
            ]
           ],
           "geo": "geo",
           "hovertemplate": "%{customdata[0]}<extra></extra>",
           "locationmode": "USA-states",
           "locations": [
            "AK",
            "AL",
            "AR",
            "AZ",
            "CA",
            "CO",
            "CT",
            "DC",
            "DE",
            "FL",
            "GA",
            "HI",
            "IA",
            "ID",
            "IL",
            "IN",
            "KS",
            "KY",
            "LA",
            "MA",
            "MD",
            "ME",
            "MI",
            "MN",
            "MO",
            "MS",
            "MT",
            "NC",
            "ND",
            "NE",
            "NH",
            "NJ",
            "NM",
            "NV",
            "NY",
            "OH",
            "OK",
            "OR",
            "PA",
            "RI",
            "SC",
            "SD",
            "TN",
            "TX",
            "UT",
            "VA",
            "VT",
            "WA",
            "WI",
            "WV",
            "WY"
           ],
           "name": "",
           "type": "choropleth",
           "z": [
            0.33308040401822536,
            0.14092838302549973,
            0.09351105726510457,
            0.1000934416555643,
            0.07905280245265148,
            0.14352912813718932,
            0.25593675036255353,
            0.11492363672699725,
            0,
            0.07904571064936884,
            0.12840713095073786,
            0.19887541083220164,
            0.5160527384281682,
            0.43044750690488326,
            0.1047088188348283,
            0.16529145047440988,
            0.5082083609097353,
            0.15948672813234335,
            0.04885101039124357,
            0.16380219753588143,
            0.1584324460344331,
            0,
            0.2509778156941149,
            0.26679101478637024,
            0.17444637835949148,
            0.23602346447275613,
            0.1626109623756569,
            0.13457127252825538,
            0.43251805985170033,
            0.06792279066448485,
            0,
            0.05270896941019968,
            0.09897761418429397,
            0.06787472756160605,
            0.16730342838230647,
            0.24052777170477302,
            0.32307061956395233,
            0.21516468543885753,
            0.10005837849581975,
            0.338349077255066,
            0.20668358698042882,
            0.13742744129471476,
            0.08763356509886241,
            0.13363443793064017,
            0,
            0.14769897385963549,
            0.26612180253623907,
            0.3274076435204144,
            0.377228565028407,
            0.1975833436995275,
            0.2020732966557877
           ]
          }
         ],
         "name": "120"
        },
        {
         "data": [
          {
           "coloraxis": "coloraxis",
           "customdata": [
            [
             "<b>A $130 monthly child allowance in Alaska</b><br>would lift 3,000 mothers (33%) out of poverty<br>and cost $0.3 billion per year"
            ],
            [
             "<b>A $130 monthly child allowance in Alabama</b><br>would lift 9,000 mothers (14%) out of poverty<br>and cost $1.7 billion per year"
            ],
            [
             "<b>A $130 monthly child allowance in Arkansas</b><br>would lift 4,000 mothers (9%) out of poverty<br>and cost $1.1 billion per year"
            ],
            [
             "<b>A $130 monthly child allowance in Arizona</b><br>would lift 8,000 mothers (10%) out of poverty<br>and cost $2.6 billion per year"
            ],
            [
             "<b>A $130 monthly child allowance in California</b><br>would lift 64,000 mothers (7%) out of poverty<br>and cost $13.7 billion per year"
            ],
            [
             "<b>A $130 monthly child allowance in Colorado</b><br>would lift 12,000 mothers (14%) out of poverty<br>and cost $2.0 billion per year"
            ],
            [
             "<b>A $130 monthly child allowance in Connecticut</b><br>would lift 15,000 mothers (25%) out of poverty<br>and cost $1.1 billion per year"
            ],
            [
             "<b>A $130 monthly child allowance in District of Columbia</b><br>would lift 1,000 mothers (11%) out of poverty<br>and cost $0.2 billion per year"
            ],
            [
             "<b>A $130 monthly child allowance in Delaware</b><br>would lift 0,000 mothers (0%) out of poverty<br>and cost $0.3 billion per year"
            ],
            [
             "<b>A $130 monthly child allowance in Florida</b><br>would lift 34,000 mothers (7%) out of poverty<br>and cost $6.6 billion per year"
            ],
            [
             "<b>A $130 monthly child allowance in Georgia</b><br>would lift 19,000 mothers (15%) out of poverty<br>and cost $3.9 billion per year"
            ],
            [
             "<b>A $130 monthly child allowance in Hawaii</b><br>would lift 4,000 mothers (19%) out of poverty<br>and cost $0.5 billion per year"
            ],
            [
             "<b>A $130 monthly child allowance in Iowa</b><br>would lift 14,000 mothers (51%) out of poverty<br>and cost $1.1 billion per year"
            ],
            [
             "<b>A $130 monthly child allowance in Idaho</b><br>would lift 4,000 mothers (43%) out of poverty<br>and cost $0.7 billion per year"
            ],
            [
             "<b>A $130 monthly child allowance in Illinois</b><br>would lift 13,000 mothers (10%) out of poverty<br>and cost $4.3 billion per year"
            ],
            [
             "<b>A $130 monthly child allowance in Indiana</b><br>would lift 11,000 mothers (16%) out of poverty<br>and cost $2.4 billion per year"
            ],
            [
             "<b>A $130 monthly child allowance in Kansas</b><br>would lift 10,000 mothers (50%) out of poverty<br>and cost $1.1 billion per year"
            ],
            [
             "<b>A $130 monthly child allowance in Kentucky</b><br>would lift 10,000 mothers (15%) out of poverty<br>and cost $1.6 billion per year"
            ],
            [
             "<b>A $130 monthly child allowance in Louisiana</b><br>would lift 6,000 mothers (10%) out of poverty<br>and cost $1.7 billion per year"
            ],
            [
             "<b>A $130 monthly child allowance in Massachusetts</b><br>would lift 14,000 mothers (16%) out of poverty<br>and cost $2.1 billion per year"
            ],
            [
             "<b>A $130 monthly child allowance in Maryland</b><br>would lift 16,000 mothers (15%) out of poverty<br>and cost $2.0 billion per year"
            ],
            [
             "<b>A $130 monthly child allowance in Maine</b><br>would lift 0,000 mothers (0%) out of poverty<br>and cost $0.4 billion per year"
            ],
            [
             "<b>A $130 monthly child allowance in Michigan</b><br>would lift 28,000 mothers (30%) out of poverty<br>and cost $3.3 billion per year"
            ],
            [
             "<b>A $130 monthly child allowance in Minnesota</b><br>would lift 10,000 mothers (26%) out of poverty<br>and cost $2.0 billion per year"
            ],
            [
             "<b>A $130 monthly child allowance in Missouri</b><br>would lift 18,000 mothers (27%) out of poverty<br>and cost $2.1 billion per year"
            ],
            [
             "<b>A $130 monthly child allowance in Mississippi</b><br>would lift 15,000 mothers (25%) out of poverty<br>and cost $1.1 billion per year"
            ],
            [
             "<b>A $130 monthly child allowance in Montana</b><br>would lift 1,000 mothers (16%) out of poverty<br>and cost $0.4 billion per year"
            ],
            [
             "<b>A $130 monthly child allowance in North Carolina</b><br>would lift 17,000 mothers (13%) out of poverty<br>and cost $3.5 billion per year"
            ],
            [
             "<b>A $130 monthly child allowance in North Dakota</b><br>would lift 1,000 mothers (43%) out of poverty<br>and cost $0.3 billion per year"
            ],
            [
             "<b>A $130 monthly child allowance in Nebraska</b><br>would lift 1,000 mothers (6%) out of poverty<br>and cost $0.7 billion per year"
            ],
            [
             "<b>A $130 monthly child allowance in New Hampshire</b><br>would lift 2,000 mothers (23%) out of poverty<br>and cost $0.4 billion per year"
            ],
            [
             "<b>A $130 monthly child allowance in New Jersey</b><br>would lift 7,000 mothers (5%) out of poverty<br>and cost $2.9 billion per year"
            ],
            [
             "<b>A $130 monthly child allowance in New Mexico</b><br>would lift 3,000 mothers (9%) out of poverty<br>and cost $0.7 billion per year"
            ],
            [
             "<b>A $130 monthly child allowance in Nevada</b><br>would lift 4,000 mothers (6%) out of poverty<br>and cost $1.1 billion per year"
            ],
            [
             "<b>A $130 monthly child allowance in New York</b><br>would lift 53,000 mothers (17%) out of poverty<br>and cost $6.3 billion per year"
            ],
            [
             "<b>A $130 monthly child allowance in Ohio</b><br>would lift 30,000 mothers (24%) out of poverty<br>and cost $3.9 billion per year"
            ],
            [
             "<b>A $130 monthly child allowance in Oklahoma</b><br>would lift 16,000 mothers (32%) out of poverty<br>and cost $1.5 billion per year"
            ],
            [
             "<b>A $130 monthly child allowance in Oregon</b><br>would lift 8,000 mothers (28%) out of poverty<br>and cost $1.3 billion per year"
            ],
            [
             "<b>A $130 monthly child allowance in Pennsylvania</b><br>would lift 13,000 mothers (10%) out of poverty<br>and cost $3.9 billion per year"
            ],
            [
             "<b>A $130 monthly child allowance in Rhode Island</b><br>would lift 4,000 mothers (33%) out of poverty<br>and cost $0.3 billion per year"
            ],
            [
             "<b>A $130 monthly child allowance in South Carolina</b><br>would lift 24,000 mothers (23%) out of poverty<br>and cost $1.7 billion per year"
            ],
            [
             "<b>A $130 monthly child allowance in South Dakota</b><br>would lift 1,000 mothers (20%) out of poverty<br>and cost $0.3 billion per year"
            ],
            [
             "<b>A $130 monthly child allowance in Tennessee</b><br>would lift 11,000 mothers (11%) out of poverty<br>and cost $2.4 billion per year"
            ],
            [
             "<b>A $130 monthly child allowance in Texas</b><br>would lift 66,000 mothers (14%) out of poverty<br>and cost $11.7 billion per year"
            ],
            [
             "<b>A $130 monthly child allowance in Utah</b><br>would lift 0,000 mothers (0%) out of poverty<br>and cost $1.4 billion per year"
            ],
            [
             "<b>A $130 monthly child allowance in Virginia</b><br>would lift 16,000 mothers (14%) out of poverty<br>and cost $2.9 billion per year"
            ],
            [
             "<b>A $130 monthly child allowance in Vermont</b><br>would lift 1,000 mothers (26%) out of poverty<br>and cost $0.2 billion per year"
            ],
            [
             "<b>A $130 monthly child allowance in Washington</b><br>would lift 25,000 mothers (37%) out of poverty<br>and cost $2.6 billion per year"
            ],
            [
             "<b>A $130 monthly child allowance in Wisconsin</b><br>would lift 10,000 mothers (37%) out of poverty<br>and cost $1.9 billion per year"
            ],
            [
             "<b>A $130 monthly child allowance in West Virginia</b><br>would lift 3,000 mothers (19%) out of poverty<br>and cost $0.5 billion per year"
            ],
            [
             "<b>A $130 monthly child allowance in Wyoming</b><br>would lift 0,000 mothers (20%) out of poverty<br>and cost $0.2 billion per year"
            ]
           ],
           "geo": "geo",
           "hovertemplate": "%{customdata[0]}<extra></extra>",
           "locationmode": "USA-states",
           "locations": [
            "AK",
            "AL",
            "AR",
            "AZ",
            "CA",
            "CO",
            "CT",
            "DC",
            "DE",
            "FL",
            "GA",
            "HI",
            "IA",
            "ID",
            "IL",
            "IN",
            "KS",
            "KY",
            "LA",
            "MA",
            "MD",
            "ME",
            "MI",
            "MN",
            "MO",
            "MS",
            "MT",
            "NC",
            "ND",
            "NE",
            "NH",
            "NJ",
            "NM",
            "NV",
            "NY",
            "OH",
            "OK",
            "OR",
            "PA",
            "RI",
            "SC",
            "SD",
            "TN",
            "TX",
            "UT",
            "VA",
            "VT",
            "WA",
            "WI",
            "WV",
            "WY"
           ],
           "name": "",
           "type": "choropleth",
           "z": [
            0.33308040401822536,
            0.14092838302549973,
            0.09351105726510457,
            0.1000934416555643,
            0.07905280245265148,
            0.14352912813718932,
            0.25593675036255353,
            0.11492363672699725,
            0,
            0.07904571064936884,
            0.15206982360934077,
            0.19887541083220164,
            0.5160527384281682,
            0.43044750690488326,
            0.1047088188348283,
            0.16529145047440988,
            0.5082083609097353,
            0.15948672813234335,
            0.105693385742329,
            0.16380219753588143,
            0.1584324460344331,
            0,
            0.3034822329185445,
            0.26679101478637024,
            0.2722507998784266,
            0.25581102840312775,
            0.1626109623756569,
            0.13457127252825538,
            0.43251805985170033,
            0.06792279066448485,
            0.23225749492189735,
            0.05270896941019968,
            0.09897761418429397,
            0.06787472756160605,
            0.17998203189788597,
            0.24052777170477302,
            0.32307061956395233,
            0.28147127281822804,
            0.10005837849581975,
            0.338349077255066,
            0.2383021905663884,
            0.20751435255819745,
            0.11569193289461742,
            0.14250988455081987,
            0,
            0.14769897385963549,
            0.26612180253623907,
            0.3715017452387707,
            0.377228565028407,
            0.1975833436995275,
            0.2020732966557877
           ]
          }
         ],
         "name": "130"
        },
        {
         "data": [
          {
           "coloraxis": "coloraxis",
           "customdata": [
            [
             "<b>A $140 monthly child allowance in Alaska</b><br>would lift 3,000 mothers (33%) out of poverty<br>and cost $0.3 billion per year"
            ],
            [
             "<b>A $140 monthly child allowance in Alabama</b><br>would lift 9,000 mothers (14%) out of poverty<br>and cost $1.9 billion per year"
            ],
            [
             "<b>A $140 monthly child allowance in Arkansas</b><br>would lift 4,000 mothers (9%) out of poverty<br>and cost $1.2 billion per year"
            ],
            [
             "<b>A $140 monthly child allowance in Arizona</b><br>would lift 11,000 mothers (14%) out of poverty<br>and cost $2.8 billion per year"
            ],
            [
             "<b>A $140 monthly child allowance in California</b><br>would lift 72,000 mothers (8%) out of poverty<br>and cost $14.7 billion per year"
            ],
            [
             "<b>A $140 monthly child allowance in Colorado</b><br>would lift 12,000 mothers (14%) out of poverty<br>and cost $2.1 billion per year"
            ],
            [
             "<b>A $140 monthly child allowance in Connecticut</b><br>would lift 15,000 mothers (25%) out of poverty<br>and cost $1.2 billion per year"
            ],
            [
             "<b>A $140 monthly child allowance in District of Columbia</b><br>would lift 2,000 mothers (15%) out of poverty<br>and cost $0.2 billion per year"
            ],
            [
             "<b>A $140 monthly child allowance in Delaware</b><br>would lift 0,000 mothers (0%) out of poverty<br>and cost $0.3 billion per year"
            ],
            [
             "<b>A $140 monthly child allowance in Florida</b><br>would lift 48,000 mothers (11%) out of poverty<br>and cost $7.1 billion per year"
            ],
            [
             "<b>A $140 monthly child allowance in Georgia</b><br>would lift 19,000 mothers (15%) out of poverty<br>and cost $4.2 billion per year"
            ],
            [
             "<b>A $140 monthly child allowance in Hawaii</b><br>would lift 4,000 mothers (19%) out of poverty<br>and cost $0.5 billion per year"
            ],
            [
             "<b>A $140 monthly child allowance in Iowa</b><br>would lift 14,000 mothers (51%) out of poverty<br>and cost $1.2 billion per year"
            ],
            [
             "<b>A $140 monthly child allowance in Idaho</b><br>would lift 4,000 mothers (43%) out of poverty<br>and cost $0.7 billion per year"
            ],
            [
             "<b>A $140 monthly child allowance in Illinois</b><br>would lift 22,000 mothers (17%) out of poverty<br>and cost $4.6 billion per year"
            ],
            [
             "<b>A $140 monthly child allowance in Indiana</b><br>would lift 11,000 mothers (16%) out of poverty<br>and cost $2.6 billion per year"
            ],
            [
             "<b>A $140 monthly child allowance in Kansas</b><br>would lift 10,000 mothers (50%) out of poverty<br>and cost $1.1 billion per year"
            ],
            [
             "<b>A $140 monthly child allowance in Kentucky</b><br>would lift 10,000 mothers (15%) out of poverty<br>and cost $1.7 billion per year"
            ],
            [
             "<b>A $140 monthly child allowance in Louisiana</b><br>would lift 9,000 mothers (15%) out of poverty<br>and cost $1.9 billion per year"
            ],
            [
             "<b>A $140 monthly child allowance in Massachusetts</b><br>would lift 17,000 mothers (19%) out of poverty<br>and cost $2.3 billion per year"
            ],
            [
             "<b>A $140 monthly child allowance in Maryland</b><br>would lift 16,000 mothers (15%) out of poverty<br>and cost $2.2 billion per year"
            ],
            [
             "<b>A $140 monthly child allowance in Maine</b><br>would lift 0,000 mothers (0%) out of poverty<br>and cost $0.4 billion per year"
            ],
            [
             "<b>A $140 monthly child allowance in Michigan</b><br>would lift 28,000 mothers (30%) out of poverty<br>and cost $3.6 billion per year"
            ],
            [
             "<b>A $140 monthly child allowance in Minnesota</b><br>would lift 10,000 mothers (26%) out of poverty<br>and cost $2.2 billion per year"
            ],
            [
             "<b>A $140 monthly child allowance in Missouri</b><br>would lift 18,000 mothers (27%) out of poverty<br>and cost $2.3 billion per year"
            ],
            [
             "<b>A $140 monthly child allowance in Mississippi</b><br>would lift 15,000 mothers (25%) out of poverty<br>and cost $1.1 billion per year"
            ],
            [
             "<b>A $140 monthly child allowance in Montana</b><br>would lift 1,000 mothers (16%) out of poverty<br>and cost $0.4 billion per year"
            ],
            [
             "<b>A $140 monthly child allowance in North Carolina</b><br>would lift 17,000 mothers (13%) out of poverty<br>and cost $3.8 billion per year"
            ],
            [
             "<b>A $140 monthly child allowance in North Dakota</b><br>would lift 1,000 mothers (43%) out of poverty<br>and cost $0.3 billion per year"
            ],
            [
             "<b>A $140 monthly child allowance in Nebraska</b><br>would lift 1,000 mothers (6%) out of poverty<br>and cost $0.8 billion per year"
            ],
            [
             "<b>A $140 monthly child allowance in New Hampshire</b><br>would lift 2,000 mothers (23%) out of poverty<br>and cost $0.4 billion per year"
            ],
            [
             "<b>A $140 monthly child allowance in New Jersey</b><br>would lift 7,000 mothers (5%) out of poverty<br>and cost $3.2 billion per year"
            ],
            [
             "<b>A $140 monthly child allowance in New Mexico</b><br>would lift 3,000 mothers (9%) out of poverty<br>and cost $0.8 billion per year"
            ],
            [
             "<b>A $140 monthly child allowance in Nevada</b><br>would lift 5,000 mothers (9%) out of poverty<br>and cost $1.2 billion per year"
            ],
            [
             "<b>A $140 monthly child allowance in New York</b><br>would lift 53,000 mothers (17%) out of poverty<br>and cost $6.7 billion per year"
            ],
            [
             "<b>A $140 monthly child allowance in Ohio</b><br>would lift 30,000 mothers (24%) out of poverty<br>and cost $4.2 billion per year"
            ],
            [
             "<b>A $140 monthly child allowance in Oklahoma</b><br>would lift 16,000 mothers (32%) out of poverty<br>and cost $1.6 billion per year"
            ],
            [
             "<b>A $140 monthly child allowance in Oregon</b><br>would lift 8,000 mothers (28%) out of poverty<br>and cost $1.4 billion per year"
            ],
            [
             "<b>A $140 monthly child allowance in Pennsylvania</b><br>would lift 13,000 mothers (10%) out of poverty<br>and cost $4.2 billion per year"
            ],
            [
             "<b>A $140 monthly child allowance in Rhode Island</b><br>would lift 5,000 mothers (43%) out of poverty<br>and cost $0.3 billion per year"
            ],
            [
             "<b>A $140 monthly child allowance in South Carolina</b><br>would lift 24,000 mothers (23%) out of poverty<br>and cost $1.9 billion per year"
            ],
            [
             "<b>A $140 monthly child allowance in South Dakota</b><br>would lift 1,000 mothers (20%) out of poverty<br>and cost $0.4 billion per year"
            ],
            [
             "<b>A $140 monthly child allowance in Tennessee</b><br>would lift 11,000 mothers (11%) out of poverty<br>and cost $2.6 billion per year"
            ],
            [
             "<b>A $140 monthly child allowance in Texas</b><br>would lift 76,000 mothers (16%) out of poverty<br>and cost $12.6 billion per year"
            ],
            [
             "<b>A $140 monthly child allowance in Utah</b><br>would lift 3,000 mothers (14%) out of poverty<br>and cost $1.6 billion per year"
            ],
            [
             "<b>A $140 monthly child allowance in Virginia</b><br>would lift 16,000 mothers (14%) out of poverty<br>and cost $3.1 billion per year"
            ],
            [
             "<b>A $140 monthly child allowance in Vermont</b><br>would lift 1,000 mothers (26%) out of poverty<br>and cost $0.2 billion per year"
            ],
            [
             "<b>A $140 monthly child allowance in Washington</b><br>would lift 25,000 mothers (37%) out of poverty<br>and cost $2.8 billion per year"
            ],
            [
             "<b>A $140 monthly child allowance in Wisconsin</b><br>would lift 10,000 mothers (37%) out of poverty<br>and cost $2.1 billion per year"
            ],
            [
             "<b>A $140 monthly child allowance in West Virginia</b><br>would lift 3,000 mothers (19%) out of poverty<br>and cost $0.6 billion per year"
            ],
            [
             "<b>A $140 monthly child allowance in Wyoming</b><br>would lift 0,000 mothers (20%) out of poverty<br>and cost $0.2 billion per year"
            ]
           ],
           "geo": "geo",
           "hovertemplate": "%{customdata[0]}<extra></extra>",
           "locationmode": "USA-states",
           "locations": [
            "AK",
            "AL",
            "AR",
            "AZ",
            "CA",
            "CO",
            "CT",
            "DC",
            "DE",
            "FL",
            "GA",
            "HI",
            "IA",
            "ID",
            "IL",
            "IN",
            "KS",
            "KY",
            "LA",
            "MA",
            "MD",
            "ME",
            "MI",
            "MN",
            "MO",
            "MS",
            "MT",
            "NC",
            "ND",
            "NE",
            "NH",
            "NJ",
            "NM",
            "NV",
            "NY",
            "OH",
            "OK",
            "OR",
            "PA",
            "RI",
            "SC",
            "SD",
            "TN",
            "TX",
            "UT",
            "VA",
            "VT",
            "WA",
            "WI",
            "WV",
            "WY"
           ],
           "name": "",
           "type": "choropleth",
           "z": [
            0.33308040401822536,
            0.14092838302549973,
            0.09351105726510457,
            0.14660806333857762,
            0.08872584465632534,
            0.14352912813718932,
            0.25593675036255353,
            0.15296475018570013,
            0,
            0.11023396584351824,
            0.15206982360934077,
            0.19887541083220164,
            0.5160527384281682,
            0.43044750690488326,
            0.17460309074565603,
            0.16529145047440988,
            0.5082083609097353,
            0.15948672813234335,
            0.15309907064382072,
            0.19881477318345914,
            0.1584324460344331,
            0,
            0.3034822329185445,
            0.26679101478637024,
            0.2722507998784266,
            0.25581102840312775,
            0.1626109623756569,
            0.13457127252825538,
            0.43251805985170033,
            0.06792279066448485,
            0.23225749492189735,
            0.05270896941019968,
            0.09897761418429397,
            0.09974910348686984,
            0.17998203189788597,
            0.24052777170477302,
            0.32307061956395233,
            0.28147127281822804,
            0.10005837849581975,
            0.4392196808073616,
            0.2383021905663884,
            0.20751435255819745,
            0.11569193289461742,
            0.16438242437130432,
            0.14328710538649356,
            0.14769897385963549,
            0.26612180253623907,
            0.3715017452387707,
            0.377228565028407,
            0.1975833436995275,
            0.2020732966557877
           ]
          }
         ],
         "name": "140"
        },
        {
         "data": [
          {
           "coloraxis": "coloraxis",
           "customdata": [
            [
             "<b>A $150 monthly child allowance in Alaska</b><br>would lift 4,000 mothers (37%) out of poverty<br>and cost $0.3 billion per year"
            ],
            [
             "<b>A $150 monthly child allowance in Alabama</b><br>would lift 11,000 mothers (16%) out of poverty<br>and cost $2.0 billion per year"
            ],
            [
             "<b>A $150 monthly child allowance in Arkansas</b><br>would lift 4,000 mothers (9%) out of poverty<br>and cost $1.2 billion per year"
            ],
            [
             "<b>A $150 monthly child allowance in Arizona</b><br>would lift 11,000 mothers (14%) out of poverty<br>and cost $3.0 billion per year"
            ],
            [
             "<b>A $150 monthly child allowance in California</b><br>would lift 76,000 mothers (9%) out of poverty<br>and cost $15.8 billion per year"
            ],
            [
             "<b>A $150 monthly child allowance in Colorado</b><br>would lift 15,000 mothers (18%) out of poverty<br>and cost $2.3 billion per year"
            ],
            [
             "<b>A $150 monthly child allowance in Connecticut</b><br>would lift 15,000 mothers (25%) out of poverty<br>and cost $1.2 billion per year"
            ],
            [
             "<b>A $150 monthly child allowance in District of Columbia</b><br>would lift 2,000 mothers (15%) out of poverty<br>and cost $0.2 billion per year"
            ],
            [
             "<b>A $150 monthly child allowance in Delaware</b><br>would lift 1,000 mothers (7%) out of poverty<br>and cost $0.4 billion per year"
            ],
            [
             "<b>A $150 monthly child allowance in Florida</b><br>would lift 48,000 mothers (11%) out of poverty<br>and cost $7.6 billion per year"
            ],
            [
             "<b>A $150 monthly child allowance in Georgia</b><br>would lift 23,000 mothers (17%) out of poverty<br>and cost $4.5 billion per year"
            ],
            [
             "<b>A $150 monthly child allowance in Hawaii</b><br>would lift 4,000 mothers (19%) out of poverty<br>and cost $0.5 billion per year"
            ],
            [
             "<b>A $150 monthly child allowance in Iowa</b><br>would lift 17,000 mothers (63%) out of poverty<br>and cost $1.3 billion per year"
            ],
            [
             "<b>A $150 monthly child allowance in Idaho</b><br>would lift 4,000 mothers (43%) out of poverty<br>and cost $0.8 billion per year"
            ],
            [
             "<b>A $150 monthly child allowance in Illinois</b><br>would lift 27,000 mothers (21%) out of poverty<br>and cost $5.0 billion per year"
            ],
            [
             "<b>A $150 monthly child allowance in Indiana</b><br>would lift 11,000 mothers (16%) out of poverty<br>and cost $2.8 billion per year"
            ],
            [
             "<b>A $150 monthly child allowance in Kansas</b><br>would lift 10,000 mothers (50%) out of poverty<br>and cost $1.2 billion per year"
            ],
            [
             "<b>A $150 monthly child allowance in Kentucky</b><br>would lift 10,000 mothers (15%) out of poverty<br>and cost $1.8 billion per year"
            ],
            [
             "<b>A $150 monthly child allowance in Louisiana</b><br>would lift 9,000 mothers (15%) out of poverty<br>and cost $2.0 billion per year"
            ],
            [
             "<b>A $150 monthly child allowance in Massachusetts</b><br>would lift 17,000 mothers (19%) out of poverty<br>and cost $2.4 billion per year"
            ],
            [
             "<b>A $150 monthly child allowance in Maryland</b><br>would lift 16,000 mothers (15%) out of poverty<br>and cost $2.3 billion per year"
            ],
            [
             "<b>A $150 monthly child allowance in Maine</b><br>would lift 0,000 mothers (0%) out of poverty<br>and cost $0.4 billion per year"
            ],
            [
             "<b>A $150 monthly child allowance in Michigan</b><br>would lift 28,000 mothers (30%) out of poverty<br>and cost $3.8 billion per year"
            ],
            [
             "<b>A $150 monthly child allowance in Minnesota</b><br>would lift 10,000 mothers (26%) out of poverty<br>and cost $2.4 billion per year"
            ],
            [
             "<b>A $150 monthly child allowance in Missouri</b><br>would lift 18,000 mothers (27%) out of poverty<br>and cost $2.4 billion per year"
            ],
            [
             "<b>A $150 monthly child allowance in Mississippi</b><br>would lift 15,000 mothers (25%) out of poverty<br>and cost $1.2 billion per year"
            ],
            [
             "<b>A $150 monthly child allowance in Montana</b><br>would lift 1,000 mothers (16%) out of poverty<br>and cost $0.4 billion per year"
            ],
            [
             "<b>A $150 monthly child allowance in North Carolina</b><br>would lift 17,000 mothers (13%) out of poverty<br>and cost $4.1 billion per year"
            ],
            [
             "<b>A $150 monthly child allowance in North Dakota</b><br>would lift 1,000 mothers (43%) out of poverty<br>and cost $0.3 billion per year"
            ],
            [
             "<b>A $150 monthly child allowance in Nebraska</b><br>would lift 1,000 mothers (6%) out of poverty<br>and cost $0.9 billion per year"
            ],
            [
             "<b>A $150 monthly child allowance in New Hampshire</b><br>would lift 2,000 mothers (23%) out of poverty<br>and cost $0.4 billion per year"
            ],
            [
             "<b>A $150 monthly child allowance in New Jersey</b><br>would lift 7,000 mothers (5%) out of poverty<br>and cost $3.4 billion per year"
            ],
            [
             "<b>A $150 monthly child allowance in New Mexico</b><br>would lift 3,000 mothers (9%) out of poverty<br>and cost $0.8 billion per year"
            ],
            [
             "<b>A $150 monthly child allowance in Nevada</b><br>would lift 8,000 mothers (13%) out of poverty<br>and cost $1.3 billion per year"
            ],
            [
             "<b>A $150 monthly child allowance in New York</b><br>would lift 57,000 mothers (19%) out of poverty<br>and cost $7.2 billion per year"
            ],
            [
             "<b>A $150 monthly child allowance in Ohio</b><br>would lift 36,000 mothers (28%) out of poverty<br>and cost $4.5 billion per year"
            ],
            [
             "<b>A $150 monthly child allowance in Oklahoma</b><br>would lift 16,000 mothers (32%) out of poverty<br>and cost $1.7 billion per year"
            ],
            [
             "<b>A $150 monthly child allowance in Oregon</b><br>would lift 8,000 mothers (28%) out of poverty<br>and cost $1.5 billion per year"
            ],
            [
             "<b>A $150 monthly child allowance in Pennsylvania</b><br>would lift 13,000 mothers (10%) out of poverty<br>and cost $4.6 billion per year"
            ],
            [
             "<b>A $150 monthly child allowance in Rhode Island</b><br>would lift 5,000 mothers (43%) out of poverty<br>and cost $0.4 billion per year"
            ],
            [
             "<b>A $150 monthly child allowance in South Carolina</b><br>would lift 27,000 mothers (26%) out of poverty<br>and cost $2.0 billion per year"
            ],
            [
             "<b>A $150 monthly child allowance in South Dakota</b><br>would lift 1,000 mothers (20%) out of poverty<br>and cost $0.4 billion per year"
            ],
            [
             "<b>A $150 monthly child allowance in Tennessee</b><br>would lift 11,000 mothers (11%) out of poverty<br>and cost $2.7 billion per year"
            ],
            [
             "<b>A $150 monthly child allowance in Texas</b><br>would lift 76,000 mothers (16%) out of poverty<br>and cost $13.5 billion per year"
            ],
            [
             "<b>A $150 monthly child allowance in Utah</b><br>would lift 5,000 mothers (20%) out of poverty<br>and cost $1.7 billion per year"
            ],
            [
             "<b>A $150 monthly child allowance in Virginia</b><br>would lift 16,000 mothers (14%) out of poverty<br>and cost $3.3 billion per year"
            ],
            [
             "<b>A $150 monthly child allowance in Vermont</b><br>would lift 1,000 mothers (26%) out of poverty<br>and cost $0.2 billion per year"
            ],
            [
             "<b>A $150 monthly child allowance in Washington</b><br>would lift 25,000 mothers (37%) out of poverty<br>and cost $3.0 billion per year"
            ],
            [
             "<b>A $150 monthly child allowance in Wisconsin</b><br>would lift 10,000 mothers (37%) out of poverty<br>and cost $2.2 billion per year"
            ],
            [
             "<b>A $150 monthly child allowance in West Virginia</b><br>would lift 3,000 mothers (19%) out of poverty<br>and cost $0.6 billion per year"
            ],
            [
             "<b>A $150 monthly child allowance in Wyoming</b><br>would lift 0,000 mothers (20%) out of poverty<br>and cost $0.2 billion per year"
            ]
           ],
           "geo": "geo",
           "hovertemplate": "%{customdata[0]}<extra></extra>",
           "locationmode": "USA-states",
           "locations": [
            "AK",
            "AL",
            "AR",
            "AZ",
            "CA",
            "CO",
            "CT",
            "DC",
            "DE",
            "FL",
            "GA",
            "HI",
            "IA",
            "ID",
            "IL",
            "IN",
            "KS",
            "KY",
            "LA",
            "MA",
            "MD",
            "ME",
            "MI",
            "MN",
            "MO",
            "MS",
            "MT",
            "NC",
            "ND",
            "NE",
            "NH",
            "NJ",
            "NM",
            "NV",
            "NY",
            "OH",
            "OK",
            "OR",
            "PA",
            "RI",
            "SC",
            "SD",
            "TN",
            "TX",
            "UT",
            "VA",
            "VT",
            "WA",
            "WI",
            "WV",
            "WY"
           ],
           "name": "",
           "type": "choropleth",
           "z": [
            0.3795722911867497,
            0.1685971162052766,
            0.09351105726510457,
            0.14660806333857762,
            0.09389566917077463,
            0.18518914526286892,
            0.25593675036255353,
            0.15296475018570013,
            0.07969226863306181,
            0.11023396584351824,
            0.17991942369490946,
            0.19887541083220164,
            0.6348077587800441,
            0.43044750690488326,
            0.21767653433508213,
            0.16529145047440988,
            0.5082083609097353,
            0.15948672813234335,
            0.15309907064382072,
            0.19881477318345914,
            0.1584324460344331,
            0,
            0.3034822329185445,
            0.26679101478637024,
            0.2722507998784266,
            0.25581102840312775,
            0.1626109623756569,
            0.13457127252825538,
            0.43251805985170033,
            0.06792279066448485,
            0.23225749492189735,
            0.05270896941019968,
            0.09897761418429397,
            0.13480229617933842,
            0.1929881004657123,
            0.2871530828245633,
            0.32307061956395233,
            0.28147127281822804,
            0.10005837849581975,
            0.4392196808073616,
            0.2660456787182863,
            0.20751435255819745,
            0.11569193289461742,
            0.16438242437130432,
            0.20053736700914407,
            0.14769897385963549,
            0.26612180253623907,
            0.3715017452387707,
            0.377228565028407,
            0.1975833436995275,
            0.2020732966557877
           ]
          }
         ],
         "name": "150"
        },
        {
         "data": [
          {
           "coloraxis": "coloraxis",
           "customdata": [
            [
             "<b>A $160 monthly child allowance in Alaska</b><br>would lift 4,000 mothers (37%) out of poverty<br>and cost $0.3 billion per year"
            ],
            [
             "<b>A $160 monthly child allowance in Alabama</b><br>would lift 11,000 mothers (16%) out of poverty<br>and cost $2.1 billion per year"
            ],
            [
             "<b>A $160 monthly child allowance in Arkansas</b><br>would lift 4,000 mothers (9%) out of poverty<br>and cost $1.3 billion per year"
            ],
            [
             "<b>A $160 monthly child allowance in Arizona</b><br>would lift 11,000 mothers (14%) out of poverty<br>and cost $3.2 billion per year"
            ],
            [
             "<b>A $160 monthly child allowance in California</b><br>would lift 94,000 mothers (11%) out of poverty<br>and cost $16.8 billion per year"
            ],
            [
             "<b>A $160 monthly child allowance in Colorado</b><br>would lift 15,000 mothers (18%) out of poverty<br>and cost $2.4 billion per year"
            ],
            [
             "<b>A $160 monthly child allowance in Connecticut</b><br>would lift 15,000 mothers (25%) out of poverty<br>and cost $1.3 billion per year"
            ],
            [
             "<b>A $160 monthly child allowance in District of Columbia</b><br>would lift 2,000 mothers (18%) out of poverty<br>and cost $0.2 billion per year"
            ],
            [
             "<b>A $160 monthly child allowance in Delaware</b><br>would lift 1,000 mothers (7%) out of poverty<br>and cost $0.4 billion per year"
            ],
            [
             "<b>A $160 monthly child allowance in Florida</b><br>would lift 53,000 mothers (12%) out of poverty<br>and cost $8.1 billion per year"
            ],
            [
             "<b>A $160 monthly child allowance in Georgia</b><br>would lift 23,000 mothers (17%) out of poverty<br>and cost $4.8 billion per year"
            ],
            [
             "<b>A $160 monthly child allowance in Hawaii</b><br>would lift 4,000 mothers (19%) out of poverty<br>and cost $0.6 billion per year"
            ],
            [
             "<b>A $160 monthly child allowance in Iowa</b><br>would lift 17,000 mothers (63%) out of poverty<br>and cost $1.4 billion per year"
            ],
            [
             "<b>A $160 monthly child allowance in Idaho</b><br>would lift 4,000 mothers (43%) out of poverty<br>and cost $0.8 billion per year"
            ],
            [
             "<b>A $160 monthly child allowance in Illinois</b><br>would lift 27,000 mothers (21%) out of poverty<br>and cost $5.3 billion per year"
            ],
            [
             "<b>A $160 monthly child allowance in Indiana</b><br>would lift 11,000 mothers (16%) out of poverty<br>and cost $3.0 billion per year"
            ],
            [
             "<b>A $160 monthly child allowance in Kansas</b><br>would lift 10,000 mothers (50%) out of poverty<br>and cost $1.3 billion per year"
            ],
            [
             "<b>A $160 monthly child allowance in Kentucky</b><br>would lift 14,000 mothers (20%) out of poverty<br>and cost $1.9 billion per year"
            ],
            [
             "<b>A $160 monthly child allowance in Louisiana</b><br>would lift 9,000 mothers (15%) out of poverty<br>and cost $2.1 billion per year"
            ],
            [
             "<b>A $160 monthly child allowance in Massachusetts</b><br>would lift 17,000 mothers (19%) out of poverty<br>and cost $2.6 billion per year"
            ],
            [
             "<b>A $160 monthly child allowance in Maryland</b><br>would lift 16,000 mothers (15%) out of poverty<br>and cost $2.5 billion per year"
            ],
            [
             "<b>A $160 monthly child allowance in Maine</b><br>would lift 0,000 mothers (0%) out of poverty<br>and cost $0.5 billion per year"
            ],
            [
             "<b>A $160 monthly child allowance in Michigan</b><br>would lift 28,000 mothers (30%) out of poverty<br>and cost $4.1 billion per year"
            ],
            [
             "<b>A $160 monthly child allowance in Minnesota</b><br>would lift 10,000 mothers (26%) out of poverty<br>and cost $2.5 billion per year"
            ],
            [
             "<b>A $160 monthly child allowance in Missouri</b><br>would lift 24,000 mothers (35%) out of poverty<br>and cost $2.6 billion per year"
            ],
            [
             "<b>A $160 monthly child allowance in Mississippi</b><br>would lift 15,000 mothers (25%) out of poverty<br>and cost $1.3 billion per year"
            ],
            [
             "<b>A $160 monthly child allowance in Montana</b><br>would lift 1,000 mothers (16%) out of poverty<br>and cost $0.4 billion per year"
            ],
            [
             "<b>A $160 monthly child allowance in North Carolina</b><br>would lift 21,000 mothers (16%) out of poverty<br>and cost $4.4 billion per year"
            ],
            [
             "<b>A $160 monthly child allowance in North Dakota</b><br>would lift 2,000 mothers (55%) out of poverty<br>and cost $0.3 billion per year"
            ],
            [
             "<b>A $160 monthly child allowance in Nebraska</b><br>would lift 1,000 mothers (6%) out of poverty<br>and cost $0.9 billion per year"
            ],
            [
             "<b>A $160 monthly child allowance in New Hampshire</b><br>would lift 2,000 mothers (23%) out of poverty<br>and cost $0.5 billion per year"
            ],
            [
             "<b>A $160 monthly child allowance in New Jersey</b><br>would lift 7,000 mothers (5%) out of poverty<br>and cost $3.6 billion per year"
            ],
            [
             "<b>A $160 monthly child allowance in New Mexico</b><br>would lift 3,000 mothers (9%) out of poverty<br>and cost $0.9 billion per year"
            ],
            [
             "<b>A $160 monthly child allowance in Nevada</b><br>would lift 8,000 mothers (13%) out of poverty<br>and cost $1.4 billion per year"
            ],
            [
             "<b>A $160 monthly child allowance in New York</b><br>would lift 57,000 mothers (19%) out of poverty<br>and cost $7.7 billion per year"
            ],
            [
             "<b>A $160 monthly child allowance in Ohio</b><br>would lift 36,000 mothers (28%) out of poverty<br>and cost $4.8 billion per year"
            ],
            [
             "<b>A $160 monthly child allowance in Oklahoma</b><br>would lift 16,000 mothers (32%) out of poverty<br>and cost $1.9 billion per year"
            ],
            [
             "<b>A $160 monthly child allowance in Oregon</b><br>would lift 8,000 mothers (28%) out of poverty<br>and cost $1.6 billion per year"
            ],
            [
             "<b>A $160 monthly child allowance in Pennsylvania</b><br>would lift 13,000 mothers (10%) out of poverty<br>and cost $4.9 billion per year"
            ],
            [
             "<b>A $160 monthly child allowance in Rhode Island</b><br>would lift 5,000 mothers (43%) out of poverty<br>and cost $0.4 billion per year"
            ],
            [
             "<b>A $160 monthly child allowance in South Carolina</b><br>would lift 27,000 mothers (26%) out of poverty<br>and cost $2.1 billion per year"
            ],
            [
             "<b>A $160 monthly child allowance in South Dakota</b><br>would lift 2,000 mothers (27%) out of poverty<br>and cost $0.4 billion per year"
            ],
            [
             "<b>A $160 monthly child allowance in Tennessee</b><br>would lift 11,000 mothers (11%) out of poverty<br>and cost $2.9 billion per year"
            ],
            [
             "<b>A $160 monthly child allowance in Texas</b><br>would lift 76,000 mothers (16%) out of poverty<br>and cost $14.4 billion per year"
            ],
            [
             "<b>A $160 monthly child allowance in Utah</b><br>would lift 5,000 mothers (20%) out of poverty<br>and cost $1.8 billion per year"
            ],
            [
             "<b>A $160 monthly child allowance in Virginia</b><br>would lift 16,000 mothers (14%) out of poverty<br>and cost $3.5 billion per year"
            ],
            [
             "<b>A $160 monthly child allowance in Vermont</b><br>would lift 1,000 mothers (26%) out of poverty<br>and cost $0.2 billion per year"
            ],
            [
             "<b>A $160 monthly child allowance in Washington</b><br>would lift 25,000 mothers (37%) out of poverty<br>and cost $3.2 billion per year"
            ],
            [
             "<b>A $160 monthly child allowance in Wisconsin</b><br>would lift 10,000 mothers (37%) out of poverty<br>and cost $2.4 billion per year"
            ],
            [
             "<b>A $160 monthly child allowance in West Virginia</b><br>would lift 4,000 mothers (24%) out of poverty<br>and cost $0.7 billion per year"
            ],
            [
             "<b>A $160 monthly child allowance in Wyoming</b><br>would lift 0,000 mothers (20%) out of poverty<br>and cost $0.3 billion per year"
            ]
           ],
           "geo": "geo",
           "hovertemplate": "%{customdata[0]}<extra></extra>",
           "locationmode": "USA-states",
           "locations": [
            "AK",
            "AL",
            "AR",
            "AZ",
            "CA",
            "CO",
            "CT",
            "DC",
            "DE",
            "FL",
            "GA",
            "HI",
            "IA",
            "ID",
            "IL",
            "IN",
            "KS",
            "KY",
            "LA",
            "MA",
            "MD",
            "ME",
            "MI",
            "MN",
            "MO",
            "MS",
            "MT",
            "NC",
            "ND",
            "NE",
            "NH",
            "NJ",
            "NM",
            "NV",
            "NY",
            "OH",
            "OK",
            "OR",
            "PA",
            "RI",
            "SC",
            "SD",
            "TN",
            "TX",
            "UT",
            "VA",
            "VT",
            "WA",
            "WI",
            "WV",
            "WY"
           ],
           "name": "",
           "type": "choropleth",
           "z": [
            0.3795722911867497,
            0.1685971162052766,
            0.09351105726510457,
            0.14660806333857762,
            0.1152526794441657,
            0.18518914526286892,
            0.25593675036255353,
            0.18575591682580525,
            0.07969226863306181,
            0.12158780633616352,
            0.17991942369490946,
            0.19887541083220164,
            0.6348077587800441,
            0.43044750690488326,
            0.21767653433508213,
            0.16529145047440988,
            0.5082083609097353,
            0.20540432994796431,
            0.15309907064382072,
            0.19881477318345914,
            0.1584324460344331,
            0,
            0.3034822329185445,
            0.26679101478637024,
            0.35804743247671184,
            0.25581102840312775,
            0.1626109623756569,
            0.1655139366450805,
            0.5531365582843061,
            0.06792279066448485,
            0.23225749492189735,
            0.05270896941019968,
            0.09897761418429397,
            0.13480229617933842,
            0.1929881004657123,
            0.2871530828245633,
            0.32307061956395233,
            0.28147127281822804,
            0.10005837849581975,
            0.4392196808073616,
            0.2660456787182863,
            0.2759646320175635,
            0.11569193289461742,
            0.16438242437130432,
            0.20053736700914407,
            0.14769897385963549,
            0.26612180253623907,
            0.3715017452387707,
            0.377228565028407,
            0.2421026465804004,
            0.2020732966557877
           ]
          }
         ],
         "name": "160"
        },
        {
         "data": [
          {
           "coloraxis": "coloraxis",
           "customdata": [
            [
             "<b>A $170 monthly child allowance in Alaska</b><br>would lift 4,000 mothers (37%) out of poverty<br>and cost $0.4 billion per year"
            ],
            [
             "<b>A $170 monthly child allowance in Alabama</b><br>would lift 11,000 mothers (16%) out of poverty<br>and cost $2.3 billion per year"
            ],
            [
             "<b>A $170 monthly child allowance in Arkansas</b><br>would lift 4,000 mothers (9%) out of poverty<br>and cost $1.4 billion per year"
            ],
            [
             "<b>A $170 monthly child allowance in Arizona</b><br>would lift 11,000 mothers (14%) out of poverty<br>and cost $3.4 billion per year"
            ],
            [
             "<b>A $170 monthly child allowance in California</b><br>would lift 102,000 mothers (12%) out of poverty<br>and cost $17.9 billion per year"
            ],
            [
             "<b>A $170 monthly child allowance in Colorado</b><br>would lift 15,000 mothers (18%) out of poverty<br>and cost $2.6 billion per year"
            ],
            [
             "<b>A $170 monthly child allowance in Connecticut</b><br>would lift 15,000 mothers (25%) out of poverty<br>and cost $1.4 billion per year"
            ],
            [
             "<b>A $170 monthly child allowance in District of Columbia</b><br>would lift 2,000 mothers (18%) out of poverty<br>and cost $0.3 billion per year"
            ],
            [
             "<b>A $170 monthly child allowance in Delaware</b><br>would lift 1,000 mothers (7%) out of poverty<br>and cost $0.4 billion per year"
            ],
            [
             "<b>A $170 monthly child allowance in Florida</b><br>would lift 60,000 mothers (13%) out of poverty<br>and cost $8.6 billion per year"
            ],
            [
             "<b>A $170 monthly child allowance in Georgia</b><br>would lift 23,000 mothers (17%) out of poverty<br>and cost $5.1 billion per year"
            ],
            [
             "<b>A $170 monthly child allowance in Hawaii</b><br>would lift 4,000 mothers (19%) out of poverty<br>and cost $0.6 billion per year"
            ],
            [
             "<b>A $170 monthly child allowance in Iowa</b><br>would lift 17,000 mothers (63%) out of poverty<br>and cost $1.5 billion per year"
            ],
            [
             "<b>A $170 monthly child allowance in Idaho</b><br>would lift 4,000 mothers (43%) out of poverty<br>and cost $0.9 billion per year"
            ],
            [
             "<b>A $170 monthly child allowance in Illinois</b><br>would lift 32,000 mothers (25%) out of poverty<br>and cost $5.6 billion per year"
            ],
            [
             "<b>A $170 monthly child allowance in Indiana</b><br>would lift 11,000 mothers (16%) out of poverty<br>and cost $3.2 billion per year"
            ],
            [
             "<b>A $170 monthly child allowance in Kansas</b><br>would lift 10,000 mothers (50%) out of poverty<br>and cost $1.4 billion per year"
            ],
            [
             "<b>A $170 monthly child allowance in Kentucky</b><br>would lift 14,000 mothers (20%) out of poverty<br>and cost $2.1 billion per year"
            ],
            [
             "<b>A $170 monthly child allowance in Louisiana</b><br>would lift 9,000 mothers (15%) out of poverty<br>and cost $2.3 billion per year"
            ],
            [
             "<b>A $170 monthly child allowance in Massachusetts</b><br>would lift 17,000 mothers (19%) out of poverty<br>and cost $2.8 billion per year"
            ],
            [
             "<b>A $170 monthly child allowance in Maryland</b><br>would lift 16,000 mothers (15%) out of poverty<br>and cost $2.6 billion per year"
            ],
            [
             "<b>A $170 monthly child allowance in Maine</b><br>would lift 0,000 mothers (0%) out of poverty<br>and cost $0.5 billion per year"
            ],
            [
             "<b>A $170 monthly child allowance in Michigan</b><br>would lift 28,000 mothers (30%) out of poverty<br>and cost $4.3 billion per year"
            ],
            [
             "<b>A $170 monthly child allowance in Minnesota</b><br>would lift 10,000 mothers (26%) out of poverty<br>and cost $2.7 billion per year"
            ],
            [
             "<b>A $170 monthly child allowance in Missouri</b><br>would lift 24,000 mothers (35%) out of poverty<br>and cost $2.7 billion per year"
            ],
            [
             "<b>A $170 monthly child allowance in Mississippi</b><br>would lift 15,000 mothers (25%) out of poverty<br>and cost $1.4 billion per year"
            ],
            [
             "<b>A $170 monthly child allowance in Montana</b><br>would lift 1,000 mothers (16%) out of poverty<br>and cost $0.5 billion per year"
            ],
            [
             "<b>A $170 monthly child allowance in North Carolina</b><br>would lift 24,000 mothers (19%) out of poverty<br>and cost $4.6 billion per year"
            ],
            [
             "<b>A $170 monthly child allowance in North Dakota</b><br>would lift 2,000 mothers (55%) out of poverty<br>and cost $0.4 billion per year"
            ],
            [
             "<b>A $170 monthly child allowance in Nebraska</b><br>would lift 1,000 mothers (6%) out of poverty<br>and cost $1.0 billion per year"
            ],
            [
             "<b>A $170 monthly child allowance in New Hampshire</b><br>would lift 2,000 mothers (23%) out of poverty<br>and cost $0.5 billion per year"
            ],
            [
             "<b>A $170 monthly child allowance in New Jersey</b><br>would lift 7,000 mothers (5%) out of poverty<br>and cost $3.8 billion per year"
            ],
            [
             "<b>A $170 monthly child allowance in New Mexico</b><br>would lift 3,000 mothers (9%) out of poverty<br>and cost $0.9 billion per year"
            ],
            [
             "<b>A $170 monthly child allowance in Nevada</b><br>would lift 8,000 mothers (13%) out of poverty<br>and cost $1.5 billion per year"
            ],
            [
             "<b>A $170 monthly child allowance in New York</b><br>would lift 66,000 mothers (22%) out of poverty<br>and cost $8.2 billion per year"
            ],
            [
             "<b>A $170 monthly child allowance in Ohio</b><br>would lift 36,000 mothers (28%) out of poverty<br>and cost $5.1 billion per year"
            ],
            [
             "<b>A $170 monthly child allowance in Oklahoma</b><br>would lift 16,000 mothers (32%) out of poverty<br>and cost $2.0 billion per year"
            ],
            [
             "<b>A $170 monthly child allowance in Oregon</b><br>would lift 8,000 mothers (28%) out of poverty<br>and cost $1.7 billion per year"
            ],
            [
             "<b>A $170 monthly child allowance in Pennsylvania</b><br>would lift 28,000 mothers (21%) out of poverty<br>and cost $5.2 billion per year"
            ],
            [
             "<b>A $170 monthly child allowance in Rhode Island</b><br>would lift 5,000 mothers (43%) out of poverty<br>and cost $0.4 billion per year"
            ],
            [
             "<b>A $170 monthly child allowance in South Carolina</b><br>would lift 27,000 mothers (26%) out of poverty<br>and cost $2.3 billion per year"
            ],
            [
             "<b>A $170 monthly child allowance in South Dakota</b><br>would lift 2,000 mothers (27%) out of poverty<br>and cost $0.4 billion per year"
            ],
            [
             "<b>A $170 monthly child allowance in Tennessee</b><br>would lift 16,000 mothers (15%) out of poverty<br>and cost $3.1 billion per year"
            ],
            [
             "<b>A $170 monthly child allowance in Texas</b><br>would lift 81,000 mothers (17%) out of poverty<br>and cost $15.3 billion per year"
            ],
            [
             "<b>A $170 monthly child allowance in Utah</b><br>would lift 5,000 mothers (20%) out of poverty<br>and cost $1.9 billion per year"
            ],
            [
             "<b>A $170 monthly child allowance in Virginia</b><br>would lift 16,000 mothers (14%) out of poverty<br>and cost $3.7 billion per year"
            ],
            [
             "<b>A $170 monthly child allowance in Vermont</b><br>would lift 1,000 mothers (26%) out of poverty<br>and cost $0.2 billion per year"
            ],
            [
             "<b>A $170 monthly child allowance in Washington</b><br>would lift 25,000 mothers (37%) out of poverty<br>and cost $3.4 billion per year"
            ],
            [
             "<b>A $170 monthly child allowance in Wisconsin</b><br>would lift 10,000 mothers (37%) out of poverty<br>and cost $2.5 billion per year"
            ],
            [
             "<b>A $170 monthly child allowance in West Virginia</b><br>would lift 4,000 mothers (24%) out of poverty<br>and cost $0.7 billion per year"
            ],
            [
             "<b>A $170 monthly child allowance in Wyoming</b><br>would lift 0,000 mothers (20%) out of poverty<br>and cost $0.3 billion per year"
            ]
           ],
           "geo": "geo",
           "hovertemplate": "%{customdata[0]}<extra></extra>",
           "locationmode": "USA-states",
           "locations": [
            "AK",
            "AL",
            "AR",
            "AZ",
            "CA",
            "CO",
            "CT",
            "DC",
            "DE",
            "FL",
            "GA",
            "HI",
            "IA",
            "ID",
            "IL",
            "IN",
            "KS",
            "KY",
            "LA",
            "MA",
            "MD",
            "ME",
            "MI",
            "MN",
            "MO",
            "MS",
            "MT",
            "NC",
            "ND",
            "NE",
            "NH",
            "NJ",
            "NM",
            "NV",
            "NY",
            "OH",
            "OK",
            "OR",
            "PA",
            "RI",
            "SC",
            "SD",
            "TN",
            "TX",
            "UT",
            "VA",
            "VT",
            "WA",
            "WI",
            "WV",
            "WY"
           ],
           "name": "",
           "type": "choropleth",
           "z": [
            0.3795722911867497,
            0.1685971162052766,
            0.09351105726510457,
            0.14660806333857762,
            0.12558604033642795,
            0.18518914526286892,
            0.25593675036255353,
            0.18575591682580525,
            0.07969226863306181,
            0.13815558516431725,
            0.17991942369490946,
            0.19887541083220164,
            0.6348077587800441,
            0.43044750690488326,
            0.25665677920251506,
            0.16529145047440988,
            0.5082083609097353,
            0.20540432994796431,
            0.15309907064382072,
            0.19881477318345914,
            0.1584324460344331,
            0,
            0.3034822329185445,
            0.26679101478637024,
            0.35804743247671184,
            0.25581102840312775,
            0.1626109623756569,
            0.19055444201765825,
            0.5531365582843061,
            0.06792279066448485,
            0.23225749492189735,
            0.05270896941019968,
            0.09897761418429397,
            0.13480229617933842,
            0.22458429185414855,
            0.2871530828245633,
            0.32307061956395233,
            0.28147127281822804,
            0.2148162092110286,
            0.4392196808073616,
            0.2660456787182863,
            0.2759646320175635,
            0.15982096677270366,
            0.17471124627267234,
            0.20053736700914407,
            0.14769897385963549,
            0.26612180253623907,
            0.3715017452387707,
            0.377228565028407,
            0.2421026465804004,
            0.2020732966557877
           ]
          }
         ],
         "name": "170"
        },
        {
         "data": [
          {
           "coloraxis": "coloraxis",
           "customdata": [
            [
             "<b>A $180 monthly child allowance in Alaska</b><br>would lift 4,000 mothers (37%) out of poverty<br>and cost $0.4 billion per year"
            ],
            [
             "<b>A $180 monthly child allowance in Alabama</b><br>would lift 11,000 mothers (16%) out of poverty<br>and cost $2.4 billion per year"
            ],
            [
             "<b>A $180 monthly child allowance in Arkansas</b><br>would lift 4,000 mothers (9%) out of poverty<br>and cost $1.5 billion per year"
            ],
            [
             "<b>A $180 monthly child allowance in Arizona</b><br>would lift 11,000 mothers (14%) out of poverty<br>and cost $3.6 billion per year"
            ],
            [
             "<b>A $180 monthly child allowance in California</b><br>would lift 106,000 mothers (13%) out of poverty<br>and cost $18.9 billion per year"
            ],
            [
             "<b>A $180 monthly child allowance in Colorado</b><br>would lift 15,000 mothers (18%) out of poverty<br>and cost $2.7 billion per year"
            ],
            [
             "<b>A $180 monthly child allowance in Connecticut</b><br>would lift 15,000 mothers (25%) out of poverty<br>and cost $1.5 billion per year"
            ],
            [
             "<b>A $180 monthly child allowance in District of Columbia</b><br>would lift 2,000 mothers (18%) out of poverty<br>and cost $0.3 billion per year"
            ],
            [
             "<b>A $180 monthly child allowance in Delaware</b><br>would lift 1,000 mothers (13%) out of poverty<br>and cost $0.4 billion per year"
            ],
            [
             "<b>A $180 monthly child allowance in Florida</b><br>would lift 64,000 mothers (14%) out of poverty<br>and cost $9.1 billion per year"
            ],
            [
             "<b>A $180 monthly child allowance in Georgia</b><br>would lift 23,000 mothers (17%) out of poverty<br>and cost $5.4 billion per year"
            ],
            [
             "<b>A $180 monthly child allowance in Hawaii</b><br>would lift 4,000 mothers (19%) out of poverty<br>and cost $0.7 billion per year"
            ],
            [
             "<b>A $180 monthly child allowance in Iowa</b><br>would lift 17,000 mothers (63%) out of poverty<br>and cost $1.6 billion per year"
            ],
            [
             "<b>A $180 monthly child allowance in Idaho</b><br>would lift 5,000 mothers (49%) out of poverty<br>and cost $1.0 billion per year"
            ],
            [
             "<b>A $180 monthly child allowance in Illinois</b><br>would lift 37,000 mothers (29%) out of poverty<br>and cost $6.0 billion per year"
            ],
            [
             "<b>A $180 monthly child allowance in Indiana</b><br>would lift 11,000 mothers (16%) out of poverty<br>and cost $3.4 billion per year"
            ],
            [
             "<b>A $180 monthly child allowance in Kansas</b><br>would lift 10,000 mothers (50%) out of poverty<br>and cost $1.5 billion per year"
            ],
            [
             "<b>A $180 monthly child allowance in Kentucky</b><br>would lift 14,000 mothers (20%) out of poverty<br>and cost $2.2 billion per year"
            ],
            [
             "<b>A $180 monthly child allowance in Louisiana</b><br>would lift 9,000 mothers (15%) out of poverty<br>and cost $2.4 billion per year"
            ],
            [
             "<b>A $180 monthly child allowance in Massachusetts</b><br>would lift 21,000 mothers (24%) out of poverty<br>and cost $2.9 billion per year"
            ],
            [
             "<b>A $180 monthly child allowance in Maryland</b><br>would lift 16,000 mothers (15%) out of poverty<br>and cost $2.8 billion per year"
            ],
            [
             "<b>A $180 monthly child allowance in Maine</b><br>would lift 0,000 mothers (0%) out of poverty<br>and cost $0.5 billion per year"
            ],
            [
             "<b>A $180 monthly child allowance in Michigan</b><br>would lift 28,000 mothers (30%) out of poverty<br>and cost $4.6 billion per year"
            ],
            [
             "<b>A $180 monthly child allowance in Minnesota</b><br>would lift 10,000 mothers (26%) out of poverty<br>and cost $2.8 billion per year"
            ],
            [
             "<b>A $180 monthly child allowance in Missouri</b><br>would lift 28,000 mothers (42%) out of poverty<br>and cost $2.9 billion per year"
            ],
            [
             "<b>A $180 monthly child allowance in Mississippi</b><br>would lift 15,000 mothers (25%) out of poverty<br>and cost $1.5 billion per year"
            ],
            [
             "<b>A $180 monthly child allowance in Montana</b><br>would lift 1,000 mothers (16%) out of poverty<br>and cost $0.5 billion per year"
            ],
            [
             "<b>A $180 monthly child allowance in North Carolina</b><br>would lift 24,000 mothers (19%) out of poverty<br>and cost $4.9 billion per year"
            ],
            [
             "<b>A $180 monthly child allowance in North Dakota</b><br>would lift 2,000 mothers (55%) out of poverty<br>and cost $0.4 billion per year"
            ],
            [
             "<b>A $180 monthly child allowance in Nebraska</b><br>would lift 1,000 mothers (6%) out of poverty<br>and cost $1.0 billion per year"
            ],
            [
             "<b>A $180 monthly child allowance in New Hampshire</b><br>would lift 2,000 mothers (23%) out of poverty<br>and cost $0.5 billion per year"
            ],
            [
             "<b>A $180 monthly child allowance in New Jersey</b><br>would lift 7,000 mothers (5%) out of poverty<br>and cost $4.1 billion per year"
            ],
            [
             "<b>A $180 monthly child allowance in New Mexico</b><br>would lift 3,000 mothers (9%) out of poverty<br>and cost $1.0 billion per year"
            ],
            [
             "<b>A $180 monthly child allowance in Nevada</b><br>would lift 8,000 mothers (13%) out of poverty<br>and cost $1.5 billion per year"
            ],
            [
             "<b>A $180 monthly child allowance in New York</b><br>would lift 66,000 mothers (22%) out of poverty<br>and cost $8.7 billion per year"
            ],
            [
             "<b>A $180 monthly child allowance in Ohio</b><br>would lift 36,000 mothers (28%) out of poverty<br>and cost $5.5 billion per year"
            ],
            [
             "<b>A $180 monthly child allowance in Oklahoma</b><br>would lift 16,000 mothers (32%) out of poverty<br>and cost $2.1 billion per year"
            ],
            [
             "<b>A $180 monthly child allowance in Oregon</b><br>would lift 8,000 mothers (28%) out of poverty<br>and cost $1.8 billion per year"
            ],
            [
             "<b>A $180 monthly child allowance in Pennsylvania</b><br>would lift 39,000 mothers (29%) out of poverty<br>and cost $5.5 billion per year"
            ],
            [
             "<b>A $180 monthly child allowance in Rhode Island</b><br>would lift 5,000 mothers (43%) out of poverty<br>and cost $0.4 billion per year"
            ],
            [
             "<b>A $180 monthly child allowance in South Carolina</b><br>would lift 30,000 mothers (29%) out of poverty<br>and cost $2.4 billion per year"
            ],
            [
             "<b>A $180 monthly child allowance in South Dakota</b><br>would lift 2,000 mothers (27%) out of poverty<br>and cost $0.5 billion per year"
            ],
            [
             "<b>A $180 monthly child allowance in Tennessee</b><br>would lift 16,000 mothers (15%) out of poverty<br>and cost $3.3 billion per year"
            ],
            [
             "<b>A $180 monthly child allowance in Texas</b><br>would lift 96,000 mothers (20%) out of poverty<br>and cost $16.2 billion per year"
            ],
            [
             "<b>A $180 monthly child allowance in Utah</b><br>would lift 5,000 mothers (20%) out of poverty<br>and cost $2.0 billion per year"
            ],
            [
             "<b>A $180 monthly child allowance in Virginia</b><br>would lift 16,000 mothers (14%) out of poverty<br>and cost $4.0 billion per year"
            ],
            [
             "<b>A $180 monthly child allowance in Vermont</b><br>would lift 1,000 mothers (26%) out of poverty<br>and cost $0.2 billion per year"
            ],
            [
             "<b>A $180 monthly child allowance in Washington</b><br>would lift 25,000 mothers (37%) out of poverty<br>and cost $3.6 billion per year"
            ],
            [
             "<b>A $180 monthly child allowance in Wisconsin</b><br>would lift 10,000 mothers (37%) out of poverty<br>and cost $2.7 billion per year"
            ],
            [
             "<b>A $180 monthly child allowance in West Virginia</b><br>would lift 5,000 mothers (28%) out of poverty<br>and cost $0.7 billion per year"
            ],
            [
             "<b>A $180 monthly child allowance in Wyoming</b><br>would lift 0,000 mothers (20%) out of poverty<br>and cost $0.3 billion per year"
            ]
           ],
           "geo": "geo",
           "hovertemplate": "%{customdata[0]}<extra></extra>",
           "locationmode": "USA-states",
           "locations": [
            "AK",
            "AL",
            "AR",
            "AZ",
            "CA",
            "CO",
            "CT",
            "DC",
            "DE",
            "FL",
            "GA",
            "HI",
            "IA",
            "ID",
            "IL",
            "IN",
            "KS",
            "KY",
            "LA",
            "MA",
            "MD",
            "ME",
            "MI",
            "MN",
            "MO",
            "MS",
            "MT",
            "NC",
            "ND",
            "NE",
            "NH",
            "NJ",
            "NM",
            "NV",
            "NY",
            "OH",
            "OK",
            "OR",
            "PA",
            "RI",
            "SC",
            "SD",
            "TN",
            "TX",
            "UT",
            "VA",
            "VT",
            "WA",
            "WI",
            "WV",
            "WY"
           ],
           "name": "",
           "type": "choropleth",
           "z": [
            0.3795722911867497,
            0.1685971162052766,
            0.09351105726510457,
            0.14660806333857762,
            0.13016817426014396,
            0.18518914526286892,
            0.25593675036255353,
            0.18575591682580525,
            0.1349292392360216,
            0.14753392875491866,
            0.17991942369490946,
            0.19887541083220164,
            0.6348077587800441,
            0.49846362882877343,
            0.29385749632173097,
            0.16529145047440988,
            0.5082083609097353,
            0.20540432994796431,
            0.15309907064382072,
            0.24004141296951914,
            0.1584324460344331,
            0,
            0.3034822329185445,
            0.26679101478637024,
            0.42756112644953675,
            0.25581102840312775,
            0.1626109623756569,
            0.19055444201765825,
            0.5531365582843061,
            0.06792279066448485,
            0.23225749492189735,
            0.05270896941019968,
            0.09897761418429397,
            0.13480229617933842,
            0.22458429185414855,
            0.2871530828245633,
            0.32307061956395233,
            0.28147127281822804,
            0.29617322422300135,
            0.4392196808073616,
            0.2949242338617418,
            0.2759646320175635,
            0.15982096677270366,
            0.20762089434445768,
            0.20053736700914407,
            0.14769897385963549,
            0.26612180253623907,
            0.3715017452387707,
            0.377228565028407,
            0.2849696747582143,
            0.2020732966557877
           ]
          }
         ],
         "name": "180"
        },
        {
         "data": [
          {
           "coloraxis": "coloraxis",
           "customdata": [
            [
             "<b>A $190 monthly child allowance in Alaska</b><br>would lift 4,000 mothers (37%) out of poverty<br>and cost $0.4 billion per year"
            ],
            [
             "<b>A $190 monthly child allowance in Alabama</b><br>would lift 11,000 mothers (16%) out of poverty<br>and cost $2.5 billion per year"
            ],
            [
             "<b>A $190 monthly child allowance in Arkansas</b><br>would lift 7,000 mothers (14%) out of poverty<br>and cost $1.6 billion per year"
            ],
            [
             "<b>A $190 monthly child allowance in Arizona</b><br>would lift 11,000 mothers (14%) out of poverty<br>and cost $3.8 billion per year"
            ],
            [
             "<b>A $190 monthly child allowance in California</b><br>would lift 114,000 mothers (13%) out of poverty<br>and cost $20.0 billion per year"
            ],
            [
             "<b>A $190 monthly child allowance in Colorado</b><br>would lift 15,000 mothers (18%) out of poverty<br>and cost $2.9 billion per year"
            ],
            [
             "<b>A $190 monthly child allowance in Connecticut</b><br>would lift 15,000 mothers (25%) out of poverty<br>and cost $1.6 billion per year"
            ],
            [
             "<b>A $190 monthly child allowance in District of Columbia</b><br>would lift 2,000 mothers (18%) out of poverty<br>and cost $0.3 billion per year"
            ],
            [
             "<b>A $190 monthly child allowance in Delaware</b><br>would lift 1,000 mothers (13%) out of poverty<br>and cost $0.4 billion per year"
            ],
            [
             "<b>A $190 monthly child allowance in Florida</b><br>would lift 70,000 mothers (16%) out of poverty<br>and cost $9.6 billion per year"
            ],
            [
             "<b>A $190 monthly child allowance in Georgia</b><br>would lift 40,000 mothers (31%) out of poverty<br>and cost $5.7 billion per year"
            ],
            [
             "<b>A $190 monthly child allowance in Hawaii</b><br>would lift 4,000 mothers (19%) out of poverty<br>and cost $0.7 billion per year"
            ],
            [
             "<b>A $190 monthly child allowance in Iowa</b><br>would lift 17,000 mothers (63%) out of poverty<br>and cost $1.6 billion per year"
            ],
            [
             "<b>A $190 monthly child allowance in Idaho</b><br>would lift 5,000 mothers (49%) out of poverty<br>and cost $1.0 billion per year"
            ],
            [
             "<b>A $190 monthly child allowance in Illinois</b><br>would lift 37,000 mothers (29%) out of poverty<br>and cost $6.3 billion per year"
            ],
            [
             "<b>A $190 monthly child allowance in Indiana</b><br>would lift 11,000 mothers (16%) out of poverty<br>and cost $3.6 billion per year"
            ],
            [
             "<b>A $190 monthly child allowance in Kansas</b><br>would lift 10,000 mothers (50%) out of poverty<br>and cost $1.5 billion per year"
            ],
            [
             "<b>A $190 monthly child allowance in Kentucky</b><br>would lift 21,000 mothers (31%) out of poverty<br>and cost $2.3 billion per year"
            ],
            [
             "<b>A $190 monthly child allowance in Louisiana</b><br>would lift 9,000 mothers (15%) out of poverty<br>and cost $2.5 billion per year"
            ],
            [
             "<b>A $190 monthly child allowance in Massachusetts</b><br>would lift 24,000 mothers (27%) out of poverty<br>and cost $3.1 billion per year"
            ],
            [
             "<b>A $190 monthly child allowance in Maryland</b><br>would lift 16,000 mothers (15%) out of poverty<br>and cost $3.0 billion per year"
            ],
            [
             "<b>A $190 monthly child allowance in Maine</b><br>would lift 0,000 mothers (0%) out of poverty<br>and cost $0.5 billion per year"
            ],
            [
             "<b>A $190 monthly child allowance in Michigan</b><br>would lift 28,000 mothers (30%) out of poverty<br>and cost $4.8 billion per year"
            ],
            [
             "<b>A $190 monthly child allowance in Minnesota</b><br>would lift 10,000 mothers (26%) out of poverty<br>and cost $3.0 billion per year"
            ],
            [
             "<b>A $190 monthly child allowance in Missouri</b><br>would lift 34,000 mothers (51%) out of poverty<br>and cost $3.1 billion per year"
            ],
            [
             "<b>A $190 monthly child allowance in Mississippi</b><br>would lift 15,000 mothers (25%) out of poverty<br>and cost $1.6 billion per year"
            ],
            [
             "<b>A $190 monthly child allowance in Montana</b><br>would lift 1,000 mothers (16%) out of poverty<br>and cost $0.5 billion per year"
            ],
            [
             "<b>A $190 monthly child allowance in North Carolina</b><br>would lift 24,000 mothers (19%) out of poverty<br>and cost $5.2 billion per year"
            ],
            [
             "<b>A $190 monthly child allowance in North Dakota</b><br>would lift 2,000 mothers (55%) out of poverty<br>and cost $0.4 billion per year"
            ],
            [
             "<b>A $190 monthly child allowance in Nebraska</b><br>would lift 1,000 mothers (6%) out of poverty<br>and cost $1.1 billion per year"
            ],
            [
             "<b>A $190 monthly child allowance in New Hampshire</b><br>would lift 2,000 mothers (23%) out of poverty<br>and cost $0.6 billion per year"
            ],
            [
             "<b>A $190 monthly child allowance in New Jersey</b><br>would lift 7,000 mothers (5%) out of poverty<br>and cost $4.3 billion per year"
            ],
            [
             "<b>A $190 monthly child allowance in New Mexico</b><br>would lift 3,000 mothers (9%) out of poverty<br>and cost $1.1 billion per year"
            ],
            [
             "<b>A $190 monthly child allowance in Nevada</b><br>would lift 8,000 mothers (13%) out of poverty<br>and cost $1.6 billion per year"
            ],
            [
             "<b>A $190 monthly child allowance in New York</b><br>would lift 76,000 mothers (25%) out of poverty<br>and cost $9.2 billion per year"
            ],
            [
             "<b>A $190 monthly child allowance in Ohio</b><br>would lift 36,000 mothers (28%) out of poverty<br>and cost $5.8 billion per year"
            ],
            [
             "<b>A $190 monthly child allowance in Oklahoma</b><br>would lift 16,000 mothers (32%) out of poverty<br>and cost $2.2 billion per year"
            ],
            [
             "<b>A $190 monthly child allowance in Oregon</b><br>would lift 8,000 mothers (28%) out of poverty<br>and cost $1.9 billion per year"
            ],
            [
             "<b>A $190 monthly child allowance in Pennsylvania</b><br>would lift 39,000 mothers (29%) out of poverty<br>and cost $5.8 billion per year"
            ],
            [
             "<b>A $190 monthly child allowance in Rhode Island</b><br>would lift 5,000 mothers (43%) out of poverty<br>and cost $0.5 billion per year"
            ],
            [
             "<b>A $190 monthly child allowance in South Carolina</b><br>would lift 30,000 mothers (29%) out of poverty<br>and cost $2.5 billion per year"
            ],
            [
             "<b>A $190 monthly child allowance in South Dakota</b><br>would lift 2,000 mothers (27%) out of poverty<br>and cost $0.5 billion per year"
            ],
            [
             "<b>A $190 monthly child allowance in Tennessee</b><br>would lift 19,000 mothers (19%) out of poverty<br>and cost $3.5 billion per year"
            ],
            [
             "<b>A $190 monthly child allowance in Texas</b><br>would lift 96,000 mothers (20%) out of poverty<br>and cost $17.0 billion per year"
            ],
            [
             "<b>A $190 monthly child allowance in Utah</b><br>would lift 7,000 mothers (25%) out of poverty<br>and cost $2.1 billion per year"
            ],
            [
             "<b>A $190 monthly child allowance in Virginia</b><br>would lift 16,000 mothers (14%) out of poverty<br>and cost $4.2 billion per year"
            ],
            [
             "<b>A $190 monthly child allowance in Vermont</b><br>would lift 1,000 mothers (26%) out of poverty<br>and cost $0.3 billion per year"
            ],
            [
             "<b>A $190 monthly child allowance in Washington</b><br>would lift 25,000 mothers (37%) out of poverty<br>and cost $3.8 billion per year"
            ],
            [
             "<b>A $190 monthly child allowance in Wisconsin</b><br>would lift 10,000 mothers (37%) out of poverty<br>and cost $2.8 billion per year"
            ],
            [
             "<b>A $190 monthly child allowance in West Virginia</b><br>would lift 5,000 mothers (28%) out of poverty<br>and cost $0.8 billion per year"
            ],
            [
             "<b>A $190 monthly child allowance in Wyoming</b><br>would lift 0,000 mothers (20%) out of poverty<br>and cost $0.3 billion per year"
            ]
           ],
           "geo": "geo",
           "hovertemplate": "%{customdata[0]}<extra></extra>",
           "locationmode": "USA-states",
           "locations": [
            "AK",
            "AL",
            "AR",
            "AZ",
            "CA",
            "CO",
            "CT",
            "DC",
            "DE",
            "FL",
            "GA",
            "HI",
            "IA",
            "ID",
            "IL",
            "IN",
            "KS",
            "KY",
            "LA",
            "MA",
            "MD",
            "ME",
            "MI",
            "MN",
            "MO",
            "MS",
            "MT",
            "NC",
            "ND",
            "NE",
            "NH",
            "NJ",
            "NM",
            "NV",
            "NY",
            "OH",
            "OK",
            "OR",
            "PA",
            "RI",
            "SC",
            "SD",
            "TN",
            "TX",
            "UT",
            "VA",
            "VT",
            "WA",
            "WI",
            "WV",
            "WY"
           ],
           "name": "",
           "type": "choropleth",
           "z": [
            0.3795722911867497,
            0.1685971162052766,
            0.1490430037500832,
            0.14660806333857762,
            0.13981975264619786,
            0.18518914526286892,
            0.25593675036255353,
            0.18575591682580525,
            0.1349292392360216,
            0.16182236315896398,
            0.3103212120270092,
            0.19887541083220164,
            0.6348077587800441,
            0.49846362882877343,
            0.29385749632173097,
            0.16529145047440988,
            0.5082083609097353,
            0.3139793994344632,
            0.15309907064382072,
            0.27083369635492976,
            0.1584324460344331,
            0,
            0.3034822329185445,
            0.26679101478637024,
            0.5105876653272986,
            0.25581102840312775,
            0.1626109623756569,
            0.19055444201765825,
            0.5531365582843061,
            0.06792279066448485,
            0.23225749492189735,
            0.05270896941019968,
            0.09897761418429397,
            0.13480229617933842,
            0.2557758992782686,
            0.2871530828245633,
            0.32307061956395233,
            0.28147127281822804,
            0.29617322422300135,
            0.4392196808073616,
            0.2949242338617418,
            0.2759646320175635,
            0.1924951266786216,
            0.20762089434445768,
            0.2571297664051651,
            0.14769897385963549,
            0.26612180253623907,
            0.3715017452387707,
            0.377228565028407,
            0.2849696747582143,
            0.2020732966557877
           ]
          }
         ],
         "name": "190"
        },
        {
         "data": [
          {
           "coloraxis": "coloraxis",
           "customdata": [
            [
             "<b>A $200 monthly child allowance in Alaska</b><br>would lift 4,000 mothers (37%) out of poverty<br>and cost $0.4 billion per year"
            ],
            [
             "<b>A $200 monthly child allowance in Alabama</b><br>would lift 11,000 mothers (16%) out of poverty<br>and cost $2.7 billion per year"
            ],
            [
             "<b>A $200 monthly child allowance in Arkansas</b><br>would lift 7,000 mothers (14%) out of poverty<br>and cost $1.7 billion per year"
            ],
            [
             "<b>A $200 monthly child allowance in Arizona</b><br>would lift 11,000 mothers (14%) out of poverty<br>and cost $4.0 billion per year"
            ],
            [
             "<b>A $200 monthly child allowance in California</b><br>would lift 114,000 mothers (13%) out of poverty<br>and cost $21.0 billion per year"
            ],
            [
             "<b>A $200 monthly child allowance in Colorado</b><br>would lift 15,000 mothers (18%) out of poverty<br>and cost $3.0 billion per year"
            ],
            [
             "<b>A $200 monthly child allowance in Connecticut</b><br>would lift 15,000 mothers (25%) out of poverty<br>and cost $1.7 billion per year"
            ],
            [
             "<b>A $200 monthly child allowance in District of Columbia</b><br>would lift 3,000 mothers (21%) out of poverty<br>and cost $0.3 billion per year"
            ],
            [
             "<b>A $200 monthly child allowance in Delaware</b><br>would lift 1,000 mothers (13%) out of poverty<br>and cost $0.5 billion per year"
            ],
            [
             "<b>A $200 monthly child allowance in Florida</b><br>would lift 70,000 mothers (16%) out of poverty<br>and cost $10.1 billion per year"
            ],
            [
             "<b>A $200 monthly child allowance in Georgia</b><br>would lift 40,000 mothers (31%) out of poverty<br>and cost $6.0 billion per year"
            ],
            [
             "<b>A $200 monthly child allowance in Hawaii</b><br>would lift 4,000 mothers (19%) out of poverty<br>and cost $0.7 billion per year"
            ],
            [
             "<b>A $200 monthly child allowance in Iowa</b><br>would lift 17,000 mothers (63%) out of poverty<br>and cost $1.7 billion per year"
            ],
            [
             "<b>A $200 monthly child allowance in Idaho</b><br>would lift 5,000 mothers (49%) out of poverty<br>and cost $1.1 billion per year"
            ],
            [
             "<b>A $200 monthly child allowance in Illinois</b><br>would lift 37,000 mothers (29%) out of poverty<br>and cost $6.6 billion per year"
            ],
            [
             "<b>A $200 monthly child allowance in Indiana</b><br>would lift 11,000 mothers (16%) out of poverty<br>and cost $3.7 billion per year"
            ],
            [
             "<b>A $200 monthly child allowance in Kansas</b><br>would lift 10,000 mothers (50%) out of poverty<br>and cost $1.6 billion per year"
            ],
            [
             "<b>A $200 monthly child allowance in Kentucky</b><br>would lift 21,000 mothers (31%) out of poverty<br>and cost $2.4 billion per year"
            ],
            [
             "<b>A $200 monthly child allowance in Louisiana</b><br>would lift 11,000 mothers (17%) out of poverty<br>and cost $2.7 billion per year"
            ],
            [
             "<b>A $200 monthly child allowance in Massachusetts</b><br>would lift 26,000 mothers (29%) out of poverty<br>and cost $3.2 billion per year"
            ],
            [
             "<b>A $200 monthly child allowance in Maryland</b><br>would lift 16,000 mothers (15%) out of poverty<br>and cost $3.1 billion per year"
            ],
            [
             "<b>A $200 monthly child allowance in Maine</b><br>would lift 0,000 mothers (0%) out of poverty<br>and cost $0.6 billion per year"
            ],
            [
             "<b>A $200 monthly child allowance in Michigan</b><br>would lift 32,000 mothers (34%) out of poverty<br>and cost $5.1 billion per year"
            ],
            [
             "<b>A $200 monthly child allowance in Minnesota</b><br>would lift 10,000 mothers (26%) out of poverty<br>and cost $3.1 billion per year"
            ],
            [
             "<b>A $200 monthly child allowance in Missouri</b><br>would lift 34,000 mothers (51%) out of poverty<br>and cost $3.2 billion per year"
            ],
            [
             "<b>A $200 monthly child allowance in Mississippi</b><br>would lift 19,000 mothers (31%) out of poverty<br>and cost $1.6 billion per year"
            ],
            [
             "<b>A $200 monthly child allowance in Montana</b><br>would lift 1,000 mothers (16%) out of poverty<br>and cost $0.5 billion per year"
            ],
            [
             "<b>A $200 monthly child allowance in North Carolina</b><br>would lift 29,000 mothers (22%) out of poverty<br>and cost $5.4 billion per year"
            ],
            [
             "<b>A $200 monthly child allowance in North Dakota</b><br>would lift 2,000 mothers (55%) out of poverty<br>and cost $0.4 billion per year"
            ],
            [
             "<b>A $200 monthly child allowance in Nebraska</b><br>would lift 1,000 mothers (6%) out of poverty<br>and cost $1.1 billion per year"
            ],
            [
             "<b>A $200 monthly child allowance in New Hampshire</b><br>would lift 2,000 mothers (32%) out of poverty<br>and cost $0.6 billion per year"
            ],
            [
             "<b>A $200 monthly child allowance in New Jersey</b><br>would lift 7,000 mothers (5%) out of poverty<br>and cost $4.5 billion per year"
            ],
            [
             "<b>A $200 monthly child allowance in New Mexico</b><br>would lift 4,000 mothers (13%) out of poverty<br>and cost $1.1 billion per year"
            ],
            [
             "<b>A $200 monthly child allowance in Nevada</b><br>would lift 8,000 mothers (13%) out of poverty<br>and cost $1.7 billion per year"
            ],
            [
             "<b>A $200 monthly child allowance in New York</b><br>would lift 80,000 mothers (26%) out of poverty<br>and cost $9.6 billion per year"
            ],
            [
             "<b>A $200 monthly child allowance in Ohio</b><br>would lift 36,000 mothers (28%) out of poverty<br>and cost $6.1 billion per year"
            ],
            [
             "<b>A $200 monthly child allowance in Oklahoma</b><br>would lift 16,000 mothers (32%) out of poverty<br>and cost $2.3 billion per year"
            ],
            [
             "<b>A $200 monthly child allowance in Oregon</b><br>would lift 8,000 mothers (28%) out of poverty<br>and cost $2.0 billion per year"
            ],
            [
             "<b>A $200 monthly child allowance in Pennsylvania</b><br>would lift 39,000 mothers (29%) out of poverty<br>and cost $6.1 billion per year"
            ],
            [
             "<b>A $200 monthly child allowance in Rhode Island</b><br>would lift 5,000 mothers (43%) out of poverty<br>and cost $0.5 billion per year"
            ],
            [
             "<b>A $200 monthly child allowance in South Carolina</b><br>would lift 30,000 mothers (29%) out of poverty<br>and cost $2.7 billion per year"
            ],
            [
             "<b>A $200 monthly child allowance in South Dakota</b><br>would lift 2,000 mothers (27%) out of poverty<br>and cost $0.5 billion per year"
            ],
            [
             "<b>A $200 monthly child allowance in Tennessee</b><br>would lift 19,000 mothers (19%) out of poverty<br>and cost $3.6 billion per year"
            ],
            [
             "<b>A $200 monthly child allowance in Texas</b><br>would lift 96,000 mothers (20%) out of poverty<br>and cost $17.9 billion per year"
            ],
            [
             "<b>A $200 monthly child allowance in Utah</b><br>would lift 7,000 mothers (25%) out of poverty<br>and cost $2.2 billion per year"
            ],
            [
             "<b>A $200 monthly child allowance in Virginia</b><br>would lift 16,000 mothers (14%) out of poverty<br>and cost $4.4 billion per year"
            ],
            [
             "<b>A $200 monthly child allowance in Vermont</b><br>would lift 1,000 mothers (26%) out of poverty<br>and cost $0.3 billion per year"
            ],
            [
             "<b>A $200 monthly child allowance in Washington</b><br>would lift 25,000 mothers (37%) out of poverty<br>and cost $4.0 billion per year"
            ],
            [
             "<b>A $200 monthly child allowance in Wisconsin</b><br>would lift 10,000 mothers (37%) out of poverty<br>and cost $3.0 billion per year"
            ],
            [
             "<b>A $200 monthly child allowance in West Virginia</b><br>would lift 5,000 mothers (28%) out of poverty<br>and cost $0.8 billion per year"
            ],
            [
             "<b>A $200 monthly child allowance in Wyoming</b><br>would lift 1,000 mothers (31%) out of poverty<br>and cost $0.3 billion per year"
            ]
           ],
           "geo": "geo",
           "hovertemplate": "%{customdata[0]}<extra></extra>",
           "locationmode": "USA-states",
           "locations": [
            "AK",
            "AL",
            "AR",
            "AZ",
            "CA",
            "CO",
            "CT",
            "DC",
            "DE",
            "FL",
            "GA",
            "HI",
            "IA",
            "ID",
            "IL",
            "IN",
            "KS",
            "KY",
            "LA",
            "MA",
            "MD",
            "ME",
            "MI",
            "MN",
            "MO",
            "MS",
            "MT",
            "NC",
            "ND",
            "NE",
            "NH",
            "NJ",
            "NM",
            "NV",
            "NY",
            "OH",
            "OK",
            "OR",
            "PA",
            "RI",
            "SC",
            "SD",
            "TN",
            "TX",
            "UT",
            "VA",
            "VT",
            "WA",
            "WI",
            "WV",
            "WY"
           ],
           "name": "",
           "type": "choropleth",
           "z": [
            0.3795722911867497,
            0.1685971162052766,
            0.1490430037500832,
            0.14660806333857762,
            0.13981975264619786,
            0.18518914526286892,
            0.25593675036255353,
            0.21177345993984978,
            0.1349292392360216,
            0.16182236315896398,
            0.3103212120270092,
            0.19887541083220164,
            0.6348077587800441,
            0.49846362882877343,
            0.29385749632173097,
            0.16529145047440988,
            0.5082083609097353,
            0.3139793994344632,
            0.17614485376805236,
            0.29460706361765704,
            0.1584324460344331,
            0,
            0.34472091336303823,
            0.26679101478637024,
            0.5105876653272986,
            0.3130429218838074,
            0.1626109623756569,
            0.22866816287920033,
            0.5531365582843061,
            0.06792279066448485,
            0.32136863619288497,
            0.05270896941019968,
            0.13413069850987872,
            0.13480229617933842,
            0.26866992815146445,
            0.2871530828245633,
            0.32307061956395233,
            0.28147127281822804,
            0.29617322422300135,
            0.4392196808073616,
            0.2949242338617418,
            0.2759646320175635,
            0.1924951266786216,
            0.20762089434445768,
            0.2571297664051651,
            0.14769897385963549,
            0.26612180253623907,
            0.3715017452387707,
            0.377228565028407,
            0.2849696747582143,
            0.31329748202571556
           ]
          }
         ],
         "name": "200"
        },
        {
         "data": [
          {
           "coloraxis": "coloraxis",
           "customdata": [
            [
             "<b>A $210 monthly child allowance in Alaska</b><br>would lift 5,000 mothers (52%) out of poverty<br>and cost $0.5 billion per year"
            ],
            [
             "<b>A $210 monthly child allowance in Alabama</b><br>would lift 13,000 mothers (19%) out of poverty<br>and cost $2.8 billion per year"
            ],
            [
             "<b>A $210 monthly child allowance in Arkansas</b><br>would lift 9,000 mothers (17%) out of poverty<br>and cost $1.7 billion per year"
            ],
            [
             "<b>A $210 monthly child allowance in Arizona</b><br>would lift 11,000 mothers (14%) out of poverty<br>and cost $4.2 billion per year"
            ],
            [
             "<b>A $210 monthly child allowance in California</b><br>would lift 122,000 mothers (15%) out of poverty<br>and cost $22.1 billion per year"
            ],
            [
             "<b>A $210 monthly child allowance in Colorado</b><br>would lift 15,000 mothers (18%) out of poverty<br>and cost $3.2 billion per year"
            ],
            [
             "<b>A $210 monthly child allowance in Connecticut</b><br>would lift 15,000 mothers (25%) out of poverty<br>and cost $1.7 billion per year"
            ],
            [
             "<b>A $210 monthly child allowance in District of Columbia</b><br>would lift 3,000 mothers (21%) out of poverty<br>and cost $0.3 billion per year"
            ],
            [
             "<b>A $210 monthly child allowance in Delaware</b><br>would lift 1,000 mothers (13%) out of poverty<br>and cost $0.5 billion per year"
            ],
            [
             "<b>A $210 monthly child allowance in Florida</b><br>would lift 70,000 mothers (16%) out of poverty<br>and cost $10.6 billion per year"
            ],
            [
             "<b>A $210 monthly child allowance in Georgia</b><br>would lift 40,000 mothers (31%) out of poverty<br>and cost $6.3 billion per year"
            ],
            [
             "<b>A $210 monthly child allowance in Hawaii</b><br>would lift 6,000 mothers (27%) out of poverty<br>and cost $0.8 billion per year"
            ],
            [
             "<b>A $210 monthly child allowance in Iowa</b><br>would lift 17,000 mothers (63%) out of poverty<br>and cost $1.8 billion per year"
            ],
            [
             "<b>A $210 monthly child allowance in Idaho</b><br>would lift 6,000 mothers (60%) out of poverty<br>and cost $1.1 billion per year"
            ],
            [
             "<b>A $210 monthly child allowance in Illinois</b><br>would lift 37,000 mothers (29%) out of poverty<br>and cost $7.0 billion per year"
            ],
            [
             "<b>A $210 monthly child allowance in Indiana</b><br>would lift 11,000 mothers (16%) out of poverty<br>and cost $3.9 billion per year"
            ],
            [
             "<b>A $210 monthly child allowance in Kansas</b><br>would lift 13,000 mothers (63%) out of poverty<br>and cost $1.7 billion per year"
            ],
            [
             "<b>A $210 monthly child allowance in Kentucky</b><br>would lift 21,000 mothers (31%) out of poverty<br>and cost $2.5 billion per year"
            ],
            [
             "<b>A $210 monthly child allowance in Louisiana</b><br>would lift 11,000 mothers (17%) out of poverty<br>and cost $2.8 billion per year"
            ],
            [
             "<b>A $210 monthly child allowance in Massachusetts</b><br>would lift 26,000 mothers (29%) out of poverty<br>and cost $3.4 billion per year"
            ],
            [
             "<b>A $210 monthly child allowance in Maryland</b><br>would lift 16,000 mothers (15%) out of poverty<br>and cost $3.3 billion per year"
            ],
            [
             "<b>A $210 monthly child allowance in Maine</b><br>would lift 0,000 mothers (0%) out of poverty<br>and cost $0.6 billion per year"
            ],
            [
             "<b>A $210 monthly child allowance in Michigan</b><br>would lift 32,000 mothers (34%) out of poverty<br>and cost $5.3 billion per year"
            ],
            [
             "<b>A $210 monthly child allowance in Minnesota</b><br>would lift 10,000 mothers (26%) out of poverty<br>and cost $3.3 billion per year"
            ],
            [
             "<b>A $210 monthly child allowance in Missouri</b><br>would lift 34,000 mothers (51%) out of poverty<br>and cost $3.4 billion per year"
            ],
            [
             "<b>A $210 monthly child allowance in Mississippi</b><br>would lift 19,000 mothers (31%) out of poverty<br>and cost $1.7 billion per year"
            ],
            [
             "<b>A $210 monthly child allowance in Montana</b><br>would lift 1,000 mothers (16%) out of poverty<br>and cost $0.6 billion per year"
            ],
            [
             "<b>A $210 monthly child allowance in North Carolina</b><br>would lift 29,000 mothers (22%) out of poverty<br>and cost $5.7 billion per year"
            ],
            [
             "<b>A $210 monthly child allowance in North Dakota</b><br>would lift 2,000 mothers (55%) out of poverty<br>and cost $0.5 billion per year"
            ],
            [
             "<b>A $210 monthly child allowance in Nebraska</b><br>would lift 1,000 mothers (6%) out of poverty<br>and cost $1.2 billion per year"
            ],
            [
             "<b>A $210 monthly child allowance in New Hampshire</b><br>would lift 2,000 mothers (32%) out of poverty<br>and cost $0.6 billion per year"
            ],
            [
             "<b>A $210 monthly child allowance in New Jersey</b><br>would lift 7,000 mothers (5%) out of poverty<br>and cost $4.7 billion per year"
            ],
            [
             "<b>A $210 monthly child allowance in New Mexico</b><br>would lift 7,000 mothers (20%) out of poverty<br>and cost $1.2 billion per year"
            ],
            [
             "<b>A $210 monthly child allowance in Nevada</b><br>would lift 8,000 mothers (13%) out of poverty<br>and cost $1.8 billion per year"
            ],
            [
             "<b>A $210 monthly child allowance in New York</b><br>would lift 80,000 mothers (26%) out of poverty<br>and cost $10.1 billion per year"
            ],
            [
             "<b>A $210 monthly child allowance in Ohio</b><br>would lift 36,000 mothers (28%) out of poverty<br>and cost $6.4 billion per year"
            ],
            [
             "<b>A $210 monthly child allowance in Oklahoma</b><br>would lift 16,000 mothers (32%) out of poverty<br>and cost $2.4 billion per year"
            ],
            [
             "<b>A $210 monthly child allowance in Oregon</b><br>would lift 8,000 mothers (28%) out of poverty<br>and cost $2.1 billion per year"
            ],
            [
             "<b>A $210 monthly child allowance in Pennsylvania</b><br>would lift 39,000 mothers (29%) out of poverty<br>and cost $6.4 billion per year"
            ],
            [
             "<b>A $210 monthly child allowance in Rhode Island</b><br>would lift 5,000 mothers (43%) out of poverty<br>and cost $0.5 billion per year"
            ],
            [
             "<b>A $210 monthly child allowance in South Carolina</b><br>would lift 30,000 mothers (29%) out of poverty<br>and cost $2.8 billion per year"
            ],
            [
             "<b>A $210 monthly child allowance in South Dakota</b><br>would lift 3,000 mothers (35%) out of poverty<br>and cost $0.6 billion per year"
            ],
            [
             "<b>A $210 monthly child allowance in Tennessee</b><br>would lift 19,000 mothers (19%) out of poverty<br>and cost $3.8 billion per year"
            ],
            [
             "<b>A $210 monthly child allowance in Texas</b><br>would lift 96,000 mothers (20%) out of poverty<br>and cost $18.8 billion per year"
            ],
            [
             "<b>A $210 monthly child allowance in Utah</b><br>would lift 7,000 mothers (25%) out of poverty<br>and cost $2.3 billion per year"
            ],
            [
             "<b>A $210 monthly child allowance in Virginia</b><br>would lift 20,000 mothers (18%) out of poverty<br>and cost $4.6 billion per year"
            ],
            [
             "<b>A $210 monthly child allowance in Vermont</b><br>would lift 1,000 mothers (26%) out of poverty<br>and cost $0.3 billion per year"
            ],
            [
             "<b>A $210 monthly child allowance in Washington</b><br>would lift 25,000 mothers (37%) out of poverty<br>and cost $4.2 billion per year"
            ],
            [
             "<b>A $210 monthly child allowance in Wisconsin</b><br>would lift 10,000 mothers (37%) out of poverty<br>and cost $3.1 billion per year"
            ],
            [
             "<b>A $210 monthly child allowance in West Virginia</b><br>would lift 5,000 mothers (28%) out of poverty<br>and cost $0.9 billion per year"
            ],
            [
             "<b>A $210 monthly child allowance in Wyoming</b><br>would lift 1,000 mothers (31%) out of poverty<br>and cost $0.3 billion per year"
            ]
           ],
           "geo": "geo",
           "hovertemplate": "%{customdata[0]}<extra></extra>",
           "locationmode": "USA-states",
           "locations": [
            "AK",
            "AL",
            "AR",
            "AZ",
            "CA",
            "CO",
            "CT",
            "DC",
            "DE",
            "FL",
            "GA",
            "HI",
            "IA",
            "ID",
            "IL",
            "IN",
            "KS",
            "KY",
            "LA",
            "MA",
            "MD",
            "ME",
            "MI",
            "MN",
            "MO",
            "MS",
            "MT",
            "NC",
            "ND",
            "NE",
            "NH",
            "NJ",
            "NM",
            "NV",
            "NY",
            "OH",
            "OK",
            "OR",
            "PA",
            "RI",
            "SC",
            "SD",
            "TN",
            "TX",
            "UT",
            "VA",
            "VT",
            "WA",
            "WI",
            "WV",
            "WY"
           ],
           "name": "",
           "type": "choropleth",
           "z": [
            0.5239800714423813,
            0.19080219337920537,
            0.17287417022781026,
            0.14660806333857762,
            0.15031442674783974,
            0.18518914526286892,
            0.25593675036255353,
            0.21177345993984978,
            0.1349292392360216,
            0.16182236315896398,
            0.3103212120270092,
            0.2774857000536978,
            0.6348077587800441,
            0.6014768770179171,
            0.29385749632173097,
            0.16529145047440988,
            0.6362278447509232,
            0.3139793994344632,
            0.17614485376805236,
            0.29460706361765704,
            0.1584324460344331,
            0,
            0.34472091336303823,
            0.26679101478637024,
            0.5105876653272986,
            0.3130429218838074,
            0.1626109623756569,
            0.22866816287920033,
            0.5531365582843061,
            0.06792279066448485,
            0.32136863619288497,
            0.05270896941019968,
            0.2042443227140067,
            0.13480229617933842,
            0.26866992815146445,
            0.2871530828245633,
            0.32307061956395233,
            0.28147127281822804,
            0.29617322422300135,
            0.4392196808073616,
            0.2949242338617418,
            0.35841603001041583,
            0.1924951266786216,
            0.20762089434445768,
            0.2571297664051651,
            0.1823128430893437,
            0.26612180253623907,
            0.3715017452387707,
            0.377228565028407,
            0.2849696747582143,
            0.31329748202571556
           ]
          }
         ],
         "name": "210"
        },
        {
         "data": [
          {
           "coloraxis": "coloraxis",
           "customdata": [
            [
             "<b>A $220 monthly child allowance in Alaska</b><br>would lift 5,000 mothers (52%) out of poverty<br>and cost $0.5 billion per year"
            ],
            [
             "<b>A $220 monthly child allowance in Alabama</b><br>would lift 13,000 mothers (19%) out of poverty<br>and cost $2.9 billion per year"
            ],
            [
             "<b>A $220 monthly child allowance in Arkansas</b><br>would lift 12,000 mothers (23%) out of poverty<br>and cost $1.8 billion per year"
            ],
            [
             "<b>A $220 monthly child allowance in Arizona</b><br>would lift 11,000 mothers (14%) out of poverty<br>and cost $4.4 billion per year"
            ],
            [
             "<b>A $220 monthly child allowance in California</b><br>would lift 122,000 mothers (15%) out of poverty<br>and cost $23.1 billion per year"
            ],
            [
             "<b>A $220 monthly child allowance in Colorado</b><br>would lift 15,000 mothers (18%) out of poverty<br>and cost $3.3 billion per year"
            ],
            [
             "<b>A $220 monthly child allowance in Connecticut</b><br>would lift 22,000 mothers (38%) out of poverty<br>and cost $1.8 billion per year"
            ],
            [
             "<b>A $220 monthly child allowance in District of Columbia</b><br>would lift 3,000 mothers (25%) out of poverty<br>and cost $0.3 billion per year"
            ],
            [
             "<b>A $220 monthly child allowance in Delaware</b><br>would lift 1,000 mothers (13%) out of poverty<br>and cost $0.5 billion per year"
            ],
            [
             "<b>A $220 monthly child allowance in Florida</b><br>would lift 78,000 mothers (17%) out of poverty<br>and cost $11.2 billion per year"
            ],
            [
             "<b>A $220 monthly child allowance in Georgia</b><br>would lift 40,000 mothers (31%) out of poverty<br>and cost $6.6 billion per year"
            ],
            [
             "<b>A $220 monthly child allowance in Hawaii</b><br>would lift 6,000 mothers (27%) out of poverty<br>and cost $0.8 billion per year"
            ],
            [
             "<b>A $220 monthly child allowance in Iowa</b><br>would lift 17,000 mothers (63%) out of poverty<br>and cost $1.9 billion per year"
            ],
            [
             "<b>A $220 monthly child allowance in Idaho</b><br>would lift 6,000 mothers (60%) out of poverty<br>and cost $1.2 billion per year"
            ],
            [
             "<b>A $220 monthly child allowance in Illinois</b><br>would lift 41,000 mothers (32%) out of poverty<br>and cost $7.3 billion per year"
            ],
            [
             "<b>A $220 monthly child allowance in Indiana</b><br>would lift 11,000 mothers (16%) out of poverty<br>and cost $4.1 billion per year"
            ],
            [
             "<b>A $220 monthly child allowance in Kansas</b><br>would lift 13,000 mothers (63%) out of poverty<br>and cost $1.8 billion per year"
            ],
            [
             "<b>A $220 monthly child allowance in Kentucky</b><br>would lift 21,000 mothers (31%) out of poverty<br>and cost $2.7 billion per year"
            ],
            [
             "<b>A $220 monthly child allowance in Louisiana</b><br>would lift 11,000 mothers (17%) out of poverty<br>and cost $2.9 billion per year"
            ],
            [
             "<b>A $220 monthly child allowance in Massachusetts</b><br>would lift 26,000 mothers (29%) out of poverty<br>and cost $3.6 billion per year"
            ],
            [
             "<b>A $220 monthly child allowance in Maryland</b><br>would lift 16,000 mothers (15%) out of poverty<br>and cost $3.4 billion per year"
            ],
            [
             "<b>A $220 monthly child allowance in Maine</b><br>would lift 0,000 mothers (0%) out of poverty<br>and cost $0.6 billion per year"
            ],
            [
             "<b>A $220 monthly child allowance in Michigan</b><br>would lift 32,000 mothers (34%) out of poverty<br>and cost $5.6 billion per year"
            ],
            [
             "<b>A $220 monthly child allowance in Minnesota</b><br>would lift 10,000 mothers (26%) out of poverty<br>and cost $3.5 billion per year"
            ],
            [
             "<b>A $220 monthly child allowance in Missouri</b><br>would lift 34,000 mothers (51%) out of poverty<br>and cost $3.5 billion per year"
            ],
            [
             "<b>A $220 monthly child allowance in Mississippi</b><br>would lift 22,000 mothers (36%) out of poverty<br>and cost $1.8 billion per year"
            ],
            [
             "<b>A $220 monthly child allowance in Montana</b><br>would lift 2,000 mothers (32%) out of poverty<br>and cost $0.6 billion per year"
            ],
            [
             "<b>A $220 monthly child allowance in North Carolina</b><br>would lift 33,000 mothers (26%) out of poverty<br>and cost $6.0 billion per year"
            ],
            [
             "<b>A $220 monthly child allowance in North Dakota</b><br>would lift 2,000 mothers (55%) out of poverty<br>and cost $0.5 billion per year"
            ],
            [
             "<b>A $220 monthly child allowance in Nebraska</b><br>would lift 1,000 mothers (6%) out of poverty<br>and cost $1.3 billion per year"
            ],
            [
             "<b>A $220 monthly child allowance in New Hampshire</b><br>would lift 2,000 mothers (32%) out of poverty<br>and cost $0.6 billion per year"
            ],
            [
             "<b>A $220 monthly child allowance in New Jersey</b><br>would lift 7,000 mothers (5%) out of poverty<br>and cost $5.0 billion per year"
            ],
            [
             "<b>A $220 monthly child allowance in New Mexico</b><br>would lift 7,000 mothers (20%) out of poverty<br>and cost $1.2 billion per year"
            ],
            [
             "<b>A $220 monthly child allowance in Nevada</b><br>would lift 8,000 mothers (13%) out of poverty<br>and cost $1.9 billion per year"
            ],
            [
             "<b>A $220 monthly child allowance in New York</b><br>would lift 83,000 mothers (28%) out of poverty<br>and cost $10.6 billion per year"
            ],
            [
             "<b>A $220 monthly child allowance in Ohio</b><br>would lift 36,000 mothers (28%) out of poverty<br>and cost $6.7 billion per year"
            ],
            [
             "<b>A $220 monthly child allowance in Oklahoma</b><br>would lift 16,000 mothers (32%) out of poverty<br>and cost $2.5 billion per year"
            ],
            [
             "<b>A $220 monthly child allowance in Oregon</b><br>would lift 8,000 mothers (28%) out of poverty<br>and cost $2.3 billion per year"
            ],
            [
             "<b>A $220 monthly child allowance in Pennsylvania</b><br>would lift 39,000 mothers (29%) out of poverty<br>and cost $6.7 billion per year"
            ],
            [
             "<b>A $220 monthly child allowance in Rhode Island</b><br>would lift 5,000 mothers (43%) out of poverty<br>and cost $0.5 billion per year"
            ],
            [
             "<b>A $220 monthly child allowance in South Carolina</b><br>would lift 30,000 mothers (29%) out of poverty<br>and cost $2.9 billion per year"
            ],
            [
             "<b>A $220 monthly child allowance in South Dakota</b><br>would lift 3,000 mothers (35%) out of poverty<br>and cost $0.6 billion per year"
            ],
            [
             "<b>A $220 monthly child allowance in Tennessee</b><br>would lift 23,000 mothers (23%) out of poverty<br>and cost $4.0 billion per year"
            ],
            [
             "<b>A $220 monthly child allowance in Texas</b><br>would lift 101,000 mothers (21%) out of poverty<br>and cost $19.7 billion per year"
            ],
            [
             "<b>A $220 monthly child allowance in Utah</b><br>would lift 7,000 mothers (25%) out of poverty<br>and cost $2.5 billion per year"
            ],
            [
             "<b>A $220 monthly child allowance in Virginia</b><br>would lift 20,000 mothers (18%) out of poverty<br>and cost $4.8 billion per year"
            ],
            [
             "<b>A $220 monthly child allowance in Vermont</b><br>would lift 1,000 mothers (26%) out of poverty<br>and cost $0.3 billion per year"
            ],
            [
             "<b>A $220 monthly child allowance in Washington</b><br>would lift 25,000 mothers (37%) out of poverty<br>and cost $4.4 billion per year"
            ],
            [
             "<b>A $220 monthly child allowance in Wisconsin</b><br>would lift 10,000 mothers (37%) out of poverty<br>and cost $3.3 billion per year"
            ],
            [
             "<b>A $220 monthly child allowance in West Virginia</b><br>would lift 5,000 mothers (28%) out of poverty<br>and cost $0.9 billion per year"
            ],
            [
             "<b>A $220 monthly child allowance in Wyoming</b><br>would lift 1,000 mothers (31%) out of poverty<br>and cost $0.4 billion per year"
            ]
           ],
           "geo": "geo",
           "hovertemplate": "%{customdata[0]}<extra></extra>",
           "locationmode": "USA-states",
           "locations": [
            "AK",
            "AL",
            "AR",
            "AZ",
            "CA",
            "CO",
            "CT",
            "DC",
            "DE",
            "FL",
            "GA",
            "HI",
            "IA",
            "ID",
            "IL",
            "IN",
            "KS",
            "KY",
            "LA",
            "MA",
            "MD",
            "ME",
            "MI",
            "MN",
            "MO",
            "MS",
            "MT",
            "NC",
            "ND",
            "NE",
            "NH",
            "NJ",
            "NM",
            "NV",
            "NY",
            "OH",
            "OK",
            "OR",
            "PA",
            "RI",
            "SC",
            "SD",
            "TN",
            "TX",
            "UT",
            "VA",
            "VT",
            "WA",
            "WI",
            "WV",
            "WY"
           ],
           "name": "",
           "type": "choropleth",
           "z": [
            0.5239800714423813,
            0.19080219337920537,
            0.230961265928168,
            0.14660806333857762,
            0.15031442674783974,
            0.18518914526286892,
            0.3823292659542629,
            0.2585381346508286,
            0.1349292392360216,
            0.1791996502463698,
            0.3103212120270092,
            0.2774857000536978,
            0.6348077587800441,
            0.6014768770179171,
            0.32997427673191015,
            0.16529145047440988,
            0.6362278447509232,
            0.3139793994344632,
            0.17614485376805236,
            0.29460706361765704,
            0.1584324460344331,
            0,
            0.34472091336303823,
            0.26679101478637024,
            0.5105876653272986,
            0.36182198715774533,
            0.32920373410023385,
            0.2659196217594202,
            0.5531365582843061,
            0.06792279066448485,
            0.32136863619288497,
            0.05270896941019968,
            0.2042443227140067,
            0.13480229617933842,
            0.28171826364208563,
            0.2871530828245633,
            0.32307061956395233,
            0.28147127281822804,
            0.29617322422300135,
            0.4392196808073616,
            0.2949242338617418,
            0.35841603001041583,
            0.23108050870966326,
            0.21686987070033747,
            0.2571297664051651,
            0.1823128430893437,
            0.26612180253623907,
            0.3715017452387707,
            0.377228565028407,
            0.2849696747582143,
            0.31329748202571556
           ]
          }
         ],
         "name": "220"
        },
        {
         "data": [
          {
           "coloraxis": "coloraxis",
           "customdata": [
            [
             "<b>A $230 monthly child allowance in Alaska</b><br>would lift 5,000 mothers (52%) out of poverty<br>and cost $0.5 billion per year"
            ],
            [
             "<b>A $230 monthly child allowance in Alabama</b><br>would lift 13,000 mothers (19%) out of poverty<br>and cost $3.1 billion per year"
            ],
            [
             "<b>A $230 monthly child allowance in Arkansas</b><br>would lift 13,000 mothers (25%) out of poverty<br>and cost $1.9 billion per year"
            ],
            [
             "<b>A $230 monthly child allowance in Arizona</b><br>would lift 11,000 mothers (14%) out of poverty<br>and cost $4.6 billion per year"
            ],
            [
             "<b>A $230 monthly child allowance in California</b><br>would lift 126,000 mothers (15%) out of poverty<br>and cost $24.2 billion per year"
            ],
            [
             "<b>A $230 monthly child allowance in Colorado</b><br>would lift 15,000 mothers (18%) out of poverty<br>and cost $3.5 billion per year"
            ],
            [
             "<b>A $230 monthly child allowance in Connecticut</b><br>would lift 22,000 mothers (38%) out of poverty<br>and cost $1.9 billion per year"
            ],
            [
             "<b>A $230 monthly child allowance in District of Columbia</b><br>would lift 3,000 mothers (25%) out of poverty<br>and cost $0.4 billion per year"
            ],
            [
             "<b>A $230 monthly child allowance in Delaware</b><br>would lift 1,000 mothers (13%) out of poverty<br>and cost $0.5 billion per year"
            ],
            [
             "<b>A $230 monthly child allowance in Florida</b><br>would lift 87,000 mothers (20%) out of poverty<br>and cost $11.7 billion per year"
            ],
            [
             "<b>A $230 monthly child allowance in Georgia</b><br>would lift 40,000 mothers (31%) out of poverty<br>and cost $6.9 billion per year"
            ],
            [
             "<b>A $230 monthly child allowance in Hawaii</b><br>would lift 6,000 mothers (27%) out of poverty<br>and cost $0.8 billion per year"
            ],
            [
             "<b>A $230 monthly child allowance in Iowa</b><br>would lift 17,000 mothers (63%) out of poverty<br>and cost $2.0 billion per year"
            ],
            [
             "<b>A $230 monthly child allowance in Idaho</b><br>would lift 6,000 mothers (60%) out of poverty<br>and cost $1.2 billion per year"
            ],
            [
             "<b>A $230 monthly child allowance in Illinois</b><br>would lift 41,000 mothers (32%) out of poverty<br>and cost $7.6 billion per year"
            ],
            [
             "<b>A $230 monthly child allowance in Indiana</b><br>would lift 11,000 mothers (16%) out of poverty<br>and cost $4.3 billion per year"
            ],
            [
             "<b>A $230 monthly child allowance in Kansas</b><br>would lift 13,000 mothers (63%) out of poverty<br>and cost $1.9 billion per year"
            ],
            [
             "<b>A $230 monthly child allowance in Kentucky</b><br>would lift 21,000 mothers (31%) out of poverty<br>and cost $2.8 billion per year"
            ],
            [
             "<b>A $230 monthly child allowance in Louisiana</b><br>would lift 11,000 mothers (17%) out of poverty<br>and cost $3.1 billion per year"
            ],
            [
             "<b>A $230 monthly child allowance in Massachusetts</b><br>would lift 26,000 mothers (29%) out of poverty<br>and cost $3.7 billion per year"
            ],
            [
             "<b>A $230 monthly child allowance in Maryland</b><br>would lift 16,000 mothers (15%) out of poverty<br>and cost $3.6 billion per year"
            ],
            [
             "<b>A $230 monthly child allowance in Maine</b><br>would lift 0,000 mothers (0%) out of poverty<br>and cost $0.6 billion per year"
            ],
            [
             "<b>A $230 monthly child allowance in Michigan</b><br>would lift 32,000 mothers (34%) out of poverty<br>and cost $5.8 billion per year"
            ],
            [
             "<b>A $230 monthly child allowance in Minnesota</b><br>would lift 10,000 mothers (26%) out of poverty<br>and cost $3.6 billion per year"
            ],
            [
             "<b>A $230 monthly child allowance in Missouri</b><br>would lift 34,000 mothers (51%) out of poverty<br>and cost $3.7 billion per year"
            ],
            [
             "<b>A $230 monthly child allowance in Mississippi</b><br>would lift 22,000 mothers (36%) out of poverty<br>and cost $1.9 billion per year"
            ],
            [
             "<b>A $230 monthly child allowance in Montana</b><br>would lift 2,000 mothers (32%) out of poverty<br>and cost $0.6 billion per year"
            ],
            [
             "<b>A $230 monthly child allowance in North Carolina</b><br>would lift 33,000 mothers (26%) out of poverty<br>and cost $6.3 billion per year"
            ],
            [
             "<b>A $230 monthly child allowance in North Dakota</b><br>would lift 2,000 mothers (55%) out of poverty<br>and cost $0.5 billion per year"
            ],
            [
             "<b>A $230 monthly child allowance in Nebraska</b><br>would lift 1,000 mothers (6%) out of poverty<br>and cost $1.3 billion per year"
            ],
            [
             "<b>A $230 monthly child allowance in New Hampshire</b><br>would lift 2,000 mothers (32%) out of poverty<br>and cost $0.7 billion per year"
            ],
            [
             "<b>A $230 monthly child allowance in New Jersey</b><br>would lift 7,000 mothers (5%) out of poverty<br>and cost $5.2 billion per year"
            ],
            [
             "<b>A $230 monthly child allowance in New Mexico</b><br>would lift 7,000 mothers (20%) out of poverty<br>and cost $1.3 billion per year"
            ],
            [
             "<b>A $230 monthly child allowance in Nevada</b><br>would lift 8,000 mothers (13%) out of poverty<br>and cost $2.0 billion per year"
            ],
            [
             "<b>A $230 monthly child allowance in New York</b><br>would lift 83,000 mothers (28%) out of poverty<br>and cost $11.1 billion per year"
            ],
            [
             "<b>A $230 monthly child allowance in Ohio</b><br>would lift 36,000 mothers (28%) out of poverty<br>and cost $7.0 billion per year"
            ],
            [
             "<b>A $230 monthly child allowance in Oklahoma</b><br>would lift 16,000 mothers (32%) out of poverty<br>and cost $2.7 billion per year"
            ],
            [
             "<b>A $230 monthly child allowance in Oregon</b><br>would lift 8,000 mothers (28%) out of poverty<br>and cost $2.4 billion per year"
            ],
            [
             "<b>A $230 monthly child allowance in Pennsylvania</b><br>would lift 44,000 mothers (33%) out of poverty<br>and cost $7.0 billion per year"
            ],
            [
             "<b>A $230 monthly child allowance in Rhode Island</b><br>would lift 5,000 mothers (43%) out of poverty<br>and cost $0.6 billion per year"
            ],
            [
             "<b>A $230 monthly child allowance in South Carolina</b><br>would lift 30,000 mothers (29%) out of poverty<br>and cost $3.1 billion per year"
            ],
            [
             "<b>A $230 monthly child allowance in South Dakota</b><br>would lift 3,000 mothers (35%) out of poverty<br>and cost $0.6 billion per year"
            ],
            [
             "<b>A $230 monthly child allowance in Tennessee</b><br>would lift 23,000 mothers (23%) out of poverty<br>and cost $4.2 billion per year"
            ],
            [
             "<b>A $230 monthly child allowance in Texas</b><br>would lift 101,000 mothers (21%) out of poverty<br>and cost $20.6 billion per year"
            ],
            [
             "<b>A $230 monthly child allowance in Utah</b><br>would lift 7,000 mothers (25%) out of poverty<br>and cost $2.6 billion per year"
            ],
            [
             "<b>A $230 monthly child allowance in Virginia</b><br>would lift 20,000 mothers (18%) out of poverty<br>and cost $5.1 billion per year"
            ],
            [
             "<b>A $230 monthly child allowance in Vermont</b><br>would lift 1,000 mothers (26%) out of poverty<br>and cost $0.3 billion per year"
            ],
            [
             "<b>A $230 monthly child allowance in Washington</b><br>would lift 28,000 mothers (41%) out of poverty<br>and cost $4.6 billion per year"
            ],
            [
             "<b>A $230 monthly child allowance in Wisconsin</b><br>would lift 10,000 mothers (37%) out of poverty<br>and cost $3.4 billion per year"
            ],
            [
             "<b>A $230 monthly child allowance in West Virginia</b><br>would lift 5,000 mothers (28%) out of poverty<br>and cost $1.0 billion per year"
            ],
            [
             "<b>A $230 monthly child allowance in Wyoming</b><br>would lift 1,000 mothers (31%) out of poverty<br>and cost $0.4 billion per year"
            ]
           ],
           "geo": "geo",
           "hovertemplate": "%{customdata[0]}<extra></extra>",
           "locationmode": "USA-states",
           "locations": [
            "AK",
            "AL",
            "AR",
            "AZ",
            "CA",
            "CO",
            "CT",
            "DC",
            "DE",
            "FL",
            "GA",
            "HI",
            "IA",
            "ID",
            "IL",
            "IN",
            "KS",
            "KY",
            "LA",
            "MA",
            "MD",
            "ME",
            "MI",
            "MN",
            "MO",
            "MS",
            "MT",
            "NC",
            "ND",
            "NE",
            "NH",
            "NJ",
            "NM",
            "NV",
            "NY",
            "OH",
            "OK",
            "OR",
            "PA",
            "RI",
            "SC",
            "SD",
            "TN",
            "TX",
            "UT",
            "VA",
            "VT",
            "WA",
            "WI",
            "WV",
            "WY"
           ],
           "name": "",
           "type": "choropleth",
           "z": [
            0.5239800714423813,
            0.19080219337920537,
            0.25746572200317336,
            0.14660806333857762,
            0.1550384818684712,
            0.18518914526286892,
            0.3823292659542629,
            0.2585381346508286,
            0.1349292392360216,
            0.2001395042069145,
            0.3103212120270092,
            0.2774857000536978,
            0.6348077587800441,
            0.6014768770179171,
            0.32997427673191015,
            0.16529145047440988,
            0.6362278447509232,
            0.3139793994344632,
            0.17614485376805236,
            0.29460706361765704,
            0.1584324460344331,
            0,
            0.34472091336303823,
            0.26679101478637024,
            0.5105876653272986,
            0.36182198715774533,
            0.32920373410023385,
            0.2659196217594202,
            0.5531365582843061,
            0.06792279066448485,
            0.32136863619288497,
            0.05270896941019968,
            0.2042443227140067,
            0.13480229617933842,
            0.28171826364208563,
            0.2871530828245633,
            0.32307061956395233,
            0.28147127281822804,
            0.33495493180638647,
            0.4392196808073616,
            0.2949242338617418,
            0.35841603001041583,
            0.23108050870966326,
            0.21686987070033747,
            0.2571297664051651,
            0.1823128430893437,
            0.26612180253623907,
            0.41352006211164954,
            0.377228565028407,
            0.2849696747582143,
            0.31329748202571556
           ]
          }
         ],
         "name": "230"
        },
        {
         "data": [
          {
           "coloraxis": "coloraxis",
           "customdata": [
            [
             "<b>A $240 monthly child allowance in Alaska</b><br>would lift 5,000 mothers (52%) out of poverty<br>and cost $0.5 billion per year"
            ],
            [
             "<b>A $240 monthly child allowance in Alabama</b><br>would lift 13,000 mothers (19%) out of poverty<br>and cost $3.2 billion per year"
            ],
            [
             "<b>A $240 monthly child allowance in Arkansas</b><br>would lift 13,000 mothers (25%) out of poverty<br>and cost $2.0 billion per year"
            ],
            [
             "<b>A $240 monthly child allowance in Arizona</b><br>would lift 15,000 mothers (19%) out of poverty<br>and cost $4.8 billion per year"
            ],
            [
             "<b>A $240 monthly child allowance in California</b><br>would lift 129,000 mothers (15%) out of poverty<br>and cost $25.2 billion per year"
            ],
            [
             "<b>A $240 monthly child allowance in Colorado</b><br>would lift 15,000 mothers (18%) out of poverty<br>and cost $3.6 billion per year"
            ],
            [
             "<b>A $240 monthly child allowance in Connecticut</b><br>would lift 22,000 mothers (38%) out of poverty<br>and cost $2.0 billion per year"
            ],
            [
             "<b>A $240 monthly child allowance in District of Columbia</b><br>would lift 3,000 mothers (25%) out of poverty<br>and cost $0.4 billion per year"
            ],
            [
             "<b>A $240 monthly child allowance in Delaware</b><br>would lift 1,000 mothers (13%) out of poverty<br>and cost $0.6 billion per year"
            ],
            [
             "<b>A $240 monthly child allowance in Florida</b><br>would lift 96,000 mothers (22%) out of poverty<br>and cost $12.2 billion per year"
            ],
            [
             "<b>A $240 monthly child allowance in Georgia</b><br>would lift 40,000 mothers (31%) out of poverty<br>and cost $7.2 billion per year"
            ],
            [
             "<b>A $240 monthly child allowance in Hawaii</b><br>would lift 6,000 mothers (27%) out of poverty<br>and cost $0.9 billion per year"
            ],
            [
             "<b>A $240 monthly child allowance in Iowa</b><br>would lift 17,000 mothers (63%) out of poverty<br>and cost $2.1 billion per year"
            ],
            [
             "<b>A $240 monthly child allowance in Idaho</b><br>would lift 6,000 mothers (60%) out of poverty<br>and cost $1.3 billion per year"
            ],
            [
             "<b>A $240 monthly child allowance in Illinois</b><br>would lift 41,000 mothers (32%) out of poverty<br>and cost $8.0 billion per year"
            ],
            [
             "<b>A $240 monthly child allowance in Indiana</b><br>would lift 11,000 mothers (16%) out of poverty<br>and cost $4.5 billion per year"
            ],
            [
             "<b>A $240 monthly child allowance in Kansas</b><br>would lift 13,000 mothers (63%) out of poverty<br>and cost $1.9 billion per year"
            ],
            [
             "<b>A $240 monthly child allowance in Kentucky</b><br>would lift 21,000 mothers (31%) out of poverty<br>and cost $2.9 billion per year"
            ],
            [
             "<b>A $240 monthly child allowance in Louisiana</b><br>would lift 11,000 mothers (17%) out of poverty<br>and cost $3.2 billion per year"
            ],
            [
             "<b>A $240 monthly child allowance in Massachusetts</b><br>would lift 26,000 mothers (29%) out of poverty<br>and cost $3.9 billion per year"
            ],
            [
             "<b>A $240 monthly child allowance in Maryland</b><br>would lift 16,000 mothers (15%) out of poverty<br>and cost $3.7 billion per year"
            ],
            [
             "<b>A $240 monthly child allowance in Maine</b><br>would lift 0,000 mothers (0%) out of poverty<br>and cost $0.7 billion per year"
            ],
            [
             "<b>A $240 monthly child allowance in Michigan</b><br>would lift 32,000 mothers (34%) out of poverty<br>and cost $6.1 billion per year"
            ],
            [
             "<b>A $240 monthly child allowance in Minnesota</b><br>would lift 10,000 mothers (26%) out of poverty<br>and cost $3.8 billion per year"
            ],
            [
             "<b>A $240 monthly child allowance in Missouri</b><br>would lift 34,000 mothers (51%) out of poverty<br>and cost $3.9 billion per year"
            ],
            [
             "<b>A $240 monthly child allowance in Mississippi</b><br>would lift 22,000 mothers (36%) out of poverty<br>and cost $2.0 billion per year"
            ],
            [
             "<b>A $240 monthly child allowance in Montana</b><br>would lift 2,000 mothers (32%) out of poverty<br>and cost $0.7 billion per year"
            ],
            [
             "<b>A $240 monthly child allowance in North Carolina</b><br>would lift 37,000 mothers (29%) out of poverty<br>and cost $6.5 billion per year"
            ],
            [
             "<b>A $240 monthly child allowance in North Dakota</b><br>would lift 2,000 mothers (55%) out of poverty<br>and cost $0.5 billion per year"
            ],
            [
             "<b>A $240 monthly child allowance in Nebraska</b><br>would lift 1,000 mothers (6%) out of poverty<br>and cost $1.4 billion per year"
            ],
            [
             "<b>A $240 monthly child allowance in New Hampshire</b><br>would lift 2,000 mothers (32%) out of poverty<br>and cost $0.7 billion per year"
            ],
            [
             "<b>A $240 monthly child allowance in New Jersey</b><br>would lift 12,000 mothers (9%) out of poverty<br>and cost $5.4 billion per year"
            ],
            [
             "<b>A $240 monthly child allowance in New Mexico</b><br>would lift 7,000 mothers (20%) out of poverty<br>and cost $1.3 billion per year"
            ],
            [
             "<b>A $240 monthly child allowance in Nevada</b><br>would lift 8,000 mothers (13%) out of poverty<br>and cost $2.0 billion per year"
            ],
            [
             "<b>A $240 monthly child allowance in New York</b><br>would lift 83,000 mothers (28%) out of poverty<br>and cost $11.6 billion per year"
            ],
            [
             "<b>A $240 monthly child allowance in Ohio</b><br>would lift 44,000 mothers (35%) out of poverty<br>and cost $7.3 billion per year"
            ],
            [
             "<b>A $240 monthly child allowance in Oklahoma</b><br>would lift 16,000 mothers (32%) out of poverty<br>and cost $2.8 billion per year"
            ],
            [
             "<b>A $240 monthly child allowance in Oregon</b><br>would lift 8,000 mothers (28%) out of poverty<br>and cost $2.5 billion per year"
            ],
            [
             "<b>A $240 monthly child allowance in Pennsylvania</b><br>would lift 48,000 mothers (36%) out of poverty<br>and cost $7.3 billion per year"
            ],
            [
             "<b>A $240 monthly child allowance in Rhode Island</b><br>would lift 5,000 mothers (43%) out of poverty<br>and cost $0.6 billion per year"
            ],
            [
             "<b>A $240 monthly child allowance in South Carolina</b><br>would lift 30,000 mothers (29%) out of poverty<br>and cost $3.2 billion per year"
            ],
            [
             "<b>A $240 monthly child allowance in South Dakota</b><br>would lift 3,000 mothers (35%) out of poverty<br>and cost $0.6 billion per year"
            ],
            [
             "<b>A $240 monthly child allowance in Tennessee</b><br>would lift 23,000 mothers (23%) out of poverty<br>and cost $4.4 billion per year"
            ],
            [
             "<b>A $240 monthly child allowance in Texas</b><br>would lift 109,000 mothers (23%) out of poverty<br>and cost $21.5 billion per year"
            ],
            [
             "<b>A $240 monthly child allowance in Utah</b><br>would lift 7,000 mothers (25%) out of poverty<br>and cost $2.7 billion per year"
            ],
            [
             "<b>A $240 monthly child allowance in Virginia</b><br>would lift 20,000 mothers (18%) out of poverty<br>and cost $5.3 billion per year"
            ],
            [
             "<b>A $240 monthly child allowance in Vermont</b><br>would lift 2,000 mothers (32%) out of poverty<br>and cost $0.3 billion per year"
            ],
            [
             "<b>A $240 monthly child allowance in Washington</b><br>would lift 28,000 mothers (41%) out of poverty<br>and cost $4.8 billion per year"
            ],
            [
             "<b>A $240 monthly child allowance in Wisconsin</b><br>would lift 10,000 mothers (37%) out of poverty<br>and cost $3.6 billion per year"
            ],
            [
             "<b>A $240 monthly child allowance in West Virginia</b><br>would lift 6,000 mothers (33%) out of poverty<br>and cost $1.0 billion per year"
            ],
            [
             "<b>A $240 monthly child allowance in Wyoming</b><br>would lift 1,000 mothers (31%) out of poverty<br>and cost $0.4 billion per year"
            ]
           ],
           "geo": "geo",
           "hovertemplate": "%{customdata[0]}<extra></extra>",
           "locationmode": "USA-states",
           "locations": [
            "AK",
            "AL",
            "AR",
            "AZ",
            "CA",
            "CO",
            "CT",
            "DC",
            "DE",
            "FL",
            "GA",
            "HI",
            "IA",
            "ID",
            "IL",
            "IN",
            "KS",
            "KY",
            "LA",
            "MA",
            "MD",
            "ME",
            "MI",
            "MN",
            "MO",
            "MS",
            "MT",
            "NC",
            "ND",
            "NE",
            "NH",
            "NJ",
            "NM",
            "NV",
            "NY",
            "OH",
            "OK",
            "OR",
            "PA",
            "RI",
            "SC",
            "SD",
            "TN",
            "TX",
            "UT",
            "VA",
            "VT",
            "WA",
            "WI",
            "WV",
            "WY"
           ],
           "name": "",
           "type": "choropleth",
           "z": [
            0.5239800714423813,
            0.19080219337920537,
            0.25746572200317336,
            0.1970497054377901,
            0.15925274513502316,
            0.18518914526286892,
            0.3823292659542629,
            0.2585381346508286,
            0.1349292392360216,
            0.221458812667374,
            0.3103212120270092,
            0.2774857000536978,
            0.6348077587800441,
            0.6014768770179171,
            0.32997427673191015,
            0.16529145047440988,
            0.6362278447509232,
            0.3139793994344632,
            0.17614485376805236,
            0.29460706361765704,
            0.1584324460344331,
            0,
            0.34472091336303823,
            0.26679101478637024,
            0.5105876653272986,
            0.36182198715774533,
            0.32920373410023385,
            0.29546447300775297,
            0.5531365582843061,
            0.06792279066448485,
            0.32136863619288497,
            0.09375702589702156,
            0.2042443227140067,
            0.13480229617933842,
            0.28171826364208563,
            0.3521876209540562,
            0.32307061956395233,
            0.28147127281822804,
            0.36518865551621377,
            0.4392196808073616,
            0.2949242338617418,
            0.35841603001041583,
            0.23108050870966326,
            0.23430086530369287,
            0.2571297664051651,
            0.1823128430893437,
            0.32847605649635253,
            0.41352006211164954,
            0.377228565028407,
            0.33495722660882443,
            0.31329748202571556
           ]
          }
         ],
         "name": "240"
        },
        {
         "data": [
          {
           "coloraxis": "coloraxis",
           "customdata": [
            [
             "<b>A $250 monthly child allowance in Alaska</b><br>would lift 5,000 mothers (52%) out of poverty<br>and cost $0.5 billion per year"
            ],
            [
             "<b>A $250 monthly child allowance in Alabama</b><br>would lift 14,000 mothers (21%) out of poverty<br>and cost $3.3 billion per year"
            ],
            [
             "<b>A $250 monthly child allowance in Arkansas</b><br>would lift 13,000 mothers (25%) out of poverty<br>and cost $2.1 billion per year"
            ],
            [
             "<b>A $250 monthly child allowance in Arizona</b><br>would lift 15,000 mothers (19%) out of poverty<br>and cost $5.0 billion per year"
            ],
            [
             "<b>A $250 monthly child allowance in California</b><br>would lift 129,000 mothers (15%) out of poverty<br>and cost $26.3 billion per year"
            ],
            [
             "<b>A $250 monthly child allowance in Colorado</b><br>would lift 15,000 mothers (18%) out of poverty<br>and cost $3.8 billion per year"
            ],
            [
             "<b>A $250 monthly child allowance in Connecticut</b><br>would lift 22,000 mothers (38%) out of poverty<br>and cost $2.1 billion per year"
            ],
            [
             "<b>A $250 monthly child allowance in District of Columbia</b><br>would lift 3,000 mothers (25%) out of poverty<br>and cost $0.4 billion per year"
            ],
            [
             "<b>A $250 monthly child allowance in Delaware</b><br>would lift 2,000 mothers (19%) out of poverty<br>and cost $0.6 billion per year"
            ],
            [
             "<b>A $250 monthly child allowance in Florida</b><br>would lift 102,000 mothers (23%) out of poverty<br>and cost $12.7 billion per year"
            ],
            [
             "<b>A $250 monthly child allowance in Georgia</b><br>would lift 40,000 mothers (31%) out of poverty<br>and cost $7.5 billion per year"
            ],
            [
             "<b>A $250 monthly child allowance in Hawaii</b><br>would lift 6,000 mothers (27%) out of poverty<br>and cost $0.9 billion per year"
            ],
            [
             "<b>A $250 monthly child allowance in Iowa</b><br>would lift 17,000 mothers (63%) out of poverty<br>and cost $2.2 billion per year"
            ],
            [
             "<b>A $250 monthly child allowance in Idaho</b><br>would lift 6,000 mothers (60%) out of poverty<br>and cost $1.3 billion per year"
            ],
            [
             "<b>A $250 monthly child allowance in Illinois</b><br>would lift 41,000 mothers (32%) out of poverty<br>and cost $8.3 billion per year"
            ],
            [
             "<b>A $250 monthly child allowance in Indiana</b><br>would lift 19,000 mothers (26%) out of poverty<br>and cost $4.7 billion per year"
            ],
            [
             "<b>A $250 monthly child allowance in Kansas</b><br>would lift 13,000 mothers (63%) out of poverty<br>and cost $2.0 billion per year"
            ],
            [
             "<b>A $250 monthly child allowance in Kentucky</b><br>would lift 21,000 mothers (31%) out of poverty<br>and cost $3.0 billion per year"
            ],
            [
             "<b>A $250 monthly child allowance in Louisiana</b><br>would lift 11,000 mothers (17%) out of poverty<br>and cost $3.3 billion per year"
            ],
            [
             "<b>A $250 monthly child allowance in Massachusetts</b><br>would lift 26,000 mothers (29%) out of poverty<br>and cost $4.1 billion per year"
            ],
            [
             "<b>A $250 monthly child allowance in Maryland</b><br>would lift 16,000 mothers (15%) out of poverty<br>and cost $3.9 billion per year"
            ],
            [
             "<b>A $250 monthly child allowance in Maine</b><br>would lift 0,000 mothers (0%) out of poverty<br>and cost $0.7 billion per year"
            ],
            [
             "<b>A $250 monthly child allowance in Michigan</b><br>would lift 32,000 mothers (34%) out of poverty<br>and cost $6.4 billion per year"
            ],
            [
             "<b>A $250 monthly child allowance in Minnesota</b><br>would lift 10,000 mothers (26%) out of poverty<br>and cost $3.9 billion per year"
            ],
            [
             "<b>A $250 monthly child allowance in Missouri</b><br>would lift 34,000 mothers (51%) out of poverty<br>and cost $4.0 billion per year"
            ],
            [
             "<b>A $250 monthly child allowance in Mississippi</b><br>would lift 23,000 mothers (38%) out of poverty<br>and cost $2.1 billion per year"
            ],
            [
             "<b>A $250 monthly child allowance in Montana</b><br>would lift 3,000 mothers (39%) out of poverty<br>and cost $0.7 billion per year"
            ],
            [
             "<b>A $250 monthly child allowance in North Carolina</b><br>would lift 37,000 mothers (29%) out of poverty<br>and cost $6.8 billion per year"
            ],
            [
             "<b>A $250 monthly child allowance in North Dakota</b><br>would lift 2,000 mothers (55%) out of poverty<br>and cost $0.5 billion per year"
            ],
            [
             "<b>A $250 monthly child allowance in Nebraska</b><br>would lift 1,000 mothers (6%) out of poverty<br>and cost $1.4 billion per year"
            ],
            [
             "<b>A $250 monthly child allowance in New Hampshire</b><br>would lift 2,000 mothers (32%) out of poverty<br>and cost $0.7 billion per year"
            ],
            [
             "<b>A $250 monthly child allowance in New Jersey</b><br>would lift 12,000 mothers (9%) out of poverty<br>and cost $5.6 billion per year"
            ],
            [
             "<b>A $250 monthly child allowance in New Mexico</b><br>would lift 7,000 mothers (22%) out of poverty<br>and cost $1.4 billion per year"
            ],
            [
             "<b>A $250 monthly child allowance in Nevada</b><br>would lift 8,000 mothers (13%) out of poverty<br>and cost $2.1 billion per year"
            ],
            [
             "<b>A $250 monthly child allowance in New York</b><br>would lift 83,000 mothers (28%) out of poverty<br>and cost $12.1 billion per year"
            ],
            [
             "<b>A $250 monthly child allowance in Ohio</b><br>would lift 44,000 mothers (35%) out of poverty<br>and cost $7.6 billion per year"
            ],
            [
             "<b>A $250 monthly child allowance in Oklahoma</b><br>would lift 16,000 mothers (32%) out of poverty<br>and cost $2.9 billion per year"
            ],
            [
             "<b>A $250 monthly child allowance in Oregon</b><br>would lift 8,000 mothers (28%) out of poverty<br>and cost $2.6 billion per year"
            ],
            [
             "<b>A $250 monthly child allowance in Pennsylvania</b><br>would lift 48,000 mothers (36%) out of poverty<br>and cost $7.6 billion per year"
            ],
            [
             "<b>A $250 monthly child allowance in Rhode Island</b><br>would lift 5,000 mothers (43%) out of poverty<br>and cost $0.6 billion per year"
            ],
            [
             "<b>A $250 monthly child allowance in South Carolina</b><br>would lift 30,000 mothers (29%) out of poverty<br>and cost $3.3 billion per year"
            ],
            [
             "<b>A $250 monthly child allowance in South Dakota</b><br>would lift 3,000 mothers (35%) out of poverty<br>and cost $0.7 billion per year"
            ],
            [
             "<b>A $250 monthly child allowance in Tennessee</b><br>would lift 23,000 mothers (23%) out of poverty<br>and cost $4.6 billion per year"
            ],
            [
             "<b>A $250 monthly child allowance in Texas</b><br>would lift 109,000 mothers (23%) out of poverty<br>and cost $22.4 billion per year"
            ],
            [
             "<b>A $250 monthly child allowance in Utah</b><br>would lift 8,000 mothers (31%) out of poverty<br>and cost $2.8 billion per year"
            ],
            [
             "<b>A $250 monthly child allowance in Virginia</b><br>would lift 20,000 mothers (18%) out of poverty<br>and cost $5.5 billion per year"
            ],
            [
             "<b>A $250 monthly child allowance in Vermont</b><br>would lift 2,000 mothers (40%) out of poverty<br>and cost $0.3 billion per year"
            ],
            [
             "<b>A $250 monthly child allowance in Washington</b><br>would lift 28,000 mothers (41%) out of poverty<br>and cost $5.0 billion per year"
            ],
            [
             "<b>A $250 monthly child allowance in Wisconsin</b><br>would lift 10,000 mothers (37%) out of poverty<br>and cost $3.7 billion per year"
            ],
            [
             "<b>A $250 monthly child allowance in West Virginia</b><br>would lift 6,000 mothers (33%) out of poverty<br>and cost $1.0 billion per year"
            ],
            [
             "<b>A $250 monthly child allowance in Wyoming</b><br>would lift 1,000 mothers (31%) out of poverty<br>and cost $0.4 billion per year"
            ]
           ],
           "geo": "geo",
           "hovertemplate": "%{customdata[0]}<extra></extra>",
           "locationmode": "USA-states",
           "locations": [
            "AK",
            "AL",
            "AR",
            "AZ",
            "CA",
            "CO",
            "CT",
            "DC",
            "DE",
            "FL",
            "GA",
            "HI",
            "IA",
            "ID",
            "IL",
            "IN",
            "KS",
            "KY",
            "LA",
            "MA",
            "MD",
            "ME",
            "MI",
            "MN",
            "MO",
            "MS",
            "MT",
            "NC",
            "ND",
            "NE",
            "NH",
            "NJ",
            "NM",
            "NV",
            "NY",
            "OH",
            "OK",
            "OR",
            "PA",
            "RI",
            "SC",
            "SD",
            "TN",
            "TX",
            "UT",
            "VA",
            "VT",
            "WA",
            "WI",
            "WV",
            "WY"
           ],
           "name": "",
           "type": "choropleth",
           "z": [
            0.5239800714423813,
            0.21196922435962537,
            0.25746572200317336,
            0.1970497054377901,
            0.15925274513502316,
            0.18518914526286892,
            0.3823292659542629,
            0.2585381346508286,
            0.19776041913714926,
            0.23523911696031077,
            0.3103212120270092,
            0.2774857000536978,
            0.6348077587800441,
            0.6014768770179171,
            0.32997427673191015,
            0.26400999447010204,
            0.6362278447509232,
            0.3139793994344632,
            0.17614485376805236,
            0.29460706361765704,
            0.1584324460344331,
            0,
            0.34472091336303823,
            0.26679101478637024,
            0.5105876653272986,
            0.3865484798576561,
            0.3993996358196602,
            0.29546447300775297,
            0.5531365582843061,
            0.06792279066448485,
            0.32136863619288497,
            0.09375702589702156,
            0.22645386184224947,
            0.13480229617933842,
            0.28171826364208563,
            0.3521876209540562,
            0.32307061956395233,
            0.28147127281822804,
            0.36518865551621377,
            0.4392196808073616,
            0.2949242338617418,
            0.35841603001041583,
            0.23108050870966326,
            0.23430086530369287,
            0.31688099094536504,
            0.1823128430893437,
            0.40146839585581784,
            0.41352006211164954,
            0.377228565028407,
            0.33495722660882443,
            0.31329748202571556
           ]
          }
         ],
         "name": "250"
        },
        {
         "data": [
          {
           "coloraxis": "coloraxis",
           "customdata": [
            [
             "<b>A $260 monthly child allowance in Alaska</b><br>would lift 5,000 mothers (52%) out of poverty<br>and cost $0.6 billion per year"
            ],
            [
             "<b>A $260 monthly child allowance in Alabama</b><br>would lift 16,000 mothers (24%) out of poverty<br>and cost $3.5 billion per year"
            ],
            [
             "<b>A $260 monthly child allowance in Arkansas</b><br>would lift 15,000 mothers (28%) out of poverty<br>and cost $2.1 billion per year"
            ],
            [
             "<b>A $260 monthly child allowance in Arizona</b><br>would lift 15,000 mothers (19%) out of poverty<br>and cost $5.2 billion per year"
            ],
            [
             "<b>A $260 monthly child allowance in California</b><br>would lift 129,000 mothers (15%) out of poverty<br>and cost $27.3 billion per year"
            ],
            [
             "<b>A $260 monthly child allowance in Colorado</b><br>would lift 15,000 mothers (18%) out of poverty<br>and cost $3.9 billion per year"
            ],
            [
             "<b>A $260 monthly child allowance in Connecticut</b><br>would lift 26,000 mothers (43%) out of poverty<br>and cost $2.1 billion per year"
            ],
            [
             "<b>A $260 monthly child allowance in District of Columbia</b><br>would lift 3,000 mothers (25%) out of poverty<br>and cost $0.4 billion per year"
            ],
            [
             "<b>A $260 monthly child allowance in Delaware</b><br>would lift 2,000 mothers (19%) out of poverty<br>and cost $0.6 billion per year"
            ],
            [
             "<b>A $260 monthly child allowance in Florida</b><br>would lift 115,000 mothers (26%) out of poverty<br>and cost $13.2 billion per year"
            ],
            [
             "<b>A $260 monthly child allowance in Georgia</b><br>would lift 50,000 mothers (38%) out of poverty<br>and cost $7.8 billion per year"
            ],
            [
             "<b>A $260 monthly child allowance in Hawaii</b><br>would lift 6,000 mothers (27%) out of poverty<br>and cost $0.9 billion per year"
            ],
            [
             "<b>A $260 monthly child allowance in Iowa</b><br>would lift 17,000 mothers (63%) out of poverty<br>and cost $2.2 billion per year"
            ],
            [
             "<b>A $260 monthly child allowance in Idaho</b><br>would lift 6,000 mothers (60%) out of poverty<br>and cost $1.4 billion per year"
            ],
            [
             "<b>A $260 monthly child allowance in Illinois</b><br>would lift 41,000 mothers (32%) out of poverty<br>and cost $8.6 billion per year"
            ],
            [
             "<b>A $260 monthly child allowance in Indiana</b><br>would lift 19,000 mothers (26%) out of poverty<br>and cost $4.9 billion per year"
            ],
            [
             "<b>A $260 monthly child allowance in Kansas</b><br>would lift 13,000 mothers (63%) out of poverty<br>and cost $2.1 billion per year"
            ],
            [
             "<b>A $260 monthly child allowance in Kentucky</b><br>would lift 21,000 mothers (31%) out of poverty<br>and cost $3.2 billion per year"
            ],
            [
             "<b>A $260 monthly child allowance in Louisiana</b><br>would lift 11,000 mothers (17%) out of poverty<br>and cost $3.5 billion per year"
            ],
            [
             "<b>A $260 monthly child allowance in Massachusetts</b><br>would lift 26,000 mothers (29%) out of poverty<br>and cost $4.2 billion per year"
            ],
            [
             "<b>A $260 monthly child allowance in Maryland</b><br>would lift 16,000 mothers (15%) out of poverty<br>and cost $4.0 billion per year"
            ],
            [
             "<b>A $260 monthly child allowance in Maine</b><br>would lift 0,000 mothers (0%) out of poverty<br>and cost $0.7 billion per year"
            ],
            [
             "<b>A $260 monthly child allowance in Michigan</b><br>would lift 32,000 mothers (34%) out of poverty<br>and cost $6.6 billion per year"
            ],
            [
             "<b>A $260 monthly child allowance in Minnesota</b><br>would lift 10,000 mothers (26%) out of poverty<br>and cost $4.1 billion per year"
            ],
            [
             "<b>A $260 monthly child allowance in Missouri</b><br>would lift 37,000 mothers (55%) out of poverty<br>and cost $4.2 billion per year"
            ],
            [
             "<b>A $260 monthly child allowance in Mississippi</b><br>would lift 23,000 mothers (38%) out of poverty<br>and cost $2.1 billion per year"
            ],
            [
             "<b>A $260 monthly child allowance in Montana</b><br>would lift 3,000 mothers (39%) out of poverty<br>and cost $0.7 billion per year"
            ],
            [
             "<b>A $260 monthly child allowance in North Carolina</b><br>would lift 37,000 mothers (29%) out of poverty<br>and cost $7.1 billion per year"
            ],
            [
             "<b>A $260 monthly child allowance in North Dakota</b><br>would lift 2,000 mothers (55%) out of poverty<br>and cost $0.6 billion per year"
            ],
            [
             "<b>A $260 monthly child allowance in Nebraska</b><br>would lift 2,000 mothers (13%) out of poverty<br>and cost $1.5 billion per year"
            ],
            [
             "<b>A $260 monthly child allowance in New Hampshire</b><br>would lift 2,000 mothers (32%) out of poverty<br>and cost $0.8 billion per year"
            ],
            [
             "<b>A $260 monthly child allowance in New Jersey</b><br>would lift 17,000 mothers (13%) out of poverty<br>and cost $5.9 billion per year"
            ],
            [
             "<b>A $260 monthly child allowance in New Mexico</b><br>would lift 7,000 mothers (22%) out of poverty<br>and cost $1.4 billion per year"
            ],
            [
             "<b>A $260 monthly child allowance in Nevada</b><br>would lift 8,000 mothers (13%) out of poverty<br>and cost $2.2 billion per year"
            ],
            [
             "<b>A $260 monthly child allowance in New York</b><br>would lift 83,000 mothers (28%) out of poverty<br>and cost $12.5 billion per year"
            ],
            [
             "<b>A $260 monthly child allowance in Ohio</b><br>would lift 44,000 mothers (35%) out of poverty<br>and cost $7.9 billion per year"
            ],
            [
             "<b>A $260 monthly child allowance in Oklahoma</b><br>would lift 19,000 mothers (37%) out of poverty<br>and cost $3.0 billion per year"
            ],
            [
             "<b>A $260 monthly child allowance in Oregon</b><br>would lift 8,000 mothers (28%) out of poverty<br>and cost $2.7 billion per year"
            ],
            [
             "<b>A $260 monthly child allowance in Pennsylvania</b><br>would lift 48,000 mothers (36%) out of poverty<br>and cost $7.9 billion per year"
            ],
            [
             "<b>A $260 monthly child allowance in Rhode Island</b><br>would lift 5,000 mothers (43%) out of poverty<br>and cost $0.6 billion per year"
            ],
            [
             "<b>A $260 monthly child allowance in South Carolina</b><br>would lift 30,000 mothers (29%) out of poverty<br>and cost $3.5 billion per year"
            ],
            [
             "<b>A $260 monthly child allowance in South Dakota</b><br>would lift 3,000 mothers (35%) out of poverty<br>and cost $0.7 billion per year"
            ],
            [
             "<b>A $260 monthly child allowance in Tennessee</b><br>would lift 26,000 mothers (25%) out of poverty<br>and cost $4.7 billion per year"
            ],
            [
             "<b>A $260 monthly child allowance in Texas</b><br>would lift 109,000 mothers (23%) out of poverty<br>and cost $23.3 billion per year"
            ],
            [
             "<b>A $260 monthly child allowance in Utah</b><br>would lift 8,000 mothers (31%) out of poverty<br>and cost $2.9 billion per year"
            ],
            [
             "<b>A $260 monthly child allowance in Virginia</b><br>would lift 20,000 mothers (18%) out of poverty<br>and cost $5.7 billion per year"
            ],
            [
             "<b>A $260 monthly child allowance in Vermont</b><br>would lift 2,000 mothers (40%) out of poverty<br>and cost $0.4 billion per year"
            ],
            [
             "<b>A $260 monthly child allowance in Washington</b><br>would lift 28,000 mothers (41%) out of poverty<br>and cost $5.2 billion per year"
            ],
            [
             "<b>A $260 monthly child allowance in Wisconsin</b><br>would lift 10,000 mothers (37%) out of poverty<br>and cost $3.9 billion per year"
            ],
            [
             "<b>A $260 monthly child allowance in West Virginia</b><br>would lift 6,000 mothers (33%) out of poverty<br>and cost $1.1 billion per year"
            ],
            [
             "<b>A $260 monthly child allowance in Wyoming</b><br>would lift 1,000 mothers (31%) out of poverty<br>and cost $0.4 billion per year"
            ]
           ],
           "geo": "geo",
           "hovertemplate": "%{customdata[0]}<extra></extra>",
           "locationmode": "USA-states",
           "locations": [
            "AK",
            "AL",
            "AR",
            "AZ",
            "CA",
            "CO",
            "CT",
            "DC",
            "DE",
            "FL",
            "GA",
            "HI",
            "IA",
            "ID",
            "IL",
            "IN",
            "KS",
            "KY",
            "LA",
            "MA",
            "MD",
            "ME",
            "MI",
            "MN",
            "MO",
            "MS",
            "MT",
            "NC",
            "ND",
            "NE",
            "NH",
            "NJ",
            "NM",
            "NV",
            "NY",
            "OH",
            "OK",
            "OR",
            "PA",
            "RI",
            "SC",
            "SD",
            "TN",
            "TX",
            "UT",
            "VA",
            "VT",
            "WA",
            "WI",
            "WV",
            "WY"
           ],
           "name": "",
           "type": "choropleth",
           "z": [
            0.5239800714423813,
            0.2417882998993897,
            0.2882485139522832,
            0.1970497054377901,
            0.15925274513502316,
            0.18518914526286892,
            0.43746979128073904,
            0.2585381346508286,
            0.19776041913714926,
            0.2647401863900084,
            0.38773824827622466,
            0.2774857000536978,
            0.6348077587800441,
            0.6014768770179171,
            0.32997427673191015,
            0.26400999447010204,
            0.6362278447509232,
            0.3139793994344632,
            0.17614485376805236,
            0.29460706361765704,
            0.1584324460344331,
            0,
            0.34472091336303823,
            0.26679101478637024,
            0.5588913251267131,
            0.3865484798576561,
            0.3993996358196602,
            0.29546447300775297,
            0.5531365582843061,
            0.130443385587799,
            0.32136863619288497,
            0.13249344491564602,
            0.22645386184224947,
            0.13480229617933842,
            0.28171826364208563,
            0.3521876209540562,
            0.3753886890919152,
            0.28147127281822804,
            0.36518865551621377,
            0.4392196808073616,
            0.2949242338617418,
            0.35841603001041583,
            0.2573930014901702,
            0.23430086530369287,
            0.31688099094536504,
            0.1823128430893437,
            0.40146839585581784,
            0.41352006211164954,
            0.377228565028407,
            0.33495722660882443,
            0.31329748202571556
           ]
          }
         ],
         "name": "260"
        },
        {
         "data": [
          {
           "coloraxis": "coloraxis",
           "customdata": [
            [
             "<b>A $270 monthly child allowance in Alaska</b><br>would lift 5,000 mothers (52%) out of poverty<br>and cost $0.6 billion per year"
            ],
            [
             "<b>A $270 monthly child allowance in Alabama</b><br>would lift 16,000 mothers (24%) out of poverty<br>and cost $3.6 billion per year"
            ],
            [
             "<b>A $270 monthly child allowance in Arkansas</b><br>would lift 17,000 mothers (32%) out of poverty<br>and cost $2.2 billion per year"
            ],
            [
             "<b>A $270 monthly child allowance in Arizona</b><br>would lift 15,000 mothers (19%) out of poverty<br>and cost $5.4 billion per year"
            ],
            [
             "<b>A $270 monthly child allowance in California</b><br>would lift 129,000 mothers (15%) out of poverty<br>and cost $28.4 billion per year"
            ],
            [
             "<b>A $270 monthly child allowance in Colorado</b><br>would lift 15,000 mothers (18%) out of poverty<br>and cost $4.1 billion per year"
            ],
            [
             "<b>A $270 monthly child allowance in Connecticut</b><br>would lift 26,000 mothers (43%) out of poverty<br>and cost $2.2 billion per year"
            ],
            [
             "<b>A $270 monthly child allowance in District of Columbia</b><br>would lift 3,000 mothers (25%) out of poverty<br>and cost $0.4 billion per year"
            ],
            [
             "<b>A $270 monthly child allowance in Delaware</b><br>would lift 2,000 mothers (19%) out of poverty<br>and cost $0.6 billion per year"
            ],
            [
             "<b>A $270 monthly child allowance in Florida</b><br>would lift 123,000 mothers (28%) out of poverty<br>and cost $13.7 billion per year"
            ],
            [
             "<b>A $270 monthly child allowance in Georgia</b><br>would lift 50,000 mothers (38%) out of poverty<br>and cost $8.1 billion per year"
            ],
            [
             "<b>A $270 monthly child allowance in Hawaii</b><br>would lift 6,000 mothers (27%) out of poverty<br>and cost $1.0 billion per year"
            ],
            [
             "<b>A $270 monthly child allowance in Iowa</b><br>would lift 17,000 mothers (63%) out of poverty<br>and cost $2.3 billion per year"
            ],
            [
             "<b>A $270 monthly child allowance in Idaho</b><br>would lift 6,000 mothers (60%) out of poverty<br>and cost $1.4 billion per year"
            ],
            [
             "<b>A $270 monthly child allowance in Illinois</b><br>would lift 41,000 mothers (32%) out of poverty<br>and cost $9.0 billion per year"
            ],
            [
             "<b>A $270 monthly child allowance in Indiana</b><br>would lift 19,000 mothers (26%) out of poverty<br>and cost $5.0 billion per year"
            ],
            [
             "<b>A $270 monthly child allowance in Kansas</b><br>would lift 13,000 mothers (63%) out of poverty<br>and cost $2.2 billion per year"
            ],
            [
             "<b>A $270 monthly child allowance in Kentucky</b><br>would lift 21,000 mothers (31%) out of poverty<br>and cost $3.3 billion per year"
            ],
            [
             "<b>A $270 monthly child allowance in Louisiana</b><br>would lift 11,000 mothers (17%) out of poverty<br>and cost $3.6 billion per year"
            ],
            [
             "<b>A $270 monthly child allowance in Massachusetts</b><br>would lift 26,000 mothers (29%) out of poverty<br>and cost $4.4 billion per year"
            ],
            [
             "<b>A $270 monthly child allowance in Maryland</b><br>would lift 16,000 mothers (15%) out of poverty<br>and cost $4.2 billion per year"
            ],
            [
             "<b>A $270 monthly child allowance in Maine</b><br>would lift 0,000 mothers (0%) out of poverty<br>and cost $0.8 billion per year"
            ],
            [
             "<b>A $270 monthly child allowance in Michigan</b><br>would lift 32,000 mothers (34%) out of poverty<br>and cost $6.9 billion per year"
            ],
            [
             "<b>A $270 monthly child allowance in Minnesota</b><br>would lift 10,000 mothers (26%) out of poverty<br>and cost $4.2 billion per year"
            ],
            [
             "<b>A $270 monthly child allowance in Missouri</b><br>would lift 37,000 mothers (55%) out of poverty<br>and cost $4.4 billion per year"
            ],
            [
             "<b>A $270 monthly child allowance in Mississippi</b><br>would lift 25,000 mothers (41%) out of poverty<br>and cost $2.2 billion per year"
            ],
            [
             "<b>A $270 monthly child allowance in Montana</b><br>would lift 3,000 mothers (39%) out of poverty<br>and cost $0.7 billion per year"
            ],
            [
             "<b>A $270 monthly child allowance in North Carolina</b><br>would lift 41,000 mothers (32%) out of poverty<br>and cost $7.4 billion per year"
            ],
            [
             "<b>A $270 monthly child allowance in North Dakota</b><br>would lift 2,000 mothers (55%) out of poverty<br>and cost $0.6 billion per year"
            ],
            [
             "<b>A $270 monthly child allowance in Nebraska</b><br>would lift 2,000 mothers (13%) out of poverty<br>and cost $1.5 billion per year"
            ],
            [
             "<b>A $270 monthly child allowance in New Hampshire</b><br>would lift 2,000 mothers (32%) out of poverty<br>and cost $0.8 billion per year"
            ],
            [
             "<b>A $270 monthly child allowance in New Jersey</b><br>would lift 23,000 mothers (17%) out of poverty<br>and cost $6.1 billion per year"
            ],
            [
             "<b>A $270 monthly child allowance in New Mexico</b><br>would lift 7,000 mothers (22%) out of poverty<br>and cost $1.5 billion per year"
            ],
            [
             "<b>A $270 monthly child allowance in Nevada</b><br>would lift 8,000 mothers (13%) out of poverty<br>and cost $2.3 billion per year"
            ],
            [
             "<b>A $270 monthly child allowance in New York</b><br>would lift 83,000 mothers (28%) out of poverty<br>and cost $13.0 billion per year"
            ],
            [
             "<b>A $270 monthly child allowance in Ohio</b><br>would lift 44,000 mothers (35%) out of poverty<br>and cost $8.2 billion per year"
            ],
            [
             "<b>A $270 monthly child allowance in Oklahoma</b><br>would lift 19,000 mothers (37%) out of poverty<br>and cost $3.1 billion per year"
            ],
            [
             "<b>A $270 monthly child allowance in Oregon</b><br>would lift 10,000 mothers (33%) out of poverty<br>and cost $2.8 billion per year"
            ],
            [
             "<b>A $270 monthly child allowance in Pennsylvania</b><br>would lift 48,000 mothers (36%) out of poverty<br>and cost $8.2 billion per year"
            ],
            [
             "<b>A $270 monthly child allowance in Rhode Island</b><br>would lift 5,000 mothers (43%) out of poverty<br>and cost $0.7 billion per year"
            ],
            [
             "<b>A $270 monthly child allowance in South Carolina</b><br>would lift 30,000 mothers (29%) out of poverty<br>and cost $3.6 billion per year"
            ],
            [
             "<b>A $270 monthly child allowance in South Dakota</b><br>would lift 3,000 mothers (35%) out of poverty<br>and cost $0.7 billion per year"
            ],
            [
             "<b>A $270 monthly child allowance in Tennessee</b><br>would lift 26,000 mothers (25%) out of poverty<br>and cost $4.9 billion per year"
            ],
            [
             "<b>A $270 monthly child allowance in Texas</b><br>would lift 113,000 mothers (24%) out of poverty<br>and cost $24.2 billion per year"
            ],
            [
             "<b>A $270 monthly child allowance in Utah</b><br>would lift 8,000 mothers (31%) out of poverty<br>and cost $3.0 billion per year"
            ],
            [
             "<b>A $270 monthly child allowance in Virginia</b><br>would lift 20,000 mothers (18%) out of poverty<br>and cost $5.9 billion per year"
            ],
            [
             "<b>A $270 monthly child allowance in Vermont</b><br>would lift 2,000 mothers (40%) out of poverty<br>and cost $0.4 billion per year"
            ],
            [
             "<b>A $270 monthly child allowance in Washington</b><br>would lift 28,000 mothers (41%) out of poverty<br>and cost $5.4 billion per year"
            ],
            [
             "<b>A $270 monthly child allowance in Wisconsin</b><br>would lift 10,000 mothers (37%) out of poverty<br>and cost $4.0 billion per year"
            ],
            [
             "<b>A $270 monthly child allowance in West Virginia</b><br>would lift 6,000 mothers (33%) out of poverty<br>and cost $1.1 billion per year"
            ],
            [
             "<b>A $270 monthly child allowance in Wyoming</b><br>would lift 1,000 mothers (31%) out of poverty<br>and cost $0.4 billion per year"
            ]
           ],
           "geo": "geo",
           "hovertemplate": "%{customdata[0]}<extra></extra>",
           "locationmode": "USA-states",
           "locations": [
            "AK",
            "AL",
            "AR",
            "AZ",
            "CA",
            "CO",
            "CT",
            "DC",
            "DE",
            "FL",
            "GA",
            "HI",
            "IA",
            "ID",
            "IL",
            "IN",
            "KS",
            "KY",
            "LA",
            "MA",
            "MD",
            "ME",
            "MI",
            "MN",
            "MO",
            "MS",
            "MT",
            "NC",
            "ND",
            "NE",
            "NH",
            "NJ",
            "NM",
            "NV",
            "NY",
            "OH",
            "OK",
            "OR",
            "PA",
            "RI",
            "SC",
            "SD",
            "TN",
            "TX",
            "UT",
            "VA",
            "VT",
            "WA",
            "WI",
            "WV",
            "WY"
           ],
           "name": "",
           "type": "choropleth",
           "z": [
            0.5239800714423813,
            0.2417882998993897,
            0.32549717338763495,
            0.1970497054377901,
            0.15925274513502316,
            0.18518914526286892,
            0.43746979128073904,
            0.2585381346508286,
            0.19776041913714926,
            0.28350147431651423,
            0.38773824827622466,
            0.2774857000536978,
            0.6348077587800441,
            0.6014768770179171,
            0.32997427673191015,
            0.26400999447010204,
            0.6362278447509232,
            0.3139793994344632,
            0.17614485376805236,
            0.29460706361765704,
            0.1584324460344331,
            0,
            0.34472091336303823,
            0.26679101478637024,
            0.5588913251267131,
            0.4111800667470609,
            0.3993996358196602,
            0.32202552599998857,
            0.5531365582843061,
            0.130443385587799,
            0.32136863619288497,
            0.1736117967340673,
            0.22645386184224947,
            0.13480229617933842,
            0.28171826364208563,
            0.3521876209540562,
            0.3753886890919152,
            0.3379092854203875,
            0.36518865551621377,
            0.4392196808073616,
            0.2949242338617418,
            0.35841603001041583,
            0.2573930014901702,
            0.24279027997339245,
            0.31688099094536504,
            0.1823128430893437,
            0.40146839585581784,
            0.41352006211164954,
            0.377228565028407,
            0.33495722660882443,
            0.31329748202571556
           ]
          }
         ],
         "name": "270"
        },
        {
         "data": [
          {
           "coloraxis": "coloraxis",
           "customdata": [
            [
             "<b>A $280 monthly child allowance in Alaska</b><br>would lift 5,000 mothers (52%) out of poverty<br>and cost $0.6 billion per year"
            ],
            [
             "<b>A $280 monthly child allowance in Alabama</b><br>would lift 16,000 mothers (24%) out of poverty<br>and cost $3.7 billion per year"
            ],
            [
             "<b>A $280 monthly child allowance in Arkansas</b><br>would lift 17,000 mothers (32%) out of poverty<br>and cost $2.3 billion per year"
            ],
            [
             "<b>A $280 monthly child allowance in Arizona</b><br>would lift 15,000 mothers (19%) out of poverty<br>and cost $5.6 billion per year"
            ],
            [
             "<b>A $280 monthly child allowance in California</b><br>would lift 150,000 mothers (18%) out of poverty<br>and cost $29.4 billion per year"
            ],
            [
             "<b>A $280 monthly child allowance in Colorado</b><br>would lift 20,000 mothers (24%) out of poverty<br>and cost $4.2 billion per year"
            ],
            [
             "<b>A $280 monthly child allowance in Connecticut</b><br>would lift 26,000 mothers (43%) out of poverty<br>and cost $2.3 billion per year"
            ],
            [
             "<b>A $280 monthly child allowance in District of Columbia</b><br>would lift 3,000 mothers (25%) out of poverty<br>and cost $0.4 billion per year"
            ],
            [
             "<b>A $280 monthly child allowance in Delaware</b><br>would lift 2,000 mothers (19%) out of poverty<br>and cost $0.7 billion per year"
            ],
            [
             "<b>A $280 monthly child allowance in Florida</b><br>would lift 123,000 mothers (28%) out of poverty<br>and cost $14.2 billion per year"
            ],
            [
             "<b>A $280 monthly child allowance in Georgia</b><br>would lift 53,000 mothers (41%) out of poverty<br>and cost $8.4 billion per year"
            ],
            [
             "<b>A $280 monthly child allowance in Hawaii</b><br>would lift 6,000 mothers (27%) out of poverty<br>and cost $1.0 billion per year"
            ],
            [
             "<b>A $280 monthly child allowance in Iowa</b><br>would lift 17,000 mothers (63%) out of poverty<br>and cost $2.4 billion per year"
            ],
            [
             "<b>A $280 monthly child allowance in Idaho</b><br>would lift 6,000 mothers (60%) out of poverty<br>and cost $1.5 billion per year"
            ],
            [
             "<b>A $280 monthly child allowance in Illinois</b><br>would lift 46,000 mothers (37%) out of poverty<br>and cost $9.3 billion per year"
            ],
            [
             "<b>A $280 monthly child allowance in Indiana</b><br>would lift 22,000 mothers (31%) out of poverty<br>and cost $5.2 billion per year"
            ],
            [
             "<b>A $280 monthly child allowance in Kansas</b><br>would lift 13,000 mothers (63%) out of poverty<br>and cost $2.3 billion per year"
            ],
            [
             "<b>A $280 monthly child allowance in Kentucky</b><br>would lift 25,000 mothers (36%) out of poverty<br>and cost $3.4 billion per year"
            ],
            [
             "<b>A $280 monthly child allowance in Louisiana</b><br>would lift 11,000 mothers (17%) out of poverty<br>and cost $3.7 billion per year"
            ],
            [
             "<b>A $280 monthly child allowance in Massachusetts</b><br>would lift 26,000 mothers (29%) out of poverty<br>and cost $4.5 billion per year"
            ],
            [
             "<b>A $280 monthly child allowance in Maryland</b><br>would lift 16,000 mothers (15%) out of poverty<br>and cost $4.3 billion per year"
            ],
            [
             "<b>A $280 monthly child allowance in Maine</b><br>would lift 0,000 mothers (0%) out of poverty<br>and cost $0.8 billion per year"
            ],
            [
             "<b>A $280 monthly child allowance in Michigan</b><br>would lift 32,000 mothers (34%) out of poverty<br>and cost $7.1 billion per year"
            ],
            [
             "<b>A $280 monthly child allowance in Minnesota</b><br>would lift 10,000 mothers (26%) out of poverty<br>and cost $4.4 billion per year"
            ],
            [
             "<b>A $280 monthly child allowance in Missouri</b><br>would lift 37,000 mothers (55%) out of poverty<br>and cost $4.5 billion per year"
            ],
            [
             "<b>A $280 monthly child allowance in Mississippi</b><br>would lift 25,000 mothers (41%) out of poverty<br>and cost $2.3 billion per year"
            ],
            [
             "<b>A $280 monthly child allowance in Montana</b><br>would lift 3,000 mothers (39%) out of poverty<br>and cost $0.8 billion per year"
            ],
            [
             "<b>A $280 monthly child allowance in North Carolina</b><br>would lift 41,000 mothers (32%) out of poverty<br>and cost $7.6 billion per year"
            ],
            [
             "<b>A $280 monthly child allowance in North Dakota</b><br>would lift 2,000 mothers (55%) out of poverty<br>and cost $0.6 billion per year"
            ],
            [
             "<b>A $280 monthly child allowance in Nebraska</b><br>would lift 4,000 mothers (18%) out of poverty<br>and cost $1.6 billion per year"
            ],
            [
             "<b>A $280 monthly child allowance in New Hampshire</b><br>would lift 4,000 mothers (49%) out of poverty<br>and cost $0.8 billion per year"
            ],
            [
             "<b>A $280 monthly child allowance in New Jersey</b><br>would lift 23,000 mothers (17%) out of poverty<br>and cost $6.3 billion per year"
            ],
            [
             "<b>A $280 monthly child allowance in New Mexico</b><br>would lift 7,000 mothers (22%) out of poverty<br>and cost $1.6 billion per year"
            ],
            [
             "<b>A $280 monthly child allowance in Nevada</b><br>would lift 11,000 mothers (19%) out of poverty<br>and cost $2.4 billion per year"
            ],
            [
             "<b>A $280 monthly child allowance in New York</b><br>would lift 96,000 mothers (32%) out of poverty<br>and cost $13.5 billion per year"
            ],
            [
             "<b>A $280 monthly child allowance in Ohio</b><br>would lift 49,000 mothers (39%) out of poverty<br>and cost $8.5 billion per year"
            ],
            [
             "<b>A $280 monthly child allowance in Oklahoma</b><br>would lift 19,000 mothers (37%) out of poverty<br>and cost $3.2 billion per year"
            ],
            [
             "<b>A $280 monthly child allowance in Oregon</b><br>would lift 10,000 mothers (33%) out of poverty<br>and cost $2.9 billion per year"
            ],
            [
             "<b>A $280 monthly child allowance in Pennsylvania</b><br>would lift 48,000 mothers (36%) out of poverty<br>and cost $8.5 billion per year"
            ],
            [
             "<b>A $280 monthly child allowance in Rhode Island</b><br>would lift 5,000 mothers (43%) out of poverty<br>and cost $0.7 billion per year"
            ],
            [
             "<b>A $280 monthly child allowance in South Carolina</b><br>would lift 30,000 mothers (29%) out of poverty<br>and cost $3.7 billion per year"
            ],
            [
             "<b>A $280 monthly child allowance in South Dakota</b><br>would lift 4,000 mothers (43%) out of poverty<br>and cost $0.7 billion per year"
            ],
            [
             "<b>A $280 monthly child allowance in Tennessee</b><br>would lift 26,000 mothers (25%) out of poverty<br>and cost $5.1 billion per year"
            ],
            [
             "<b>A $280 monthly child allowance in Texas</b><br>would lift 113,000 mothers (24%) out of poverty<br>and cost $25.1 billion per year"
            ],
            [
             "<b>A $280 monthly child allowance in Utah</b><br>would lift 8,000 mothers (31%) out of poverty<br>and cost $3.1 billion per year"
            ],
            [
             "<b>A $280 monthly child allowance in Virginia</b><br>would lift 24,000 mothers (22%) out of poverty<br>and cost $6.2 billion per year"
            ],
            [
             "<b>A $280 monthly child allowance in Vermont</b><br>would lift 2,000 mothers (40%) out of poverty<br>and cost $0.4 billion per year"
            ],
            [
             "<b>A $280 monthly child allowance in Washington</b><br>would lift 28,000 mothers (41%) out of poverty<br>and cost $5.6 billion per year"
            ],
            [
             "<b>A $280 monthly child allowance in Wisconsin</b><br>would lift 10,000 mothers (37%) out of poverty<br>and cost $4.2 billion per year"
            ],
            [
             "<b>A $280 monthly child allowance in West Virginia</b><br>would lift 6,000 mothers (33%) out of poverty<br>and cost $1.2 billion per year"
            ],
            [
             "<b>A $280 monthly child allowance in Wyoming</b><br>would lift 1,000 mothers (31%) out of poverty<br>and cost $0.5 billion per year"
            ]
           ],
           "geo": "geo",
           "hovertemplate": "%{customdata[0]}<extra></extra>",
           "locationmode": "USA-states",
           "locations": [
            "AK",
            "AL",
            "AR",
            "AZ",
            "CA",
            "CO",
            "CT",
            "DC",
            "DE",
            "FL",
            "GA",
            "HI",
            "IA",
            "ID",
            "IL",
            "IN",
            "KS",
            "KY",
            "LA",
            "MA",
            "MD",
            "ME",
            "MI",
            "MN",
            "MO",
            "MS",
            "MT",
            "NC",
            "ND",
            "NE",
            "NH",
            "NJ",
            "NM",
            "NV",
            "NY",
            "OH",
            "OK",
            "OR",
            "PA",
            "RI",
            "SC",
            "SD",
            "TN",
            "TX",
            "UT",
            "VA",
            "VT",
            "WA",
            "WI",
            "WV",
            "WY"
           ],
           "name": "",
           "type": "choropleth",
           "z": [
            0.5239800714423813,
            0.2417882998993897,
            0.32549717338763495,
            0.1970497054377901,
            0.18405683637819248,
            0.2410596598377667,
            0.43746979128073904,
            0.2585381346508286,
            0.19776041913714926,
            0.28350147431651423,
            0.4144403796529661,
            0.2774857000536978,
            0.6348077587800441,
            0.6014768770179171,
            0.3715395319116335,
            0.3122042833421978,
            0.6362278447509232,
            0.36744959874140926,
            0.17614485376805236,
            0.29460706361765704,
            0.1584324460344331,
            0,
            0.34472091336303823,
            0.26679101478637024,
            0.5588913251267131,
            0.4111800667470609,
            0.3993996358196602,
            0.32202552599998857,
            0.5531365582843061,
            0.18720378336824844,
            0.4962193634295625,
            0.1736117967340673,
            0.22645386184224947,
            0.19933204322641462,
            0.32479070832141765,
            0.39218748090548117,
            0.3753886890919152,
            0.3379092854203875,
            0.36518865551621377,
            0.4392196808073616,
            0.2949242338617418,
            0.437986959379241,
            0.2573930014901702,
            0.24279027997339245,
            0.31688099094536504,
            0.2214630703534657,
            0.40146839585581784,
            0.41352006211164954,
            0.377228565028407,
            0.33495722660882443,
            0.31329748202571556
           ]
          }
         ],
         "name": "280"
        },
        {
         "data": [
          {
           "coloraxis": "coloraxis",
           "customdata": [
            [
             "<b>A $290 monthly child allowance in Alaska</b><br>would lift 5,000 mothers (52%) out of poverty<br>and cost $0.6 billion per year"
            ],
            [
             "<b>A $290 monthly child allowance in Alabama</b><br>would lift 16,000 mothers (24%) out of poverty<br>and cost $3.9 billion per year"
            ],
            [
             "<b>A $290 monthly child allowance in Arkansas</b><br>would lift 17,000 mothers (32%) out of poverty<br>and cost $2.4 billion per year"
            ],
            [
             "<b>A $290 monthly child allowance in Arizona</b><br>would lift 15,000 mothers (19%) out of poverty<br>and cost $5.8 billion per year"
            ],
            [
             "<b>A $290 monthly child allowance in California</b><br>would lift 162,000 mothers (19%) out of poverty<br>and cost $30.5 billion per year"
            ],
            [
             "<b>A $290 monthly child allowance in Colorado</b><br>would lift 20,000 mothers (24%) out of poverty<br>and cost $4.4 billion per year"
            ],
            [
             "<b>A $290 monthly child allowance in Connecticut</b><br>would lift 26,000 mothers (43%) out of poverty<br>and cost $2.4 billion per year"
            ],
            [
             "<b>A $290 monthly child allowance in District of Columbia</b><br>would lift 3,000 mothers (25%) out of poverty<br>and cost $0.4 billion per year"
            ],
            [
             "<b>A $290 monthly child allowance in Delaware</b><br>would lift 2,000 mothers (19%) out of poverty<br>and cost $0.7 billion per year"
            ],
            [
             "<b>A $290 monthly child allowance in Florida</b><br>would lift 123,000 mothers (28%) out of poverty<br>and cost $14.7 billion per year"
            ],
            [
             "<b>A $290 monthly child allowance in Georgia</b><br>would lift 58,000 mothers (44%) out of poverty<br>and cost $8.7 billion per year"
            ],
            [
             "<b>A $290 monthly child allowance in Hawaii</b><br>would lift 6,000 mothers (27%) out of poverty<br>and cost $1.1 billion per year"
            ],
            [
             "<b>A $290 monthly child allowance in Iowa</b><br>would lift 17,000 mothers (63%) out of poverty<br>and cost $2.5 billion per year"
            ],
            [
             "<b>A $290 monthly child allowance in Idaho</b><br>would lift 6,000 mothers (60%) out of poverty<br>and cost $1.5 billion per year"
            ],
            [
             "<b>A $290 monthly child allowance in Illinois</b><br>would lift 46,000 mothers (37%) out of poverty<br>and cost $9.6 billion per year"
            ],
            [
             "<b>A $290 monthly child allowance in Indiana</b><br>would lift 27,000 mothers (38%) out of poverty<br>and cost $5.4 billion per year"
            ],
            [
             "<b>A $290 monthly child allowance in Kansas</b><br>would lift 13,000 mothers (63%) out of poverty<br>and cost $2.4 billion per year"
            ],
            [
             "<b>A $290 monthly child allowance in Kentucky</b><br>would lift 25,000 mothers (36%) out of poverty<br>and cost $3.5 billion per year"
            ],
            [
             "<b>A $290 monthly child allowance in Louisiana</b><br>would lift 13,000 mothers (20%) out of poverty<br>and cost $3.9 billion per year"
            ],
            [
             "<b>A $290 monthly child allowance in Massachusetts</b><br>would lift 26,000 mothers (29%) out of poverty<br>and cost $4.7 billion per year"
            ],
            [
             "<b>A $290 monthly child allowance in Maryland</b><br>would lift 16,000 mothers (15%) out of poverty<br>and cost $4.5 billion per year"
            ],
            [
             "<b>A $290 monthly child allowance in Maine</b><br>would lift 0,000 mothers (0%) out of poverty<br>and cost $0.8 billion per year"
            ],
            [
             "<b>A $290 monthly child allowance in Michigan</b><br>would lift 32,000 mothers (34%) out of poverty<br>and cost $7.4 billion per year"
            ],
            [
             "<b>A $290 monthly child allowance in Minnesota</b><br>would lift 10,000 mothers (26%) out of poverty<br>and cost $4.6 billion per year"
            ],
            [
             "<b>A $290 monthly child allowance in Missouri</b><br>would lift 37,000 mothers (55%) out of poverty<br>and cost $4.7 billion per year"
            ],
            [
             "<b>A $290 monthly child allowance in Mississippi</b><br>would lift 25,000 mothers (41%) out of poverty<br>and cost $2.4 billion per year"
            ],
            [
             "<b>A $290 monthly child allowance in Montana</b><br>would lift 3,000 mothers (39%) out of poverty<br>and cost $0.8 billion per year"
            ],
            [
             "<b>A $290 monthly child allowance in North Carolina</b><br>would lift 41,000 mothers (32%) out of poverty<br>and cost $7.9 billion per year"
            ],
            [
             "<b>A $290 monthly child allowance in North Dakota</b><br>would lift 2,000 mothers (55%) out of poverty<br>and cost $0.6 billion per year"
            ],
            [
             "<b>A $290 monthly child allowance in Nebraska</b><br>would lift 4,000 mothers (18%) out of poverty<br>and cost $1.7 billion per year"
            ],
            [
             "<b>A $290 monthly child allowance in New Hampshire</b><br>would lift 4,000 mothers (49%) out of poverty<br>and cost $0.8 billion per year"
            ],
            [
             "<b>A $290 monthly child allowance in New Jersey</b><br>would lift 23,000 mothers (17%) out of poverty<br>and cost $6.5 billion per year"
            ],
            [
             "<b>A $290 monthly child allowance in New Mexico</b><br>would lift 7,000 mothers (22%) out of poverty<br>and cost $1.6 billion per year"
            ],
            [
             "<b>A $290 monthly child allowance in Nevada</b><br>would lift 11,000 mothers (19%) out of poverty<br>and cost $2.5 billion per year"
            ],
            [
             "<b>A $290 monthly child allowance in New York</b><br>would lift 96,000 mothers (32%) out of poverty<br>and cost $14.0 billion per year"
            ],
            [
             "<b>A $290 monthly child allowance in Ohio</b><br>would lift 49,000 mothers (39%) out of poverty<br>and cost $8.8 billion per year"
            ],
            [
             "<b>A $290 monthly child allowance in Oklahoma</b><br>would lift 19,000 mothers (37%) out of poverty<br>and cost $3.4 billion per year"
            ],
            [
             "<b>A $290 monthly child allowance in Oregon</b><br>would lift 10,000 mothers (33%) out of poverty<br>and cost $3.0 billion per year"
            ],
            [
             "<b>A $290 monthly child allowance in Pennsylvania</b><br>would lift 48,000 mothers (36%) out of poverty<br>and cost $8.8 billion per year"
            ],
            [
             "<b>A $290 monthly child allowance in Rhode Island</b><br>would lift 5,000 mothers (43%) out of poverty<br>and cost $0.7 billion per year"
            ],
            [
             "<b>A $290 monthly child allowance in South Carolina</b><br>would lift 30,000 mothers (29%) out of poverty<br>and cost $3.9 billion per year"
            ],
            [
             "<b>A $290 monthly child allowance in South Dakota</b><br>would lift 5,000 mothers (59%) out of poverty<br>and cost $0.8 billion per year"
            ],
            [
             "<b>A $290 monthly child allowance in Tennessee</b><br>would lift 26,000 mothers (25%) out of poverty<br>and cost $5.3 billion per year"
            ],
            [
             "<b>A $290 monthly child allowance in Texas</b><br>would lift 117,000 mothers (25%) out of poverty<br>and cost $26.0 billion per year"
            ],
            [
             "<b>A $290 monthly child allowance in Utah</b><br>would lift 8,000 mothers (31%) out of poverty<br>and cost $3.2 billion per year"
            ],
            [
             "<b>A $290 monthly child allowance in Virginia</b><br>would lift 24,000 mothers (22%) out of poverty<br>and cost $6.4 billion per year"
            ],
            [
             "<b>A $290 monthly child allowance in Vermont</b><br>would lift 2,000 mothers (40%) out of poverty<br>and cost $0.4 billion per year"
            ],
            [
             "<b>A $290 monthly child allowance in Washington</b><br>would lift 32,000 mothers (46%) out of poverty<br>and cost $5.8 billion per year"
            ],
            [
             "<b>A $290 monthly child allowance in Wisconsin</b><br>would lift 10,000 mothers (37%) out of poverty<br>and cost $4.3 billion per year"
            ],
            [
             "<b>A $290 monthly child allowance in West Virginia</b><br>would lift 6,000 mothers (33%) out of poverty<br>and cost $1.2 billion per year"
            ],
            [
             "<b>A $290 monthly child allowance in Wyoming</b><br>would lift 1,000 mothers (31%) out of poverty<br>and cost $0.5 billion per year"
            ]
           ],
           "geo": "geo",
           "hovertemplate": "%{customdata[0]}<extra></extra>",
           "locationmode": "USA-states",
           "locations": [
            "AK",
            "AL",
            "AR",
            "AZ",
            "CA",
            "CO",
            "CT",
            "DC",
            "DE",
            "FL",
            "GA",
            "HI",
            "IA",
            "ID",
            "IL",
            "IN",
            "KS",
            "KY",
            "LA",
            "MA",
            "MD",
            "ME",
            "MI",
            "MN",
            "MO",
            "MS",
            "MT",
            "NC",
            "ND",
            "NE",
            "NH",
            "NJ",
            "NM",
            "NV",
            "NY",
            "OH",
            "OK",
            "OR",
            "PA",
            "RI",
            "SC",
            "SD",
            "TN",
            "TX",
            "UT",
            "VA",
            "VT",
            "WA",
            "WI",
            "WV",
            "WY"
           ],
           "name": "",
           "type": "choropleth",
           "z": [
            0.5239800714423813,
            0.2417882998993897,
            0.32549717338763495,
            0.1970497054377901,
            0.19861404566590088,
            0.2410596598377667,
            0.43746979128073904,
            0.2585381346508286,
            0.19776041913714926,
            0.28350147431651423,
            0.44675261258806725,
            0.2774857000536978,
            0.6348077587800441,
            0.6014768770179171,
            0.3715395319116335,
            0.38509772288699323,
            0.6362278447509232,
            0.36744959874140926,
            0.208318934959534,
            0.29460706361765704,
            0.1584324460344331,
            0,
            0.34472091336303823,
            0.26679101478637024,
            0.5588913251267131,
            0.4111800667470609,
            0.3993996358196602,
            0.32202552599998857,
            0.5531365582843061,
            0.18720378336824844,
            0.4962193634295625,
            0.1736117967340673,
            0.22645386184224947,
            0.19933204322641462,
            0.32479070832141765,
            0.39218748090548117,
            0.3753886890919152,
            0.3379092854203875,
            0.36518865551621377,
            0.4392196808073616,
            0.2949242338617418,
            0.5958078968361021,
            0.2573930014901702,
            0.2525967780639981,
            0.31688099094536504,
            0.2214630703534657,
            0.40146839585581784,
            0.4603988596660652,
            0.377228565028407,
            0.33495722660882443,
            0.31329748202571556
           ]
          }
         ],
         "name": "290"
        },
        {
         "data": [
          {
           "coloraxis": "coloraxis",
           "customdata": [
            [
             "<b>A $300 monthly child allowance in Alaska</b><br>would lift 5,000 mothers (52%) out of poverty<br>and cost $0.6 billion per year"
            ],
            [
             "<b>A $300 monthly child allowance in Alabama</b><br>would lift 16,000 mothers (24%) out of poverty<br>and cost $4.0 billion per year"
            ],
            [
             "<b>A $300 monthly child allowance in Arkansas</b><br>would lift 17,000 mothers (32%) out of poverty<br>and cost $2.5 billion per year"
            ],
            [
             "<b>A $300 monthly child allowance in Arizona</b><br>would lift 20,000 mothers (25%) out of poverty<br>and cost $6.0 billion per year"
            ],
            [
             "<b>A $300 monthly child allowance in California</b><br>would lift 169,000 mothers (20%) out of poverty<br>and cost $31.5 billion per year"
            ],
            [
             "<b>A $300 monthly child allowance in Colorado</b><br>would lift 20,000 mothers (24%) out of poverty<br>and cost $4.5 billion per year"
            ],
            [
             "<b>A $300 monthly child allowance in Connecticut</b><br>would lift 26,000 mothers (43%) out of poverty<br>and cost $2.5 billion per year"
            ],
            [
             "<b>A $300 monthly child allowance in District of Columbia</b><br>would lift 3,000 mothers (25%) out of poverty<br>and cost $0.5 billion per year"
            ],
            [
             "<b>A $300 monthly child allowance in Delaware</b><br>would lift 2,000 mothers (19%) out of poverty<br>and cost $0.7 billion per year"
            ],
            [
             "<b>A $300 monthly child allowance in Florida</b><br>would lift 123,000 mothers (28%) out of poverty<br>and cost $15.2 billion per year"
            ],
            [
             "<b>A $300 monthly child allowance in Georgia</b><br>would lift 61,000 mothers (47%) out of poverty<br>and cost $9.0 billion per year"
            ],
            [
             "<b>A $300 monthly child allowance in Hawaii</b><br>would lift 6,000 mothers (27%) out of poverty<br>and cost $1.1 billion per year"
            ],
            [
             "<b>A $300 monthly child allowance in Iowa</b><br>would lift 17,000 mothers (63%) out of poverty<br>and cost $2.6 billion per year"
            ],
            [
             "<b>A $300 monthly child allowance in Idaho</b><br>would lift 7,000 mothers (68%) out of poverty<br>and cost $1.6 billion per year"
            ],
            [
             "<b>A $300 monthly child allowance in Illinois</b><br>would lift 46,000 mothers (37%) out of poverty<br>and cost $10.0 billion per year"
            ],
            [
             "<b>A $300 monthly child allowance in Indiana</b><br>would lift 27,000 mothers (38%) out of poverty<br>and cost $5.6 billion per year"
            ],
            [
             "<b>A $300 monthly child allowance in Kansas</b><br>would lift 13,000 mothers (63%) out of poverty<br>and cost $2.4 billion per year"
            ],
            [
             "<b>A $300 monthly child allowance in Kentucky</b><br>would lift 28,000 mothers (41%) out of poverty<br>and cost $3.6 billion per year"
            ],
            [
             "<b>A $300 monthly child allowance in Louisiana</b><br>would lift 13,000 mothers (20%) out of poverty<br>and cost $4.0 billion per year"
            ],
            [
             "<b>A $300 monthly child allowance in Massachusetts</b><br>would lift 26,000 mothers (29%) out of poverty<br>and cost $4.9 billion per year"
            ],
            [
             "<b>A $300 monthly child allowance in Maryland</b><br>would lift 16,000 mothers (15%) out of poverty<br>and cost $4.7 billion per year"
            ],
            [
             "<b>A $300 monthly child allowance in Maine</b><br>would lift 0,000 mothers (0%) out of poverty<br>and cost $0.8 billion per year"
            ],
            [
             "<b>A $300 monthly child allowance in Michigan</b><br>would lift 32,000 mothers (34%) out of poverty<br>and cost $7.6 billion per year"
            ],
            [
             "<b>A $300 monthly child allowance in Minnesota</b><br>would lift 10,000 mothers (26%) out of poverty<br>and cost $4.7 billion per year"
            ],
            [
             "<b>A $300 monthly child allowance in Missouri</b><br>would lift 37,000 mothers (55%) out of poverty<br>and cost $4.8 billion per year"
            ],
            [
             "<b>A $300 monthly child allowance in Mississippi</b><br>would lift 25,000 mothers (41%) out of poverty<br>and cost $2.5 billion per year"
            ],
            [
             "<b>A $300 monthly child allowance in Montana</b><br>would lift 3,000 mothers (39%) out of poverty<br>and cost $0.8 billion per year"
            ],
            [
             "<b>A $300 monthly child allowance in North Carolina</b><br>would lift 44,000 mothers (35%) out of poverty<br>and cost $8.2 billion per year"
            ],
            [
             "<b>A $300 monthly child allowance in North Dakota</b><br>would lift 2,000 mothers (55%) out of poverty<br>and cost $0.7 billion per year"
            ],
            [
             "<b>A $300 monthly child allowance in Nebraska</b><br>would lift 4,000 mothers (18%) out of poverty<br>and cost $1.7 billion per year"
            ],
            [
             "<b>A $300 monthly child allowance in New Hampshire</b><br>would lift 4,000 mothers (49%) out of poverty<br>and cost $0.9 billion per year"
            ],
            [
             "<b>A $300 monthly child allowance in New Jersey</b><br>would lift 23,000 mothers (17%) out of poverty<br>and cost $6.8 billion per year"
            ],
            [
             "<b>A $300 monthly child allowance in New Mexico</b><br>would lift 7,000 mothers (22%) out of poverty<br>and cost $1.7 billion per year"
            ],
            [
             "<b>A $300 monthly child allowance in Nevada</b><br>would lift 11,000 mothers (19%) out of poverty<br>and cost $2.6 billion per year"
            ],
            [
             "<b>A $300 monthly child allowance in New York</b><br>would lift 96,000 mothers (32%) out of poverty<br>and cost $14.5 billion per year"
            ],
            [
             "<b>A $300 monthly child allowance in Ohio</b><br>would lift 49,000 mothers (39%) out of poverty<br>and cost $9.1 billion per year"
            ],
            [
             "<b>A $300 monthly child allowance in Oklahoma</b><br>would lift 19,000 mothers (37%) out of poverty<br>and cost $3.5 billion per year"
            ],
            [
             "<b>A $300 monthly child allowance in Oregon</b><br>would lift 10,000 mothers (33%) out of poverty<br>and cost $3.1 billion per year"
            ],
            [
             "<b>A $300 monthly child allowance in Pennsylvania</b><br>would lift 48,000 mothers (36%) out of poverty<br>and cost $9.1 billion per year"
            ],
            [
             "<b>A $300 monthly child allowance in Rhode Island</b><br>would lift 5,000 mothers (43%) out of poverty<br>and cost $0.7 billion per year"
            ],
            [
             "<b>A $300 monthly child allowance in South Carolina</b><br>would lift 30,000 mothers (29%) out of poverty<br>and cost $4.0 billion per year"
            ],
            [
             "<b>A $300 monthly child allowance in South Dakota</b><br>would lift 5,000 mothers (59%) out of poverty<br>and cost $0.8 billion per year"
            ],
            [
             "<b>A $300 monthly child allowance in Tennessee</b><br>would lift 26,000 mothers (25%) out of poverty<br>and cost $5.5 billion per year"
            ],
            [
             "<b>A $300 monthly child allowance in Texas</b><br>would lift 117,000 mothers (25%) out of poverty<br>and cost $26.9 billion per year"
            ],
            [
             "<b>A $300 monthly child allowance in Utah</b><br>would lift 8,000 mothers (31%) out of poverty<br>and cost $3.3 billion per year"
            ],
            [
             "<b>A $300 monthly child allowance in Virginia</b><br>would lift 24,000 mothers (22%) out of poverty<br>and cost $6.6 billion per year"
            ],
            [
             "<b>A $300 monthly child allowance in Vermont</b><br>would lift 2,000 mothers (40%) out of poverty<br>and cost $0.4 billion per year"
            ],
            [
             "<b>A $300 monthly child allowance in Washington</b><br>would lift 32,000 mothers (46%) out of poverty<br>and cost $6.0 billion per year"
            ],
            [
             "<b>A $300 monthly child allowance in Wisconsin</b><br>would lift 10,000 mothers (37%) out of poverty<br>and cost $4.5 billion per year"
            ],
            [
             "<b>A $300 monthly child allowance in West Virginia</b><br>would lift 6,000 mothers (33%) out of poverty<br>and cost $1.2 billion per year"
            ],
            [
             "<b>A $300 monthly child allowance in Wyoming</b><br>would lift 1,000 mothers (31%) out of poverty<br>and cost $0.5 billion per year"
            ]
           ],
           "geo": "geo",
           "hovertemplate": "%{customdata[0]}<extra></extra>",
           "locationmode": "USA-states",
           "locations": [
            "AK",
            "AL",
            "AR",
            "AZ",
            "CA",
            "CO",
            "CT",
            "DC",
            "DE",
            "FL",
            "GA",
            "HI",
            "IA",
            "ID",
            "IL",
            "IN",
            "KS",
            "KY",
            "LA",
            "MA",
            "MD",
            "ME",
            "MI",
            "MN",
            "MO",
            "MS",
            "MT",
            "NC",
            "ND",
            "NE",
            "NH",
            "NJ",
            "NM",
            "NV",
            "NY",
            "OH",
            "OK",
            "OR",
            "PA",
            "RI",
            "SC",
            "SD",
            "TN",
            "TX",
            "UT",
            "VA",
            "VT",
            "WA",
            "WI",
            "WV",
            "WY"
           ],
           "name": "",
           "type": "choropleth",
           "z": [
            0.5239800714423813,
            0.2417882998993897,
            0.32549717338763495,
            0.2518170898801006,
            0.20795648097586403,
            0.2410596598377667,
            0.43746979128073904,
            0.2585381346508286,
            0.19776041913714926,
            0.28350147431651423,
            0.4734074050148809,
            0.2774857000536978,
            0.6348077587800441,
            0.6822157499669405,
            0.3715395319116335,
            0.38509772288699323,
            0.6362278447509232,
            0.4157228385670276,
            0.208318934959534,
            0.29460706361765704,
            0.1584324460344331,
            0,
            0.34472091336303823,
            0.26679101478637024,
            0.5588913251267131,
            0.4111800667470609,
            0.3993996358196602,
            0.3513570026942328,
            0.5531365582843061,
            0.18720378336824844,
            0.4962193634295625,
            0.1736117967340673,
            0.22645386184224947,
            0.19933204322641462,
            0.32479070832141765,
            0.39218748090548117,
            0.3753886890919152,
            0.3379092854203875,
            0.36518865551621377,
            0.4392196808073616,
            0.2949242338617418,
            0.5958078968361021,
            0.2573930014901702,
            0.2525967780639981,
            0.31688099094536504,
            0.2214630703534657,
            0.40146839585581784,
            0.4603988596660652,
            0.377228565028407,
            0.33495722660882443,
            0.31329748202571556
           ]
          }
         ],
         "name": "300"
        },
        {
         "data": [
          {
           "coloraxis": "coloraxis",
           "customdata": [
            [
             "<b>A $310 monthly child allowance in Alaska</b><br>would lift 5,000 mothers (52%) out of poverty<br>and cost $0.7 billion per year"
            ],
            [
             "<b>A $310 monthly child allowance in Alabama</b><br>would lift 16,000 mothers (24%) out of poverty<br>and cost $4.1 billion per year"
            ],
            [
             "<b>A $310 monthly child allowance in Arkansas</b><br>would lift 19,000 mothers (36%) out of poverty<br>and cost $2.6 billion per year"
            ],
            [
             "<b>A $310 monthly child allowance in Arizona</b><br>would lift 20,000 mothers (25%) out of poverty<br>and cost $6.2 billion per year"
            ],
            [
             "<b>A $310 monthly child allowance in California</b><br>would lift 173,000 mothers (21%) out of poverty<br>and cost $32.6 billion per year"
            ],
            [
             "<b>A $310 monthly child allowance in Colorado</b><br>would lift 20,000 mothers (24%) out of poverty<br>and cost $4.7 billion per year"
            ],
            [
             "<b>A $310 monthly child allowance in Connecticut</b><br>would lift 26,000 mothers (43%) out of poverty<br>and cost $2.6 billion per year"
            ],
            [
             "<b>A $310 monthly child allowance in District of Columbia</b><br>would lift 3,000 mothers (25%) out of poverty<br>and cost $0.5 billion per year"
            ],
            [
             "<b>A $310 monthly child allowance in Delaware</b><br>would lift 2,000 mothers (19%) out of poverty<br>and cost $0.7 billion per year"
            ],
            [
             "<b>A $310 monthly child allowance in Florida</b><br>would lift 136,000 mothers (31%) out of poverty<br>and cost $15.7 billion per year"
            ],
            [
             "<b>A $310 monthly child allowance in Georgia</b><br>would lift 61,000 mothers (47%) out of poverty<br>and cost $9.2 billion per year"
            ],
            [
             "<b>A $310 monthly child allowance in Hawaii</b><br>would lift 6,000 mothers (27%) out of poverty<br>and cost $1.1 billion per year"
            ],
            [
             "<b>A $310 monthly child allowance in Iowa</b><br>would lift 17,000 mothers (63%) out of poverty<br>and cost $2.7 billion per year"
            ],
            [
             "<b>A $310 monthly child allowance in Idaho</b><br>would lift 7,000 mothers (68%) out of poverty<br>and cost $1.6 billion per year"
            ],
            [
             "<b>A $310 monthly child allowance in Illinois</b><br>would lift 46,000 mothers (37%) out of poverty<br>and cost $10.3 billion per year"
            ],
            [
             "<b>A $310 monthly child allowance in Indiana</b><br>would lift 31,000 mothers (43%) out of poverty<br>and cost $5.8 billion per year"
            ],
            [
             "<b>A $310 monthly child allowance in Kansas</b><br>would lift 13,000 mothers (63%) out of poverty<br>and cost $2.5 billion per year"
            ],
            [
             "<b>A $310 monthly child allowance in Kentucky</b><br>would lift 28,000 mothers (41%) out of poverty<br>and cost $3.8 billion per year"
            ],
            [
             "<b>A $310 monthly child allowance in Louisiana</b><br>would lift 13,000 mothers (20%) out of poverty<br>and cost $4.1 billion per year"
            ],
            [
             "<b>A $310 monthly child allowance in Massachusetts</b><br>would lift 26,000 mothers (29%) out of poverty<br>and cost $5.0 billion per year"
            ],
            [
             "<b>A $310 monthly child allowance in Maryland</b><br>would lift 16,000 mothers (15%) out of poverty<br>and cost $4.8 billion per year"
            ],
            [
             "<b>A $310 monthly child allowance in Maine</b><br>would lift 0,000 mothers (0%) out of poverty<br>and cost $0.9 billion per year"
            ],
            [
             "<b>A $310 monthly child allowance in Michigan</b><br>would lift 35,000 mothers (38%) out of poverty<br>and cost $7.9 billion per year"
            ],
            [
             "<b>A $310 monthly child allowance in Minnesota</b><br>would lift 10,000 mothers (26%) out of poverty<br>and cost $4.9 billion per year"
            ],
            [
             "<b>A $310 monthly child allowance in Missouri</b><br>would lift 37,000 mothers (55%) out of poverty<br>and cost $5.0 billion per year"
            ],
            [
             "<b>A $310 monthly child allowance in Mississippi</b><br>would lift 25,000 mothers (41%) out of poverty<br>and cost $2.5 billion per year"
            ],
            [
             "<b>A $310 monthly child allowance in Montana</b><br>would lift 3,000 mothers (39%) out of poverty<br>and cost $0.9 billion per year"
            ],
            [
             "<b>A $310 monthly child allowance in North Carolina</b><br>would lift 44,000 mothers (35%) out of poverty<br>and cost $8.4 billion per year"
            ],
            [
             "<b>A $310 monthly child allowance in North Dakota</b><br>would lift 2,000 mothers (55%) out of poverty<br>and cost $0.7 billion per year"
            ],
            [
             "<b>A $310 monthly child allowance in Nebraska</b><br>would lift 4,000 mothers (18%) out of poverty<br>and cost $1.8 billion per year"
            ],
            [
             "<b>A $310 monthly child allowance in New Hampshire</b><br>would lift 4,000 mothers (49%) out of poverty<br>and cost $0.9 billion per year"
            ],
            [
             "<b>A $310 monthly child allowance in New Jersey</b><br>would lift 23,000 mothers (17%) out of poverty<br>and cost $7.0 billion per year"
            ],
            [
             "<b>A $310 monthly child allowance in New Mexico</b><br>would lift 7,000 mothers (22%) out of poverty<br>and cost $1.7 billion per year"
            ],
            [
             "<b>A $310 monthly child allowance in Nevada</b><br>would lift 11,000 mothers (19%) out of poverty<br>and cost $2.6 billion per year"
            ],
            [
             "<b>A $310 monthly child allowance in New York</b><br>would lift 96,000 mothers (32%) out of poverty<br>and cost $14.9 billion per year"
            ],
            [
             "<b>A $310 monthly child allowance in Ohio</b><br>would lift 49,000 mothers (39%) out of poverty<br>and cost $9.4 billion per year"
            ],
            [
             "<b>A $310 monthly child allowance in Oklahoma</b><br>would lift 19,000 mothers (37%) out of poverty<br>and cost $3.6 billion per year"
            ],
            [
             "<b>A $310 monthly child allowance in Oregon</b><br>would lift 10,000 mothers (33%) out of poverty<br>and cost $3.2 billion per year"
            ],
            [
             "<b>A $310 monthly child allowance in Pennsylvania</b><br>would lift 48,000 mothers (36%) out of poverty<br>and cost $9.4 billion per year"
            ],
            [
             "<b>A $310 monthly child allowance in Rhode Island</b><br>would lift 6,000 mothers (53%) out of poverty<br>and cost $0.7 billion per year"
            ],
            [
             "<b>A $310 monthly child allowance in South Carolina</b><br>would lift 33,000 mothers (32%) out of poverty<br>and cost $4.1 billion per year"
            ],
            [
             "<b>A $310 monthly child allowance in South Dakota</b><br>would lift 5,000 mothers (59%) out of poverty<br>and cost $0.8 billion per year"
            ],
            [
             "<b>A $310 monthly child allowance in Tennessee</b><br>would lift 29,000 mothers (29%) out of poverty<br>and cost $5.6 billion per year"
            ],
            [
             "<b>A $310 monthly child allowance in Texas</b><br>would lift 127,000 mothers (27%) out of poverty<br>and cost $27.8 billion per year"
            ],
            [
             "<b>A $310 monthly child allowance in Utah</b><br>would lift 8,000 mothers (31%) out of poverty<br>and cost $3.5 billion per year"
            ],
            [
             "<b>A $310 monthly child allowance in Virginia</b><br>would lift 24,000 mothers (22%) out of poverty<br>and cost $6.8 billion per year"
            ],
            [
             "<b>A $310 monthly child allowance in Vermont</b><br>would lift 2,000 mothers (40%) out of poverty<br>and cost $0.4 billion per year"
            ],
            [
             "<b>A $310 monthly child allowance in Washington</b><br>would lift 32,000 mothers (46%) out of poverty<br>and cost $6.2 billion per year"
            ],
            [
             "<b>A $310 monthly child allowance in Wisconsin</b><br>would lift 10,000 mothers (37%) out of poverty<br>and cost $4.6 billion per year"
            ],
            [
             "<b>A $310 monthly child allowance in West Virginia</b><br>would lift 6,000 mothers (33%) out of poverty<br>and cost $1.3 billion per year"
            ],
            [
             "<b>A $310 monthly child allowance in Wyoming</b><br>would lift 1,000 mothers (31%) out of poverty<br>and cost $0.5 billion per year"
            ]
           ],
           "geo": "geo",
           "hovertemplate": "%{customdata[0]}<extra></extra>",
           "locationmode": "USA-states",
           "locations": [
            "AK",
            "AL",
            "AR",
            "AZ",
            "CA",
            "CO",
            "CT",
            "DC",
            "DE",
            "FL",
            "GA",
            "HI",
            "IA",
            "ID",
            "IL",
            "IN",
            "KS",
            "KY",
            "LA",
            "MA",
            "MD",
            "ME",
            "MI",
            "MN",
            "MO",
            "MS",
            "MT",
            "NC",
            "ND",
            "NE",
            "NH",
            "NJ",
            "NM",
            "NV",
            "NY",
            "OH",
            "OK",
            "OR",
            "PA",
            "RI",
            "SC",
            "SD",
            "TN",
            "TX",
            "UT",
            "VA",
            "VT",
            "WA",
            "WI",
            "WV",
            "WY"
           ],
           "name": "",
           "type": "choropleth",
           "z": [
            0.5239800714423813,
            0.2417882998993897,
            0.3637729769373784,
            0.2518170898801006,
            0.2129964458324703,
            0.2410596598377667,
            0.43746979128073904,
            0.2585381346508286,
            0.19776041913714926,
            0.31158099166305675,
            0.4734074050148809,
            0.2774857000536978,
            0.6348077587800441,
            0.6822157499669405,
            0.3715395319116335,
            0.43381011965023164,
            0.6362278447509232,
            0.4157228385670276,
            0.208318934959534,
            0.29460706361765704,
            0.1584324460344331,
            0,
            0.38182560379019104,
            0.26679101478637024,
            0.5588913251267131,
            0.4111800667470609,
            0.3993996358196602,
            0.3513570026942328,
            0.5531365582843061,
            0.18720378336824844,
            0.4962193634295625,
            0.1736117967340673,
            0.22645386184224947,
            0.19933204322641462,
            0.32479070832141765,
            0.39218748090548117,
            0.3753886890919152,
            0.3379092854203875,
            0.36518865551621377,
            0.5363823929528656,
            0.329705921665314,
            0.5958078968361021,
            0.2902597865215744,
            0.2726620032773083,
            0.31688099094536504,
            0.2214630703534657,
            0.40146839585581784,
            0.4603988596660652,
            0.377228565028407,
            0.33495722660882443,
            0.31329748202571556
           ]
          }
         ],
         "name": "310"
        },
        {
         "data": [
          {
           "coloraxis": "coloraxis",
           "customdata": [
            [
             "<b>A $320 monthly child allowance in Alaska</b><br>would lift 5,000 mothers (52%) out of poverty<br>and cost $0.7 billion per year"
            ],
            [
             "<b>A $320 monthly child allowance in Alabama</b><br>would lift 16,000 mothers (24%) out of poverty<br>and cost $4.3 billion per year"
            ],
            [
             "<b>A $320 monthly child allowance in Arkansas</b><br>would lift 19,000 mothers (36%) out of poverty<br>and cost $2.6 billion per year"
            ],
            [
             "<b>A $320 monthly child allowance in Arizona</b><br>would lift 20,000 mothers (25%) out of poverty<br>and cost $6.4 billion per year"
            ],
            [
             "<b>A $320 monthly child allowance in California</b><br>would lift 182,000 mothers (22%) out of poverty<br>and cost $33.6 billion per year"
            ],
            [
             "<b>A $320 monthly child allowance in Colorado</b><br>would lift 20,000 mothers (24%) out of poverty<br>and cost $4.8 billion per year"
            ],
            [
             "<b>A $320 monthly child allowance in Connecticut</b><br>would lift 26,000 mothers (43%) out of poverty<br>and cost $2.6 billion per year"
            ],
            [
             "<b>A $320 monthly child allowance in District of Columbia</b><br>would lift 3,000 mothers (25%) out of poverty<br>and cost $0.5 billion per year"
            ],
            [
             "<b>A $320 monthly child allowance in Delaware</b><br>would lift 2,000 mothers (19%) out of poverty<br>and cost $0.8 billion per year"
            ],
            [
             "<b>A $320 monthly child allowance in Florida</b><br>would lift 136,000 mothers (31%) out of poverty<br>and cost $16.2 billion per year"
            ],
            [
             "<b>A $320 monthly child allowance in Georgia</b><br>would lift 61,000 mothers (47%) out of poverty<br>and cost $9.5 billion per year"
            ],
            [
             "<b>A $320 monthly child allowance in Hawaii</b><br>would lift 6,000 mothers (27%) out of poverty<br>and cost $1.2 billion per year"
            ],
            [
             "<b>A $320 monthly child allowance in Iowa</b><br>would lift 19,000 mothers (71%) out of poverty<br>and cost $2.8 billion per year"
            ],
            [
             "<b>A $320 monthly child allowance in Idaho</b><br>would lift 7,000 mothers (68%) out of poverty<br>and cost $1.7 billion per year"
            ],
            [
             "<b>A $320 monthly child allowance in Illinois</b><br>would lift 55,000 mothers (44%) out of poverty<br>and cost $10.6 billion per year"
            ],
            [
             "<b>A $320 monthly child allowance in Indiana</b><br>would lift 31,000 mothers (43%) out of poverty<br>and cost $6.0 billion per year"
            ],
            [
             "<b>A $320 monthly child allowance in Kansas</b><br>would lift 13,000 mothers (63%) out of poverty<br>and cost $2.6 billion per year"
            ],
            [
             "<b>A $320 monthly child allowance in Kentucky</b><br>would lift 28,000 mothers (41%) out of poverty<br>and cost $3.9 billion per year"
            ],
            [
             "<b>A $320 monthly child allowance in Louisiana</b><br>would lift 13,000 mothers (20%) out of poverty<br>and cost $4.3 billion per year"
            ],
            [
             "<b>A $320 monthly child allowance in Massachusetts</b><br>would lift 26,000 mothers (29%) out of poverty<br>and cost $5.2 billion per year"
            ],
            [
             "<b>A $320 monthly child allowance in Maryland</b><br>would lift 16,000 mothers (15%) out of poverty<br>and cost $5.0 billion per year"
            ],
            [
             "<b>A $320 monthly child allowance in Maine</b><br>would lift 0,000 mothers (0%) out of poverty<br>and cost $0.9 billion per year"
            ],
            [
             "<b>A $320 monthly child allowance in Michigan</b><br>would lift 35,000 mothers (38%) out of poverty<br>and cost $8.1 billion per year"
            ],
            [
             "<b>A $320 monthly child allowance in Minnesota</b><br>would lift 10,000 mothers (26%) out of poverty<br>and cost $5.0 billion per year"
            ],
            [
             "<b>A $320 monthly child allowance in Missouri</b><br>would lift 37,000 mothers (55%) out of poverty<br>and cost $5.2 billion per year"
            ],
            [
             "<b>A $320 monthly child allowance in Mississippi</b><br>would lift 26,000 mothers (43%) out of poverty<br>and cost $2.6 billion per year"
            ],
            [
             "<b>A $320 monthly child allowance in Montana</b><br>would lift 3,000 mothers (48%) out of poverty<br>and cost $0.9 billion per year"
            ],
            [
             "<b>A $320 monthly child allowance in North Carolina</b><br>would lift 48,000 mothers (37%) out of poverty<br>and cost $8.7 billion per year"
            ],
            [
             "<b>A $320 monthly child allowance in North Dakota</b><br>would lift 2,000 mothers (55%) out of poverty<br>and cost $0.7 billion per year"
            ],
            [
             "<b>A $320 monthly child allowance in Nebraska</b><br>would lift 4,000 mothers (18%) out of poverty<br>and cost $1.8 billion per year"
            ],
            [
             "<b>A $320 monthly child allowance in New Hampshire</b><br>would lift 4,000 mothers (49%) out of poverty<br>and cost $0.9 billion per year"
            ],
            [
             "<b>A $320 monthly child allowance in New Jersey</b><br>would lift 23,000 mothers (17%) out of poverty<br>and cost $7.2 billion per year"
            ],
            [
             "<b>A $320 monthly child allowance in New Mexico</b><br>would lift 7,000 mothers (22%) out of poverty<br>and cost $1.8 billion per year"
            ],
            [
             "<b>A $320 monthly child allowance in Nevada</b><br>would lift 11,000 mothers (19%) out of poverty<br>and cost $2.7 billion per year"
            ],
            [
             "<b>A $320 monthly child allowance in New York</b><br>would lift 96,000 mothers (32%) out of poverty<br>and cost $15.4 billion per year"
            ],
            [
             "<b>A $320 monthly child allowance in Ohio</b><br>would lift 57,000 mothers (45%) out of poverty<br>and cost $9.7 billion per year"
            ],
            [
             "<b>A $320 monthly child allowance in Oklahoma</b><br>would lift 19,000 mothers (37%) out of poverty<br>and cost $3.7 billion per year"
            ],
            [
             "<b>A $320 monthly child allowance in Oregon</b><br>would lift 10,000 mothers (33%) out of poverty<br>and cost $3.3 billion per year"
            ],
            [
             "<b>A $320 monthly child allowance in Pennsylvania</b><br>would lift 48,000 mothers (36%) out of poverty<br>and cost $9.7 billion per year"
            ],
            [
             "<b>A $320 monthly child allowance in Rhode Island</b><br>would lift 6,000 mothers (53%) out of poverty<br>and cost $0.8 billion per year"
            ],
            [
             "<b>A $320 monthly child allowance in South Carolina</b><br>would lift 33,000 mothers (32%) out of poverty<br>and cost $4.3 billion per year"
            ],
            [
             "<b>A $320 monthly child allowance in South Dakota</b><br>would lift 5,000 mothers (59%) out of poverty<br>and cost $0.8 billion per year"
            ],
            [
             "<b>A $320 monthly child allowance in Tennessee</b><br>would lift 33,000 mothers (32%) out of poverty<br>and cost $5.8 billion per year"
            ],
            [
             "<b>A $320 monthly child allowance in Texas</b><br>would lift 131,000 mothers (28%) out of poverty<br>and cost $28.7 billion per year"
            ],
            [
             "<b>A $320 monthly child allowance in Utah</b><br>would lift 8,000 mothers (31%) out of poverty<br>and cost $3.6 billion per year"
            ],
            [
             "<b>A $320 monthly child allowance in Virginia</b><br>would lift 24,000 mothers (22%) out of poverty<br>and cost $7.1 billion per year"
            ],
            [
             "<b>A $320 monthly child allowance in Vermont</b><br>would lift 2,000 mothers (40%) out of poverty<br>and cost $0.4 billion per year"
            ],
            [
             "<b>A $320 monthly child allowance in Washington</b><br>would lift 32,000 mothers (46%) out of poverty<br>and cost $6.4 billion per year"
            ],
            [
             "<b>A $320 monthly child allowance in Wisconsin</b><br>would lift 10,000 mothers (37%) out of poverty<br>and cost $4.8 billion per year"
            ],
            [
             "<b>A $320 monthly child allowance in West Virginia</b><br>would lift 6,000 mothers (33%) out of poverty<br>and cost $1.3 billion per year"
            ],
            [
             "<b>A $320 monthly child allowance in Wyoming</b><br>would lift 1,000 mothers (31%) out of poverty<br>and cost $0.5 billion per year"
            ]
           ],
           "geo": "geo",
           "hovertemplate": "%{customdata[0]}<extra></extra>",
           "locationmode": "USA-states",
           "locations": [
            "AK",
            "AL",
            "AR",
            "AZ",
            "CA",
            "CO",
            "CT",
            "DC",
            "DE",
            "FL",
            "GA",
            "HI",
            "IA",
            "ID",
            "IL",
            "IN",
            "KS",
            "KY",
            "LA",
            "MA",
            "MD",
            "ME",
            "MI",
            "MN",
            "MO",
            "MS",
            "MT",
            "NC",
            "ND",
            "NE",
            "NH",
            "NJ",
            "NM",
            "NV",
            "NY",
            "OH",
            "OK",
            "OR",
            "PA",
            "RI",
            "SC",
            "SD",
            "TN",
            "TX",
            "UT",
            "VA",
            "VT",
            "WA",
            "WI",
            "WV",
            "WY"
           ],
           "name": "",
           "type": "choropleth",
           "z": [
            0.5239800714423813,
            0.2417882998993897,
            0.3637729769373784,
            0.2518170898801006,
            0.22342252501812684,
            0.2410596598377667,
            0.43746979128073904,
            0.2585381346508286,
            0.19776041913714926,
            0.31158099166305675,
            0.4734074050148809,
            0.2774857000536978,
            0.7161530242128248,
            0.6822157499669405,
            0.44037603516307977,
            0.43381011965023164,
            0.6362278447509232,
            0.4157228385670276,
            0.208318934959534,
            0.29460706361765704,
            0.1584324460344331,
            0,
            0.38182560379019104,
            0.26679101478637024,
            0.5588913251267131,
            0.4347413794545076,
            0.4823223153197117,
            0.3790354930493789,
            0.5531365582843061,
            0.18720378336824844,
            0.4962193634295625,
            0.1736117967340673,
            0.22645386184224947,
            0.19933204322641462,
            0.32479070832141765,
            0.4581505063648171,
            0.3753886890919152,
            0.3379092854203875,
            0.36518865551621377,
            0.5363823929528656,
            0.329705921665314,
            0.5958078968361021,
            0.32952133165179615,
            0.28107014806269626,
            0.31688099094536504,
            0.2214630703534657,
            0.40146839585581784,
            0.4603988596660652,
            0.377228565028407,
            0.33495722660882443,
            0.31329748202571556
           ]
          }
         ],
         "name": "320"
        },
        {
         "data": [
          {
           "coloraxis": "coloraxis",
           "customdata": [
            [
             "<b>A $330 monthly child allowance in Alaska</b><br>would lift 5,000 mothers (52%) out of poverty<br>and cost $0.7 billion per year"
            ],
            [
             "<b>A $330 monthly child allowance in Alabama</b><br>would lift 18,000 mothers (27%) out of poverty<br>and cost $4.4 billion per year"
            ],
            [
             "<b>A $330 monthly child allowance in Arkansas</b><br>would lift 19,000 mothers (36%) out of poverty<br>and cost $2.7 billion per year"
            ],
            [
             "<b>A $330 monthly child allowance in Arizona</b><br>would lift 20,000 mothers (25%) out of poverty<br>and cost $6.6 billion per year"
            ],
            [
             "<b>A $330 monthly child allowance in California</b><br>would lift 189,000 mothers (23%) out of poverty<br>and cost $34.7 billion per year"
            ],
            [
             "<b>A $330 monthly child allowance in Colorado</b><br>would lift 25,000 mothers (29%) out of poverty<br>and cost $5.0 billion per year"
            ],
            [
             "<b>A $330 monthly child allowance in Connecticut</b><br>would lift 26,000 mothers (43%) out of poverty<br>and cost $2.7 billion per year"
            ],
            [
             "<b>A $330 monthly child allowance in District of Columbia</b><br>would lift 3,000 mothers (25%) out of poverty<br>and cost $0.5 billion per year"
            ],
            [
             "<b>A $330 monthly child allowance in Delaware</b><br>would lift 2,000 mothers (19%) out of poverty<br>and cost $0.8 billion per year"
            ],
            [
             "<b>A $330 monthly child allowance in Florida</b><br>would lift 136,000 mothers (31%) out of poverty<br>and cost $16.7 billion per year"
            ],
            [
             "<b>A $330 monthly child allowance in Georgia</b><br>would lift 61,000 mothers (47%) out of poverty<br>and cost $9.8 billion per year"
            ],
            [
             "<b>A $330 monthly child allowance in Hawaii</b><br>would lift 6,000 mothers (27%) out of poverty<br>and cost $1.2 billion per year"
            ],
            [
             "<b>A $330 monthly child allowance in Iowa</b><br>would lift 19,000 mothers (71%) out of poverty<br>and cost $2.9 billion per year"
            ],
            [
             "<b>A $330 monthly child allowance in Idaho</b><br>would lift 7,000 mothers (68%) out of poverty<br>and cost $1.8 billion per year"
            ],
            [
             "<b>A $330 monthly child allowance in Illinois</b><br>would lift 55,000 mothers (44%) out of poverty<br>and cost $11.0 billion per year"
            ],
            [
             "<b>A $330 monthly child allowance in Indiana</b><br>would lift 31,000 mothers (43%) out of poverty<br>and cost $6.2 billion per year"
            ],
            [
             "<b>A $330 monthly child allowance in Kansas</b><br>would lift 13,000 mothers (63%) out of poverty<br>and cost $2.7 billion per year"
            ],
            [
             "<b>A $330 monthly child allowance in Kentucky</b><br>would lift 28,000 mothers (41%) out of poverty<br>and cost $4.0 billion per year"
            ],
            [
             "<b>A $330 monthly child allowance in Louisiana</b><br>would lift 13,000 mothers (20%) out of poverty<br>and cost $4.4 billion per year"
            ],
            [
             "<b>A $330 monthly child allowance in Massachusetts</b><br>would lift 26,000 mothers (29%) out of poverty<br>and cost $5.3 billion per year"
            ],
            [
             "<b>A $330 monthly child allowance in Maryland</b><br>would lift 16,000 mothers (15%) out of poverty<br>and cost $5.1 billion per year"
            ],
            [
             "<b>A $330 monthly child allowance in Maine</b><br>would lift 0,000 mothers (0%) out of poverty<br>and cost $0.9 billion per year"
            ],
            [
             "<b>A $330 monthly child allowance in Michigan</b><br>would lift 40,000 mothers (43%) out of poverty<br>and cost $8.4 billion per year"
            ],
            [
             "<b>A $330 monthly child allowance in Minnesota</b><br>would lift 10,000 mothers (26%) out of poverty<br>and cost $5.2 billion per year"
            ],
            [
             "<b>A $330 monthly child allowance in Missouri</b><br>would lift 37,000 mothers (55%) out of poverty<br>and cost $5.3 billion per year"
            ],
            [
             "<b>A $330 monthly child allowance in Mississippi</b><br>would lift 26,000 mothers (43%) out of poverty<br>and cost $2.7 billion per year"
            ],
            [
             "<b>A $330 monthly child allowance in Montana</b><br>would lift 3,000 mothers (48%) out of poverty<br>and cost $0.9 billion per year"
            ],
            [
             "<b>A $330 monthly child allowance in North Carolina</b><br>would lift 48,000 mothers (37%) out of poverty<br>and cost $9.0 billion per year"
            ],
            [
             "<b>A $330 monthly child allowance in North Dakota</b><br>would lift 2,000 mothers (55%) out of poverty<br>and cost $0.7 billion per year"
            ],
            [
             "<b>A $330 monthly child allowance in Nebraska</b><br>would lift 4,000 mothers (18%) out of poverty<br>and cost $1.9 billion per year"
            ],
            [
             "<b>A $330 monthly child allowance in New Hampshire</b><br>would lift 4,000 mothers (49%) out of poverty<br>and cost $1.0 billion per year"
            ],
            [
             "<b>A $330 monthly child allowance in New Jersey</b><br>would lift 28,000 mothers (21%) out of poverty<br>and cost $7.4 billion per year"
            ],
            [
             "<b>A $330 monthly child allowance in New Mexico</b><br>would lift 7,000 mothers (22%) out of poverty<br>and cost $1.8 billion per year"
            ],
            [
             "<b>A $330 monthly child allowance in Nevada</b><br>would lift 11,000 mothers (19%) out of poverty<br>and cost $2.8 billion per year"
            ],
            [
             "<b>A $330 monthly child allowance in New York</b><br>would lift 96,000 mothers (32%) out of poverty<br>and cost $15.9 billion per year"
            ],
            [
             "<b>A $330 monthly child allowance in Ohio</b><br>would lift 57,000 mothers (45%) out of poverty<br>and cost $10.0 billion per year"
            ],
            [
             "<b>A $330 monthly child allowance in Oklahoma</b><br>would lift 19,000 mothers (37%) out of poverty<br>and cost $3.8 billion per year"
            ],
            [
             "<b>A $330 monthly child allowance in Oregon</b><br>would lift 10,000 mothers (33%) out of poverty<br>and cost $3.4 billion per year"
            ],
            [
             "<b>A $330 monthly child allowance in Pennsylvania</b><br>would lift 48,000 mothers (36%) out of poverty<br>and cost $10.0 billion per year"
            ],
            [
             "<b>A $330 monthly child allowance in Rhode Island</b><br>would lift 6,000 mothers (53%) out of poverty<br>and cost $0.8 billion per year"
            ],
            [
             "<b>A $330 monthly child allowance in South Carolina</b><br>would lift 33,000 mothers (32%) out of poverty<br>and cost $4.4 billion per year"
            ],
            [
             "<b>A $330 monthly child allowance in South Dakota</b><br>would lift 5,000 mothers (59%) out of poverty<br>and cost $0.9 billion per year"
            ],
            [
             "<b>A $330 monthly child allowance in Tennessee</b><br>would lift 37,000 mothers (37%) out of poverty<br>and cost $6.0 billion per year"
            ],
            [
             "<b>A $330 monthly child allowance in Texas</b><br>would lift 135,000 mothers (29%) out of poverty<br>and cost $29.6 billion per year"
            ],
            [
             "<b>A $330 monthly child allowance in Utah</b><br>would lift 8,000 mothers (31%) out of poverty<br>and cost $3.7 billion per year"
            ],
            [
             "<b>A $330 monthly child allowance in Virginia</b><br>would lift 24,000 mothers (22%) out of poverty<br>and cost $7.3 billion per year"
            ],
            [
             "<b>A $330 monthly child allowance in Vermont</b><br>would lift 2,000 mothers (40%) out of poverty<br>and cost $0.4 billion per year"
            ],
            [
             "<b>A $330 monthly child allowance in Washington</b><br>would lift 32,000 mothers (46%) out of poverty<br>and cost $6.6 billion per year"
            ],
            [
             "<b>A $330 monthly child allowance in Wisconsin</b><br>would lift 10,000 mothers (37%) out of poverty<br>and cost $4.9 billion per year"
            ],
            [
             "<b>A $330 monthly child allowance in West Virginia</b><br>would lift 6,000 mothers (33%) out of poverty<br>and cost $1.4 billion per year"
            ],
            [
             "<b>A $330 monthly child allowance in Wyoming</b><br>would lift 1,000 mothers (31%) out of poverty<br>and cost $0.5 billion per year"
            ]
           ],
           "geo": "geo",
           "hovertemplate": "%{customdata[0]}<extra></extra>",
           "locationmode": "USA-states",
           "locations": [
            "AK",
            "AL",
            "AR",
            "AZ",
            "CA",
            "CO",
            "CT",
            "DC",
            "DE",
            "FL",
            "GA",
            "HI",
            "IA",
            "ID",
            "IL",
            "IN",
            "KS",
            "KY",
            "LA",
            "MA",
            "MD",
            "ME",
            "MI",
            "MN",
            "MO",
            "MS",
            "MT",
            "NC",
            "ND",
            "NE",
            "NH",
            "NJ",
            "NM",
            "NV",
            "NY",
            "OH",
            "OK",
            "OR",
            "PA",
            "RI",
            "SC",
            "SD",
            "TN",
            "TX",
            "UT",
            "VA",
            "VT",
            "WA",
            "WI",
            "WV",
            "WY"
           ],
           "name": "",
           "type": "choropleth",
           "z": [
            0.5239800714423813,
            0.2756599744682566,
            0.3637729769373784,
            0.2518170898801006,
            0.23232324865579565,
            0.29745229857858624,
            0.43746979128073904,
            0.2585381346508286,
            0.19776041913714926,
            0.31158099166305675,
            0.4734074050148809,
            0.2774857000536978,
            0.7161530242128248,
            0.6822157499669405,
            0.44037603516307977,
            0.43381011965023164,
            0.6362278447509232,
            0.4157228385670276,
            0.208318934959534,
            0.29460706361765704,
            0.1584324460344331,
            0,
            0.437290790065374,
            0.26679101478637024,
            0.5588913251267131,
            0.4347413794545076,
            0.4823223153197117,
            0.3790354930493789,
            0.5531365582843061,
            0.18720378336824844,
            0.4962193634295625,
            0.21239437898000194,
            0.22645386184224947,
            0.19933204322641462,
            0.32479070832141765,
            0.4581505063648171,
            0.3753886890919152,
            0.3379092854203875,
            0.36518865551621377,
            0.5363823929528656,
            0.329705921665314,
            0.5958078968361021,
            0.3702301312429655,
            0.29087664615330194,
            0.31688099094536504,
            0.2214630703534657,
            0.40146839585581784,
            0.4603988596660652,
            0.377228565028407,
            0.33495722660882443,
            0.31329748202571556
           ]
          }
         ],
         "name": "330"
        },
        {
         "data": [
          {
           "coloraxis": "coloraxis",
           "customdata": [
            [
             "<b>A $340 monthly child allowance in Alaska</b><br>would lift 5,000 mothers (52%) out of poverty<br>and cost $0.7 billion per year"
            ],
            [
             "<b>A $340 monthly child allowance in Alabama</b><br>would lift 18,000 mothers (27%) out of poverty<br>and cost $4.5 billion per year"
            ],
            [
             "<b>A $340 monthly child allowance in Arkansas</b><br>would lift 19,000 mothers (36%) out of poverty<br>and cost $2.8 billion per year"
            ],
            [
             "<b>A $340 monthly child allowance in Arizona</b><br>would lift 24,000 mothers (30%) out of poverty<br>and cost $6.8 billion per year"
            ],
            [
             "<b>A $340 monthly child allowance in California</b><br>would lift 199,000 mothers (24%) out of poverty<br>and cost $35.7 billion per year"
            ],
            [
             "<b>A $340 monthly child allowance in Colorado</b><br>would lift 25,000 mothers (29%) out of poverty<br>and cost $5.1 billion per year"
            ],
            [
             "<b>A $340 monthly child allowance in Connecticut</b><br>would lift 26,000 mothers (43%) out of poverty<br>and cost $2.8 billion per year"
            ],
            [
             "<b>A $340 monthly child allowance in District of Columbia</b><br>would lift 3,000 mothers (25%) out of poverty<br>and cost $0.5 billion per year"
            ],
            [
             "<b>A $340 monthly child allowance in Delaware</b><br>would lift 2,000 mothers (19%) out of poverty<br>and cost $0.8 billion per year"
            ],
            [
             "<b>A $340 monthly child allowance in Florida</b><br>would lift 136,000 mothers (31%) out of poverty<br>and cost $17.2 billion per year"
            ],
            [
             "<b>A $340 monthly child allowance in Georgia</b><br>would lift 61,000 mothers (47%) out of poverty<br>and cost $10.1 billion per year"
            ],
            [
             "<b>A $340 monthly child allowance in Hawaii</b><br>would lift 6,000 mothers (30%) out of poverty<br>and cost $1.2 billion per year"
            ],
            [
             "<b>A $340 monthly child allowance in Iowa</b><br>would lift 19,000 mothers (71%) out of poverty<br>and cost $2.9 billion per year"
            ],
            [
             "<b>A $340 monthly child allowance in Idaho</b><br>would lift 7,000 mothers (68%) out of poverty<br>and cost $1.8 billion per year"
            ],
            [
             "<b>A $340 monthly child allowance in Illinois</b><br>would lift 55,000 mothers (44%) out of poverty<br>and cost $11.3 billion per year"
            ],
            [
             "<b>A $340 monthly child allowance in Indiana</b><br>would lift 31,000 mothers (43%) out of poverty<br>and cost $6.4 billion per year"
            ],
            [
             "<b>A $340 monthly child allowance in Kansas</b><br>would lift 13,000 mothers (63%) out of poverty<br>and cost $2.8 billion per year"
            ],
            [
             "<b>A $340 monthly child allowance in Kentucky</b><br>would lift 28,000 mothers (41%) out of poverty<br>and cost $4.1 billion per year"
            ],
            [
             "<b>A $340 monthly child allowance in Louisiana</b><br>would lift 18,000 mothers (28%) out of poverty<br>and cost $4.5 billion per year"
            ],
            [
             "<b>A $340 monthly child allowance in Massachusetts</b><br>would lift 26,000 mothers (29%) out of poverty<br>and cost $5.5 billion per year"
            ],
            [
             "<b>A $340 monthly child allowance in Maryland</b><br>would lift 20,000 mothers (19%) out of poverty<br>and cost $5.3 billion per year"
            ],
            [
             "<b>A $340 monthly child allowance in Maine</b><br>would lift 0,000 mothers (0%) out of poverty<br>and cost $1.0 billion per year"
            ],
            [
             "<b>A $340 monthly child allowance in Michigan</b><br>would lift 40,000 mothers (43%) out of poverty<br>and cost $8.6 billion per year"
            ],
            [
             "<b>A $340 monthly child allowance in Minnesota</b><br>would lift 10,000 mothers (26%) out of poverty<br>and cost $5.3 billion per year"
            ],
            [
             "<b>A $340 monthly child allowance in Missouri</b><br>would lift 37,000 mothers (55%) out of poverty<br>and cost $5.5 billion per year"
            ],
            [
             "<b>A $340 monthly child allowance in Mississippi</b><br>would lift 26,000 mothers (43%) out of poverty<br>and cost $2.8 billion per year"
            ],
            [
             "<b>A $340 monthly child allowance in Montana</b><br>would lift 3,000 mothers (48%) out of poverty<br>and cost $0.9 billion per year"
            ],
            [
             "<b>A $340 monthly child allowance in North Carolina</b><br>would lift 48,000 mothers (37%) out of poverty<br>and cost $9.3 billion per year"
            ],
            [
             "<b>A $340 monthly child allowance in North Dakota</b><br>would lift 2,000 mothers (55%) out of poverty<br>and cost $0.7 billion per year"
            ],
            [
             "<b>A $340 monthly child allowance in Nebraska</b><br>would lift 5,000 mothers (24%) out of poverty<br>and cost $1.9 billion per year"
            ],
            [
             "<b>A $340 monthly child allowance in New Hampshire</b><br>would lift 4,000 mothers (49%) out of poverty<br>and cost $1.0 billion per year"
            ],
            [
             "<b>A $340 monthly child allowance in New Jersey</b><br>would lift 28,000 mothers (21%) out of poverty<br>and cost $7.7 billion per year"
            ],
            [
             "<b>A $340 monthly child allowance in New Mexico</b><br>would lift 7,000 mothers (22%) out of poverty<br>and cost $1.9 billion per year"
            ],
            [
             "<b>A $340 monthly child allowance in Nevada</b><br>would lift 11,000 mothers (19%) out of poverty<br>and cost $2.9 billion per year"
            ],
            [
             "<b>A $340 monthly child allowance in New York</b><br>would lift 96,000 mothers (32%) out of poverty<br>and cost $16.4 billion per year"
            ],
            [
             "<b>A $340 monthly child allowance in Ohio</b><br>would lift 62,000 mothers (49%) out of poverty<br>and cost $10.3 billion per year"
            ],
            [
             "<b>A $340 monthly child allowance in Oklahoma</b><br>would lift 19,000 mothers (37%) out of poverty<br>and cost $3.9 billion per year"
            ],
            [
             "<b>A $340 monthly child allowance in Oregon</b><br>would lift 10,000 mothers (33%) out of poverty<br>and cost $3.5 billion per year"
            ],
            [
             "<b>A $340 monthly child allowance in Pennsylvania</b><br>would lift 52,000 mothers (39%) out of poverty<br>and cost $10.3 billion per year"
            ],
            [
             "<b>A $340 monthly child allowance in Rhode Island</b><br>would lift 6,000 mothers (53%) out of poverty<br>and cost $0.8 billion per year"
            ],
            [
             "<b>A $340 monthly child allowance in South Carolina</b><br>would lift 33,000 mothers (32%) out of poverty<br>and cost $4.5 billion per year"
            ],
            [
             "<b>A $340 monthly child allowance in South Dakota</b><br>would lift 5,000 mothers (59%) out of poverty<br>and cost $0.9 billion per year"
            ],
            [
             "<b>A $340 monthly child allowance in Tennessee</b><br>would lift 37,000 mothers (37%) out of poverty<br>and cost $6.2 billion per year"
            ],
            [
             "<b>A $340 monthly child allowance in Texas</b><br>would lift 142,000 mothers (30%) out of poverty<br>and cost $30.5 billion per year"
            ],
            [
             "<b>A $340 monthly child allowance in Utah</b><br>would lift 8,000 mothers (31%) out of poverty<br>and cost $3.8 billion per year"
            ],
            [
             "<b>A $340 monthly child allowance in Virginia</b><br>would lift 24,000 mothers (22%) out of poverty<br>and cost $7.5 billion per year"
            ],
            [
             "<b>A $340 monthly child allowance in Vermont</b><br>would lift 2,000 mothers (40%) out of poverty<br>and cost $0.5 billion per year"
            ],
            [
             "<b>A $340 monthly child allowance in Washington</b><br>would lift 32,000 mothers (46%) out of poverty<br>and cost $6.8 billion per year"
            ],
            [
             "<b>A $340 monthly child allowance in Wisconsin</b><br>would lift 10,000 mothers (37%) out of poverty<br>and cost $5.1 billion per year"
            ],
            [
             "<b>A $340 monthly child allowance in West Virginia</b><br>would lift 6,000 mothers (33%) out of poverty<br>and cost $1.4 billion per year"
            ],
            [
             "<b>A $340 monthly child allowance in Wyoming</b><br>would lift 1,000 mothers (31%) out of poverty<br>and cost $0.6 billion per year"
            ]
           ],
           "geo": "geo",
           "hovertemplate": "%{customdata[0]}<extra></extra>",
           "locationmode": "USA-states",
           "locations": [
            "AK",
            "AL",
            "AR",
            "AZ",
            "CA",
            "CO",
            "CT",
            "DC",
            "DE",
            "FL",
            "GA",
            "HI",
            "IA",
            "ID",
            "IL",
            "IN",
            "KS",
            "KY",
            "LA",
            "MA",
            "MD",
            "ME",
            "MI",
            "MN",
            "MO",
            "MS",
            "MT",
            "NC",
            "ND",
            "NE",
            "NH",
            "NJ",
            "NM",
            "NV",
            "NY",
            "OH",
            "OK",
            "OR",
            "PA",
            "RI",
            "SC",
            "SD",
            "TN",
            "TX",
            "UT",
            "VA",
            "VT",
            "WA",
            "WI",
            "WV",
            "WY"
           ],
           "name": "",
           "type": "choropleth",
           "z": [
            0.5239800714423813,
            0.2756599744682566,
            0.3637729769373784,
            0.3053939167146757,
            0.24400272985931315,
            0.29745229857858624,
            0.43746979128073904,
            0.2585381346508286,
            0.19776041913714926,
            0.31158099166305675,
            0.4734074050148809,
            0.30845263085385094,
            0.7161530242128248,
            0.6822157499669405,
            0.44037603516307977,
            0.43381011965023164,
            0.6362278447509232,
            0.4157228385670276,
            0.2850649693665253,
            0.29460706361765704,
            0.19088270566350188,
            0,
            0.437290790065374,
            0.26679101478637024,
            0.5588913251267131,
            0.4347413794545076,
            0.4823223153197117,
            0.3790354930493789,
            0.5531365582843061,
            0.24866951824177616,
            0.4962193634295625,
            0.21239437898000194,
            0.22645386184224947,
            0.19933204322641462,
            0.32479070832141765,
            0.49383385318007633,
            0.3753886890919152,
            0.3379092854203875,
            0.3986875168145616,
            0.5363823929528656,
            0.329705921665314,
            0.5958078968361021,
            0.3702301312429655,
            0.304153025001422,
            0.31688099094536504,
            0.2214630703534657,
            0.40146839585581784,
            0.4603988596660652,
            0.377228565028407,
            0.33495722660882443,
            0.31329748202571556
           ]
          }
         ],
         "name": "340"
        },
        {
         "data": [
          {
           "coloraxis": "coloraxis",
           "customdata": [
            [
             "<b>A $350 monthly child allowance in Alaska</b><br>would lift 5,000 mothers (56%) out of poverty<br>and cost $0.8 billion per year"
            ],
            [
             "<b>A $350 monthly child allowance in Alabama</b><br>would lift 18,000 mothers (27%) out of poverty<br>and cost $4.7 billion per year"
            ],
            [
             "<b>A $350 monthly child allowance in Arkansas</b><br>would lift 19,000 mothers (36%) out of poverty<br>and cost $2.9 billion per year"
            ],
            [
             "<b>A $350 monthly child allowance in Arizona</b><br>would lift 24,000 mothers (30%) out of poverty<br>and cost $7.0 billion per year"
            ],
            [
             "<b>A $350 monthly child allowance in California</b><br>would lift 202,000 mothers (24%) out of poverty<br>and cost $36.8 billion per year"
            ],
            [
             "<b>A $350 monthly child allowance in Colorado</b><br>would lift 25,000 mothers (29%) out of poverty<br>and cost $5.3 billion per year"
            ],
            [
             "<b>A $350 monthly child allowance in Connecticut</b><br>would lift 26,000 mothers (43%) out of poverty<br>and cost $2.9 billion per year"
            ],
            [
             "<b>A $350 monthly child allowance in District of Columbia</b><br>would lift 3,000 mothers (25%) out of poverty<br>and cost $0.5 billion per year"
            ],
            [
             "<b>A $350 monthly child allowance in Delaware</b><br>would lift 2,000 mothers (19%) out of poverty<br>and cost $0.8 billion per year"
            ],
            [
             "<b>A $350 monthly child allowance in Florida</b><br>would lift 136,000 mothers (31%) out of poverty<br>and cost $17.7 billion per year"
            ],
            [
             "<b>A $350 monthly child allowance in Georgia</b><br>would lift 61,000 mothers (47%) out of poverty<br>and cost $10.4 billion per year"
            ],
            [
             "<b>A $350 monthly child allowance in Hawaii</b><br>would lift 7,000 mothers (34%) out of poverty<br>and cost $1.3 billion per year"
            ],
            [
             "<b>A $350 monthly child allowance in Iowa</b><br>would lift 19,000 mothers (71%) out of poverty<br>and cost $3.0 billion per year"
            ],
            [
             "<b>A $350 monthly child allowance in Idaho</b><br>would lift 7,000 mothers (68%) out of poverty<br>and cost $1.9 billion per year"
            ],
            [
             "<b>A $350 monthly child allowance in Illinois</b><br>would lift 55,000 mothers (44%) out of poverty<br>and cost $11.6 billion per year"
            ],
            [
             "<b>A $350 monthly child allowance in Indiana</b><br>would lift 34,000 mothers (48%) out of poverty<br>and cost $6.5 billion per year"
            ],
            [
             "<b>A $350 monthly child allowance in Kansas</b><br>would lift 13,000 mothers (63%) out of poverty<br>and cost $2.8 billion per year"
            ],
            [
             "<b>A $350 monthly child allowance in Kentucky</b><br>would lift 28,000 mothers (41%) out of poverty<br>and cost $4.2 billion per year"
            ],
            [
             "<b>A $350 monthly child allowance in Louisiana</b><br>would lift 18,000 mothers (28%) out of poverty<br>and cost $4.7 billion per year"
            ],
            [
             "<b>A $350 monthly child allowance in Massachusetts</b><br>would lift 26,000 mothers (29%) out of poverty<br>and cost $5.7 billion per year"
            ],
            [
             "<b>A $350 monthly child allowance in Maryland</b><br>would lift 20,000 mothers (19%) out of poverty<br>and cost $5.4 billion per year"
            ],
            [
             "<b>A $350 monthly child allowance in Maine</b><br>would lift 0,000 mothers (0%) out of poverty<br>and cost $1.0 billion per year"
            ],
            [
             "<b>A $350 monthly child allowance in Michigan</b><br>would lift 44,000 mothers (47%) out of poverty<br>and cost $8.9 billion per year"
            ],
            [
             "<b>A $350 monthly child allowance in Minnesota</b><br>would lift 10,000 mothers (26%) out of poverty<br>and cost $5.5 billion per year"
            ],
            [
             "<b>A $350 monthly child allowance in Missouri</b><br>would lift 37,000 mothers (55%) out of poverty<br>and cost $5.6 billion per year"
            ],
            [
             "<b>A $350 monthly child allowance in Mississippi</b><br>would lift 26,000 mothers (43%) out of poverty<br>and cost $2.9 billion per year"
            ],
            [
             "<b>A $350 monthly child allowance in Montana</b><br>would lift 3,000 mothers (48%) out of poverty<br>and cost $1.0 billion per year"
            ],
            [
             "<b>A $350 monthly child allowance in North Carolina</b><br>would lift 53,000 mothers (41%) out of poverty<br>and cost $9.5 billion per year"
            ],
            [
             "<b>A $350 monthly child allowance in North Dakota</b><br>would lift 2,000 mothers (55%) out of poverty<br>and cost $0.8 billion per year"
            ],
            [
             "<b>A $350 monthly child allowance in Nebraska</b><br>would lift 5,000 mothers (24%) out of poverty<br>and cost $2.0 billion per year"
            ],
            [
             "<b>A $350 monthly child allowance in New Hampshire</b><br>would lift 4,000 mothers (49%) out of poverty<br>and cost $1.0 billion per year"
            ],
            [
             "<b>A $350 monthly child allowance in New Jersey</b><br>would lift 32,000 mothers (24%) out of poverty<br>and cost $7.9 billion per year"
            ],
            [
             "<b>A $350 monthly child allowance in New Mexico</b><br>would lift 7,000 mothers (22%) out of poverty<br>and cost $1.9 billion per year"
            ],
            [
             "<b>A $350 monthly child allowance in Nevada</b><br>would lift 11,000 mothers (19%) out of poverty<br>and cost $3.0 billion per year"
            ],
            [
             "<b>A $350 monthly child allowance in New York</b><br>would lift 105,000 mothers (35%) out of poverty<br>and cost $16.9 billion per year"
            ],
            [
             "<b>A $350 monthly child allowance in Ohio</b><br>would lift 71,000 mothers (56%) out of poverty<br>and cost $10.6 billion per year"
            ],
            [
             "<b>A $350 monthly child allowance in Oklahoma</b><br>would lift 19,000 mothers (37%) out of poverty<br>and cost $4.1 billion per year"
            ],
            [
             "<b>A $350 monthly child allowance in Oregon</b><br>would lift 10,000 mothers (33%) out of poverty<br>and cost $3.6 billion per year"
            ],
            [
             "<b>A $350 monthly child allowance in Pennsylvania</b><br>would lift 52,000 mothers (39%) out of poverty<br>and cost $10.6 billion per year"
            ],
            [
             "<b>A $350 monthly child allowance in Rhode Island</b><br>would lift 6,000 mothers (53%) out of poverty<br>and cost $0.8 billion per year"
            ],
            [
             "<b>A $350 monthly child allowance in South Carolina</b><br>would lift 38,000 mothers (37%) out of poverty<br>and cost $4.7 billion per year"
            ],
            [
             "<b>A $350 monthly child allowance in South Dakota</b><br>would lift 5,000 mothers (59%) out of poverty<br>and cost $0.9 billion per year"
            ],
            [
             "<b>A $350 monthly child allowance in Tennessee</b><br>would lift 37,000 mothers (37%) out of poverty<br>and cost $6.4 billion per year"
            ],
            [
             "<b>A $350 monthly child allowance in Texas</b><br>would lift 142,000 mothers (30%) out of poverty<br>and cost $31.4 billion per year"
            ],
            [
             "<b>A $350 monthly child allowance in Utah</b><br>would lift 8,000 mothers (31%) out of poverty<br>and cost $3.9 billion per year"
            ],
            [
             "<b>A $350 monthly child allowance in Virginia</b><br>would lift 24,000 mothers (22%) out of poverty<br>and cost $7.7 billion per year"
            ],
            [
             "<b>A $350 monthly child allowance in Vermont</b><br>would lift 2,000 mothers (40%) out of poverty<br>and cost $0.5 billion per year"
            ],
            [
             "<b>A $350 monthly child allowance in Washington</b><br>would lift 32,000 mothers (46%) out of poverty<br>and cost $7.0 billion per year"
            ],
            [
             "<b>A $350 monthly child allowance in Wisconsin</b><br>would lift 10,000 mothers (37%) out of poverty<br>and cost $5.2 billion per year"
            ],
            [
             "<b>A $350 monthly child allowance in West Virginia</b><br>would lift 6,000 mothers (33%) out of poverty<br>and cost $1.4 billion per year"
            ],
            [
             "<b>A $350 monthly child allowance in Wyoming</b><br>would lift 1,000 mothers (31%) out of poverty<br>and cost $0.6 billion per year"
            ]
           ],
           "geo": "geo",
           "hovertemplate": "%{customdata[0]}<extra></extra>",
           "locationmode": "USA-states",
           "locations": [
            "AK",
            "AL",
            "AR",
            "AZ",
            "CA",
            "CO",
            "CT",
            "DC",
            "DE",
            "FL",
            "GA",
            "HI",
            "IA",
            "ID",
            "IL",
            "IN",
            "KS",
            "KY",
            "LA",
            "MA",
            "MD",
            "ME",
            "MI",
            "MN",
            "MO",
            "MS",
            "MT",
            "NC",
            "ND",
            "NE",
            "NH",
            "NJ",
            "NM",
            "NV",
            "NY",
            "OH",
            "OK",
            "OR",
            "PA",
            "RI",
            "SC",
            "SD",
            "TN",
            "TX",
            "UT",
            "VA",
            "VT",
            "WA",
            "WI",
            "WV",
            "WY"
           ],
           "name": "",
           "type": "choropleth",
           "z": [
            0.564270763664619,
            0.2756599744682566,
            0.3637729769373784,
            0.3053939167146757,
            0.24851716336734866,
            0.29745229857858624,
            0.43746979128073904,
            0.2585381346508286,
            0.19776041913714926,
            0.31158099166305675,
            0.4734074050148809,
            0.34530688712017144,
            0.7161530242128248,
            0.6822157499669405,
            0.44037603516307977,
            0.4847309453648616,
            0.6362278447509232,
            0.4157228385670276,
            0.2850649693665253,
            0.29460706361765704,
            0.19088270566350188,
            0,
            0.47956320807543007,
            0.26679101478637024,
            0.5588913251267131,
            0.4347413794545076,
            0.4823223153197117,
            0.4155617456010276,
            0.5531365582843061,
            0.24866951824177616,
            0.4962193634295625,
            0.24413335222100904,
            0.22645386184224947,
            0.19933204322641462,
            0.3544477021368758,
            0.5671910575936937,
            0.3753886890919152,
            0.3379092854203875,
            0.3986875168145616,
            0.5363823929528656,
            0.37407757671701114,
            0.5958078968361021,
            0.3702301312429655,
            0.304153025001422,
            0.31688099094536504,
            0.2214630703534657,
            0.40146839585581784,
            0.4603988596660652,
            0.377228565028407,
            0.33495722660882443,
            0.31329748202571556
           ]
          }
         ],
         "name": "350"
        },
        {
         "data": [
          {
           "coloraxis": "coloraxis",
           "customdata": [
            [
             "<b>A $360 monthly child allowance in Alaska</b><br>would lift 5,000 mothers (56%) out of poverty<br>and cost $0.8 billion per year"
            ],
            [
             "<b>A $360 monthly child allowance in Alabama</b><br>would lift 21,000 mothers (31%) out of poverty<br>and cost $4.8 billion per year"
            ],
            [
             "<b>A $360 monthly child allowance in Arkansas</b><br>would lift 19,000 mothers (36%) out of poverty<br>and cost $3.0 billion per year"
            ],
            [
             "<b>A $360 monthly child allowance in Arizona</b><br>would lift 24,000 mothers (30%) out of poverty<br>and cost $7.2 billion per year"
            ],
            [
             "<b>A $360 monthly child allowance in California</b><br>would lift 215,000 mothers (26%) out of poverty<br>and cost $37.8 billion per year"
            ],
            [
             "<b>A $360 monthly child allowance in Colorado</b><br>would lift 25,000 mothers (29%) out of poverty<br>and cost $5.4 billion per year"
            ],
            [
             "<b>A $360 monthly child allowance in Connecticut</b><br>would lift 26,000 mothers (43%) out of poverty<br>and cost $3.0 billion per year"
            ],
            [
             "<b>A $360 monthly child allowance in District of Columbia</b><br>would lift 3,000 mothers (25%) out of poverty<br>and cost $0.6 billion per year"
            ],
            [
             "<b>A $360 monthly child allowance in Delaware</b><br>would lift 2,000 mothers (19%) out of poverty<br>and cost $0.9 billion per year"
            ],
            [
             "<b>A $360 monthly child allowance in Florida</b><br>would lift 136,000 mothers (31%) out of poverty<br>and cost $18.3 billion per year"
            ],
            [
             "<b>A $360 monthly child allowance in Georgia</b><br>would lift 61,000 mothers (47%) out of poverty<br>and cost $10.7 billion per year"
            ],
            [
             "<b>A $360 monthly child allowance in Hawaii</b><br>would lift 7,000 mothers (34%) out of poverty<br>and cost $1.3 billion per year"
            ],
            [
             "<b>A $360 monthly child allowance in Iowa</b><br>would lift 19,000 mothers (71%) out of poverty<br>and cost $3.1 billion per year"
            ],
            [
             "<b>A $360 monthly child allowance in Idaho</b><br>would lift 7,000 mothers (68%) out of poverty<br>and cost $1.9 billion per year"
            ],
            [
             "<b>A $360 monthly child allowance in Illinois</b><br>would lift 55,000 mothers (44%) out of poverty<br>and cost $12.0 billion per year"
            ],
            [
             "<b>A $360 monthly child allowance in Indiana</b><br>would lift 34,000 mothers (48%) out of poverty<br>and cost $6.7 billion per year"
            ],
            [
             "<b>A $360 monthly child allowance in Kansas</b><br>would lift 13,000 mothers (63%) out of poverty<br>and cost $2.9 billion per year"
            ],
            [
             "<b>A $360 monthly child allowance in Kentucky</b><br>would lift 28,000 mothers (41%) out of poverty<br>and cost $4.4 billion per year"
            ],
            [
             "<b>A $360 monthly child allowance in Louisiana</b><br>would lift 18,000 mothers (28%) out of poverty<br>and cost $4.8 billion per year"
            ],
            [
             "<b>A $360 monthly child allowance in Massachusetts</b><br>would lift 26,000 mothers (29%) out of poverty<br>and cost $5.8 billion per year"
            ],
            [
             "<b>A $360 monthly child allowance in Maryland</b><br>would lift 20,000 mothers (19%) out of poverty<br>and cost $5.6 billion per year"
            ],
            [
             "<b>A $360 monthly child allowance in Maine</b><br>would lift 0,000 mothers (0%) out of poverty<br>and cost $1.0 billion per year"
            ],
            [
             "<b>A $360 monthly child allowance in Michigan</b><br>would lift 44,000 mothers (47%) out of poverty<br>and cost $9.1 billion per year"
            ],
            [
             "<b>A $360 monthly child allowance in Minnesota</b><br>would lift 10,000 mothers (26%) out of poverty<br>and cost $5.7 billion per year"
            ],
            [
             "<b>A $360 monthly child allowance in Missouri</b><br>would lift 37,000 mothers (55%) out of poverty<br>and cost $5.8 billion per year"
            ],
            [
             "<b>A $360 monthly child allowance in Mississippi</b><br>would lift 26,000 mothers (43%) out of poverty<br>and cost $3.0 billion per year"
            ],
            [
             "<b>A $360 monthly child allowance in Montana</b><br>would lift 4,000 mothers (56%) out of poverty<br>and cost $1.0 billion per year"
            ],
            [
             "<b>A $360 monthly child allowance in North Carolina</b><br>would lift 53,000 mothers (41%) out of poverty<br>and cost $9.8 billion per year"
            ],
            [
             "<b>A $360 monthly child allowance in North Dakota</b><br>would lift 2,000 mothers (55%) out of poverty<br>and cost $0.8 billion per year"
            ],
            [
             "<b>A $360 monthly child allowance in Nebraska</b><br>would lift 5,000 mothers (24%) out of poverty<br>and cost $2.1 billion per year"
            ],
            [
             "<b>A $360 monthly child allowance in New Hampshire</b><br>would lift 4,000 mothers (49%) out of poverty<br>and cost $1.1 billion per year"
            ],
            [
             "<b>A $360 monthly child allowance in New Jersey</b><br>would lift 35,000 mothers (26%) out of poverty<br>and cost $8.1 billion per year"
            ],
            [
             "<b>A $360 monthly child allowance in New Mexico</b><br>would lift 7,000 mothers (22%) out of poverty<br>and cost $2.0 billion per year"
            ],
            [
             "<b>A $360 monthly child allowance in Nevada</b><br>would lift 11,000 mothers (19%) out of poverty<br>and cost $3.1 billion per year"
            ],
            [
             "<b>A $360 monthly child allowance in New York</b><br>would lift 105,000 mothers (35%) out of poverty<br>and cost $17.4 billion per year"
            ],
            [
             "<b>A $360 monthly child allowance in Ohio</b><br>would lift 71,000 mothers (56%) out of poverty<br>and cost $10.9 billion per year"
            ],
            [
             "<b>A $360 monthly child allowance in Oklahoma</b><br>would lift 19,000 mothers (37%) out of poverty<br>and cost $4.2 billion per year"
            ],
            [
             "<b>A $360 monthly child allowance in Oregon</b><br>would lift 10,000 mothers (33%) out of poverty<br>and cost $3.7 billion per year"
            ],
            [
             "<b>A $360 monthly child allowance in Pennsylvania</b><br>would lift 52,000 mothers (39%) out of poverty<br>and cost $10.9 billion per year"
            ],
            [
             "<b>A $360 monthly child allowance in Rhode Island</b><br>would lift 6,000 mothers (53%) out of poverty<br>and cost $0.9 billion per year"
            ],
            [
             "<b>A $360 monthly child allowance in South Carolina</b><br>would lift 40,000 mothers (39%) out of poverty<br>and cost $4.8 billion per year"
            ],
            [
             "<b>A $360 monthly child allowance in South Dakota</b><br>would lift 5,000 mothers (59%) out of poverty<br>and cost $1.0 billion per year"
            ],
            [
             "<b>A $360 monthly child allowance in Tennessee</b><br>would lift 37,000 mothers (37%) out of poverty<br>and cost $6.6 billion per year"
            ],
            [
             "<b>A $360 monthly child allowance in Texas</b><br>would lift 142,000 mothers (30%) out of poverty<br>and cost $32.3 billion per year"
            ],
            [
             "<b>A $360 monthly child allowance in Utah</b><br>would lift 8,000 mothers (31%) out of poverty<br>and cost $4.0 billion per year"
            ],
            [
             "<b>A $360 monthly child allowance in Virginia</b><br>would lift 24,000 mothers (22%) out of poverty<br>and cost $7.9 billion per year"
            ],
            [
             "<b>A $360 monthly child allowance in Vermont</b><br>would lift 2,000 mothers (40%) out of poverty<br>and cost $0.5 billion per year"
            ],
            [
             "<b>A $360 monthly child allowance in Washington</b><br>would lift 32,000 mothers (46%) out of poverty<br>and cost $7.2 billion per year"
            ],
            [
             "<b>A $360 monthly child allowance in Wisconsin</b><br>would lift 10,000 mothers (37%) out of poverty<br>and cost $5.4 billion per year"
            ],
            [
             "<b>A $360 monthly child allowance in West Virginia</b><br>would lift 6,000 mothers (33%) out of poverty<br>and cost $1.5 billion per year"
            ],
            [
             "<b>A $360 monthly child allowance in Wyoming</b><br>would lift 1,000 mothers (31%) out of poverty<br>and cost $0.6 billion per year"
            ]
           ],
           "geo": "geo",
           "hovertemplate": "%{customdata[0]}<extra></extra>",
           "locationmode": "USA-states",
           "locations": [
            "AK",
            "AL",
            "AR",
            "AZ",
            "CA",
            "CO",
            "CT",
            "DC",
            "DE",
            "FL",
            "GA",
            "HI",
            "IA",
            "ID",
            "IL",
            "IN",
            "KS",
            "KY",
            "LA",
            "MA",
            "MD",
            "ME",
            "MI",
            "MN",
            "MO",
            "MS",
            "MT",
            "NC",
            "ND",
            "NE",
            "NH",
            "NJ",
            "NM",
            "NV",
            "NY",
            "OH",
            "OK",
            "OR",
            "PA",
            "RI",
            "SC",
            "SD",
            "TN",
            "TX",
            "UT",
            "VA",
            "VT",
            "WA",
            "WI",
            "WV",
            "WY"
           ],
           "name": "",
           "type": "choropleth",
           "z": [
            0.564270763664619,
            0.3145244622822517,
            0.3637729769373784,
            0.3053939167146757,
            0.2637006392821901,
            0.29745229857858624,
            0.43746979128073904,
            0.2585381346508286,
            0.19776041913714926,
            0.31158099166305675,
            0.4734074050148809,
            0.34530688712017144,
            0.7161530242128248,
            0.6822157499669405,
            0.44037603516307977,
            0.4847309453648616,
            0.6362278447509232,
            0.4157228385670276,
            0.2850649693665253,
            0.29460706361765704,
            0.19088270566350188,
            0,
            0.47956320807543007,
            0.26679101478637024,
            0.5588913251267131,
            0.4347413794545076,
            0.5642468105163088,
            0.4155617456010276,
            0.5531365582843061,
            0.24866951824177616,
            0.4962193634295625,
            0.2672523640721793,
            0.22645386184224947,
            0.19933204322641462,
            0.3544477021368758,
            0.5671910575936937,
            0.3753886890919152,
            0.3379092854203875,
            0.3986875168145616,
            0.5363823929528656,
            0.3964453096261563,
            0.5958078968361021,
            0.3702301312429655,
            0.304153025001422,
            0.31688099094536504,
            0.2214630703534657,
            0.40146839585581784,
            0.4603988596660652,
            0.377228565028407,
            0.33495722660882443,
            0.31329748202571556
           ]
          }
         ],
         "name": "360"
        },
        {
         "data": [
          {
           "coloraxis": "coloraxis",
           "customdata": [
            [
             "<b>A $370 monthly child allowance in Alaska</b><br>would lift 5,000 mothers (56%) out of poverty<br>and cost $0.8 billion per year"
            ],
            [
             "<b>A $370 monthly child allowance in Alabama</b><br>would lift 28,000 mothers (41%) out of poverty<br>and cost $4.9 billion per year"
            ],
            [
             "<b>A $370 monthly child allowance in Arkansas</b><br>would lift 19,000 mothers (36%) out of poverty<br>and cost $3.1 billion per year"
            ],
            [
             "<b>A $370 monthly child allowance in Arizona</b><br>would lift 24,000 mothers (30%) out of poverty<br>and cost $7.4 billion per year"
            ],
            [
             "<b>A $370 monthly child allowance in California</b><br>would lift 227,000 mothers (27%) out of poverty<br>and cost $38.9 billion per year"
            ],
            [
             "<b>A $370 monthly child allowance in Colorado</b><br>would lift 25,000 mothers (29%) out of poverty<br>and cost $5.6 billion per year"
            ],
            [
             "<b>A $370 monthly child allowance in Connecticut</b><br>would lift 26,000 mothers (43%) out of poverty<br>and cost $3.1 billion per year"
            ],
            [
             "<b>A $370 monthly child allowance in District of Columbia</b><br>would lift 3,000 mothers (25%) out of poverty<br>and cost $0.6 billion per year"
            ],
            [
             "<b>A $370 monthly child allowance in Delaware</b><br>would lift 2,000 mothers (19%) out of poverty<br>and cost $0.9 billion per year"
            ],
            [
             "<b>A $370 monthly child allowance in Florida</b><br>would lift 154,000 mothers (35%) out of poverty<br>and cost $18.8 billion per year"
            ],
            [
             "<b>A $370 monthly child allowance in Georgia</b><br>would lift 61,000 mothers (47%) out of poverty<br>and cost $11.0 billion per year"
            ],
            [
             "<b>A $370 monthly child allowance in Hawaii</b><br>would lift 7,000 mothers (34%) out of poverty<br>and cost $1.3 billion per year"
            ],
            [
             "<b>A $370 monthly child allowance in Iowa</b><br>would lift 19,000 mothers (71%) out of poverty<br>and cost $3.2 billion per year"
            ],
            [
             "<b>A $370 monthly child allowance in Idaho</b><br>would lift 7,000 mothers (68%) out of poverty<br>and cost $2.0 billion per year"
            ],
            [
             "<b>A $370 monthly child allowance in Illinois</b><br>would lift 60,000 mothers (47%) out of poverty<br>and cost $12.3 billion per year"
            ],
            [
             "<b>A $370 monthly child allowance in Indiana</b><br>would lift 34,000 mothers (48%) out of poverty<br>and cost $6.9 billion per year"
            ],
            [
             "<b>A $370 monthly child allowance in Kansas</b><br>would lift 13,000 mothers (63%) out of poverty<br>and cost $3.0 billion per year"
            ],
            [
             "<b>A $370 monthly child allowance in Kentucky</b><br>would lift 28,000 mothers (41%) out of poverty<br>and cost $4.5 billion per year"
            ],
            [
             "<b>A $370 monthly child allowance in Louisiana</b><br>would lift 21,000 mothers (33%) out of poverty<br>and cost $4.9 billion per year"
            ],
            [
             "<b>A $370 monthly child allowance in Massachusetts</b><br>would lift 26,000 mothers (29%) out of poverty<br>and cost $6.0 billion per year"
            ],
            [
             "<b>A $370 monthly child allowance in Maryland</b><br>would lift 20,000 mothers (19%) out of poverty<br>and cost $5.7 billion per year"
            ],
            [
             "<b>A $370 monthly child allowance in Maine</b><br>would lift 1,000 mothers (34%) out of poverty<br>and cost $1.0 billion per year"
            ],
            [
             "<b>A $370 monthly child allowance in Michigan</b><br>would lift 44,000 mothers (47%) out of poverty<br>and cost $9.4 billion per year"
            ],
            [
             "<b>A $370 monthly child allowance in Minnesota</b><br>would lift 10,000 mothers (26%) out of poverty<br>and cost $5.8 billion per year"
            ],
            [
             "<b>A $370 monthly child allowance in Missouri</b><br>would lift 37,000 mothers (55%) out of poverty<br>and cost $6.0 billion per year"
            ],
            [
             "<b>A $370 monthly child allowance in Mississippi</b><br>would lift 26,000 mothers (43%) out of poverty<br>and cost $3.0 billion per year"
            ],
            [
             "<b>A $370 monthly child allowance in Montana</b><br>would lift 4,000 mothers (56%) out of poverty<br>and cost $1.0 billion per year"
            ],
            [
             "<b>A $370 monthly child allowance in North Carolina</b><br>would lift 53,000 mothers (41%) out of poverty<br>and cost $10.1 billion per year"
            ],
            [
             "<b>A $370 monthly child allowance in North Dakota</b><br>would lift 2,000 mothers (55%) out of poverty<br>and cost $0.8 billion per year"
            ],
            [
             "<b>A $370 monthly child allowance in Nebraska</b><br>would lift 5,000 mothers (24%) out of poverty<br>and cost $2.1 billion per year"
            ],
            [
             "<b>A $370 monthly child allowance in New Hampshire</b><br>would lift 4,000 mothers (49%) out of poverty<br>and cost $1.1 billion per year"
            ],
            [
             "<b>A $370 monthly child allowance in New Jersey</b><br>would lift 50,000 mothers (37%) out of poverty<br>and cost $8.4 billion per year"
            ],
            [
             "<b>A $370 monthly child allowance in New Mexico</b><br>would lift 8,000 mothers (25%) out of poverty<br>and cost $2.1 billion per year"
            ],
            [
             "<b>A $370 monthly child allowance in Nevada</b><br>would lift 11,000 mothers (19%) out of poverty<br>and cost $3.2 billion per year"
            ],
            [
             "<b>A $370 monthly child allowance in New York</b><br>would lift 109,000 mothers (36%) out of poverty<br>and cost $17.8 billion per year"
            ],
            [
             "<b>A $370 monthly child allowance in Ohio</b><br>would lift 71,000 mothers (56%) out of poverty<br>and cost $11.2 billion per year"
            ],
            [
             "<b>A $370 monthly child allowance in Oklahoma</b><br>would lift 19,000 mothers (37%) out of poverty<br>and cost $4.3 billion per year"
            ],
            [
             "<b>A $370 monthly child allowance in Oregon</b><br>would lift 10,000 mothers (33%) out of poverty<br>and cost $3.8 billion per year"
            ],
            [
             "<b>A $370 monthly child allowance in Pennsylvania</b><br>would lift 52,000 mothers (39%) out of poverty<br>and cost $11.2 billion per year"
            ],
            [
             "<b>A $370 monthly child allowance in Rhode Island</b><br>would lift 6,000 mothers (53%) out of poverty<br>and cost $0.9 billion per year"
            ],
            [
             "<b>A $370 monthly child allowance in South Carolina</b><br>would lift 40,000 mothers (39%) out of poverty<br>and cost $4.9 billion per year"
            ],
            [
             "<b>A $370 monthly child allowance in South Dakota</b><br>would lift 5,000 mothers (59%) out of poverty<br>and cost $1.0 billion per year"
            ],
            [
             "<b>A $370 monthly child allowance in Tennessee</b><br>would lift 37,000 mothers (37%) out of poverty<br>and cost $6.7 billion per year"
            ],
            [
             "<b>A $370 monthly child allowance in Texas</b><br>would lift 159,000 mothers (34%) out of poverty<br>and cost $33.2 billion per year"
            ],
            [
             "<b>A $370 monthly child allowance in Utah</b><br>would lift 8,000 mothers (31%) out of poverty<br>and cost $4.1 billion per year"
            ],
            [
             "<b>A $370 monthly child allowance in Virginia</b><br>would lift 24,000 mothers (22%) out of poverty<br>and cost $8.2 billion per year"
            ],
            [
             "<b>A $370 monthly child allowance in Vermont</b><br>would lift 2,000 mothers (40%) out of poverty<br>and cost $0.5 billion per year"
            ],
            [
             "<b>A $370 monthly child allowance in Washington</b><br>would lift 32,000 mothers (46%) out of poverty<br>and cost $7.4 billion per year"
            ],
            [
             "<b>A $370 monthly child allowance in Wisconsin</b><br>would lift 10,000 mothers (37%) out of poverty<br>and cost $5.5 billion per year"
            ],
            [
             "<b>A $370 monthly child allowance in West Virginia</b><br>would lift 6,000 mothers (33%) out of poverty<br>and cost $1.5 billion per year"
            ],
            [
             "<b>A $370 monthly child allowance in Wyoming</b><br>would lift 1,000 mothers (43%) out of poverty<br>and cost $0.6 billion per year"
            ]
           ],
           "geo": "geo",
           "hovertemplate": "%{customdata[0]}<extra></extra>",
           "locationmode": "USA-states",
           "locations": [
            "AK",
            "AL",
            "AR",
            "AZ",
            "CA",
            "CO",
            "CT",
            "DC",
            "DE",
            "FL",
            "GA",
            "HI",
            "IA",
            "ID",
            "IL",
            "IN",
            "KS",
            "KY",
            "LA",
            "MA",
            "MD",
            "ME",
            "MI",
            "MN",
            "MO",
            "MS",
            "MT",
            "NC",
            "ND",
            "NE",
            "NH",
            "NJ",
            "NM",
            "NV",
            "NY",
            "OH",
            "OK",
            "OR",
            "PA",
            "RI",
            "SC",
            "SD",
            "TN",
            "TX",
            "UT",
            "VA",
            "VT",
            "WA",
            "WI",
            "WV",
            "WY"
           ],
           "name": "",
           "type": "choropleth",
           "z": [
            0.564270763664619,
            0.41552160564893464,
            0.3637729769373784,
            0.3053939167146757,
            0.27827721634197305,
            0.29745229857858624,
            0.43746979128073904,
            0.2585381346508286,
            0.19776041913714926,
            0.35460030224030603,
            0.4734074050148809,
            0.34530688712017144,
            0.7161530242128248,
            0.6822157499669405,
            0.4773316601326293,
            0.4847309453648616,
            0.6362278447509232,
            0.4157228385670276,
            0.33608271949434315,
            0.29460706361765704,
            0.19088270566350188,
            0.3476617090813668,
            0.47956320807543007,
            0.26679101478637024,
            0.5588913251267131,
            0.4347413794545076,
            0.5642468105163088,
            0.4155617456010276,
            0.5531365582843061,
            0.24866951824177616,
            0.4962193634295625,
            0.37889794694499607,
            0.2570244501447529,
            0.19933204322641462,
            0.36769925217676475,
            0.5671910575936937,
            0.3753886890919152,
            0.3379092854203875,
            0.3986875168145616,
            0.5363823929528656,
            0.3964453096261563,
            0.5958078968361021,
            0.3702301312429655,
            0.3406733842056131,
            0.31688099094536504,
            0.2214630703534657,
            0.40146839585581784,
            0.4603988596660652,
            0.377228565028407,
            0.33495722660882443,
            0.4390337038522395
           ]
          }
         ],
         "name": "370"
        },
        {
         "data": [
          {
           "coloraxis": "coloraxis",
           "customdata": [
            [
             "<b>A $380 monthly child allowance in Alaska</b><br>would lift 5,000 mothers (56%) out of poverty<br>and cost $0.8 billion per year"
            ],
            [
             "<b>A $380 monthly child allowance in Alabama</b><br>would lift 28,000 mothers (41%) out of poverty<br>and cost $5.1 billion per year"
            ],
            [
             "<b>A $380 monthly child allowance in Arkansas</b><br>would lift 19,000 mothers (36%) out of poverty<br>and cost $3.1 billion per year"
            ],
            [
             "<b>A $380 monthly child allowance in Arizona</b><br>would lift 32,000 mothers (40%) out of poverty<br>and cost $7.6 billion per year"
            ],
            [
             "<b>A $380 monthly child allowance in California</b><br>would lift 234,000 mothers (28%) out of poverty<br>and cost $39.9 billion per year"
            ],
            [
             "<b>A $380 monthly child allowance in Colorado</b><br>would lift 25,000 mothers (29%) out of poverty<br>and cost $5.7 billion per year"
            ],
            [
             "<b>A $380 monthly child allowance in Connecticut</b><br>would lift 26,000 mothers (43%) out of poverty<br>and cost $3.1 billion per year"
            ],
            [
             "<b>A $380 monthly child allowance in District of Columbia</b><br>would lift 3,000 mothers (25%) out of poverty<br>and cost $0.6 billion per year"
            ],
            [
             "<b>A $380 monthly child allowance in Delaware</b><br>would lift 3,000 mothers (26%) out of poverty<br>and cost $0.9 billion per year"
            ],
            [
             "<b>A $380 monthly child allowance in Florida</b><br>would lift 154,000 mothers (35%) out of poverty<br>and cost $19.3 billion per year"
            ],
            [
             "<b>A $380 monthly child allowance in Georgia</b><br>would lift 61,000 mothers (47%) out of poverty<br>and cost $11.3 billion per year"
            ],
            [
             "<b>A $380 monthly child allowance in Hawaii</b><br>would lift 8,000 mothers (37%) out of poverty<br>and cost $1.4 billion per year"
            ],
            [
             "<b>A $380 monthly child allowance in Iowa</b><br>would lift 19,000 mothers (71%) out of poverty<br>and cost $3.3 billion per year"
            ],
            [
             "<b>A $380 monthly child allowance in Idaho</b><br>would lift 7,000 mothers (68%) out of poverty<br>and cost $2.0 billion per year"
            ],
            [
             "<b>A $380 monthly child allowance in Illinois</b><br>would lift 60,000 mothers (47%) out of poverty<br>and cost $12.6 billion per year"
            ],
            [
             "<b>A $380 monthly child allowance in Indiana</b><br>would lift 42,000 mothers (58%) out of poverty<br>and cost $7.1 billion per year"
            ],
            [
             "<b>A $380 monthly child allowance in Kansas</b><br>would lift 13,000 mothers (63%) out of poverty<br>and cost $3.1 billion per year"
            ],
            [
             "<b>A $380 monthly child allowance in Kentucky</b><br>would lift 28,000 mothers (41%) out of poverty<br>and cost $4.6 billion per year"
            ],
            [
             "<b>A $380 monthly child allowance in Louisiana</b><br>would lift 24,000 mothers (37%) out of poverty<br>and cost $5.1 billion per year"
            ],
            [
             "<b>A $380 monthly child allowance in Massachusetts</b><br>would lift 26,000 mothers (29%) out of poverty<br>and cost $6.2 billion per year"
            ],
            [
             "<b>A $380 monthly child allowance in Maryland</b><br>would lift 20,000 mothers (19%) out of poverty<br>and cost $5.9 billion per year"
            ],
            [
             "<b>A $380 monthly child allowance in Maine</b><br>would lift 1,000 mothers (34%) out of poverty<br>and cost $1.1 billion per year"
            ],
            [
             "<b>A $380 monthly child allowance in Michigan</b><br>would lift 44,000 mothers (47%) out of poverty<br>and cost $9.7 billion per year"
            ],
            [
             "<b>A $380 monthly child allowance in Minnesota</b><br>would lift 10,000 mothers (26%) out of poverty<br>and cost $6.0 billion per year"
            ],
            [
             "<b>A $380 monthly child allowance in Missouri</b><br>would lift 37,000 mothers (55%) out of poverty<br>and cost $6.1 billion per year"
            ],
            [
             "<b>A $380 monthly child allowance in Mississippi</b><br>would lift 26,000 mothers (43%) out of poverty<br>and cost $3.1 billion per year"
            ],
            [
             "<b>A $380 monthly child allowance in Montana</b><br>would lift 4,000 mothers (56%) out of poverty<br>and cost $1.0 billion per year"
            ],
            [
             "<b>A $380 monthly child allowance in North Carolina</b><br>would lift 58,000 mothers (45%) out of poverty<br>and cost $10.3 billion per year"
            ],
            [
             "<b>A $380 monthly child allowance in North Dakota</b><br>would lift 2,000 mothers (55%) out of poverty<br>and cost $0.8 billion per year"
            ],
            [
             "<b>A $380 monthly child allowance in Nebraska</b><br>would lift 5,000 mothers (24%) out of poverty<br>and cost $2.2 billion per year"
            ],
            [
             "<b>A $380 monthly child allowance in New Hampshire</b><br>would lift 4,000 mothers (49%) out of poverty<br>and cost $1.1 billion per year"
            ],
            [
             "<b>A $380 monthly child allowance in New Jersey</b><br>would lift 50,000 mothers (37%) out of poverty<br>and cost $8.6 billion per year"
            ],
            [
             "<b>A $380 monthly child allowance in New Mexico</b><br>would lift 8,000 mothers (25%) out of poverty<br>and cost $2.1 billion per year"
            ],
            [
             "<b>A $380 monthly child allowance in Nevada</b><br>would lift 11,000 mothers (19%) out of poverty<br>and cost $3.2 billion per year"
            ],
            [
             "<b>A $380 monthly child allowance in New York</b><br>would lift 109,000 mothers (36%) out of poverty<br>and cost $18.3 billion per year"
            ],
            [
             "<b>A $380 monthly child allowance in Ohio</b><br>would lift 76,000 mothers (60%) out of poverty<br>and cost $11.5 billion per year"
            ],
            [
             "<b>A $380 monthly child allowance in Oklahoma</b><br>would lift 19,000 mothers (37%) out of poverty<br>and cost $4.4 billion per year"
            ],
            [
             "<b>A $380 monthly child allowance in Oregon</b><br>would lift 10,000 mothers (33%) out of poverty<br>and cost $3.9 billion per year"
            ],
            [
             "<b>A $380 monthly child allowance in Pennsylvania</b><br>would lift 52,000 mothers (39%) out of poverty<br>and cost $11.5 billion per year"
            ],
            [
             "<b>A $380 monthly child allowance in Rhode Island</b><br>would lift 6,000 mothers (53%) out of poverty<br>and cost $0.9 billion per year"
            ],
            [
             "<b>A $380 monthly child allowance in South Carolina</b><br>would lift 40,000 mothers (39%) out of poverty<br>and cost $5.1 billion per year"
            ],
            [
             "<b>A $380 monthly child allowance in South Dakota</b><br>would lift 5,000 mothers (59%) out of poverty<br>and cost $1.0 billion per year"
            ],
            [
             "<b>A $380 monthly child allowance in Tennessee</b><br>would lift 37,000 mothers (37%) out of poverty<br>and cost $6.9 billion per year"
            ],
            [
             "<b>A $380 monthly child allowance in Texas</b><br>would lift 169,000 mothers (36%) out of poverty<br>and cost $34.1 billion per year"
            ],
            [
             "<b>A $380 monthly child allowance in Utah</b><br>would lift 8,000 mothers (31%) out of poverty<br>and cost $4.2 billion per year"
            ],
            [
             "<b>A $380 monthly child allowance in Virginia</b><br>would lift 31,000 mothers (28%) out of poverty<br>and cost $8.4 billion per year"
            ],
            [
             "<b>A $380 monthly child allowance in Vermont</b><br>would lift 2,000 mothers (40%) out of poverty<br>and cost $0.5 billion per year"
            ],
            [
             "<b>A $380 monthly child allowance in Washington</b><br>would lift 32,000 mothers (46%) out of poverty<br>and cost $7.6 billion per year"
            ],
            [
             "<b>A $380 monthly child allowance in Wisconsin</b><br>would lift 10,000 mothers (37%) out of poverty<br>and cost $5.7 billion per year"
            ],
            [
             "<b>A $380 monthly child allowance in West Virginia</b><br>would lift 6,000 mothers (33%) out of poverty<br>and cost $1.6 billion per year"
            ],
            [
             "<b>A $380 monthly child allowance in Wyoming</b><br>would lift 2,000 mothers (53%) out of poverty<br>and cost $0.6 billion per year"
            ]
           ],
           "geo": "geo",
           "hovertemplate": "%{customdata[0]}<extra></extra>",
           "locationmode": "USA-states",
           "locations": [
            "AK",
            "AL",
            "AR",
            "AZ",
            "CA",
            "CO",
            "CT",
            "DC",
            "DE",
            "FL",
            "GA",
            "HI",
            "IA",
            "ID",
            "IL",
            "IN",
            "KS",
            "KY",
            "LA",
            "MA",
            "MD",
            "ME",
            "MI",
            "MN",
            "MO",
            "MS",
            "MT",
            "NC",
            "ND",
            "NE",
            "NH",
            "NJ",
            "NM",
            "NV",
            "NY",
            "OH",
            "OK",
            "OR",
            "PA",
            "RI",
            "SC",
            "SD",
            "TN",
            "TX",
            "UT",
            "VA",
            "VT",
            "WA",
            "WI",
            "WV",
            "WY"
           ],
           "name": "",
           "type": "choropleth",
           "z": [
            0.564270763664619,
            0.41552160564893464,
            0.3637729769373784,
            0.4086544515709693,
            0.2872277438054153,
            0.29745229857858624,
            0.43746979128073904,
            0.2585381346508286,
            0.2633938932863565,
            0.35460030224030603,
            0.4734074050148809,
            0.37275600967846123,
            0.7161530242128248,
            0.6822157499669405,
            0.4773316601326293,
            0.5874438034536995,
            0.6362278447509232,
            0.4157228385670276,
            0.37906688099267494,
            0.29460706361765704,
            0.19088270566350188,
            0.3476617090813668,
            0.47956320807543007,
            0.26679101478637024,
            0.5588913251267131,
            0.4347413794545076,
            0.5642468105163088,
            0.45466946774379924,
            0.5531365582843061,
            0.24866951824177616,
            0.4962193634295625,
            0.37889794694499607,
            0.2570244501447529,
            0.19933204322641462,
            0.36769925217676475,
            0.6005709178543444,
            0.3753886890919152,
            0.3379092854203875,
            0.3986875168145616,
            0.5363823929528656,
            0.3964453096261563,
            0.5958078968361021,
            0.3702301312429655,
            0.36315696918544277,
            0.31688099094536504,
            0.28015493598730706,
            0.40146839585581784,
            0.4603988596660652,
            0.377228565028407,
            0.33495722660882443,
            0.5367208071315298
           ]
          }
         ],
         "name": "380"
        },
        {
         "data": [
          {
           "coloraxis": "coloraxis",
           "customdata": [
            [
             "<b>A $390 monthly child allowance in Alaska</b><br>would lift 5,000 mothers (56%) out of poverty<br>and cost $0.8 billion per year"
            ],
            [
             "<b>A $390 monthly child allowance in Alabama</b><br>would lift 28,000 mothers (41%) out of poverty<br>and cost $5.2 billion per year"
            ],
            [
             "<b>A $390 monthly child allowance in Arkansas</b><br>would lift 21,000 mothers (41%) out of poverty<br>and cost $3.2 billion per year"
            ],
            [
             "<b>A $390 monthly child allowance in Arizona</b><br>would lift 32,000 mothers (40%) out of poverty<br>and cost $7.8 billion per year"
            ],
            [
             "<b>A $390 monthly child allowance in California</b><br>would lift 239,000 mothers (29%) out of poverty<br>and cost $41.0 billion per year"
            ],
            [
             "<b>A $390 monthly child allowance in Colorado</b><br>would lift 25,000 mothers (29%) out of poverty<br>and cost $5.9 billion per year"
            ],
            [
             "<b>A $390 monthly child allowance in Connecticut</b><br>would lift 26,000 mothers (43%) out of poverty<br>and cost $3.2 billion per year"
            ],
            [
             "<b>A $390 monthly child allowance in District of Columbia</b><br>would lift 3,000 mothers (25%) out of poverty<br>and cost $0.6 billion per year"
            ],
            [
             "<b>A $390 monthly child allowance in Delaware</b><br>would lift 3,000 mothers (26%) out of poverty<br>and cost $0.9 billion per year"
            ],
            [
             "<b>A $390 monthly child allowance in Florida</b><br>would lift 154,000 mothers (35%) out of poverty<br>and cost $19.8 billion per year"
            ],
            [
             "<b>A $390 monthly child allowance in Georgia</b><br>would lift 61,000 mothers (47%) out of poverty<br>and cost $11.6 billion per year"
            ],
            [
             "<b>A $390 monthly child allowance in Hawaii</b><br>would lift 8,000 mothers (37%) out of poverty<br>and cost $1.4 billion per year"
            ],
            [
             "<b>A $390 monthly child allowance in Iowa</b><br>would lift 19,000 mothers (71%) out of poverty<br>and cost $3.4 billion per year"
            ],
            [
             "<b>A $390 monthly child allowance in Idaho</b><br>would lift 7,000 mothers (68%) out of poverty<br>and cost $2.1 billion per year"
            ],
            [
             "<b>A $390 monthly child allowance in Illinois</b><br>would lift 60,000 mothers (47%) out of poverty<br>and cost $13.0 billion per year"
            ],
            [
             "<b>A $390 monthly child allowance in Indiana</b><br>would lift 42,000 mothers (58%) out of poverty<br>and cost $7.3 billion per year"
            ],
            [
             "<b>A $390 monthly child allowance in Kansas</b><br>would lift 13,000 mothers (63%) out of poverty<br>and cost $3.2 billion per year"
            ],
            [
             "<b>A $390 monthly child allowance in Kentucky</b><br>would lift 28,000 mothers (41%) out of poverty<br>and cost $4.7 billion per year"
            ],
            [
             "<b>A $390 monthly child allowance in Louisiana</b><br>would lift 24,000 mothers (37%) out of poverty<br>and cost $5.2 billion per year"
            ],
            [
             "<b>A $390 monthly child allowance in Massachusetts</b><br>would lift 26,000 mothers (29%) out of poverty<br>and cost $6.3 billion per year"
            ],
            [
             "<b>A $390 monthly child allowance in Maryland</b><br>would lift 20,000 mothers (19%) out of poverty<br>and cost $6.1 billion per year"
            ],
            [
             "<b>A $390 monthly child allowance in Maine</b><br>would lift 1,000 mothers (34%) out of poverty<br>and cost $1.1 billion per year"
            ],
            [
             "<b>A $390 monthly child allowance in Michigan</b><br>would lift 44,000 mothers (47%) out of poverty<br>and cost $9.9 billion per year"
            ],
            [
             "<b>A $390 monthly child allowance in Minnesota</b><br>would lift 10,000 mothers (26%) out of poverty<br>and cost $6.1 billion per year"
            ],
            [
             "<b>A $390 monthly child allowance in Missouri</b><br>would lift 37,000 mothers (55%) out of poverty<br>and cost $6.3 billion per year"
            ],
            [
             "<b>A $390 monthly child allowance in Mississippi</b><br>would lift 26,000 mothers (43%) out of poverty<br>and cost $3.2 billion per year"
            ],
            [
             "<b>A $390 monthly child allowance in Montana</b><br>would lift 4,000 mothers (56%) out of poverty<br>and cost $1.1 billion per year"
            ],
            [
             "<b>A $390 monthly child allowance in North Carolina</b><br>would lift 62,000 mothers (49%) out of poverty<br>and cost $10.6 billion per year"
            ],
            [
             "<b>A $390 monthly child allowance in North Dakota</b><br>would lift 2,000 mothers (55%) out of poverty<br>and cost $0.9 billion per year"
            ],
            [
             "<b>A $390 monthly child allowance in Nebraska</b><br>would lift 5,000 mothers (24%) out of poverty<br>and cost $2.2 billion per year"
            ],
            [
             "<b>A $390 monthly child allowance in New Hampshire</b><br>would lift 4,000 mothers (49%) out of poverty<br>and cost $1.1 billion per year"
            ],
            [
             "<b>A $390 monthly child allowance in New Jersey</b><br>would lift 50,000 mothers (37%) out of poverty<br>and cost $8.8 billion per year"
            ],
            [
             "<b>A $390 monthly child allowance in New Mexico</b><br>would lift 8,000 mothers (25%) out of poverty<br>and cost $2.2 billion per year"
            ],
            [
             "<b>A $390 monthly child allowance in Nevada</b><br>would lift 13,000 mothers (22%) out of poverty<br>and cost $3.3 billion per year"
            ],
            [
             "<b>A $390 monthly child allowance in New York</b><br>would lift 109,000 mothers (36%) out of poverty<br>and cost $18.8 billion per year"
            ],
            [
             "<b>A $390 monthly child allowance in Ohio</b><br>would lift 76,000 mothers (60%) out of poverty<br>and cost $11.8 billion per year"
            ],
            [
             "<b>A $390 monthly child allowance in Oklahoma</b><br>would lift 19,000 mothers (37%) out of poverty<br>and cost $4.5 billion per year"
            ],
            [
             "<b>A $390 monthly child allowance in Oregon</b><br>would lift 10,000 mothers (33%) out of poverty<br>and cost $4.0 billion per year"
            ],
            [
             "<b>A $390 monthly child allowance in Pennsylvania</b><br>would lift 52,000 mothers (39%) out of poverty<br>and cost $11.8 billion per year"
            ],
            [
             "<b>A $390 monthly child allowance in Rhode Island</b><br>would lift 6,000 mothers (53%) out of poverty<br>and cost $0.9 billion per year"
            ],
            [
             "<b>A $390 monthly child allowance in South Carolina</b><br>would lift 40,000 mothers (39%) out of poverty<br>and cost $5.2 billion per year"
            ],
            [
             "<b>A $390 monthly child allowance in South Dakota</b><br>would lift 5,000 mothers (59%) out of poverty<br>and cost $1.0 billion per year"
            ],
            [
             "<b>A $390 monthly child allowance in Tennessee</b><br>would lift 37,000 mothers (37%) out of poverty<br>and cost $7.1 billion per year"
            ],
            [
             "<b>A $390 monthly child allowance in Texas</b><br>would lift 169,000 mothers (36%) out of poverty<br>and cost $35.0 billion per year"
            ],
            [
             "<b>A $390 monthly child allowance in Utah</b><br>would lift 8,000 mothers (31%) out of poverty<br>and cost $4.3 billion per year"
            ],
            [
             "<b>A $390 monthly child allowance in Virginia</b><br>would lift 31,000 mothers (28%) out of poverty<br>and cost $8.6 billion per year"
            ],
            [
             "<b>A $390 monthly child allowance in Vermont</b><br>would lift 2,000 mothers (40%) out of poverty<br>and cost $0.5 billion per year"
            ],
            [
             "<b>A $390 monthly child allowance in Washington</b><br>would lift 32,000 mothers (46%) out of poverty<br>and cost $7.8 billion per year"
            ],
            [
             "<b>A $390 monthly child allowance in Wisconsin</b><br>would lift 10,000 mothers (37%) out of poverty<br>and cost $5.8 billion per year"
            ],
            [
             "<b>A $390 monthly child allowance in West Virginia</b><br>would lift 6,000 mothers (33%) out of poverty<br>and cost $1.6 billion per year"
            ],
            [
             "<b>A $390 monthly child allowance in Wyoming</b><br>would lift 2,000 mothers (53%) out of poverty<br>and cost $0.6 billion per year"
            ]
           ],
           "geo": "geo",
           "hovertemplate": "%{customdata[0]}<extra></extra>",
           "locationmode": "USA-states",
           "locations": [
            "AK",
            "AL",
            "AR",
            "AZ",
            "CA",
            "CO",
            "CT",
            "DC",
            "DE",
            "FL",
            "GA",
            "HI",
            "IA",
            "ID",
            "IL",
            "IN",
            "KS",
            "KY",
            "LA",
            "MA",
            "MD",
            "ME",
            "MI",
            "MN",
            "MO",
            "MS",
            "MT",
            "NC",
            "ND",
            "NE",
            "NH",
            "NJ",
            "NM",
            "NV",
            "NY",
            "OH",
            "OK",
            "OR",
            "PA",
            "RI",
            "SC",
            "SD",
            "TN",
            "TX",
            "UT",
            "VA",
            "VT",
            "WA",
            "WI",
            "WV",
            "WY"
           ],
           "name": "",
           "type": "choropleth",
           "z": [
            0.564270763664619,
            0.41552160564893464,
            0.412388283148411,
            0.4086544515709693,
            0.2931704261597236,
            0.29745229857858624,
            0.43746979128073904,
            0.2585381346508286,
            0.2633938932863565,
            0.35460030224030603,
            0.4734074050148809,
            0.37275600967846123,
            0.7161530242128248,
            0.6822157499669405,
            0.4773316601326293,
            0.5874438034536995,
            0.6362278447509232,
            0.4157228385670276,
            0.37906688099267494,
            0.29460706361765704,
            0.19088270566350188,
            0.3476617090813668,
            0.47956320807543007,
            0.26679101478637024,
            0.5588913251267131,
            0.4347413794545076,
            0.5642468105163088,
            0.49259228147051376,
            0.5531365582843061,
            0.24866951824177616,
            0.4962193634295625,
            0.37889794694499607,
            0.2570244501447529,
            0.2289373655307569,
            0.36769925217676475,
            0.6005709178543444,
            0.3753886890919152,
            0.3379092854203875,
            0.3986875168145616,
            0.5363823929528656,
            0.3964453096261563,
            0.5958078968361021,
            0.3702301312429655,
            0.36315696918544277,
            0.31688099094536504,
            0.28015493598730706,
            0.40146839585581784,
            0.4603988596660652,
            0.377228565028407,
            0.33495722660882443,
            0.5367208071315298
           ]
          }
         ],
         "name": "390"
        },
        {
         "data": [
          {
           "coloraxis": "coloraxis",
           "customdata": [
            [
             "<b>A $400 monthly child allowance in Alaska</b><br>would lift 5,000 mothers (56%) out of poverty<br>and cost $0.9 billion per year"
            ],
            [
             "<b>A $400 monthly child allowance in Alabama</b><br>would lift 28,000 mothers (41%) out of poverty<br>and cost $5.3 billion per year"
            ],
            [
             "<b>A $400 monthly child allowance in Arkansas</b><br>would lift 23,000 mothers (44%) out of poverty<br>and cost $3.3 billion per year"
            ],
            [
             "<b>A $400 monthly child allowance in Arizona</b><br>would lift 32,000 mothers (40%) out of poverty<br>and cost $8.0 billion per year"
            ],
            [
             "<b>A $400 monthly child allowance in California</b><br>would lift 239,000 mothers (29%) out of poverty<br>and cost $42.0 billion per year"
            ],
            [
             "<b>A $400 monthly child allowance in Colorado</b><br>would lift 29,000 mothers (35%) out of poverty<br>and cost $6.0 billion per year"
            ],
            [
             "<b>A $400 monthly child allowance in Connecticut</b><br>would lift 26,000 mothers (43%) out of poverty<br>and cost $3.3 billion per year"
            ],
            [
             "<b>A $400 monthly child allowance in District of Columbia</b><br>would lift 3,000 mothers (25%) out of poverty<br>and cost $0.6 billion per year"
            ],
            [
             "<b>A $400 monthly child allowance in Delaware</b><br>would lift 3,000 mothers (26%) out of poverty<br>and cost $0.9 billion per year"
            ],
            [
             "<b>A $400 monthly child allowance in Florida</b><br>would lift 162,000 mothers (37%) out of poverty<br>and cost $20.3 billion per year"
            ],
            [
             "<b>A $400 monthly child allowance in Georgia</b><br>would lift 65,000 mothers (50%) out of poverty<br>and cost $11.9 billion per year"
            ],
            [
             "<b>A $400 monthly child allowance in Hawaii</b><br>would lift 8,000 mothers (37%) out of poverty<br>and cost $1.5 billion per year"
            ],
            [
             "<b>A $400 monthly child allowance in Iowa</b><br>would lift 19,000 mothers (71%) out of poverty<br>and cost $3.5 billion per year"
            ],
            [
             "<b>A $400 monthly child allowance in Idaho</b><br>would lift 7,000 mothers (68%) out of poverty<br>and cost $2.1 billion per year"
            ],
            [
             "<b>A $400 monthly child allowance in Illinois</b><br>would lift 60,000 mothers (47%) out of poverty<br>and cost $13.3 billion per year"
            ],
            [
             "<b>A $400 monthly child allowance in Indiana</b><br>would lift 42,000 mothers (58%) out of poverty<br>and cost $7.5 billion per year"
            ],
            [
             "<b>A $400 monthly child allowance in Kansas</b><br>would lift 13,000 mothers (63%) out of poverty<br>and cost $3.2 billion per year"
            ],
            [
             "<b>A $400 monthly child allowance in Kentucky</b><br>would lift 28,000 mothers (41%) out of poverty<br>and cost $4.8 billion per year"
            ],
            [
             "<b>A $400 monthly child allowance in Louisiana</b><br>would lift 26,000 mothers (41%) out of poverty<br>and cost $5.3 billion per year"
            ],
            [
             "<b>A $400 monthly child allowance in Massachusetts</b><br>would lift 26,000 mothers (29%) out of poverty<br>and cost $6.5 billion per year"
            ],
            [
             "<b>A $400 monthly child allowance in Maryland</b><br>would lift 20,000 mothers (19%) out of poverty<br>and cost $6.2 billion per year"
            ],
            [
             "<b>A $400 monthly child allowance in Maine</b><br>would lift 1,000 mothers (34%) out of poverty<br>and cost $1.1 billion per year"
            ],
            [
             "<b>A $400 monthly child allowance in Michigan</b><br>would lift 44,000 mothers (47%) out of poverty<br>and cost $10.2 billion per year"
            ],
            [
             "<b>A $400 monthly child allowance in Minnesota</b><br>would lift 10,000 mothers (26%) out of poverty<br>and cost $6.3 billion per year"
            ],
            [
             "<b>A $400 monthly child allowance in Missouri</b><br>would lift 37,000 mothers (55%) out of poverty<br>and cost $6.5 billion per year"
            ],
            [
             "<b>A $400 monthly child allowance in Mississippi</b><br>would lift 28,000 mothers (45%) out of poverty<br>and cost $3.3 billion per year"
            ],
            [
             "<b>A $400 monthly child allowance in Montana</b><br>would lift 4,000 mothers (56%) out of poverty<br>and cost $1.1 billion per year"
            ],
            [
             "<b>A $400 monthly child allowance in North Carolina</b><br>would lift 62,000 mothers (49%) out of poverty<br>and cost $10.9 billion per year"
            ],
            [
             "<b>A $400 monthly child allowance in North Dakota</b><br>would lift 2,000 mothers (55%) out of poverty<br>and cost $0.9 billion per year"
            ],
            [
             "<b>A $400 monthly child allowance in Nebraska</b><br>would lift 6,000 mothers (30%) out of poverty<br>and cost $2.3 billion per year"
            ],
            [
             "<b>A $400 monthly child allowance in New Hampshire</b><br>would lift 4,000 mothers (49%) out of poverty<br>and cost $1.2 billion per year"
            ],
            [
             "<b>A $400 monthly child allowance in New Jersey</b><br>would lift 55,000 mothers (41%) out of poverty<br>and cost $9.0 billion per year"
            ],
            [
             "<b>A $400 monthly child allowance in New Mexico</b><br>would lift 8,000 mothers (25%) out of poverty<br>and cost $2.2 billion per year"
            ],
            [
             "<b>A $400 monthly child allowance in Nevada</b><br>would lift 13,000 mothers (22%) out of poverty<br>and cost $3.4 billion per year"
            ],
            [
             "<b>A $400 monthly child allowance in New York</b><br>would lift 109,000 mothers (36%) out of poverty<br>and cost $19.3 billion per year"
            ],
            [
             "<b>A $400 monthly child allowance in Ohio</b><br>would lift 80,000 mothers (63%) out of poverty<br>and cost $12.1 billion per year"
            ],
            [
             "<b>A $400 monthly child allowance in Oklahoma</b><br>would lift 19,000 mothers (37%) out of poverty<br>and cost $4.6 billion per year"
            ],
            [
             "<b>A $400 monthly child allowance in Oregon</b><br>would lift 10,000 mothers (33%) out of poverty<br>and cost $4.1 billion per year"
            ],
            [
             "<b>A $400 monthly child allowance in Pennsylvania</b><br>would lift 52,000 mothers (39%) out of poverty<br>and cost $12.1 billion per year"
            ],
            [
             "<b>A $400 monthly child allowance in Rhode Island</b><br>would lift 6,000 mothers (53%) out of poverty<br>and cost $1.0 billion per year"
            ],
            [
             "<b>A $400 monthly child allowance in South Carolina</b><br>would lift 40,000 mothers (39%) out of poverty<br>and cost $5.3 billion per year"
            ],
            [
             "<b>A $400 monthly child allowance in South Dakota</b><br>would lift 5,000 mothers (59%) out of poverty<br>and cost $1.1 billion per year"
            ],
            [
             "<b>A $400 monthly child allowance in Tennessee</b><br>would lift 37,000 mothers (37%) out of poverty<br>and cost $7.3 billion per year"
            ],
            [
             "<b>A $400 monthly child allowance in Texas</b><br>would lift 169,000 mothers (36%) out of poverty<br>and cost $35.9 billion per year"
            ],
            [
             "<b>A $400 monthly child allowance in Utah</b><br>would lift 10,000 mothers (37%) out of poverty<br>and cost $4.5 billion per year"
            ],
            [
             "<b>A $400 monthly child allowance in Virginia</b><br>would lift 36,000 mothers (32%) out of poverty<br>and cost $8.8 billion per year"
            ],
            [
             "<b>A $400 monthly child allowance in Vermont</b><br>would lift 2,000 mothers (40%) out of poverty<br>and cost $0.5 billion per year"
            ],
            [
             "<b>A $400 monthly child allowance in Washington</b><br>would lift 32,000 mothers (46%) out of poverty<br>and cost $8.0 billion per year"
            ],
            [
             "<b>A $400 monthly child allowance in Wisconsin</b><br>would lift 10,000 mothers (37%) out of poverty<br>and cost $6.0 billion per year"
            ],
            [
             "<b>A $400 monthly child allowance in West Virginia</b><br>would lift 6,000 mothers (33%) out of poverty<br>and cost $1.7 billion per year"
            ],
            [
             "<b>A $400 monthly child allowance in Wyoming</b><br>would lift 2,000 mothers (53%) out of poverty<br>and cost $0.6 billion per year"
            ]
           ],
           "geo": "geo",
           "hovertemplate": "%{customdata[0]}<extra></extra>",
           "locationmode": "USA-states",
           "locations": [
            "AK",
            "AL",
            "AR",
            "AZ",
            "CA",
            "CO",
            "CT",
            "DC",
            "DE",
            "FL",
            "GA",
            "HI",
            "IA",
            "ID",
            "IL",
            "IN",
            "KS",
            "KY",
            "LA",
            "MA",
            "MD",
            "ME",
            "MI",
            "MN",
            "MO",
            "MS",
            "MT",
            "NC",
            "ND",
            "NE",
            "NH",
            "NJ",
            "NM",
            "NV",
            "NY",
            "OH",
            "OK",
            "OR",
            "PA",
            "RI",
            "SC",
            "SD",
            "TN",
            "TX",
            "UT",
            "VA",
            "VT",
            "WA",
            "WI",
            "WV",
            "WY"
           ],
           "name": "",
           "type": "choropleth",
           "z": [
            0.564270763664619,
            0.41552160564893464,
            0.44684665839780446,
            0.4086544515709693,
            0.2931704261597236,
            0.35416820783223407,
            0.43746979128073904,
            0.2585381346508286,
            0.2633938932863565,
            0.3720640207670369,
            0.5006990895475848,
            0.37275600967846123,
            0.7161530242128248,
            0.6822157499669405,
            0.4773316601326293,
            0.5874438034536995,
            0.6362278447509232,
            0.4157228385670276,
            0.4170676186030341,
            0.29460706361765704,
            0.19088270566350188,
            0.3476617090813668,
            0.47956320807543007,
            0.26679101478637024,
            0.5588913251267131,
            0.45580592663557085,
            0.5642468105163088,
            0.49259228147051376,
            0.5531365582843061,
            0.3096334939212692,
            0.4962193634295625,
            0.41762584896490296,
            0.2570244501447529,
            0.2289373655307569,
            0.36769925217676475,
            0.6321215353880227,
            0.3753886890919152,
            0.3379092854203875,
            0.3986875168145616,
            0.5363823929528656,
            0.3964453096261563,
            0.5958078968361021,
            0.3702301312429655,
            0.36315696918544277,
            0.37002408716455165,
            0.3246522677090874,
            0.40146839585581784,
            0.4603988596660652,
            0.377228565028407,
            0.33495722660882443,
            0.5367208071315298
           ]
          }
         ],
         "name": "400"
        },
        {
         "data": [
          {
           "coloraxis": "coloraxis",
           "customdata": [
            [
             "<b>A $410 monthly child allowance in Alaska</b><br>would lift 5,000 mothers (56%) out of poverty<br>and cost $0.9 billion per year"
            ],
            [
             "<b>A $410 monthly child allowance in Alabama</b><br>would lift 28,000 mothers (41%) out of poverty<br>and cost $5.5 billion per year"
            ],
            [
             "<b>A $410 monthly child allowance in Arkansas</b><br>would lift 23,000 mothers (44%) out of poverty<br>and cost $3.4 billion per year"
            ],
            [
             "<b>A $410 monthly child allowance in Arizona</b><br>would lift 32,000 mothers (40%) out of poverty<br>and cost $8.2 billion per year"
            ],
            [
             "<b>A $410 monthly child allowance in California</b><br>would lift 250,000 mothers (30%) out of poverty<br>and cost $43.1 billion per year"
            ],
            [
             "<b>A $410 monthly child allowance in Colorado</b><br>would lift 35,000 mothers (41%) out of poverty<br>and cost $6.2 billion per year"
            ],
            [
             "<b>A $410 monthly child allowance in Connecticut</b><br>would lift 26,000 mothers (43%) out of poverty<br>and cost $3.4 billion per year"
            ],
            [
             "<b>A $410 monthly child allowance in District of Columbia</b><br>would lift 3,000 mothers (25%) out of poverty<br>and cost $0.6 billion per year"
            ],
            [
             "<b>A $410 monthly child allowance in Delaware</b><br>would lift 4,000 mothers (35%) out of poverty<br>and cost $1.0 billion per year"
            ],
            [
             "<b>A $410 monthly child allowance in Florida</b><br>would lift 162,000 mothers (37%) out of poverty<br>and cost $20.8 billion per year"
            ],
            [
             "<b>A $410 monthly child allowance in Georgia</b><br>would lift 72,000 mothers (55%) out of poverty<br>and cost $12.2 billion per year"
            ],
            [
             "<b>A $410 monthly child allowance in Hawaii</b><br>would lift 8,000 mothers (37%) out of poverty<br>and cost $1.5 billion per year"
            ],
            [
             "<b>A $410 monthly child allowance in Iowa</b><br>would lift 19,000 mothers (71%) out of poverty<br>and cost $3.5 billion per year"
            ],
            [
             "<b>A $410 monthly child allowance in Idaho</b><br>would lift 7,000 mothers (68%) out of poverty<br>and cost $2.2 billion per year"
            ],
            [
             "<b>A $410 monthly child allowance in Illinois</b><br>would lift 60,000 mothers (47%) out of poverty<br>and cost $13.6 billion per year"
            ],
            [
             "<b>A $410 monthly child allowance in Indiana</b><br>would lift 42,000 mothers (58%) out of poverty<br>and cost $7.7 billion per year"
            ],
            [
             "<b>A $410 monthly child allowance in Kansas</b><br>would lift 13,000 mothers (63%) out of poverty<br>and cost $3.3 billion per year"
            ],
            [
             "<b>A $410 monthly child allowance in Kentucky</b><br>would lift 28,000 mothers (41%) out of poverty<br>and cost $5.0 billion per year"
            ],
            [
             "<b>A $410 monthly child allowance in Louisiana</b><br>would lift 26,000 mothers (41%) out of poverty<br>and cost $5.5 billion per year"
            ],
            [
             "<b>A $410 monthly child allowance in Massachusetts</b><br>would lift 26,000 mothers (29%) out of poverty<br>and cost $6.6 billion per year"
            ],
            [
             "<b>A $410 monthly child allowance in Maryland</b><br>would lift 20,000 mothers (19%) out of poverty<br>and cost $6.4 billion per year"
            ],
            [
             "<b>A $410 monthly child allowance in Maine</b><br>would lift 1,000 mothers (34%) out of poverty<br>and cost $1.2 billion per year"
            ],
            [
             "<b>A $410 monthly child allowance in Michigan</b><br>would lift 44,000 mothers (47%) out of poverty<br>and cost $10.4 billion per year"
            ],
            [
             "<b>A $410 monthly child allowance in Minnesota</b><br>would lift 10,000 mothers (26%) out of poverty<br>and cost $6.4 billion per year"
            ],
            [
             "<b>A $410 monthly child allowance in Missouri</b><br>would lift 37,000 mothers (55%) out of poverty<br>and cost $6.6 billion per year"
            ],
            [
             "<b>A $410 monthly child allowance in Mississippi</b><br>would lift 28,000 mothers (45%) out of poverty<br>and cost $3.4 billion per year"
            ],
            [
             "<b>A $410 monthly child allowance in Montana</b><br>would lift 4,000 mothers (56%) out of poverty<br>and cost $1.1 billion per year"
            ],
            [
             "<b>A $410 monthly child allowance in North Carolina</b><br>would lift 62,000 mothers (49%) out of poverty<br>and cost $11.2 billion per year"
            ],
            [
             "<b>A $410 monthly child allowance in North Dakota</b><br>would lift 2,000 mothers (55%) out of poverty<br>and cost $0.9 billion per year"
            ],
            [
             "<b>A $410 monthly child allowance in Nebraska</b><br>would lift 6,000 mothers (30%) out of poverty<br>and cost $2.3 billion per year"
            ],
            [
             "<b>A $410 monthly child allowance in New Hampshire</b><br>would lift 4,000 mothers (49%) out of poverty<br>and cost $1.2 billion per year"
            ],
            [
             "<b>A $410 monthly child allowance in New Jersey</b><br>would lift 55,000 mothers (41%) out of poverty<br>and cost $9.3 billion per year"
            ],
            [
             "<b>A $410 monthly child allowance in New Mexico</b><br>would lift 10,000 mothers (28%) out of poverty<br>and cost $2.3 billion per year"
            ],
            [
             "<b>A $410 monthly child allowance in Nevada</b><br>would lift 13,000 mothers (22%) out of poverty<br>and cost $3.5 billion per year"
            ],
            [
             "<b>A $410 monthly child allowance in New York</b><br>would lift 109,000 mothers (36%) out of poverty<br>and cost $19.8 billion per year"
            ],
            [
             "<b>A $410 monthly child allowance in Ohio</b><br>would lift 80,000 mothers (63%) out of poverty<br>and cost $12.4 billion per year"
            ],
            [
             "<b>A $410 monthly child allowance in Oklahoma</b><br>would lift 19,000 mothers (37%) out of poverty<br>and cost $4.7 billion per year"
            ],
            [
             "<b>A $410 monthly child allowance in Oregon</b><br>would lift 10,000 mothers (33%) out of poverty<br>and cost $4.2 billion per year"
            ],
            [
             "<b>A $410 monthly child allowance in Pennsylvania</b><br>would lift 52,000 mothers (39%) out of poverty<br>and cost $12.4 billion per year"
            ],
            [
             "<b>A $410 monthly child allowance in Rhode Island</b><br>would lift 7,000 mothers (63%) out of poverty<br>and cost $1.0 billion per year"
            ],
            [
             "<b>A $410 monthly child allowance in South Carolina</b><br>would lift 40,000 mothers (39%) out of poverty<br>and cost $5.5 billion per year"
            ],
            [
             "<b>A $410 monthly child allowance in South Dakota</b><br>would lift 5,000 mothers (59%) out of poverty<br>and cost $1.1 billion per year"
            ],
            [
             "<b>A $410 monthly child allowance in Tennessee</b><br>would lift 37,000 mothers (37%) out of poverty<br>and cost $7.5 billion per year"
            ],
            [
             "<b>A $410 monthly child allowance in Texas</b><br>would lift 169,000 mothers (36%) out of poverty<br>and cost $36.8 billion per year"
            ],
            [
             "<b>A $410 monthly child allowance in Utah</b><br>would lift 10,000 mothers (37%) out of poverty<br>and cost $4.6 billion per year"
            ],
            [
             "<b>A $410 monthly child allowance in Virginia</b><br>would lift 36,000 mothers (32%) out of poverty<br>and cost $9.0 billion per year"
            ],
            [
             "<b>A $410 monthly child allowance in Vermont</b><br>would lift 2,000 mothers (40%) out of poverty<br>and cost $0.6 billion per year"
            ],
            [
             "<b>A $410 monthly child allowance in Washington</b><br>would lift 32,000 mothers (46%) out of poverty<br>and cost $8.2 billion per year"
            ],
            [
             "<b>A $410 monthly child allowance in Wisconsin</b><br>would lift 15,000 mothers (56%) out of poverty<br>and cost $6.1 billion per year"
            ],
            [
             "<b>A $410 monthly child allowance in West Virginia</b><br>would lift 6,000 mothers (33%) out of poverty<br>and cost $1.7 billion per year"
            ],
            [
             "<b>A $410 monthly child allowance in Wyoming</b><br>would lift 2,000 mothers (53%) out of poverty<br>and cost $0.7 billion per year"
            ]
           ],
           "geo": "geo",
           "hovertemplate": "%{customdata[0]}<extra></extra>",
           "locationmode": "USA-states",
           "locations": [
            "AK",
            "AL",
            "AR",
            "AZ",
            "CA",
            "CO",
            "CT",
            "DC",
            "DE",
            "FL",
            "GA",
            "HI",
            "IA",
            "ID",
            "IL",
            "IN",
            "KS",
            "KY",
            "LA",
            "MA",
            "MD",
            "ME",
            "MI",
            "MN",
            "MO",
            "MS",
            "MT",
            "NC",
            "ND",
            "NE",
            "NH",
            "NJ",
            "NM",
            "NV",
            "NY",
            "OH",
            "OK",
            "OR",
            "PA",
            "RI",
            "SC",
            "SD",
            "TN",
            "TX",
            "UT",
            "VA",
            "VT",
            "WA",
            "WI",
            "WV",
            "WY"
           ],
           "name": "",
           "type": "choropleth",
           "z": [
            0.564270763664619,
            0.41552160564893464,
            0.44684665839780446,
            0.4086544515709693,
            0.30722194979565537,
            0.4187738027203944,
            0.43746979128073904,
            0.2585381346508286,
            0.3555579063604809,
            0.3720640207670369,
            0.5588590299762052,
            0.37275600967846123,
            0.7161530242128248,
            0.6822157499669405,
            0.4773316601326293,
            0.5874438034536995,
            0.6362278447509232,
            0.4157228385670276,
            0.4170676186030341,
            0.29460706361765704,
            0.19088270566350188,
            0.3476617090813668,
            0.47956320807543007,
            0.26679101478637024,
            0.5588913251267131,
            0.45580592663557085,
            0.5642468105163088,
            0.49259228147051376,
            0.5531365582843061,
            0.3096334939212692,
            0.4962193634295625,
            0.41762584896490296,
            0.2876473938848119,
            0.2289373655307569,
            0.36769925217676475,
            0.6321215353880227,
            0.3753886890919152,
            0.3379092854203875,
            0.3986875168145616,
            0.6382866082232723,
            0.3964453096261563,
            0.5958078968361021,
            0.3702301312429655,
            0.36315696918544277,
            0.37002408716455165,
            0.3246522677090874,
            0.40146839585581784,
            0.4603988596660652,
            0.5655625629946843,
            0.33495722660882443,
            0.5367208071315298
           ]
          }
         ],
         "name": "410"
        },
        {
         "data": [
          {
           "coloraxis": "coloraxis",
           "customdata": [
            [
             "<b>A $420 monthly child allowance in Alaska</b><br>would lift 5,000 mothers (56%) out of poverty<br>and cost $0.9 billion per year"
            ],
            [
             "<b>A $420 monthly child allowance in Alabama</b><br>would lift 28,000 mothers (41%) out of poverty<br>and cost $5.6 billion per year"
            ],
            [
             "<b>A $420 monthly child allowance in Arkansas</b><br>would lift 23,000 mothers (44%) out of poverty<br>and cost $3.5 billion per year"
            ],
            [
             "<b>A $420 monthly child allowance in Arizona</b><br>would lift 32,000 mothers (40%) out of poverty<br>and cost $8.4 billion per year"
            ],
            [
             "<b>A $420 monthly child allowance in California</b><br>would lift 259,000 mothers (31%) out of poverty<br>and cost $44.1 billion per year"
            ],
            [
             "<b>A $420 monthly child allowance in Colorado</b><br>would lift 35,000 mothers (41%) out of poverty<br>and cost $6.3 billion per year"
            ],
            [
             "<b>A $420 monthly child allowance in Connecticut</b><br>would lift 26,000 mothers (43%) out of poverty<br>and cost $3.5 billion per year"
            ],
            [
             "<b>A $420 monthly child allowance in District of Columbia</b><br>would lift 3,000 mothers (25%) out of poverty<br>and cost $0.6 billion per year"
            ],
            [
             "<b>A $420 monthly child allowance in Delaware</b><br>would lift 4,000 mothers (35%) out of poverty<br>and cost $1.0 billion per year"
            ],
            [
             "<b>A $420 monthly child allowance in Florida</b><br>would lift 162,000 mothers (37%) out of poverty<br>and cost $21.3 billion per year"
            ],
            [
             "<b>A $420 monthly child allowance in Georgia</b><br>would lift 75,000 mothers (58%) out of poverty<br>and cost $12.5 billion per year"
            ],
            [
             "<b>A $420 monthly child allowance in Hawaii</b><br>would lift 8,000 mothers (40%) out of poverty<br>and cost $1.5 billion per year"
            ],
            [
             "<b>A $420 monthly child allowance in Iowa</b><br>would lift 19,000 mothers (71%) out of poverty<br>and cost $3.6 billion per year"
            ],
            [
             "<b>A $420 monthly child allowance in Idaho</b><br>would lift 7,000 mothers (68%) out of poverty<br>and cost $2.2 billion per year"
            ],
            [
             "<b>A $420 monthly child allowance in Illinois</b><br>would lift 60,000 mothers (47%) out of poverty<br>and cost $13.9 billion per year"
            ],
            [
             "<b>A $420 monthly child allowance in Indiana</b><br>would lift 44,000 mothers (62%) out of poverty<br>and cost $7.9 billion per year"
            ],
            [
             "<b>A $420 monthly child allowance in Kansas</b><br>would lift 13,000 mothers (63%) out of poverty<br>and cost $3.4 billion per year"
            ],
            [
             "<b>A $420 monthly child allowance in Kentucky</b><br>would lift 28,000 mothers (41%) out of poverty<br>and cost $5.1 billion per year"
            ],
            [
             "<b>A $420 monthly child allowance in Louisiana</b><br>would lift 26,000 mothers (41%) out of poverty<br>and cost $5.6 billion per year"
            ],
            [
             "<b>A $420 monthly child allowance in Massachusetts</b><br>would lift 26,000 mothers (29%) out of poverty<br>and cost $6.8 billion per year"
            ],
            [
             "<b>A $420 monthly child allowance in Maryland</b><br>would lift 25,000 mothers (23%) out of poverty<br>and cost $6.5 billion per year"
            ],
            [
             "<b>A $420 monthly child allowance in Maine</b><br>would lift 1,000 mothers (34%) out of poverty<br>and cost $1.2 billion per year"
            ],
            [
             "<b>A $420 monthly child allowance in Michigan</b><br>would lift 44,000 mothers (47%) out of poverty<br>and cost $10.7 billion per year"
            ],
            [
             "<b>A $420 monthly child allowance in Minnesota</b><br>would lift 10,000 mothers (26%) out of poverty<br>and cost $6.6 billion per year"
            ],
            [
             "<b>A $420 monthly child allowance in Missouri</b><br>would lift 37,000 mothers (55%) out of poverty<br>and cost $6.8 billion per year"
            ],
            [
             "<b>A $420 monthly child allowance in Mississippi</b><br>would lift 28,000 mothers (45%) out of poverty<br>and cost $3.4 billion per year"
            ],
            [
             "<b>A $420 monthly child allowance in Montana</b><br>would lift 4,000 mothers (56%) out of poverty<br>and cost $1.2 billion per year"
            ],
            [
             "<b>A $420 monthly child allowance in North Carolina</b><br>would lift 67,000 mothers (52%) out of poverty<br>and cost $11.4 billion per year"
            ],
            [
             "<b>A $420 monthly child allowance in North Dakota</b><br>would lift 2,000 mothers (55%) out of poverty<br>and cost $0.9 billion per year"
            ],
            [
             "<b>A $420 monthly child allowance in Nebraska</b><br>would lift 6,000 mothers (30%) out of poverty<br>and cost $2.4 billion per year"
            ],
            [
             "<b>A $420 monthly child allowance in New Hampshire</b><br>would lift 4,000 mothers (49%) out of poverty<br>and cost $1.2 billion per year"
            ],
            [
             "<b>A $420 monthly child allowance in New Jersey</b><br>would lift 55,000 mothers (41%) out of poverty<br>and cost $9.5 billion per year"
            ],
            [
             "<b>A $420 monthly child allowance in New Mexico</b><br>would lift 10,000 mothers (28%) out of poverty<br>and cost $2.3 billion per year"
            ],
            [
             "<b>A $420 monthly child allowance in Nevada</b><br>would lift 13,000 mothers (22%) out of poverty<br>and cost $3.6 billion per year"
            ],
            [
             "<b>A $420 monthly child allowance in New York</b><br>would lift 120,000 mothers (40%) out of poverty<br>and cost $20.2 billion per year"
            ],
            [
             "<b>A $420 monthly child allowance in Ohio</b><br>would lift 80,000 mothers (63%) out of poverty<br>and cost $12.7 billion per year"
            ],
            [
             "<b>A $420 monthly child allowance in Oklahoma</b><br>would lift 20,000 mothers (40%) out of poverty<br>and cost $4.9 billion per year"
            ],
            [
             "<b>A $420 monthly child allowance in Oregon</b><br>would lift 10,000 mothers (33%) out of poverty<br>and cost $4.3 billion per year"
            ],
            [
             "<b>A $420 monthly child allowance in Pennsylvania</b><br>would lift 52,000 mothers (39%) out of poverty<br>and cost $12.7 billion per year"
            ],
            [
             "<b>A $420 monthly child allowance in Rhode Island</b><br>would lift 7,000 mothers (63%) out of poverty<br>and cost $1.0 billion per year"
            ],
            [
             "<b>A $420 monthly child allowance in South Carolina</b><br>would lift 40,000 mothers (39%) out of poverty<br>and cost $5.6 billion per year"
            ],
            [
             "<b>A $420 monthly child allowance in South Dakota</b><br>would lift 5,000 mothers (59%) out of poverty<br>and cost $1.1 billion per year"
            ],
            [
             "<b>A $420 monthly child allowance in Tennessee</b><br>would lift 37,000 mothers (37%) out of poverty<br>and cost $7.7 billion per year"
            ],
            [
             "<b>A $420 monthly child allowance in Texas</b><br>would lift 169,000 mothers (36%) out of poverty<br>and cost $37.7 billion per year"
            ],
            [
             "<b>A $420 monthly child allowance in Utah</b><br>would lift 10,000 mothers (37%) out of poverty<br>and cost $4.7 billion per year"
            ],
            [
             "<b>A $420 monthly child allowance in Virginia</b><br>would lift 36,000 mothers (32%) out of poverty<br>and cost $9.3 billion per year"
            ],
            [
             "<b>A $420 monthly child allowance in Vermont</b><br>would lift 2,000 mothers (40%) out of poverty<br>and cost $0.6 billion per year"
            ],
            [
             "<b>A $420 monthly child allowance in Washington</b><br>would lift 32,000 mothers (46%) out of poverty<br>and cost $8.4 billion per year"
            ],
            [
             "<b>A $420 monthly child allowance in Wisconsin</b><br>would lift 15,000 mothers (56%) out of poverty<br>and cost $6.3 billion per year"
            ],
            [
             "<b>A $420 monthly child allowance in West Virginia</b><br>would lift 6,000 mothers (33%) out of poverty<br>and cost $1.7 billion per year"
            ],
            [
             "<b>A $420 monthly child allowance in Wyoming</b><br>would lift 2,000 mothers (53%) out of poverty<br>and cost $0.7 billion per year"
            ]
           ],
           "geo": "geo",
           "hovertemplate": "%{customdata[0]}<extra></extra>",
           "locationmode": "USA-states",
           "locations": [
            "AK",
            "AL",
            "AR",
            "AZ",
            "CA",
            "CO",
            "CT",
            "DC",
            "DE",
            "FL",
            "GA",
            "HI",
            "IA",
            "ID",
            "IL",
            "IN",
            "KS",
            "KY",
            "LA",
            "MA",
            "MD",
            "ME",
            "MI",
            "MN",
            "MO",
            "MS",
            "MT",
            "NC",
            "ND",
            "NE",
            "NH",
            "NJ",
            "NM",
            "NV",
            "NY",
            "OH",
            "OK",
            "OR",
            "PA",
            "RI",
            "SC",
            "SD",
            "TN",
            "TX",
            "UT",
            "VA",
            "VT",
            "WA",
            "WI",
            "WV",
            "WY"
           ],
           "name": "",
           "type": "choropleth",
           "z": [
            0.564270763664619,
            0.41552160564893464,
            0.44684665839780446,
            0.4086544515709693,
            0.3181501719450293,
            0.4187738027203944,
            0.43746979128073904,
            0.2585381346508286,
            0.3555579063604809,
            0.3720640207670369,
            0.5820465553409041,
            0.40245795148897884,
            0.7161530242128248,
            0.6822157499669405,
            0.4773316601326293,
            0.6238019721509989,
            0.6362278447509232,
            0.4157228385670276,
            0.4170676186030341,
            0.29460706361765704,
            0.23701423636861962,
            0.3476617090813668,
            0.47956320807543007,
            0.26679101478637024,
            0.5588913251267131,
            0.45580592663557085,
            0.5642468105163088,
            0.5279055226999514,
            0.5531365582843061,
            0.3096334939212692,
            0.4962193634295625,
            0.41762584896490296,
            0.2876473938848119,
            0.2289373655307569,
            0.4025623826878425,
            0.6321215353880227,
            0.4063969331519489,
            0.3379092854203875,
            0.3986875168145616,
            0.6382866082232723,
            0.3964453096261563,
            0.5958078968361021,
            0.3702301312429655,
            0.36315696918544277,
            0.37002408716455165,
            0.3246522677090874,
            0.40146839585581784,
            0.4603988596660652,
            0.5655625629946843,
            0.33495722660882443,
            0.5367208071315298
           ]
          }
         ],
         "name": "420"
        },
        {
         "data": [
          {
           "coloraxis": "coloraxis",
           "customdata": [
            [
             "<b>A $430 monthly child allowance in Alaska</b><br>would lift 5,000 mothers (56%) out of poverty<br>and cost $0.9 billion per year"
            ],
            [
             "<b>A $430 monthly child allowance in Alabama</b><br>would lift 28,000 mothers (41%) out of poverty<br>and cost $5.7 billion per year"
            ],
            [
             "<b>A $430 monthly child allowance in Arkansas</b><br>would lift 23,000 mothers (44%) out of poverty<br>and cost $3.6 billion per year"
            ],
            [
             "<b>A $430 monthly child allowance in Arizona</b><br>would lift 32,000 mothers (40%) out of poverty<br>and cost $8.6 billion per year"
            ],
            [
             "<b>A $430 monthly child allowance in California</b><br>would lift 262,000 mothers (32%) out of poverty<br>and cost $45.2 billion per year"
            ],
            [
             "<b>A $430 monthly child allowance in Colorado</b><br>would lift 35,000 mothers (41%) out of poverty<br>and cost $6.5 billion per year"
            ],
            [
             "<b>A $430 monthly child allowance in Connecticut</b><br>would lift 26,000 mothers (43%) out of poverty<br>and cost $3.6 billion per year"
            ],
            [
             "<b>A $430 monthly child allowance in District of Columbia</b><br>would lift 3,000 mothers (25%) out of poverty<br>and cost $0.7 billion per year"
            ],
            [
             "<b>A $430 monthly child allowance in Delaware</b><br>would lift 4,000 mothers (35%) out of poverty<br>and cost $1.0 billion per year"
            ],
            [
             "<b>A $430 monthly child allowance in Florida</b><br>would lift 162,000 mothers (37%) out of poverty<br>and cost $21.8 billion per year"
            ],
            [
             "<b>A $430 monthly child allowance in Georgia</b><br>would lift 79,000 mothers (61%) out of poverty<br>and cost $12.8 billion per year"
            ],
            [
             "<b>A $430 monthly child allowance in Hawaii</b><br>would lift 8,000 mothers (40%) out of poverty<br>and cost $1.6 billion per year"
            ],
            [
             "<b>A $430 monthly child allowance in Iowa</b><br>would lift 19,000 mothers (71%) out of poverty<br>and cost $3.7 billion per year"
            ],
            [
             "<b>A $430 monthly child allowance in Idaho</b><br>would lift 7,000 mothers (68%) out of poverty<br>and cost $2.3 billion per year"
            ],
            [
             "<b>A $430 monthly child allowance in Illinois</b><br>would lift 60,000 mothers (47%) out of poverty<br>and cost $14.3 billion per year"
            ],
            [
             "<b>A $430 monthly child allowance in Indiana</b><br>would lift 44,000 mothers (62%) out of poverty<br>and cost $8.0 billion per year"
            ],
            [
             "<b>A $430 monthly child allowance in Kansas</b><br>would lift 13,000 mothers (63%) out of poverty<br>and cost $3.5 billion per year"
            ],
            [
             "<b>A $430 monthly child allowance in Kentucky</b><br>would lift 31,000 mothers (46%) out of poverty<br>and cost $5.2 billion per year"
            ],
            [
             "<b>A $430 monthly child allowance in Louisiana</b><br>would lift 26,000 mothers (41%) out of poverty<br>and cost $5.7 billion per year"
            ],
            [
             "<b>A $430 monthly child allowance in Massachusetts</b><br>would lift 26,000 mothers (29%) out of poverty<br>and cost $7.0 billion per year"
            ],
            [
             "<b>A $430 monthly child allowance in Maryland</b><br>would lift 37,000 mothers (35%) out of poverty<br>and cost $6.7 billion per year"
            ],
            [
             "<b>A $430 monthly child allowance in Maine</b><br>would lift 1,000 mothers (34%) out of poverty<br>and cost $1.2 billion per year"
            ],
            [
             "<b>A $430 monthly child allowance in Michigan</b><br>would lift 44,000 mothers (47%) out of poverty<br>and cost $10.9 billion per year"
            ],
            [
             "<b>A $430 monthly child allowance in Minnesota</b><br>would lift 10,000 mothers (26%) out of poverty<br>and cost $6.8 billion per year"
            ],
            [
             "<b>A $430 monthly child allowance in Missouri</b><br>would lift 37,000 mothers (55%) out of poverty<br>and cost $6.9 billion per year"
            ],
            [
             "<b>A $430 monthly child allowance in Mississippi</b><br>would lift 28,000 mothers (45%) out of poverty<br>and cost $3.5 billion per year"
            ],
            [
             "<b>A $430 monthly child allowance in Montana</b><br>would lift 4,000 mothers (56%) out of poverty<br>and cost $1.2 billion per year"
            ],
            [
             "<b>A $430 monthly child allowance in North Carolina</b><br>would lift 67,000 mothers (52%) out of poverty<br>and cost $11.7 billion per year"
            ],
            [
             "<b>A $430 monthly child allowance in North Dakota</b><br>would lift 2,000 mothers (55%) out of poverty<br>and cost $0.9 billion per year"
            ],
            [
             "<b>A $430 monthly child allowance in Nebraska</b><br>would lift 6,000 mothers (30%) out of poverty<br>and cost $2.5 billion per year"
            ],
            [
             "<b>A $430 monthly child allowance in New Hampshire</b><br>would lift 4,000 mothers (49%) out of poverty<br>and cost $1.3 billion per year"
            ],
            [
             "<b>A $430 monthly child allowance in New Jersey</b><br>would lift 55,000 mothers (41%) out of poverty<br>and cost $9.7 billion per year"
            ],
            [
             "<b>A $430 monthly child allowance in New Mexico</b><br>would lift 11,000 mothers (31%) out of poverty<br>and cost $2.4 billion per year"
            ],
            [
             "<b>A $430 monthly child allowance in Nevada</b><br>would lift 13,000 mothers (22%) out of poverty<br>and cost $3.7 billion per year"
            ],
            [
             "<b>A $430 monthly child allowance in New York</b><br>would lift 120,000 mothers (40%) out of poverty<br>and cost $20.7 billion per year"
            ],
            [
             "<b>A $430 monthly child allowance in Ohio</b><br>would lift 80,000 mothers (63%) out of poverty<br>and cost $13.0 billion per year"
            ],
            [
             "<b>A $430 monthly child allowance in Oklahoma</b><br>would lift 20,000 mothers (40%) out of poverty<br>and cost $5.0 billion per year"
            ],
            [
             "<b>A $430 monthly child allowance in Oregon</b><br>would lift 12,000 mothers (40%) out of poverty<br>and cost $4.4 billion per year"
            ],
            [
             "<b>A $430 monthly child allowance in Pennsylvania</b><br>would lift 52,000 mothers (39%) out of poverty<br>and cost $13.1 billion per year"
            ],
            [
             "<b>A $430 monthly child allowance in Rhode Island</b><br>would lift 7,000 mothers (63%) out of poverty<br>and cost $1.0 billion per year"
            ],
            [
             "<b>A $430 monthly child allowance in South Carolina</b><br>would lift 46,000 mothers (45%) out of poverty<br>and cost $5.7 billion per year"
            ],
            [
             "<b>A $430 monthly child allowance in South Dakota</b><br>would lift 5,000 mothers (59%) out of poverty<br>and cost $1.1 billion per year"
            ],
            [
             "<b>A $430 monthly child allowance in Tennessee</b><br>would lift 37,000 mothers (37%) out of poverty<br>and cost $7.8 billion per year"
            ],
            [
             "<b>A $430 monthly child allowance in Texas</b><br>would lift 169,000 mothers (36%) out of poverty<br>and cost $38.6 billion per year"
            ],
            [
             "<b>A $430 monthly child allowance in Utah</b><br>would lift 10,000 mothers (37%) out of poverty<br>and cost $4.8 billion per year"
            ],
            [
             "<b>A $430 monthly child allowance in Virginia</b><br>would lift 40,000 mothers (35%) out of poverty<br>and cost $9.5 billion per year"
            ],
            [
             "<b>A $430 monthly child allowance in Vermont</b><br>would lift 2,000 mothers (40%) out of poverty<br>and cost $0.6 billion per year"
            ],
            [
             "<b>A $430 monthly child allowance in Washington</b><br>would lift 32,000 mothers (46%) out of poverty<br>and cost $8.6 billion per year"
            ],
            [
             "<b>A $430 monthly child allowance in Wisconsin</b><br>would lift 15,000 mothers (56%) out of poverty<br>and cost $6.4 billion per year"
            ],
            [
             "<b>A $430 monthly child allowance in West Virginia</b><br>would lift 7,000 mothers (38%) out of poverty<br>and cost $1.8 billion per year"
            ],
            [
             "<b>A $430 monthly child allowance in Wyoming</b><br>would lift 2,000 mothers (53%) out of poverty<br>and cost $0.7 billion per year"
            ]
           ],
           "geo": "geo",
           "hovertemplate": "%{customdata[0]}<extra></extra>",
           "locationmode": "USA-states",
           "locations": [
            "AK",
            "AL",
            "AR",
            "AZ",
            "CA",
            "CO",
            "CT",
            "DC",
            "DE",
            "FL",
            "GA",
            "HI",
            "IA",
            "ID",
            "IL",
            "IN",
            "KS",
            "KY",
            "LA",
            "MA",
            "MD",
            "ME",
            "MI",
            "MN",
            "MO",
            "MS",
            "MT",
            "NC",
            "ND",
            "NE",
            "NH",
            "NJ",
            "NM",
            "NV",
            "NY",
            "OH",
            "OK",
            "OR",
            "PA",
            "RI",
            "SC",
            "SD",
            "TN",
            "TX",
            "UT",
            "VA",
            "VT",
            "WA",
            "WI",
            "WV",
            "WY"
           ],
           "name": "",
           "type": "choropleth",
           "z": [
            0.564270763664619,
            0.41552160564893464,
            0.44684665839780446,
            0.4086544515709693,
            0.32182026001072106,
            0.4187738027203944,
            0.43746979128073904,
            0.2585381346508286,
            0.3555579063604809,
            0.3720640207670369,
            0.6126387024420511,
            0.40245795148897884,
            0.7161530242128248,
            0.6822157499669405,
            0.4773316601326293,
            0.6238019721509989,
            0.6362278447509232,
            0.4609241183550574,
            0.4170676186030341,
            0.29460706361765704,
            0.35741452896988213,
            0.3476617090813668,
            0.47956320807543007,
            0.26679101478637024,
            0.5588913251267131,
            0.45580592663557085,
            0.5642468105163088,
            0.5279055226999514,
            0.5531365582843061,
            0.3096334939212692,
            0.4962193634295625,
            0.41762584896490296,
            0.3194024458182645,
            0.2289373655307569,
            0.4025623826878425,
            0.6321215353880227,
            0.4063969331519489,
            0.4046052772307302,
            0.3986875168145616,
            0.6382866082232723,
            0.4574322872826133,
            0.5958078968361021,
            0.3702301312429655,
            0.36315696918544277,
            0.37002408716455165,
            0.3588309585283543,
            0.40146839585581784,
            0.4603988596660652,
            0.5655625629946843,
            0.38991130571448096,
            0.5367208071315298
           ]
          }
         ],
         "name": "430"
        },
        {
         "data": [
          {
           "coloraxis": "coloraxis",
           "customdata": [
            [
             "<b>A $440 monthly child allowance in Alaska</b><br>would lift 5,000 mothers (56%) out of poverty<br>and cost $1.0 billion per year"
            ],
            [
             "<b>A $440 monthly child allowance in Alabama</b><br>would lift 28,000 mothers (41%) out of poverty<br>and cost $5.9 billion per year"
            ],
            [
             "<b>A $440 monthly child allowance in Arkansas</b><br>would lift 23,000 mothers (44%) out of poverty<br>and cost $3.6 billion per year"
            ],
            [
             "<b>A $440 monthly child allowance in Arizona</b><br>would lift 32,000 mothers (40%) out of poverty<br>and cost $8.8 billion per year"
            ],
            [
             "<b>A $440 monthly child allowance in California</b><br>would lift 262,000 mothers (32%) out of poverty<br>and cost $46.2 billion per year"
            ],
            [
             "<b>A $440 monthly child allowance in Colorado</b><br>would lift 35,000 mothers (41%) out of poverty<br>and cost $6.6 billion per year"
            ],
            [
             "<b>A $440 monthly child allowance in Connecticut</b><br>would lift 26,000 mothers (43%) out of poverty<br>and cost $3.6 billion per year"
            ],
            [
             "<b>A $440 monthly child allowance in District of Columbia</b><br>would lift 3,000 mothers (25%) out of poverty<br>and cost $0.7 billion per year"
            ],
            [
             "<b>A $440 monthly child allowance in Delaware</b><br>would lift 4,000 mothers (35%) out of poverty<br>and cost $1.0 billion per year"
            ],
            [
             "<b>A $440 monthly child allowance in Florida</b><br>would lift 167,000 mothers (38%) out of poverty<br>and cost $22.3 billion per year"
            ],
            [
             "<b>A $440 monthly child allowance in Georgia</b><br>would lift 79,000 mothers (61%) out of poverty<br>and cost $13.1 billion per year"
            ],
            [
             "<b>A $440 monthly child allowance in Hawaii</b><br>would lift 8,000 mothers (40%) out of poverty<br>and cost $1.6 billion per year"
            ],
            [
             "<b>A $440 monthly child allowance in Iowa</b><br>would lift 19,000 mothers (71%) out of poverty<br>and cost $3.8 billion per year"
            ],
            [
             "<b>A $440 monthly child allowance in Idaho</b><br>would lift 7,000 mothers (68%) out of poverty<br>and cost $2.3 billion per year"
            ],
            [
             "<b>A $440 monthly child allowance in Illinois</b><br>would lift 60,000 mothers (47%) out of poverty<br>and cost $14.6 billion per year"
            ],
            [
             "<b>A $440 monthly child allowance in Indiana</b><br>would lift 44,000 mothers (62%) out of poverty<br>and cost $8.2 billion per year"
            ],
            [
             "<b>A $440 monthly child allowance in Kansas</b><br>would lift 13,000 mothers (63%) out of poverty<br>and cost $3.6 billion per year"
            ],
            [
             "<b>A $440 monthly child allowance in Kentucky</b><br>would lift 31,000 mothers (46%) out of poverty<br>and cost $5.3 billion per year"
            ],
            [
             "<b>A $440 monthly child allowance in Louisiana</b><br>would lift 26,000 mothers (41%) out of poverty<br>and cost $5.9 billion per year"
            ],
            [
             "<b>A $440 monthly child allowance in Massachusetts</b><br>would lift 33,000 mothers (36%) out of poverty<br>and cost $7.1 billion per year"
            ],
            [
             "<b>A $440 monthly child allowance in Maryland</b><br>would lift 37,000 mothers (35%) out of poverty<br>and cost $6.8 billion per year"
            ],
            [
             "<b>A $440 monthly child allowance in Maine</b><br>would lift 1,000 mothers (34%) out of poverty<br>and cost $1.2 billion per year"
            ],
            [
             "<b>A $440 monthly child allowance in Michigan</b><br>would lift 44,000 mothers (47%) out of poverty<br>and cost $11.2 billion per year"
            ],
            [
             "<b>A $440 monthly child allowance in Minnesota</b><br>would lift 10,000 mothers (26%) out of poverty<br>and cost $6.9 billion per year"
            ],
            [
             "<b>A $440 monthly child allowance in Missouri</b><br>would lift 37,000 mothers (55%) out of poverty<br>and cost $7.1 billion per year"
            ],
            [
             "<b>A $440 monthly child allowance in Mississippi</b><br>would lift 28,000 mothers (45%) out of poverty<br>and cost $3.6 billion per year"
            ],
            [
             "<b>A $440 monthly child allowance in Montana</b><br>would lift 4,000 mothers (56%) out of poverty<br>and cost $1.2 billion per year"
            ],
            [
             "<b>A $440 monthly child allowance in North Carolina</b><br>would lift 67,000 mothers (52%) out of poverty<br>and cost $12.0 billion per year"
            ],
            [
             "<b>A $440 monthly child allowance in North Dakota</b><br>would lift 2,000 mothers (55%) out of poverty<br>and cost $1.0 billion per year"
            ],
            [
             "<b>A $440 monthly child allowance in Nebraska</b><br>would lift 6,000 mothers (30%) out of poverty<br>and cost $2.5 billion per year"
            ],
            [
             "<b>A $440 monthly child allowance in New Hampshire</b><br>would lift 4,000 mothers (49%) out of poverty<br>and cost $1.3 billion per year"
            ],
            [
             "<b>A $440 monthly child allowance in New Jersey</b><br>would lift 55,000 mothers (41%) out of poverty<br>and cost $9.9 billion per year"
            ],
            [
             "<b>A $440 monthly child allowance in New Mexico</b><br>would lift 11,000 mothers (31%) out of poverty<br>and cost $2.4 billion per year"
            ],
            [
             "<b>A $440 monthly child allowance in Nevada</b><br>would lift 15,000 mothers (26%) out of poverty<br>and cost $3.8 billion per year"
            ],
            [
             "<b>A $440 monthly child allowance in New York</b><br>would lift 120,000 mothers (40%) out of poverty<br>and cost $21.2 billion per year"
            ],
            [
             "<b>A $440 monthly child allowance in Ohio</b><br>would lift 80,000 mothers (63%) out of poverty<br>and cost $13.3 billion per year"
            ],
            [
             "<b>A $440 monthly child allowance in Oklahoma</b><br>would lift 20,000 mothers (40%) out of poverty<br>and cost $5.1 billion per year"
            ],
            [
             "<b>A $440 monthly child allowance in Oregon</b><br>would lift 12,000 mothers (40%) out of poverty<br>and cost $4.5 billion per year"
            ],
            [
             "<b>A $440 monthly child allowance in Pennsylvania</b><br>would lift 52,000 mothers (39%) out of poverty<br>and cost $13.4 billion per year"
            ],
            [
             "<b>A $440 monthly child allowance in Rhode Island</b><br>would lift 7,000 mothers (63%) out of poverty<br>and cost $1.1 billion per year"
            ],
            [
             "<b>A $440 monthly child allowance in South Carolina</b><br>would lift 46,000 mothers (45%) out of poverty<br>and cost $5.9 billion per year"
            ],
            [
             "<b>A $440 monthly child allowance in South Dakota</b><br>would lift 5,000 mothers (59%) out of poverty<br>and cost $1.2 billion per year"
            ],
            [
             "<b>A $440 monthly child allowance in Tennessee</b><br>would lift 37,000 mothers (37%) out of poverty<br>and cost $8.0 billion per year"
            ],
            [
             "<b>A $440 monthly child allowance in Texas</b><br>would lift 176,000 mothers (37%) out of poverty<br>and cost $39.5 billion per year"
            ],
            [
             "<b>A $440 monthly child allowance in Utah</b><br>would lift 10,000 mothers (37%) out of poverty<br>and cost $4.9 billion per year"
            ],
            [
             "<b>A $440 monthly child allowance in Virginia</b><br>would lift 40,000 mothers (35%) out of poverty<br>and cost $9.7 billion per year"
            ],
            [
             "<b>A $440 monthly child allowance in Vermont</b><br>would lift 2,000 mothers (40%) out of poverty<br>and cost $0.6 billion per year"
            ],
            [
             "<b>A $440 monthly child allowance in Washington</b><br>would lift 32,000 mothers (46%) out of poverty<br>and cost $8.8 billion per year"
            ],
            [
             "<b>A $440 monthly child allowance in Wisconsin</b><br>would lift 21,000 mothers (76%) out of poverty<br>and cost $6.6 billion per year"
            ],
            [
             "<b>A $440 monthly child allowance in West Virginia</b><br>would lift 7,000 mothers (38%) out of poverty<br>and cost $1.8 billion per year"
            ],
            [
             "<b>A $440 monthly child allowance in Wyoming</b><br>would lift 2,000 mothers (53%) out of poverty<br>and cost $0.7 billion per year"
            ]
           ],
           "geo": "geo",
           "hovertemplate": "%{customdata[0]}<extra></extra>",
           "locationmode": "USA-states",
           "locations": [
            "AK",
            "AL",
            "AR",
            "AZ",
            "CA",
            "CO",
            "CT",
            "DC",
            "DE",
            "FL",
            "GA",
            "HI",
            "IA",
            "ID",
            "IL",
            "IN",
            "KS",
            "KY",
            "LA",
            "MA",
            "MD",
            "ME",
            "MI",
            "MN",
            "MO",
            "MS",
            "MT",
            "NC",
            "ND",
            "NE",
            "NH",
            "NJ",
            "NM",
            "NV",
            "NY",
            "OH",
            "OK",
            "OR",
            "PA",
            "RI",
            "SC",
            "SD",
            "TN",
            "TX",
            "UT",
            "VA",
            "VT",
            "WA",
            "WI",
            "WV",
            "WY"
           ],
           "name": "",
           "type": "choropleth",
           "z": [
            0.564270763664619,
            0.41552160564893464,
            0.44684665839780446,
            0.4086544515709693,
            0.32182026001072106,
            0.4187738027203944,
            0.43746979128073904,
            0.2585381346508286,
            0.3555579063604809,
            0.38235377339886195,
            0.6126387024420511,
            0.40245795148897884,
            0.7161530242128248,
            0.6822157499669405,
            0.4773316601326293,
            0.6238019721509989,
            0.6362278447509232,
            0.4609241183550574,
            0.4170676186030341,
            0.36818439894666727,
            0.35741452896988213,
            0.3476617090813668,
            0.47956320807543007,
            0.26679101478637024,
            0.5588913251267131,
            0.45580592663557085,
            0.5642468105163088,
            0.5279055226999514,
            0.5531365582843061,
            0.3096334939212692,
            0.4962193634295625,
            0.41762584896490296,
            0.3194024458182645,
            0.2658595580650972,
            0.4025623826878425,
            0.6321215353880227,
            0.4063969331519489,
            0.4046052772307302,
            0.3986875168145616,
            0.6382866082232723,
            0.4574322872826133,
            0.5958078968361021,
            0.3702301312429655,
            0.3769079293677165,
            0.37002408716455165,
            0.3588309585283543,
            0.40146839585581784,
            0.4603988596660652,
            0.7671739719354934,
            0.38991130571448096,
            0.5367208071315298
           ]
          }
         ],
         "name": "440"
        },
        {
         "data": [
          {
           "coloraxis": "coloraxis",
           "customdata": [
            [
             "<b>A $450 monthly child allowance in Alaska</b><br>would lift 5,000 mothers (56%) out of poverty<br>and cost $1.0 billion per year"
            ],
            [
             "<b>A $450 monthly child allowance in Alabama</b><br>would lift 28,000 mothers (41%) out of poverty<br>and cost $6.0 billion per year"
            ],
            [
             "<b>A $450 monthly child allowance in Arkansas</b><br>would lift 23,000 mothers (44%) out of poverty<br>and cost $3.7 billion per year"
            ],
            [
             "<b>A $450 monthly child allowance in Arizona</b><br>would lift 32,000 mothers (40%) out of poverty<br>and cost $9.0 billion per year"
            ],
            [
             "<b>A $450 monthly child allowance in California</b><br>would lift 267,000 mothers (32%) out of poverty<br>and cost $47.3 billion per year"
            ],
            [
             "<b>A $450 monthly child allowance in Colorado</b><br>would lift 39,000 mothers (46%) out of poverty<br>and cost $6.8 billion per year"
            ],
            [
             "<b>A $450 monthly child allowance in Connecticut</b><br>would lift 26,000 mothers (43%) out of poverty<br>and cost $3.7 billion per year"
            ],
            [
             "<b>A $450 monthly child allowance in District of Columbia</b><br>would lift 3,000 mothers (25%) out of poverty<br>and cost $0.7 billion per year"
            ],
            [
             "<b>A $450 monthly child allowance in Delaware</b><br>would lift 4,000 mothers (35%) out of poverty<br>and cost $1.1 billion per year"
            ],
            [
             "<b>A $450 monthly child allowance in Florida</b><br>would lift 171,000 mothers (39%) out of poverty<br>and cost $22.8 billion per year"
            ],
            [
             "<b>A $450 monthly child allowance in Georgia</b><br>would lift 79,000 mothers (61%) out of poverty<br>and cost $13.4 billion per year"
            ],
            [
             "<b>A $450 monthly child allowance in Hawaii</b><br>would lift 8,000 mothers (40%) out of poverty<br>and cost $1.6 billion per year"
            ],
            [
             "<b>A $450 monthly child allowance in Iowa</b><br>would lift 19,000 mothers (71%) out of poverty<br>and cost $3.9 billion per year"
            ],
            [
             "<b>A $450 monthly child allowance in Idaho</b><br>would lift 7,000 mothers (68%) out of poverty<br>and cost $2.4 billion per year"
            ],
            [
             "<b>A $450 monthly child allowance in Illinois</b><br>would lift 60,000 mothers (47%) out of poverty<br>and cost $14.9 billion per year"
            ],
            [
             "<b>A $450 monthly child allowance in Indiana</b><br>would lift 48,000 mothers (66%) out of poverty<br>and cost $8.4 billion per year"
            ],
            [
             "<b>A $450 monthly child allowance in Kansas</b><br>would lift 13,000 mothers (63%) out of poverty<br>and cost $3.7 billion per year"
            ],
            [
             "<b>A $450 monthly child allowance in Kentucky</b><br>would lift 31,000 mothers (46%) out of poverty<br>and cost $5.5 billion per year"
            ],
            [
             "<b>A $450 monthly child allowance in Louisiana</b><br>would lift 29,000 mothers (45%) out of poverty<br>and cost $6.0 billion per year"
            ],
            [
             "<b>A $450 monthly child allowance in Massachusetts</b><br>would lift 33,000 mothers (36%) out of poverty<br>and cost $7.3 billion per year"
            ],
            [
             "<b>A $450 monthly child allowance in Maryland</b><br>would lift 37,000 mothers (35%) out of poverty<br>and cost $7.0 billion per year"
            ],
            [
             "<b>A $450 monthly child allowance in Maine</b><br>would lift 1,000 mothers (34%) out of poverty<br>and cost $1.3 billion per year"
            ],
            [
             "<b>A $450 monthly child allowance in Michigan</b><br>would lift 44,000 mothers (47%) out of poverty<br>and cost $11.4 billion per year"
            ],
            [
             "<b>A $450 monthly child allowance in Minnesota</b><br>would lift 10,000 mothers (26%) out of poverty<br>and cost $7.1 billion per year"
            ],
            [
             "<b>A $450 monthly child allowance in Missouri</b><br>would lift 37,000 mothers (55%) out of poverty<br>and cost $7.3 billion per year"
            ],
            [
             "<b>A $450 monthly child allowance in Mississippi</b><br>would lift 29,000 mothers (47%) out of poverty<br>and cost $3.7 billion per year"
            ],
            [
             "<b>A $450 monthly child allowance in Montana</b><br>would lift 4,000 mothers (56%) out of poverty<br>and cost $1.2 billion per year"
            ],
            [
             "<b>A $450 monthly child allowance in North Carolina</b><br>would lift 70,000 mothers (55%) out of poverty<br>and cost $12.3 billion per year"
            ],
            [
             "<b>A $450 monthly child allowance in North Dakota</b><br>would lift 2,000 mothers (55%) out of poverty<br>and cost $1.0 billion per year"
            ],
            [
             "<b>A $450 monthly child allowance in Nebraska</b><br>would lift 6,000 mothers (30%) out of poverty<br>and cost $2.6 billion per year"
            ],
            [
             "<b>A $450 monthly child allowance in New Hampshire</b><br>would lift 4,000 mothers (49%) out of poverty<br>and cost $1.3 billion per year"
            ],
            [
             "<b>A $450 monthly child allowance in New Jersey</b><br>would lift 55,000 mothers (41%) out of poverty<br>and cost $10.2 billion per year"
            ],
            [
             "<b>A $450 monthly child allowance in New Mexico</b><br>would lift 11,000 mothers (31%) out of poverty<br>and cost $2.5 billion per year"
            ],
            [
             "<b>A $450 monthly child allowance in Nevada</b><br>would lift 15,000 mothers (26%) out of poverty<br>and cost $3.8 billion per year"
            ],
            [
             "<b>A $450 monthly child allowance in New York</b><br>would lift 120,000 mothers (40%) out of poverty<br>and cost $21.7 billion per year"
            ],
            [
             "<b>A $450 monthly child allowance in Ohio</b><br>would lift 80,000 mothers (63%) out of poverty<br>and cost $13.6 billion per year"
            ],
            [
             "<b>A $450 monthly child allowance in Oklahoma</b><br>would lift 20,000 mothers (40%) out of poverty<br>and cost $5.2 billion per year"
            ],
            [
             "<b>A $450 monthly child allowance in Oregon</b><br>would lift 12,000 mothers (40%) out of poverty<br>and cost $4.6 billion per year"
            ],
            [
             "<b>A $450 monthly child allowance in Pennsylvania</b><br>would lift 52,000 mothers (39%) out of poverty<br>and cost $13.7 billion per year"
            ],
            [
             "<b>A $450 monthly child allowance in Rhode Island</b><br>would lift 7,000 mothers (63%) out of poverty<br>and cost $1.1 billion per year"
            ],
            [
             "<b>A $450 monthly child allowance in South Carolina</b><br>would lift 46,000 mothers (45%) out of poverty<br>and cost $6.0 billion per year"
            ],
            [
             "<b>A $450 monthly child allowance in South Dakota</b><br>would lift 5,000 mothers (59%) out of poverty<br>and cost $1.2 billion per year"
            ],
            [
             "<b>A $450 monthly child allowance in Tennessee</b><br>would lift 40,000 mothers (39%) out of poverty<br>and cost $8.2 billion per year"
            ],
            [
             "<b>A $450 monthly child allowance in Texas</b><br>would lift 176,000 mothers (37%) out of poverty<br>and cost $40.4 billion per year"
            ],
            [
             "<b>A $450 monthly child allowance in Utah</b><br>would lift 10,000 mothers (37%) out of poverty<br>and cost $5.0 billion per year"
            ],
            [
             "<b>A $450 monthly child allowance in Virginia</b><br>would lift 40,000 mothers (35%) out of poverty<br>and cost $9.9 billion per year"
            ],
            [
             "<b>A $450 monthly child allowance in Vermont</b><br>would lift 2,000 mothers (40%) out of poverty<br>and cost $0.6 billion per year"
            ],
            [
             "<b>A $450 monthly child allowance in Washington</b><br>would lift 32,000 mothers (46%) out of poverty<br>and cost $9.0 billion per year"
            ],
            [
             "<b>A $450 monthly child allowance in Wisconsin</b><br>would lift 21,000 mothers (76%) out of poverty<br>and cost $6.7 billion per year"
            ],
            [
             "<b>A $450 monthly child allowance in West Virginia</b><br>would lift 7,000 mothers (38%) out of poverty<br>and cost $1.9 billion per year"
            ],
            [
             "<b>A $450 monthly child allowance in Wyoming</b><br>would lift 2,000 mothers (53%) out of poverty<br>and cost $0.7 billion per year"
            ]
           ],
           "geo": "geo",
           "hovertemplate": "%{customdata[0]}<extra></extra>",
           "locationmode": "USA-states",
           "locations": [
            "AK",
            "AL",
            "AR",
            "AZ",
            "CA",
            "CO",
            "CT",
            "DC",
            "DE",
            "FL",
            "GA",
            "HI",
            "IA",
            "ID",
            "IL",
            "IN",
            "KS",
            "KY",
            "LA",
            "MA",
            "MD",
            "ME",
            "MI",
            "MN",
            "MO",
            "MS",
            "MT",
            "NC",
            "ND",
            "NE",
            "NH",
            "NJ",
            "NM",
            "NV",
            "NY",
            "OH",
            "OK",
            "OR",
            "PA",
            "RI",
            "SC",
            "SD",
            "TN",
            "TX",
            "UT",
            "VA",
            "VT",
            "WA",
            "WI",
            "WV",
            "WY"
           ],
           "name": "",
           "type": "choropleth",
           "z": [
            0.564270763664619,
            0.41552160564893464,
            0.44684665839780446,
            0.4086544515709693,
            0.3276757278371442,
            0.46554940601006933,
            0.43746979128073904,
            0.2585381346508286,
            0.3555579063604809,
            0.39150318982521537,
            0.6126387024420511,
            0.40245795148897884,
            0.7161530242128248,
            0.6822157499669405,
            0.4773316601326293,
            0.669851864753995,
            0.6362278447509232,
            0.4609241183550574,
            0.4556688837771272,
            0.36818439894666727,
            0.35741452896988213,
            0.3476617090813668,
            0.47956320807543007,
            0.26679101478637024,
            0.5588913251267131,
            0.4783986950171349,
            0.5642468105163088,
            0.5550180928367293,
            0.5531365582843061,
            0.3096334939212692,
            0.4962193634295625,
            0.41762584896490296,
            0.3194024458182645,
            0.2658595580650972,
            0.4025623826878425,
            0.6321215353880227,
            0.4063969331519489,
            0.4046052772307302,
            0.3986875168145616,
            0.6382866082232723,
            0.4574322872826133,
            0.5958078968361021,
            0.39877816266118654,
            0.3769079293677165,
            0.37002408716455165,
            0.3588309585283543,
            0.40146839585581784,
            0.4603988596660652,
            0.7671739719354934,
            0.38991130571448096,
            0.5367208071315298
           ]
          }
         ],
         "name": "450"
        },
        {
         "data": [
          {
           "coloraxis": "coloraxis",
           "customdata": [
            [
             "<b>A $460 monthly child allowance in Alaska</b><br>would lift 5,000 mothers (56%) out of poverty<br>and cost $1.0 billion per year"
            ],
            [
             "<b>A $460 monthly child allowance in Alabama</b><br>would lift 28,000 mothers (41%) out of poverty<br>and cost $6.1 billion per year"
            ],
            [
             "<b>A $460 monthly child allowance in Arkansas</b><br>would lift 23,000 mothers (44%) out of poverty<br>and cost $3.8 billion per year"
            ],
            [
             "<b>A $460 monthly child allowance in Arizona</b><br>would lift 32,000 mothers (40%) out of poverty<br>and cost $9.2 billion per year"
            ],
            [
             "<b>A $460 monthly child allowance in California</b><br>would lift 271,000 mothers (33%) out of poverty<br>and cost $48.3 billion per year"
            ],
            [
             "<b>A $460 monthly child allowance in Colorado</b><br>would lift 39,000 mothers (46%) out of poverty<br>and cost $6.9 billion per year"
            ],
            [
             "<b>A $460 monthly child allowance in Connecticut</b><br>would lift 26,000 mothers (43%) out of poverty<br>and cost $3.8 billion per year"
            ],
            [
             "<b>A $460 monthly child allowance in District of Columbia</b><br>would lift 3,000 mothers (25%) out of poverty<br>and cost $0.7 billion per year"
            ],
            [
             "<b>A $460 monthly child allowance in Delaware</b><br>would lift 4,000 mothers (35%) out of poverty<br>and cost $1.1 billion per year"
            ],
            [
             "<b>A $460 monthly child allowance in Florida</b><br>would lift 171,000 mothers (39%) out of poverty<br>and cost $23.3 billion per year"
            ],
            [
             "<b>A $460 monthly child allowance in Georgia</b><br>would lift 79,000 mothers (61%) out of poverty<br>and cost $13.7 billion per year"
            ],
            [
             "<b>A $460 monthly child allowance in Hawaii</b><br>would lift 8,000 mothers (40%) out of poverty<br>and cost $1.7 billion per year"
            ],
            [
             "<b>A $460 monthly child allowance in Iowa</b><br>would lift 19,000 mothers (71%) out of poverty<br>and cost $4.0 billion per year"
            ],
            [
             "<b>A $460 monthly child allowance in Idaho</b><br>would lift 7,000 mothers (68%) out of poverty<br>and cost $2.4 billion per year"
            ],
            [
             "<b>A $460 monthly child allowance in Illinois</b><br>would lift 60,000 mothers (47%) out of poverty<br>and cost $15.3 billion per year"
            ],
            [
             "<b>A $460 monthly child allowance in Indiana</b><br>would lift 48,000 mothers (66%) out of poverty<br>and cost $8.6 billion per year"
            ],
            [
             "<b>A $460 monthly child allowance in Kansas</b><br>would lift 13,000 mothers (63%) out of poverty<br>and cost $3.7 billion per year"
            ],
            [
             "<b>A $460 monthly child allowance in Kentucky</b><br>would lift 31,000 mothers (46%) out of poverty<br>and cost $5.6 billion per year"
            ],
            [
             "<b>A $460 monthly child allowance in Louisiana</b><br>would lift 29,000 mothers (45%) out of poverty<br>and cost $6.1 billion per year"
            ],
            [
             "<b>A $460 monthly child allowance in Massachusetts</b><br>would lift 33,000 mothers (36%) out of poverty<br>and cost $7.5 billion per year"
            ],
            [
             "<b>A $460 monthly child allowance in Maryland</b><br>would lift 37,000 mothers (35%) out of poverty<br>and cost $7.1 billion per year"
            ],
            [
             "<b>A $460 monthly child allowance in Maine</b><br>would lift 1,000 mothers (34%) out of poverty<br>and cost $1.3 billion per year"
            ],
            [
             "<b>A $460 monthly child allowance in Michigan</b><br>would lift 44,000 mothers (47%) out of poverty<br>and cost $11.7 billion per year"
            ],
            [
             "<b>A $460 monthly child allowance in Minnesota</b><br>would lift 10,000 mothers (26%) out of poverty<br>and cost $7.2 billion per year"
            ],
            [
             "<b>A $460 monthly child allowance in Missouri</b><br>would lift 37,000 mothers (55%) out of poverty<br>and cost $7.4 billion per year"
            ],
            [
             "<b>A $460 monthly child allowance in Mississippi</b><br>would lift 30,000 mothers (50%) out of poverty<br>and cost $3.8 billion per year"
            ],
            [
             "<b>A $460 monthly child allowance in Montana</b><br>would lift 4,000 mothers (56%) out of poverty<br>and cost $1.3 billion per year"
            ],
            [
             "<b>A $460 monthly child allowance in North Carolina</b><br>would lift 74,000 mothers (58%) out of poverty<br>and cost $12.5 billion per year"
            ],
            [
             "<b>A $460 monthly child allowance in North Dakota</b><br>would lift 2,000 mothers (55%) out of poverty<br>and cost $1.0 billion per year"
            ],
            [
             "<b>A $460 monthly child allowance in Nebraska</b><br>would lift 6,000 mothers (30%) out of poverty<br>and cost $2.6 billion per year"
            ],
            [
             "<b>A $460 monthly child allowance in New Hampshire</b><br>would lift 4,000 mothers (49%) out of poverty<br>and cost $1.3 billion per year"
            ],
            [
             "<b>A $460 monthly child allowance in New Jersey</b><br>would lift 55,000 mothers (41%) out of poverty<br>and cost $10.4 billion per year"
            ],
            [
             "<b>A $460 monthly child allowance in New Mexico</b><br>would lift 11,000 mothers (31%) out of poverty<br>and cost $2.5 billion per year"
            ],
            [
             "<b>A $460 monthly child allowance in Nevada</b><br>would lift 15,000 mothers (26%) out of poverty<br>and cost $3.9 billion per year"
            ],
            [
             "<b>A $460 monthly child allowance in New York</b><br>would lift 120,000 mothers (40%) out of poverty<br>and cost $22.2 billion per year"
            ],
            [
             "<b>A $460 monthly child allowance in Ohio</b><br>would lift 80,000 mothers (63%) out of poverty<br>and cost $13.9 billion per year"
            ],
            [
             "<b>A $460 monthly child allowance in Oklahoma</b><br>would lift 20,000 mothers (40%) out of poverty<br>and cost $5.3 billion per year"
            ],
            [
             "<b>A $460 monthly child allowance in Oregon</b><br>would lift 12,000 mothers (40%) out of poverty<br>and cost $4.7 billion per year"
            ],
            [
             "<b>A $460 monthly child allowance in Pennsylvania</b><br>would lift 52,000 mothers (39%) out of poverty<br>and cost $14.0 billion per year"
            ],
            [
             "<b>A $460 monthly child allowance in Rhode Island</b><br>would lift 7,000 mothers (63%) out of poverty<br>and cost $1.1 billion per year"
            ],
            [
             "<b>A $460 monthly child allowance in South Carolina</b><br>would lift 49,000 mothers (48%) out of poverty<br>and cost $6.1 billion per year"
            ],
            [
             "<b>A $460 monthly child allowance in South Dakota</b><br>would lift 5,000 mothers (59%) out of poverty<br>and cost $1.2 billion per year"
            ],
            [
             "<b>A $460 monthly child allowance in Tennessee</b><br>would lift 40,000 mothers (39%) out of poverty<br>and cost $8.4 billion per year"
            ],
            [
             "<b>A $460 monthly child allowance in Texas</b><br>would lift 180,000 mothers (38%) out of poverty<br>and cost $41.3 billion per year"
            ],
            [
             "<b>A $460 monthly child allowance in Utah</b><br>would lift 10,000 mothers (37%) out of poverty<br>and cost $5.1 billion per year"
            ],
            [
             "<b>A $460 monthly child allowance in Virginia</b><br>would lift 40,000 mothers (35%) out of poverty<br>and cost $10.1 billion per year"
            ],
            [
             "<b>A $460 monthly child allowance in Vermont</b><br>would lift 2,000 mothers (40%) out of poverty<br>and cost $0.6 billion per year"
            ],
            [
             "<b>A $460 monthly child allowance in Washington</b><br>would lift 32,000 mothers (46%) out of poverty<br>and cost $9.2 billion per year"
            ],
            [
             "<b>A $460 monthly child allowance in Wisconsin</b><br>would lift 21,000 mothers (76%) out of poverty<br>and cost $6.9 billion per year"
            ],
            [
             "<b>A $460 monthly child allowance in West Virginia</b><br>would lift 7,000 mothers (38%) out of poverty<br>and cost $1.9 billion per year"
            ],
            [
             "<b>A $460 monthly child allowance in Wyoming</b><br>would lift 2,000 mothers (53%) out of poverty<br>and cost $0.7 billion per year"
            ]
           ],
           "geo": "geo",
           "hovertemplate": "%{customdata[0]}<extra></extra>",
           "locationmode": "USA-states",
           "locations": [
            "AK",
            "AL",
            "AR",
            "AZ",
            "CA",
            "CO",
            "CT",
            "DC",
            "DE",
            "FL",
            "GA",
            "HI",
            "IA",
            "ID",
            "IL",
            "IN",
            "KS",
            "KY",
            "LA",
            "MA",
            "MD",
            "ME",
            "MI",
            "MN",
            "MO",
            "MS",
            "MT",
            "NC",
            "ND",
            "NE",
            "NH",
            "NJ",
            "NM",
            "NV",
            "NY",
            "OH",
            "OK",
            "OR",
            "PA",
            "RI",
            "SC",
            "SD",
            "TN",
            "TX",
            "UT",
            "VA",
            "VT",
            "WA",
            "WI",
            "WV",
            "WY"
           ],
           "name": "",
           "type": "choropleth",
           "z": [
            0.564270763664619,
            0.41552160564893464,
            0.44684665839780446,
            0.4086544515709693,
            0.33340786894036983,
            0.46554940601006933,
            0.43746979128073904,
            0.2585381346508286,
            0.3555579063604809,
            0.39150318982521537,
            0.6126387024420511,
            0.40245795148897884,
            0.7161530242128248,
            0.6822157499669405,
            0.4773316601326293,
            0.669851864753995,
            0.6362278447509232,
            0.4609241183550574,
            0.4556688837771272,
            0.36818439894666727,
            0.35741452896988213,
            0.3476617090813668,
            0.47956320807543007,
            0.26679101478637024,
            0.5588913251267131,
            0.5018631538871136,
            0.5642468105163088,
            0.5826388944572791,
            0.5531365582843061,
            0.3096334939212692,
            0.4962193634295625,
            0.41762584896490296,
            0.3194024458182645,
            0.2658595580650972,
            0.4025623826878425,
            0.6321215353880227,
            0.4063969331519489,
            0.4046052772307302,
            0.3986875168145616,
            0.6382866082232723,
            0.48166476524016305,
            0.5958078968361021,
            0.39877816266118654,
            0.3864933757146445,
            0.37002408716455165,
            0.3588309585283543,
            0.40146839585581784,
            0.4603988596660652,
            0.7671739719354934,
            0.38991130571448096,
            0.5367208071315298
           ]
          }
         ],
         "name": "460"
        },
        {
         "data": [
          {
           "coloraxis": "coloraxis",
           "customdata": [
            [
             "<b>A $470 monthly child allowance in Alaska</b><br>would lift 5,000 mothers (56%) out of poverty<br>and cost $1.0 billion per year"
            ],
            [
             "<b>A $470 monthly child allowance in Alabama</b><br>would lift 28,000 mothers (41%) out of poverty<br>and cost $6.3 billion per year"
            ],
            [
             "<b>A $470 monthly child allowance in Arkansas</b><br>would lift 23,000 mothers (44%) out of poverty<br>and cost $3.9 billion per year"
            ],
            [
             "<b>A $470 monthly child allowance in Arizona</b><br>would lift 32,000 mothers (40%) out of poverty<br>and cost $9.4 billion per year"
            ],
            [
             "<b>A $470 monthly child allowance in California</b><br>would lift 284,000 mothers (34%) out of poverty<br>and cost $49.4 billion per year"
            ],
            [
             "<b>A $470 monthly child allowance in Colorado</b><br>would lift 39,000 mothers (46%) out of poverty<br>and cost $7.1 billion per year"
            ],
            [
             "<b>A $470 monthly child allowance in Connecticut</b><br>would lift 26,000 mothers (43%) out of poverty<br>and cost $3.9 billion per year"
            ],
            [
             "<b>A $470 monthly child allowance in District of Columbia</b><br>would lift 4,000 mothers (31%) out of poverty<br>and cost $0.7 billion per year"
            ],
            [
             "<b>A $470 monthly child allowance in Delaware</b><br>would lift 4,000 mothers (35%) out of poverty<br>and cost $1.1 billion per year"
            ],
            [
             "<b>A $470 monthly child allowance in Florida</b><br>would lift 175,000 mothers (40%) out of poverty<br>and cost $23.8 billion per year"
            ],
            [
             "<b>A $470 monthly child allowance in Georgia</b><br>would lift 79,000 mothers (61%) out of poverty<br>and cost $14.0 billion per year"
            ],
            [
             "<b>A $470 monthly child allowance in Hawaii</b><br>would lift 8,000 mothers (40%) out of poverty<br>and cost $1.7 billion per year"
            ],
            [
             "<b>A $470 monthly child allowance in Iowa</b><br>would lift 19,000 mothers (71%) out of poverty<br>and cost $4.1 billion per year"
            ],
            [
             "<b>A $470 monthly child allowance in Idaho</b><br>would lift 7,000 mothers (68%) out of poverty<br>and cost $2.5 billion per year"
            ],
            [
             "<b>A $470 monthly child allowance in Illinois</b><br>would lift 60,000 mothers (47%) out of poverty<br>and cost $15.6 billion per year"
            ],
            [
             "<b>A $470 monthly child allowance in Indiana</b><br>would lift 48,000 mothers (66%) out of poverty<br>and cost $8.8 billion per year"
            ],
            [
             "<b>A $470 monthly child allowance in Kansas</b><br>would lift 13,000 mothers (63%) out of poverty<br>and cost $3.8 billion per year"
            ],
            [
             "<b>A $470 monthly child allowance in Kentucky</b><br>would lift 31,000 mothers (46%) out of poverty<br>and cost $5.7 billion per year"
            ],
            [
             "<b>A $470 monthly child allowance in Louisiana</b><br>would lift 29,000 mothers (45%) out of poverty<br>and cost $6.3 billion per year"
            ],
            [
             "<b>A $470 monthly child allowance in Massachusetts</b><br>would lift 38,000 mothers (42%) out of poverty<br>and cost $7.6 billion per year"
            ],
            [
             "<b>A $470 monthly child allowance in Maryland</b><br>would lift 42,000 mothers (39%) out of poverty<br>and cost $7.3 billion per year"
            ],
            [
             "<b>A $470 monthly child allowance in Maine</b><br>would lift 1,000 mothers (34%) out of poverty<br>and cost $1.3 billion per year"
            ],
            [
             "<b>A $470 monthly child allowance in Michigan</b><br>would lift 49,000 mothers (52%) out of poverty<br>and cost $11.9 billion per year"
            ],
            [
             "<b>A $470 monthly child allowance in Minnesota</b><br>would lift 10,000 mothers (26%) out of poverty<br>and cost $7.4 billion per year"
            ],
            [
             "<b>A $470 monthly child allowance in Missouri</b><br>would lift 37,000 mothers (55%) out of poverty<br>and cost $7.6 billion per year"
            ],
            [
             "<b>A $470 monthly child allowance in Mississippi</b><br>would lift 30,000 mothers (50%) out of poverty<br>and cost $3.9 billion per year"
            ],
            [
             "<b>A $470 monthly child allowance in Montana</b><br>would lift 4,000 mothers (56%) out of poverty<br>and cost $1.3 billion per year"
            ],
            [
             "<b>A $470 monthly child allowance in North Carolina</b><br>would lift 80,000 mothers (63%) out of poverty<br>and cost $12.8 billion per year"
            ],
            [
             "<b>A $470 monthly child allowance in North Dakota</b><br>would lift 2,000 mothers (55%) out of poverty<br>and cost $1.0 billion per year"
            ],
            [
             "<b>A $470 monthly child allowance in Nebraska</b><br>would lift 6,000 mothers (30%) out of poverty<br>and cost $2.7 billion per year"
            ],
            [
             "<b>A $470 monthly child allowance in New Hampshire</b><br>would lift 4,000 mothers (49%) out of poverty<br>and cost $1.4 billion per year"
            ],
            [
             "<b>A $470 monthly child allowance in New Jersey</b><br>would lift 55,000 mothers (41%) out of poverty<br>and cost $10.6 billion per year"
            ],
            [
             "<b>A $470 monthly child allowance in New Mexico</b><br>would lift 11,000 mothers (31%) out of poverty<br>and cost $2.6 billion per year"
            ],
            [
             "<b>A $470 monthly child allowance in Nevada</b><br>would lift 15,000 mothers (26%) out of poverty<br>and cost $4.0 billion per year"
            ],
            [
             "<b>A $470 monthly child allowance in New York</b><br>would lift 120,000 mothers (40%) out of poverty<br>and cost $22.7 billion per year"
            ],
            [
             "<b>A $470 monthly child allowance in Ohio</b><br>would lift 80,000 mothers (63%) out of poverty<br>and cost $14.2 billion per year"
            ],
            [
             "<b>A $470 monthly child allowance in Oklahoma</b><br>would lift 20,000 mothers (40%) out of poverty<br>and cost $5.4 billion per year"
            ],
            [
             "<b>A $470 monthly child allowance in Oregon</b><br>would lift 12,000 mothers (40%) out of poverty<br>and cost $4.8 billion per year"
            ],
            [
             "<b>A $470 monthly child allowance in Pennsylvania</b><br>would lift 52,000 mothers (39%) out of poverty<br>and cost $14.3 billion per year"
            ],
            [
             "<b>A $470 monthly child allowance in Rhode Island</b><br>would lift 7,000 mothers (63%) out of poverty<br>and cost $1.1 billion per year"
            ],
            [
             "<b>A $470 monthly child allowance in South Carolina</b><br>would lift 49,000 mothers (48%) out of poverty<br>and cost $6.3 billion per year"
            ],
            [
             "<b>A $470 monthly child allowance in South Dakota</b><br>would lift 5,000 mothers (59%) out of poverty<br>and cost $1.2 billion per year"
            ],
            [
             "<b>A $470 monthly child allowance in Tennessee</b><br>would lift 40,000 mothers (39%) out of poverty<br>and cost $8.6 billion per year"
            ],
            [
             "<b>A $470 monthly child allowance in Texas</b><br>would lift 180,000 mothers (38%) out of poverty<br>and cost $42.2 billion per year"
            ],
            [
             "<b>A $470 monthly child allowance in Utah</b><br>would lift 10,000 mothers (37%) out of poverty<br>and cost $5.2 billion per year"
            ],
            [
             "<b>A $470 monthly child allowance in Virginia</b><br>would lift 40,000 mothers (35%) out of poverty<br>and cost $10.4 billion per year"
            ],
            [
             "<b>A $470 monthly child allowance in Vermont</b><br>would lift 2,000 mothers (40%) out of poverty<br>and cost $0.6 billion per year"
            ],
            [
             "<b>A $470 monthly child allowance in Washington</b><br>would lift 32,000 mothers (46%) out of poverty<br>and cost $9.4 billion per year"
            ],
            [
             "<b>A $470 monthly child allowance in Wisconsin</b><br>would lift 21,000 mothers (76%) out of poverty<br>and cost $7.0 billion per year"
            ],
            [
             "<b>A $470 monthly child allowance in West Virginia</b><br>would lift 7,000 mothers (38%) out of poverty<br>and cost $1.9 billion per year"
            ],
            [
             "<b>A $470 monthly child allowance in Wyoming</b><br>would lift 2,000 mothers (53%) out of poverty<br>and cost $0.8 billion per year"
            ]
           ],
           "geo": "geo",
           "hovertemplate": "%{customdata[0]}<extra></extra>",
           "locationmode": "USA-states",
           "locations": [
            "AK",
            "AL",
            "AR",
            "AZ",
            "CA",
            "CO",
            "CT",
            "DC",
            "DE",
            "FL",
            "GA",
            "HI",
            "IA",
            "ID",
            "IL",
            "IN",
            "KS",
            "KY",
            "LA",
            "MA",
            "MD",
            "ME",
            "MI",
            "MN",
            "MO",
            "MS",
            "MT",
            "NC",
            "ND",
            "NE",
            "NH",
            "NJ",
            "NM",
            "NV",
            "NY",
            "OH",
            "OK",
            "OR",
            "PA",
            "RI",
            "SC",
            "SD",
            "TN",
            "TX",
            "UT",
            "VA",
            "VT",
            "WA",
            "WI",
            "WV",
            "WY"
           ],
           "name": "",
           "type": "choropleth",
           "z": [
            0.564270763664619,
            0.41552160564893464,
            0.44684665839780446,
            0.4086544515709693,
            0.34827856093244636,
            0.46554940601006933,
            0.43746979128073904,
            0.3185367066016815,
            0.3555579063604809,
            0.4005091261291688,
            0.6126387024420511,
            0.40245795148897884,
            0.7161530242128248,
            0.6822157499669405,
            0.4773316601326293,
            0.669851864753995,
            0.6362278447509232,
            0.4609241183550574,
            0.4556688837771272,
            0.4238034534966666,
            0.39869634991672687,
            0.3476617090813668,
            0.5272100594317232,
            0.26679101478637024,
            0.5588913251267131,
            0.5018631538871136,
            0.5642468105163088,
            0.6326191658578943,
            0.5531365582843061,
            0.3096334939212692,
            0.4962193634295625,
            0.41762584896490296,
            0.3194024458182645,
            0.2658595580650972,
            0.4025623826878425,
            0.6321215353880227,
            0.4063969331519489,
            0.4046052772307302,
            0.3986875168145616,
            0.6382866082232723,
            0.48166476524016305,
            0.5958078968361021,
            0.39877816266118654,
            0.3864933757146445,
            0.37002408716455165,
            0.3588309585283543,
            0.40146839585581784,
            0.4603988596660652,
            0.7671739719354934,
            0.38991130571448096,
            0.5367208071315298
           ]
          }
         ],
         "name": "470"
        },
        {
         "data": [
          {
           "coloraxis": "coloraxis",
           "customdata": [
            [
             "<b>A $480 monthly child allowance in Alaska</b><br>would lift 5,000 mothers (56%) out of poverty<br>and cost $1.0 billion per year"
            ],
            [
             "<b>A $480 monthly child allowance in Alabama</b><br>would lift 28,000 mothers (41%) out of poverty<br>and cost $6.4 billion per year"
            ],
            [
             "<b>A $480 monthly child allowance in Arkansas</b><br>would lift 23,000 mothers (44%) out of poverty<br>and cost $4.0 billion per year"
            ],
            [
             "<b>A $480 monthly child allowance in Arizona</b><br>would lift 36,000 mothers (45%) out of poverty<br>and cost $9.6 billion per year"
            ],
            [
             "<b>A $480 monthly child allowance in California</b><br>would lift 287,000 mothers (35%) out of poverty<br>and cost $50.4 billion per year"
            ],
            [
             "<b>A $480 monthly child allowance in Colorado</b><br>would lift 39,000 mothers (46%) out of poverty<br>and cost $7.2 billion per year"
            ],
            [
             "<b>A $480 monthly child allowance in Connecticut</b><br>would lift 26,000 mothers (43%) out of poverty<br>and cost $4.0 billion per year"
            ],
            [
             "<b>A $480 monthly child allowance in District of Columbia</b><br>would lift 4,000 mothers (31%) out of poverty<br>and cost $0.7 billion per year"
            ],
            [
             "<b>A $480 monthly child allowance in Delaware</b><br>would lift 4,000 mothers (35%) out of poverty<br>and cost $1.1 billion per year"
            ],
            [
             "<b>A $480 monthly child allowance in Florida</b><br>would lift 188,000 mothers (43%) out of poverty<br>and cost $24.3 billion per year"
            ],
            [
             "<b>A $480 monthly child allowance in Georgia</b><br>would lift 79,000 mothers (61%) out of poverty<br>and cost $14.3 billion per year"
            ],
            [
             "<b>A $480 monthly child allowance in Hawaii</b><br>would lift 8,000 mothers (40%) out of poverty<br>and cost $1.7 billion per year"
            ],
            [
             "<b>A $480 monthly child allowance in Iowa</b><br>would lift 19,000 mothers (71%) out of poverty<br>and cost $4.2 billion per year"
            ],
            [
             "<b>A $480 monthly child allowance in Idaho</b><br>would lift 7,000 mothers (68%) out of poverty<br>and cost $2.5 billion per year"
            ],
            [
             "<b>A $480 monthly child allowance in Illinois</b><br>would lift 60,000 mothers (47%) out of poverty<br>and cost $15.9 billion per year"
            ],
            [
             "<b>A $480 monthly child allowance in Indiana</b><br>would lift 48,000 mothers (66%) out of poverty<br>and cost $9.0 billion per year"
            ],
            [
             "<b>A $480 monthly child allowance in Kansas</b><br>would lift 13,000 mothers (63%) out of poverty<br>and cost $3.9 billion per year"
            ],
            [
             "<b>A $480 monthly child allowance in Kentucky</b><br>would lift 31,000 mothers (46%) out of poverty<br>and cost $5.8 billion per year"
            ],
            [
             "<b>A $480 monthly child allowance in Louisiana</b><br>would lift 29,000 mothers (45%) out of poverty<br>and cost $6.4 billion per year"
            ],
            [
             "<b>A $480 monthly child allowance in Massachusetts</b><br>would lift 38,000 mothers (42%) out of poverty<br>and cost $7.8 billion per year"
            ],
            [
             "<b>A $480 monthly child allowance in Maryland</b><br>would lift 42,000 mothers (39%) out of poverty<br>and cost $7.5 billion per year"
            ],
            [
             "<b>A $480 monthly child allowance in Maine</b><br>would lift 1,000 mothers (34%) out of poverty<br>and cost $1.4 billion per year"
            ],
            [
             "<b>A $480 monthly child allowance in Michigan</b><br>would lift 58,000 mothers (62%) out of poverty<br>and cost $12.2 billion per year"
            ],
            [
             "<b>A $480 monthly child allowance in Minnesota</b><br>would lift 10,000 mothers (26%) out of poverty<br>and cost $7.5 billion per year"
            ],
            [
             "<b>A $480 monthly child allowance in Missouri</b><br>would lift 37,000 mothers (55%) out of poverty<br>and cost $7.7 billion per year"
            ],
            [
             "<b>A $480 monthly child allowance in Mississippi</b><br>would lift 30,000 mothers (50%) out of poverty<br>and cost $3.9 billion per year"
            ],
            [
             "<b>A $480 monthly child allowance in Montana</b><br>would lift 4,000 mothers (56%) out of poverty<br>and cost $1.3 billion per year"
            ],
            [
             "<b>A $480 monthly child allowance in North Carolina</b><br>would lift 80,000 mothers (63%) out of poverty<br>and cost $13.1 billion per year"
            ],
            [
             "<b>A $480 monthly child allowance in North Dakota</b><br>would lift 2,000 mothers (55%) out of poverty<br>and cost $1.0 billion per year"
            ],
            [
             "<b>A $480 monthly child allowance in Nebraska</b><br>would lift 6,000 mothers (30%) out of poverty<br>and cost $2.7 billion per year"
            ],
            [
             "<b>A $480 monthly child allowance in New Hampshire</b><br>would lift 4,000 mothers (49%) out of poverty<br>and cost $1.4 billion per year"
            ],
            [
             "<b>A $480 monthly child allowance in New Jersey</b><br>would lift 55,000 mothers (41%) out of poverty<br>and cost $10.8 billion per year"
            ],
            [
             "<b>A $480 monthly child allowance in New Mexico</b><br>would lift 11,000 mothers (31%) out of poverty<br>and cost $2.7 billion per year"
            ],
            [
             "<b>A $480 monthly child allowance in Nevada</b><br>would lift 15,000 mothers (26%) out of poverty<br>and cost $4.1 billion per year"
            ],
            [
             "<b>A $480 monthly child allowance in New York</b><br>would lift 120,000 mothers (40%) out of poverty<br>and cost $23.1 billion per year"
            ],
            [
             "<b>A $480 monthly child allowance in Ohio</b><br>would lift 80,000 mothers (63%) out of poverty<br>and cost $14.5 billion per year"
            ],
            [
             "<b>A $480 monthly child allowance in Oklahoma</b><br>would lift 20,000 mothers (40%) out of poverty<br>and cost $5.6 billion per year"
            ],
            [
             "<b>A $480 monthly child allowance in Oregon</b><br>would lift 15,000 mothers (48%) out of poverty<br>and cost $4.9 billion per year"
            ],
            [
             "<b>A $480 monthly child allowance in Pennsylvania</b><br>would lift 52,000 mothers (39%) out of poverty<br>and cost $14.6 billion per year"
            ],
            [
             "<b>A $480 monthly child allowance in Rhode Island</b><br>would lift 7,000 mothers (63%) out of poverty<br>and cost $1.2 billion per year"
            ],
            [
             "<b>A $480 monthly child allowance in South Carolina</b><br>would lift 49,000 mothers (48%) out of poverty<br>and cost $6.4 billion per year"
            ],
            [
             "<b>A $480 monthly child allowance in South Dakota</b><br>would lift 5,000 mothers (59%) out of poverty<br>and cost $1.3 billion per year"
            ],
            [
             "<b>A $480 monthly child allowance in Tennessee</b><br>would lift 45,000 mothers (45%) out of poverty<br>and cost $8.7 billion per year"
            ],
            [
             "<b>A $480 monthly child allowance in Texas</b><br>would lift 190,000 mothers (40%) out of poverty<br>and cost $43.1 billion per year"
            ],
            [
             "<b>A $480 monthly child allowance in Utah</b><br>would lift 10,000 mothers (37%) out of poverty<br>and cost $5.4 billion per year"
            ],
            [
             "<b>A $480 monthly child allowance in Virginia</b><br>would lift 40,000 mothers (35%) out of poverty<br>and cost $10.6 billion per year"
            ],
            [
             "<b>A $480 monthly child allowance in Vermont</b><br>would lift 2,000 mothers (40%) out of poverty<br>and cost $0.7 billion per year"
            ],
            [
             "<b>A $480 monthly child allowance in Washington</b><br>would lift 32,000 mothers (46%) out of poverty<br>and cost $9.6 billion per year"
            ],
            [
             "<b>A $480 monthly child allowance in Wisconsin</b><br>would lift 21,000 mothers (76%) out of poverty<br>and cost $7.2 billion per year"
            ],
            [
             "<b>A $480 monthly child allowance in West Virginia</b><br>would lift 7,000 mothers (38%) out of poverty<br>and cost $2.0 billion per year"
            ],
            [
             "<b>A $480 monthly child allowance in Wyoming</b><br>would lift 2,000 mothers (53%) out of poverty<br>and cost $0.8 billion per year"
            ]
           ],
           "geo": "geo",
           "hovertemplate": "%{customdata[0]}<extra></extra>",
           "locationmode": "USA-states",
           "locations": [
            "AK",
            "AL",
            "AR",
            "AZ",
            "CA",
            "CO",
            "CT",
            "DC",
            "DE",
            "FL",
            "GA",
            "HI",
            "IA",
            "ID",
            "IL",
            "IN",
            "KS",
            "KY",
            "LA",
            "MA",
            "MD",
            "ME",
            "MI",
            "MN",
            "MO",
            "MS",
            "MT",
            "NC",
            "ND",
            "NE",
            "NH",
            "NJ",
            "NM",
            "NV",
            "NY",
            "OH",
            "OK",
            "OR",
            "PA",
            "RI",
            "SC",
            "SD",
            "TN",
            "TX",
            "UT",
            "VA",
            "VT",
            "WA",
            "WI",
            "WV",
            "WY"
           ],
           "name": "",
           "type": "choropleth",
           "z": [
            0.564270763664619,
            0.41552160564893464,
            0.44684665839780446,
            0.45814098195213565,
            0.3521690695546957,
            0.46554940601006933,
            0.43746979128073904,
            0.3185367066016815,
            0.3555579063604809,
            0.43198518852985224,
            0.6126387024420511,
            0.40245795148897884,
            0.7161530242128248,
            0.6822157499669405,
            0.4773316601326293,
            0.669851864753995,
            0.6362278447509232,
            0.4609241183550574,
            0.4556688837771272,
            0.4238034534966666,
            0.39869634991672687,
            0.3476617090813668,
            0.6210181380217151,
            0.26679101478637024,
            0.5588913251267131,
            0.5018631538871136,
            0.5642468105163088,
            0.6326191658578943,
            0.5531365582843061,
            0.3096334939212692,
            0.4962193634295625,
            0.41762584896490296,
            0.3194024458182645,
            0.2658595580650972,
            0.4025623826878425,
            0.6321215353880227,
            0.4063969331519489,
            0.4888133639679469,
            0.3986875168145616,
            0.6382866082232723,
            0.48166476524016305,
            0.5958078968361021,
            0.4520519508940887,
            0.40891314028289194,
            0.37002408716455165,
            0.3588309585283543,
            0.40146839585581784,
            0.4603988596660652,
            0.7671739719354934,
            0.38991130571448096,
            0.5367208071315298
           ]
          }
         ],
         "name": "480"
        },
        {
         "data": [
          {
           "coloraxis": "coloraxis",
           "customdata": [
            [
             "<b>A $490 monthly child allowance in Alaska</b><br>would lift 5,000 mothers (56%) out of poverty<br>and cost $1.1 billion per year"
            ],
            [
             "<b>A $490 monthly child allowance in Alabama</b><br>would lift 28,000 mothers (41%) out of poverty<br>and cost $6.5 billion per year"
            ],
            [
             "<b>A $490 monthly child allowance in Arkansas</b><br>would lift 23,000 mothers (44%) out of poverty<br>and cost $4.1 billion per year"
            ],
            [
             "<b>A $490 monthly child allowance in Arizona</b><br>would lift 36,000 mothers (45%) out of poverty<br>and cost $9.8 billion per year"
            ],
            [
             "<b>A $490 monthly child allowance in California</b><br>would lift 291,000 mothers (35%) out of poverty<br>and cost $51.5 billion per year"
            ],
            [
             "<b>A $490 monthly child allowance in Colorado</b><br>would lift 39,000 mothers (46%) out of poverty<br>and cost $7.4 billion per year"
            ],
            [
             "<b>A $490 monthly child allowance in Connecticut</b><br>would lift 26,000 mothers (43%) out of poverty<br>and cost $4.0 billion per year"
            ],
            [
             "<b>A $490 monthly child allowance in District of Columbia</b><br>would lift 4,000 mothers (31%) out of poverty<br>and cost $0.8 billion per year"
            ],
            [
             "<b>A $490 monthly child allowance in Delaware</b><br>would lift 4,000 mothers (35%) out of poverty<br>and cost $1.2 billion per year"
            ],
            [
             "<b>A $490 monthly child allowance in Florida</b><br>would lift 188,000 mothers (43%) out of poverty<br>and cost $24.8 billion per year"
            ],
            [
             "<b>A $490 monthly child allowance in Georgia</b><br>would lift 79,000 mothers (61%) out of poverty<br>and cost $14.6 billion per year"
            ],
            [
             "<b>A $490 monthly child allowance in Hawaii</b><br>would lift 8,000 mothers (40%) out of poverty<br>and cost $1.8 billion per year"
            ],
            [
             "<b>A $490 monthly child allowance in Iowa</b><br>would lift 19,000 mothers (71%) out of poverty<br>and cost $4.2 billion per year"
            ],
            [
             "<b>A $490 monthly child allowance in Idaho</b><br>would lift 7,000 mothers (68%) out of poverty<br>and cost $2.6 billion per year"
            ],
            [
             "<b>A $490 monthly child allowance in Illinois</b><br>would lift 60,000 mothers (47%) out of poverty<br>and cost $16.3 billion per year"
            ],
            [
             "<b>A $490 monthly child allowance in Indiana</b><br>would lift 48,000 mothers (66%) out of poverty<br>and cost $9.2 billion per year"
            ],
            [
             "<b>A $490 monthly child allowance in Kansas</b><br>would lift 13,000 mothers (63%) out of poverty<br>and cost $4.0 billion per year"
            ],
            [
             "<b>A $490 monthly child allowance in Kentucky</b><br>would lift 31,000 mothers (46%) out of poverty<br>and cost $5.9 billion per year"
            ],
            [
             "<b>A $490 monthly child allowance in Louisiana</b><br>would lift 31,000 mothers (49%) out of poverty<br>and cost $6.5 billion per year"
            ],
            [
             "<b>A $490 monthly child allowance in Massachusetts</b><br>would lift 38,000 mothers (42%) out of poverty<br>and cost $7.9 billion per year"
            ],
            [
             "<b>A $490 monthly child allowance in Maryland</b><br>would lift 42,000 mothers (39%) out of poverty<br>and cost $7.6 billion per year"
            ],
            [
             "<b>A $490 monthly child allowance in Maine</b><br>would lift 1,000 mothers (34%) out of poverty<br>and cost $1.4 billion per year"
            ],
            [
             "<b>A $490 monthly child allowance in Michigan</b><br>would lift 58,000 mothers (62%) out of poverty<br>and cost $12.5 billion per year"
            ],
            [
             "<b>A $490 monthly child allowance in Minnesota</b><br>would lift 10,000 mothers (26%) out of poverty<br>and cost $7.7 billion per year"
            ],
            [
             "<b>A $490 monthly child allowance in Missouri</b><br>would lift 37,000 mothers (55%) out of poverty<br>and cost $7.9 billion per year"
            ],
            [
             "<b>A $490 monthly child allowance in Mississippi</b><br>would lift 30,000 mothers (50%) out of poverty<br>and cost $4.0 billion per year"
            ],
            [
             "<b>A $490 monthly child allowance in Montana</b><br>would lift 4,000 mothers (56%) out of poverty<br>and cost $1.3 billion per year"
            ],
            [
             "<b>A $490 monthly child allowance in North Carolina</b><br>would lift 80,000 mothers (63%) out of poverty<br>and cost $13.3 billion per year"
            ],
            [
             "<b>A $490 monthly child allowance in North Dakota</b><br>would lift 2,000 mothers (55%) out of poverty<br>and cost $1.1 billion per year"
            ],
            [
             "<b>A $490 monthly child allowance in Nebraska</b><br>would lift 6,000 mothers (30%) out of poverty<br>and cost $2.8 billion per year"
            ],
            [
             "<b>A $490 monthly child allowance in New Hampshire</b><br>would lift 4,000 mothers (49%) out of poverty<br>and cost $1.4 billion per year"
            ],
            [
             "<b>A $490 monthly child allowance in New Jersey</b><br>would lift 58,000 mothers (43%) out of poverty<br>and cost $11.1 billion per year"
            ],
            [
             "<b>A $490 monthly child allowance in New Mexico</b><br>would lift 11,000 mothers (31%) out of poverty<br>and cost $2.7 billion per year"
            ],
            [
             "<b>A $490 monthly child allowance in Nevada</b><br>would lift 15,000 mothers (26%) out of poverty<br>and cost $4.2 billion per year"
            ],
            [
             "<b>A $490 monthly child allowance in New York</b><br>would lift 123,000 mothers (41%) out of poverty<br>and cost $23.6 billion per year"
            ],
            [
             "<b>A $490 monthly child allowance in Ohio</b><br>would lift 80,000 mothers (63%) out of poverty<br>and cost $14.8 billion per year"
            ],
            [
             "<b>A $490 monthly child allowance in Oklahoma</b><br>would lift 20,000 mothers (40%) out of poverty<br>and cost $5.7 billion per year"
            ],
            [
             "<b>A $490 monthly child allowance in Oregon</b><br>would lift 15,000 mothers (48%) out of poverty<br>and cost $5.0 billion per year"
            ],
            [
             "<b>A $490 monthly child allowance in Pennsylvania</b><br>would lift 52,000 mothers (39%) out of poverty<br>and cost $14.9 billion per year"
            ],
            [
             "<b>A $490 monthly child allowance in Rhode Island</b><br>would lift 7,000 mothers (63%) out of poverty<br>and cost $1.2 billion per year"
            ],
            [
             "<b>A $490 monthly child allowance in South Carolina</b><br>would lift 49,000 mothers (48%) out of poverty<br>and cost $6.5 billion per year"
            ],
            [
             "<b>A $490 monthly child allowance in South Dakota</b><br>would lift 5,000 mothers (59%) out of poverty<br>and cost $1.3 billion per year"
            ],
            [
             "<b>A $490 monthly child allowance in Tennessee</b><br>would lift 45,000 mothers (45%) out of poverty<br>and cost $8.9 billion per year"
            ],
            [
             "<b>A $490 monthly child allowance in Texas</b><br>would lift 190,000 mothers (40%) out of poverty<br>and cost $44.0 billion per year"
            ],
            [
             "<b>A $490 monthly child allowance in Utah</b><br>would lift 10,000 mothers (37%) out of poverty<br>and cost $5.5 billion per year"
            ],
            [
             "<b>A $490 monthly child allowance in Virginia</b><br>would lift 40,000 mothers (35%) out of poverty<br>and cost $10.8 billion per year"
            ],
            [
             "<b>A $490 monthly child allowance in Vermont</b><br>would lift 2,000 mothers (40%) out of poverty<br>and cost $0.7 billion per year"
            ],
            [
             "<b>A $490 monthly child allowance in Washington</b><br>would lift 32,000 mothers (46%) out of poverty<br>and cost $9.8 billion per year"
            ],
            [
             "<b>A $490 monthly child allowance in Wisconsin</b><br>would lift 21,000 mothers (76%) out of poverty<br>and cost $7.3 billion per year"
            ],
            [
             "<b>A $490 monthly child allowance in West Virginia</b><br>would lift 7,000 mothers (38%) out of poverty<br>and cost $2.0 billion per year"
            ],
            [
             "<b>A $490 monthly child allowance in Wyoming</b><br>would lift 2,000 mothers (53%) out of poverty<br>and cost $0.8 billion per year"
            ]
           ],
           "geo": "geo",
           "hovertemplate": "%{customdata[0]}<extra></extra>",
           "locationmode": "USA-states",
           "locations": [
            "AK",
            "AL",
            "AR",
            "AZ",
            "CA",
            "CO",
            "CT",
            "DC",
            "DE",
            "FL",
            "GA",
            "HI",
            "IA",
            "ID",
            "IL",
            "IN",
            "KS",
            "KY",
            "LA",
            "MA",
            "MD",
            "ME",
            "MI",
            "MN",
            "MO",
            "MS",
            "MT",
            "NC",
            "ND",
            "NE",
            "NH",
            "NJ",
            "NM",
            "NV",
            "NY",
            "OH",
            "OK",
            "OR",
            "PA",
            "RI",
            "SC",
            "SD",
            "TN",
            "TX",
            "UT",
            "VA",
            "VT",
            "WA",
            "WI",
            "WV",
            "WY"
           ],
           "name": "",
           "type": "choropleth",
           "z": [
            0.564270763664619,
            0.41552160564893464,
            0.44684665839780446,
            0.45814098195213565,
            0.35718035084799615,
            0.46554940601006933,
            0.43746979128073904,
            0.3185367066016815,
            0.3555579063604809,
            0.43198518852985224,
            0.6126387024420511,
            0.40245795148897884,
            0.7161530242128248,
            0.6822157499669405,
            0.4773316601326293,
            0.669851864753995,
            0.6362278447509232,
            0.4609241183550574,
            0.4918628843465225,
            0.4238034534966666,
            0.39869634991672687,
            0.3476617090813668,
            0.6210181380217151,
            0.26679101478637024,
            0.5588913251267131,
            0.5018631538871136,
            0.5642468105163088,
            0.6326191658578943,
            0.5531365582843061,
            0.3096334939212692,
            0.4962193634295625,
            0.4395706256680452,
            0.3194024458182645,
            0.2658595580650972,
            0.41463261523141853,
            0.6321215353880227,
            0.4063969331519489,
            0.4888133639679469,
            0.3986875168145616,
            0.6382866082232723,
            0.48166476524016305,
            0.5958078968361021,
            0.4520519508940887,
            0.40891314028289194,
            0.37002408716455165,
            0.3588309585283543,
            0.40146839585581784,
            0.4603988596660652,
            0.7671739719354934,
            0.38991130571448096,
            0.5367208071315298
           ]
          }
         ],
         "name": "490"
        },
        {
         "data": [
          {
           "coloraxis": "coloraxis",
           "customdata": [
            [
             "<b>A $500 monthly child allowance in Alaska</b><br>would lift 5,000 mothers (56%) out of poverty<br>and cost $1.1 billion per year"
            ],
            [
             "<b>A $500 monthly child allowance in Alabama</b><br>would lift 28,000 mothers (41%) out of poverty<br>and cost $6.7 billion per year"
            ],
            [
             "<b>A $500 monthly child allowance in Arkansas</b><br>would lift 23,000 mothers (44%) out of poverty<br>and cost $4.1 billion per year"
            ],
            [
             "<b>A $500 monthly child allowance in Arizona</b><br>would lift 36,000 mothers (45%) out of poverty<br>and cost $10.0 billion per year"
            ],
            [
             "<b>A $500 monthly child allowance in California</b><br>would lift 295,000 mothers (36%) out of poverty<br>and cost $52.5 billion per year"
            ],
            [
             "<b>A $500 monthly child allowance in Colorado</b><br>would lift 39,000 mothers (46%) out of poverty<br>and cost $7.5 billion per year"
            ],
            [
             "<b>A $500 monthly child allowance in Connecticut</b><br>would lift 26,000 mothers (43%) out of poverty<br>and cost $4.1 billion per year"
            ],
            [
             "<b>A $500 monthly child allowance in District of Columbia</b><br>would lift 4,000 mothers (31%) out of poverty<br>and cost $0.8 billion per year"
            ],
            [
             "<b>A $500 monthly child allowance in Delaware</b><br>would lift 4,000 mothers (35%) out of poverty<br>and cost $1.2 billion per year"
            ],
            [
             "<b>A $500 monthly child allowance in Florida</b><br>would lift 192,000 mothers (44%) out of poverty<br>and cost $25.4 billion per year"
            ],
            [
             "<b>A $500 monthly child allowance in Georgia</b><br>would lift 79,000 mothers (61%) out of poverty<br>and cost $14.9 billion per year"
            ],
            [
             "<b>A $500 monthly child allowance in Hawaii</b><br>would lift 8,000 mothers (40%) out of poverty<br>and cost $1.8 billion per year"
            ],
            [
             "<b>A $500 monthly child allowance in Iowa</b><br>would lift 19,000 mothers (71%) out of poverty<br>and cost $4.3 billion per year"
            ],
            [
             "<b>A $500 monthly child allowance in Idaho</b><br>would lift 7,000 mothers (68%) out of poverty<br>and cost $2.7 billion per year"
            ],
            [
             "<b>A $500 monthly child allowance in Illinois</b><br>would lift 60,000 mothers (47%) out of poverty<br>and cost $16.6 billion per year"
            ],
            [
             "<b>A $500 monthly child allowance in Indiana</b><br>would lift 48,000 mothers (66%) out of poverty<br>and cost $9.3 billion per year"
            ],
            [
             "<b>A $500 monthly child allowance in Kansas</b><br>would lift 13,000 mothers (63%) out of poverty<br>and cost $4.1 billion per year"
            ],
            [
             "<b>A $500 monthly child allowance in Kentucky</b><br>would lift 31,000 mothers (46%) out of poverty<br>and cost $6.1 billion per year"
            ],
            [
             "<b>A $500 monthly child allowance in Louisiana</b><br>would lift 31,000 mothers (49%) out of poverty<br>and cost $6.7 billion per year"
            ],
            [
             "<b>A $500 monthly child allowance in Massachusetts</b><br>would lift 41,000 mothers (46%) out of poverty<br>and cost $8.1 billion per year"
            ],
            [
             "<b>A $500 monthly child allowance in Maryland</b><br>would lift 42,000 mothers (39%) out of poverty<br>and cost $7.8 billion per year"
            ],
            [
             "<b>A $500 monthly child allowance in Maine</b><br>would lift 1,000 mothers (34%) out of poverty<br>and cost $1.4 billion per year"
            ],
            [
             "<b>A $500 monthly child allowance in Michigan</b><br>would lift 58,000 mothers (62%) out of poverty<br>and cost $12.7 billion per year"
            ],
            [
             "<b>A $500 monthly child allowance in Minnesota</b><br>would lift 10,000 mothers (26%) out of poverty<br>and cost $7.9 billion per year"
            ],
            [
             "<b>A $500 monthly child allowance in Missouri</b><br>would lift 37,000 mothers (55%) out of poverty<br>and cost $8.1 billion per year"
            ],
            [
             "<b>A $500 monthly child allowance in Mississippi</b><br>would lift 30,000 mothers (50%) out of poverty<br>and cost $4.1 billion per year"
            ],
            [
             "<b>A $500 monthly child allowance in Montana</b><br>would lift 4,000 mothers (56%) out of poverty<br>and cost $1.4 billion per year"
            ],
            [
             "<b>A $500 monthly child allowance in North Carolina</b><br>would lift 80,000 mothers (63%) out of poverty<br>and cost $13.6 billion per year"
            ],
            [
             "<b>A $500 monthly child allowance in North Dakota</b><br>would lift 2,000 mothers (55%) out of poverty<br>and cost $1.1 billion per year"
            ],
            [
             "<b>A $500 monthly child allowance in Nebraska</b><br>would lift 6,000 mothers (30%) out of poverty<br>and cost $2.9 billion per year"
            ],
            [
             "<b>A $500 monthly child allowance in New Hampshire</b><br>would lift 4,000 mothers (49%) out of poverty<br>and cost $1.5 billion per year"
            ],
            [
             "<b>A $500 monthly child allowance in New Jersey</b><br>would lift 58,000 mothers (43%) out of poverty<br>and cost $11.3 billion per year"
            ],
            [
             "<b>A $500 monthly child allowance in New Mexico</b><br>would lift 11,000 mothers (31%) out of poverty<br>and cost $2.8 billion per year"
            ],
            [
             "<b>A $500 monthly child allowance in Nevada</b><br>would lift 15,000 mothers (26%) out of poverty<br>and cost $4.3 billion per year"
            ],
            [
             "<b>A $500 monthly child allowance in New York</b><br>would lift 123,000 mothers (41%) out of poverty<br>and cost $24.1 billion per year"
            ],
            [
             "<b>A $500 monthly child allowance in Ohio</b><br>would lift 80,000 mothers (63%) out of poverty<br>and cost $15.1 billion per year"
            ],
            [
             "<b>A $500 monthly child allowance in Oklahoma</b><br>would lift 20,000 mothers (40%) out of poverty<br>and cost $5.8 billion per year"
            ],
            [
             "<b>A $500 monthly child allowance in Oregon</b><br>would lift 15,000 mothers (48%) out of poverty<br>and cost $5.1 billion per year"
            ],
            [
             "<b>A $500 monthly child allowance in Pennsylvania</b><br>would lift 52,000 mothers (39%) out of poverty<br>and cost $15.2 billion per year"
            ],
            [
             "<b>A $500 monthly child allowance in Rhode Island</b><br>would lift 7,000 mothers (63%) out of poverty<br>and cost $1.2 billion per year"
            ],
            [
             "<b>A $500 monthly child allowance in South Carolina</b><br>would lift 49,000 mothers (48%) out of poverty<br>and cost $6.7 billion per year"
            ],
            [
             "<b>A $500 monthly child allowance in South Dakota</b><br>would lift 5,000 mothers (59%) out of poverty<br>and cost $1.3 billion per year"
            ],
            [
             "<b>A $500 monthly child allowance in Tennessee</b><br>would lift 45,000 mothers (45%) out of poverty<br>and cost $9.1 billion per year"
            ],
            [
             "<b>A $500 monthly child allowance in Texas</b><br>would lift 194,000 mothers (41%) out of poverty<br>and cost $44.9 billion per year"
            ],
            [
             "<b>A $500 monthly child allowance in Utah</b><br>would lift 10,000 mothers (37%) out of poverty<br>and cost $5.6 billion per year"
            ],
            [
             "<b>A $500 monthly child allowance in Virginia</b><br>would lift 40,000 mothers (35%) out of poverty<br>and cost $11.0 billion per year"
            ],
            [
             "<b>A $500 monthly child allowance in Vermont</b><br>would lift 2,000 mothers (40%) out of poverty<br>and cost $0.7 billion per year"
            ],
            [
             "<b>A $500 monthly child allowance in Washington</b><br>would lift 32,000 mothers (46%) out of poverty<br>and cost $10.0 billion per year"
            ],
            [
             "<b>A $500 monthly child allowance in Wisconsin</b><br>would lift 21,000 mothers (76%) out of poverty<br>and cost $7.5 billion per year"
            ],
            [
             "<b>A $500 monthly child allowance in West Virginia</b><br>would lift 7,000 mothers (38%) out of poverty<br>and cost $2.1 billion per year"
            ],
            [
             "<b>A $500 monthly child allowance in Wyoming</b><br>would lift 2,000 mothers (53%) out of poverty<br>and cost $0.8 billion per year"
            ]
           ],
           "geo": "geo",
           "hovertemplate": "%{customdata[0]}<extra></extra>",
           "locationmode": "USA-states",
           "locations": [
            "AK",
            "AL",
            "AR",
            "AZ",
            "CA",
            "CO",
            "CT",
            "DC",
            "DE",
            "FL",
            "GA",
            "HI",
            "IA",
            "ID",
            "IL",
            "IN",
            "KS",
            "KY",
            "LA",
            "MA",
            "MD",
            "ME",
            "MI",
            "MN",
            "MO",
            "MS",
            "MT",
            "NC",
            "ND",
            "NE",
            "NH",
            "NJ",
            "NM",
            "NV",
            "NY",
            "OH",
            "OK",
            "OR",
            "PA",
            "RI",
            "SC",
            "SD",
            "TN",
            "TX",
            "UT",
            "VA",
            "VT",
            "WA",
            "WI",
            "WV",
            "WY"
           ],
           "name": "",
           "type": "choropleth",
           "z": [
            0.564270763664619,
            0.41552160564893464,
            0.44684665839780446,
            0.45814098195213565,
            0.36183867949875204,
            0.46554940601006933,
            0.43746979128073904,
            0.3185367066016815,
            0.3555579063604809,
            0.4411093184555186,
            0.6126387024420511,
            0.40245795148897884,
            0.7161530242128248,
            0.6822157499669405,
            0.4773316601326293,
            0.669851864753995,
            0.6362278447509232,
            0.4609241183550574,
            0.4918628843465225,
            0.4643274908158852,
            0.39869634991672687,
            0.3476617090813668,
            0.6210181380217151,
            0.26679101478637024,
            0.5588913251267131,
            0.5018631538871136,
            0.5642468105163088,
            0.6326191658578943,
            0.5531365582843061,
            0.3096334939212692,
            0.4962193634295625,
            0.4395706256680452,
            0.3194024458182645,
            0.2658595580650972,
            0.41463261523141853,
            0.6321215353880227,
            0.4063969331519489,
            0.4888133639679469,
            0.3986875168145616,
            0.6382866082232723,
            0.48166476524016305,
            0.5958078968361021,
            0.4520519508940887,
            0.41726429307485424,
            0.37002408716455165,
            0.3588309585283543,
            0.40146839585581784,
            0.4603988596660652,
            0.7671739719354934,
            0.38991130571448096,
            0.5367208071315298
           ]
          }
         ],
         "name": "500"
        }
       ],
       "layout": {
        "coloraxis": {
         "cmax": 0.7671739719354934,
         "cmin": 0,
         "colorbar": {
          "title": {
           "text": "mother_poverty_pct_cut"
          }
         },
         "colorscale": [
          [
           0,
           "rgb(247,251,255)"
          ],
          [
           0.125,
           "rgb(222,235,247)"
          ],
          [
           0.25,
           "rgb(198,219,239)"
          ],
          [
           0.375,
           "rgb(158,202,225)"
          ],
          [
           0.5,
           "rgb(107,174,214)"
          ],
          [
           0.625,
           "rgb(66,146,198)"
          ],
          [
           0.75,
           "rgb(33,113,181)"
          ],
          [
           0.875,
           "rgb(8,81,156)"
          ],
          [
           1,
           "rgb(8,48,107)"
          ]
         ],
         "showscale": false
        },
        "font": {
         "family": "Roboto"
        },
        "geo": {
         "center": {},
         "domain": {
          "x": [
           0,
           1
          ],
          "y": [
           0,
           1
          ]
         },
         "scope": "usa"
        },
        "height": 600,
        "hoverlabel": {
         "align": "right"
        },
        "images": [
         {
          "sizex": 0.12,
          "sizey": 0.12,
          "source": "https://raw.githubusercontent.com/UBICenter/ubicenter.org/master/assets/images/logos/wide-blue.jpg",
          "x": 0.98,
          "xanchor": "right",
          "xref": "paper",
          "y": -0.12,
          "yanchor": "bottom",
          "yref": "paper"
         }
        ],
        "legend": {
         "tracegroupgap": 0
        },
        "paper_bgcolor": "white",
        "plot_bgcolor": "white",
        "sliders": [
         {
          "active": 0,
          "currentvalue": {
           "prefix": "Monthly child allowance="
          },
          "len": 0.9,
          "pad": {
           "b": 10,
           "t": 60
          },
          "steps": [
           {
            "args": [
             [
              "0"
             ],
             {
              "frame": {
               "duration": 0,
               "redraw": true
              },
              "fromcurrent": true,
              "mode": "immediate",
              "transition": {
               "duration": 0,
               "easing": "linear"
              }
             }
            ],
            "label": "0",
            "method": "animate"
           },
           {
            "args": [
             [
              "10"
             ],
             {
              "frame": {
               "duration": 0,
               "redraw": true
              },
              "fromcurrent": true,
              "mode": "immediate",
              "transition": {
               "duration": 0,
               "easing": "linear"
              }
             }
            ],
            "label": "10",
            "method": "animate"
           },
           {
            "args": [
             [
              "20"
             ],
             {
              "frame": {
               "duration": 0,
               "redraw": true
              },
              "fromcurrent": true,
              "mode": "immediate",
              "transition": {
               "duration": 0,
               "easing": "linear"
              }
             }
            ],
            "label": "20",
            "method": "animate"
           },
           {
            "args": [
             [
              "30"
             ],
             {
              "frame": {
               "duration": 0,
               "redraw": true
              },
              "fromcurrent": true,
              "mode": "immediate",
              "transition": {
               "duration": 0,
               "easing": "linear"
              }
             }
            ],
            "label": "30",
            "method": "animate"
           },
           {
            "args": [
             [
              "40"
             ],
             {
              "frame": {
               "duration": 0,
               "redraw": true
              },
              "fromcurrent": true,
              "mode": "immediate",
              "transition": {
               "duration": 0,
               "easing": "linear"
              }
             }
            ],
            "label": "40",
            "method": "animate"
           },
           {
            "args": [
             [
              "50"
             ],
             {
              "frame": {
               "duration": 0,
               "redraw": true
              },
              "fromcurrent": true,
              "mode": "immediate",
              "transition": {
               "duration": 0,
               "easing": "linear"
              }
             }
            ],
            "label": "50",
            "method": "animate"
           },
           {
            "args": [
             [
              "60"
             ],
             {
              "frame": {
               "duration": 0,
               "redraw": true
              },
              "fromcurrent": true,
              "mode": "immediate",
              "transition": {
               "duration": 0,
               "easing": "linear"
              }
             }
            ],
            "label": "60",
            "method": "animate"
           },
           {
            "args": [
             [
              "70"
             ],
             {
              "frame": {
               "duration": 0,
               "redraw": true
              },
              "fromcurrent": true,
              "mode": "immediate",
              "transition": {
               "duration": 0,
               "easing": "linear"
              }
             }
            ],
            "label": "70",
            "method": "animate"
           },
           {
            "args": [
             [
              "80"
             ],
             {
              "frame": {
               "duration": 0,
               "redraw": true
              },
              "fromcurrent": true,
              "mode": "immediate",
              "transition": {
               "duration": 0,
               "easing": "linear"
              }
             }
            ],
            "label": "80",
            "method": "animate"
           },
           {
            "args": [
             [
              "90"
             ],
             {
              "frame": {
               "duration": 0,
               "redraw": true
              },
              "fromcurrent": true,
              "mode": "immediate",
              "transition": {
               "duration": 0,
               "easing": "linear"
              }
             }
            ],
            "label": "90",
            "method": "animate"
           },
           {
            "args": [
             [
              "100"
             ],
             {
              "frame": {
               "duration": 0,
               "redraw": true
              },
              "fromcurrent": true,
              "mode": "immediate",
              "transition": {
               "duration": 0,
               "easing": "linear"
              }
             }
            ],
            "label": "100",
            "method": "animate"
           },
           {
            "args": [
             [
              "110"
             ],
             {
              "frame": {
               "duration": 0,
               "redraw": true
              },
              "fromcurrent": true,
              "mode": "immediate",
              "transition": {
               "duration": 0,
               "easing": "linear"
              }
             }
            ],
            "label": "110",
            "method": "animate"
           },
           {
            "args": [
             [
              "120"
             ],
             {
              "frame": {
               "duration": 0,
               "redraw": true
              },
              "fromcurrent": true,
              "mode": "immediate",
              "transition": {
               "duration": 0,
               "easing": "linear"
              }
             }
            ],
            "label": "120",
            "method": "animate"
           },
           {
            "args": [
             [
              "130"
             ],
             {
              "frame": {
               "duration": 0,
               "redraw": true
              },
              "fromcurrent": true,
              "mode": "immediate",
              "transition": {
               "duration": 0,
               "easing": "linear"
              }
             }
            ],
            "label": "130",
            "method": "animate"
           },
           {
            "args": [
             [
              "140"
             ],
             {
              "frame": {
               "duration": 0,
               "redraw": true
              },
              "fromcurrent": true,
              "mode": "immediate",
              "transition": {
               "duration": 0,
               "easing": "linear"
              }
             }
            ],
            "label": "140",
            "method": "animate"
           },
           {
            "args": [
             [
              "150"
             ],
             {
              "frame": {
               "duration": 0,
               "redraw": true
              },
              "fromcurrent": true,
              "mode": "immediate",
              "transition": {
               "duration": 0,
               "easing": "linear"
              }
             }
            ],
            "label": "150",
            "method": "animate"
           },
           {
            "args": [
             [
              "160"
             ],
             {
              "frame": {
               "duration": 0,
               "redraw": true
              },
              "fromcurrent": true,
              "mode": "immediate",
              "transition": {
               "duration": 0,
               "easing": "linear"
              }
             }
            ],
            "label": "160",
            "method": "animate"
           },
           {
            "args": [
             [
              "170"
             ],
             {
              "frame": {
               "duration": 0,
               "redraw": true
              },
              "fromcurrent": true,
              "mode": "immediate",
              "transition": {
               "duration": 0,
               "easing": "linear"
              }
             }
            ],
            "label": "170",
            "method": "animate"
           },
           {
            "args": [
             [
              "180"
             ],
             {
              "frame": {
               "duration": 0,
               "redraw": true
              },
              "fromcurrent": true,
              "mode": "immediate",
              "transition": {
               "duration": 0,
               "easing": "linear"
              }
             }
            ],
            "label": "180",
            "method": "animate"
           },
           {
            "args": [
             [
              "190"
             ],
             {
              "frame": {
               "duration": 0,
               "redraw": true
              },
              "fromcurrent": true,
              "mode": "immediate",
              "transition": {
               "duration": 0,
               "easing": "linear"
              }
             }
            ],
            "label": "190",
            "method": "animate"
           },
           {
            "args": [
             [
              "200"
             ],
             {
              "frame": {
               "duration": 0,
               "redraw": true
              },
              "fromcurrent": true,
              "mode": "immediate",
              "transition": {
               "duration": 0,
               "easing": "linear"
              }
             }
            ],
            "label": "200",
            "method": "animate"
           },
           {
            "args": [
             [
              "210"
             ],
             {
              "frame": {
               "duration": 0,
               "redraw": true
              },
              "fromcurrent": true,
              "mode": "immediate",
              "transition": {
               "duration": 0,
               "easing": "linear"
              }
             }
            ],
            "label": "210",
            "method": "animate"
           },
           {
            "args": [
             [
              "220"
             ],
             {
              "frame": {
               "duration": 0,
               "redraw": true
              },
              "fromcurrent": true,
              "mode": "immediate",
              "transition": {
               "duration": 0,
               "easing": "linear"
              }
             }
            ],
            "label": "220",
            "method": "animate"
           },
           {
            "args": [
             [
              "230"
             ],
             {
              "frame": {
               "duration": 0,
               "redraw": true
              },
              "fromcurrent": true,
              "mode": "immediate",
              "transition": {
               "duration": 0,
               "easing": "linear"
              }
             }
            ],
            "label": "230",
            "method": "animate"
           },
           {
            "args": [
             [
              "240"
             ],
             {
              "frame": {
               "duration": 0,
               "redraw": true
              },
              "fromcurrent": true,
              "mode": "immediate",
              "transition": {
               "duration": 0,
               "easing": "linear"
              }
             }
            ],
            "label": "240",
            "method": "animate"
           },
           {
            "args": [
             [
              "250"
             ],
             {
              "frame": {
               "duration": 0,
               "redraw": true
              },
              "fromcurrent": true,
              "mode": "immediate",
              "transition": {
               "duration": 0,
               "easing": "linear"
              }
             }
            ],
            "label": "250",
            "method": "animate"
           },
           {
            "args": [
             [
              "260"
             ],
             {
              "frame": {
               "duration": 0,
               "redraw": true
              },
              "fromcurrent": true,
              "mode": "immediate",
              "transition": {
               "duration": 0,
               "easing": "linear"
              }
             }
            ],
            "label": "260",
            "method": "animate"
           },
           {
            "args": [
             [
              "270"
             ],
             {
              "frame": {
               "duration": 0,
               "redraw": true
              },
              "fromcurrent": true,
              "mode": "immediate",
              "transition": {
               "duration": 0,
               "easing": "linear"
              }
             }
            ],
            "label": "270",
            "method": "animate"
           },
           {
            "args": [
             [
              "280"
             ],
             {
              "frame": {
               "duration": 0,
               "redraw": true
              },
              "fromcurrent": true,
              "mode": "immediate",
              "transition": {
               "duration": 0,
               "easing": "linear"
              }
             }
            ],
            "label": "280",
            "method": "animate"
           },
           {
            "args": [
             [
              "290"
             ],
             {
              "frame": {
               "duration": 0,
               "redraw": true
              },
              "fromcurrent": true,
              "mode": "immediate",
              "transition": {
               "duration": 0,
               "easing": "linear"
              }
             }
            ],
            "label": "290",
            "method": "animate"
           },
           {
            "args": [
             [
              "300"
             ],
             {
              "frame": {
               "duration": 0,
               "redraw": true
              },
              "fromcurrent": true,
              "mode": "immediate",
              "transition": {
               "duration": 0,
               "easing": "linear"
              }
             }
            ],
            "label": "300",
            "method": "animate"
           },
           {
            "args": [
             [
              "310"
             ],
             {
              "frame": {
               "duration": 0,
               "redraw": true
              },
              "fromcurrent": true,
              "mode": "immediate",
              "transition": {
               "duration": 0,
               "easing": "linear"
              }
             }
            ],
            "label": "310",
            "method": "animate"
           },
           {
            "args": [
             [
              "320"
             ],
             {
              "frame": {
               "duration": 0,
               "redraw": true
              },
              "fromcurrent": true,
              "mode": "immediate",
              "transition": {
               "duration": 0,
               "easing": "linear"
              }
             }
            ],
            "label": "320",
            "method": "animate"
           },
           {
            "args": [
             [
              "330"
             ],
             {
              "frame": {
               "duration": 0,
               "redraw": true
              },
              "fromcurrent": true,
              "mode": "immediate",
              "transition": {
               "duration": 0,
               "easing": "linear"
              }
             }
            ],
            "label": "330",
            "method": "animate"
           },
           {
            "args": [
             [
              "340"
             ],
             {
              "frame": {
               "duration": 0,
               "redraw": true
              },
              "fromcurrent": true,
              "mode": "immediate",
              "transition": {
               "duration": 0,
               "easing": "linear"
              }
             }
            ],
            "label": "340",
            "method": "animate"
           },
           {
            "args": [
             [
              "350"
             ],
             {
              "frame": {
               "duration": 0,
               "redraw": true
              },
              "fromcurrent": true,
              "mode": "immediate",
              "transition": {
               "duration": 0,
               "easing": "linear"
              }
             }
            ],
            "label": "350",
            "method": "animate"
           },
           {
            "args": [
             [
              "360"
             ],
             {
              "frame": {
               "duration": 0,
               "redraw": true
              },
              "fromcurrent": true,
              "mode": "immediate",
              "transition": {
               "duration": 0,
               "easing": "linear"
              }
             }
            ],
            "label": "360",
            "method": "animate"
           },
           {
            "args": [
             [
              "370"
             ],
             {
              "frame": {
               "duration": 0,
               "redraw": true
              },
              "fromcurrent": true,
              "mode": "immediate",
              "transition": {
               "duration": 0,
               "easing": "linear"
              }
             }
            ],
            "label": "370",
            "method": "animate"
           },
           {
            "args": [
             [
              "380"
             ],
             {
              "frame": {
               "duration": 0,
               "redraw": true
              },
              "fromcurrent": true,
              "mode": "immediate",
              "transition": {
               "duration": 0,
               "easing": "linear"
              }
             }
            ],
            "label": "380",
            "method": "animate"
           },
           {
            "args": [
             [
              "390"
             ],
             {
              "frame": {
               "duration": 0,
               "redraw": true
              },
              "fromcurrent": true,
              "mode": "immediate",
              "transition": {
               "duration": 0,
               "easing": "linear"
              }
             }
            ],
            "label": "390",
            "method": "animate"
           },
           {
            "args": [
             [
              "400"
             ],
             {
              "frame": {
               "duration": 0,
               "redraw": true
              },
              "fromcurrent": true,
              "mode": "immediate",
              "transition": {
               "duration": 0,
               "easing": "linear"
              }
             }
            ],
            "label": "400",
            "method": "animate"
           },
           {
            "args": [
             [
              "410"
             ],
             {
              "frame": {
               "duration": 0,
               "redraw": true
              },
              "fromcurrent": true,
              "mode": "immediate",
              "transition": {
               "duration": 0,
               "easing": "linear"
              }
             }
            ],
            "label": "410",
            "method": "animate"
           },
           {
            "args": [
             [
              "420"
             ],
             {
              "frame": {
               "duration": 0,
               "redraw": true
              },
              "fromcurrent": true,
              "mode": "immediate",
              "transition": {
               "duration": 0,
               "easing": "linear"
              }
             }
            ],
            "label": "420",
            "method": "animate"
           },
           {
            "args": [
             [
              "430"
             ],
             {
              "frame": {
               "duration": 0,
               "redraw": true
              },
              "fromcurrent": true,
              "mode": "immediate",
              "transition": {
               "duration": 0,
               "easing": "linear"
              }
             }
            ],
            "label": "430",
            "method": "animate"
           },
           {
            "args": [
             [
              "440"
             ],
             {
              "frame": {
               "duration": 0,
               "redraw": true
              },
              "fromcurrent": true,
              "mode": "immediate",
              "transition": {
               "duration": 0,
               "easing": "linear"
              }
             }
            ],
            "label": "440",
            "method": "animate"
           },
           {
            "args": [
             [
              "450"
             ],
             {
              "frame": {
               "duration": 0,
               "redraw": true
              },
              "fromcurrent": true,
              "mode": "immediate",
              "transition": {
               "duration": 0,
               "easing": "linear"
              }
             }
            ],
            "label": "450",
            "method": "animate"
           },
           {
            "args": [
             [
              "460"
             ],
             {
              "frame": {
               "duration": 0,
               "redraw": true
              },
              "fromcurrent": true,
              "mode": "immediate",
              "transition": {
               "duration": 0,
               "easing": "linear"
              }
             }
            ],
            "label": "460",
            "method": "animate"
           },
           {
            "args": [
             [
              "470"
             ],
             {
              "frame": {
               "duration": 0,
               "redraw": true
              },
              "fromcurrent": true,
              "mode": "immediate",
              "transition": {
               "duration": 0,
               "easing": "linear"
              }
             }
            ],
            "label": "470",
            "method": "animate"
           },
           {
            "args": [
             [
              "480"
             ],
             {
              "frame": {
               "duration": 0,
               "redraw": true
              },
              "fromcurrent": true,
              "mode": "immediate",
              "transition": {
               "duration": 0,
               "easing": "linear"
              }
             }
            ],
            "label": "480",
            "method": "animate"
           },
           {
            "args": [
             [
              "490"
             ],
             {
              "frame": {
               "duration": 0,
               "redraw": true
              },
              "fromcurrent": true,
              "mode": "immediate",
              "transition": {
               "duration": 0,
               "easing": "linear"
              }
             }
            ],
            "label": "490",
            "method": "animate"
           },
           {
            "args": [
             [
              "500"
             ],
             {
              "frame": {
               "duration": 0,
               "redraw": true
              },
              "fromcurrent": true,
              "mode": "immediate",
              "transition": {
               "duration": 0,
               "easing": "linear"
              }
             }
            ],
            "label": "500",
            "method": "animate"
           }
          ],
          "x": 0.1,
          "xanchor": "left",
          "y": 0,
          "yanchor": "top"
         }
        ],
        "template": {
         "data": {
          "bar": [
           {
            "error_x": {
             "color": "#2a3f5f"
            },
            "error_y": {
             "color": "#2a3f5f"
            },
            "marker": {
             "line": {
              "color": "#E5ECF6",
              "width": 0.5
             },
             "pattern": {
              "fillmode": "overlay",
              "size": 10,
              "solidity": 0.2
             }
            },
            "type": "bar"
           }
          ],
          "barpolar": [
           {
            "marker": {
             "line": {
              "color": "#E5ECF6",
              "width": 0.5
             },
             "pattern": {
              "fillmode": "overlay",
              "size": 10,
              "solidity": 0.2
             }
            },
            "type": "barpolar"
           }
          ],
          "carpet": [
           {
            "aaxis": {
             "endlinecolor": "#2a3f5f",
             "gridcolor": "white",
             "linecolor": "white",
             "minorgridcolor": "white",
             "startlinecolor": "#2a3f5f"
            },
            "baxis": {
             "endlinecolor": "#2a3f5f",
             "gridcolor": "white",
             "linecolor": "white",
             "minorgridcolor": "white",
             "startlinecolor": "#2a3f5f"
            },
            "type": "carpet"
           }
          ],
          "choropleth": [
           {
            "colorbar": {
             "outlinewidth": 0,
             "ticks": ""
            },
            "type": "choropleth"
           }
          ],
          "contour": [
           {
            "colorbar": {
             "outlinewidth": 0,
             "ticks": ""
            },
            "colorscale": [
             [
              0,
              "#0d0887"
             ],
             [
              0.1111111111111111,
              "#46039f"
             ],
             [
              0.2222222222222222,
              "#7201a8"
             ],
             [
              0.3333333333333333,
              "#9c179e"
             ],
             [
              0.4444444444444444,
              "#bd3786"
             ],
             [
              0.5555555555555556,
              "#d8576b"
             ],
             [
              0.6666666666666666,
              "#ed7953"
             ],
             [
              0.7777777777777778,
              "#fb9f3a"
             ],
             [
              0.8888888888888888,
              "#fdca26"
             ],
             [
              1,
              "#f0f921"
             ]
            ],
            "type": "contour"
           }
          ],
          "contourcarpet": [
           {
            "colorbar": {
             "outlinewidth": 0,
             "ticks": ""
            },
            "type": "contourcarpet"
           }
          ],
          "heatmap": [
           {
            "colorbar": {
             "outlinewidth": 0,
             "ticks": ""
            },
            "colorscale": [
             [
              0,
              "#0d0887"
             ],
             [
              0.1111111111111111,
              "#46039f"
             ],
             [
              0.2222222222222222,
              "#7201a8"
             ],
             [
              0.3333333333333333,
              "#9c179e"
             ],
             [
              0.4444444444444444,
              "#bd3786"
             ],
             [
              0.5555555555555556,
              "#d8576b"
             ],
             [
              0.6666666666666666,
              "#ed7953"
             ],
             [
              0.7777777777777778,
              "#fb9f3a"
             ],
             [
              0.8888888888888888,
              "#fdca26"
             ],
             [
              1,
              "#f0f921"
             ]
            ],
            "type": "heatmap"
           }
          ],
          "heatmapgl": [
           {
            "colorbar": {
             "outlinewidth": 0,
             "ticks": ""
            },
            "colorscale": [
             [
              0,
              "#0d0887"
             ],
             [
              0.1111111111111111,
              "#46039f"
             ],
             [
              0.2222222222222222,
              "#7201a8"
             ],
             [
              0.3333333333333333,
              "#9c179e"
             ],
             [
              0.4444444444444444,
              "#bd3786"
             ],
             [
              0.5555555555555556,
              "#d8576b"
             ],
             [
              0.6666666666666666,
              "#ed7953"
             ],
             [
              0.7777777777777778,
              "#fb9f3a"
             ],
             [
              0.8888888888888888,
              "#fdca26"
             ],
             [
              1,
              "#f0f921"
             ]
            ],
            "type": "heatmapgl"
           }
          ],
          "histogram": [
           {
            "marker": {
             "pattern": {
              "fillmode": "overlay",
              "size": 10,
              "solidity": 0.2
             }
            },
            "type": "histogram"
           }
          ],
          "histogram2d": [
           {
            "colorbar": {
             "outlinewidth": 0,
             "ticks": ""
            },
            "colorscale": [
             [
              0,
              "#0d0887"
             ],
             [
              0.1111111111111111,
              "#46039f"
             ],
             [
              0.2222222222222222,
              "#7201a8"
             ],
             [
              0.3333333333333333,
              "#9c179e"
             ],
             [
              0.4444444444444444,
              "#bd3786"
             ],
             [
              0.5555555555555556,
              "#d8576b"
             ],
             [
              0.6666666666666666,
              "#ed7953"
             ],
             [
              0.7777777777777778,
              "#fb9f3a"
             ],
             [
              0.8888888888888888,
              "#fdca26"
             ],
             [
              1,
              "#f0f921"
             ]
            ],
            "type": "histogram2d"
           }
          ],
          "histogram2dcontour": [
           {
            "colorbar": {
             "outlinewidth": 0,
             "ticks": ""
            },
            "colorscale": [
             [
              0,
              "#0d0887"
             ],
             [
              0.1111111111111111,
              "#46039f"
             ],
             [
              0.2222222222222222,
              "#7201a8"
             ],
             [
              0.3333333333333333,
              "#9c179e"
             ],
             [
              0.4444444444444444,
              "#bd3786"
             ],
             [
              0.5555555555555556,
              "#d8576b"
             ],
             [
              0.6666666666666666,
              "#ed7953"
             ],
             [
              0.7777777777777778,
              "#fb9f3a"
             ],
             [
              0.8888888888888888,
              "#fdca26"
             ],
             [
              1,
              "#f0f921"
             ]
            ],
            "type": "histogram2dcontour"
           }
          ],
          "mesh3d": [
           {
            "colorbar": {
             "outlinewidth": 0,
             "ticks": ""
            },
            "type": "mesh3d"
           }
          ],
          "parcoords": [
           {
            "line": {
             "colorbar": {
              "outlinewidth": 0,
              "ticks": ""
             }
            },
            "type": "parcoords"
           }
          ],
          "pie": [
           {
            "automargin": true,
            "type": "pie"
           }
          ],
          "scatter": [
           {
            "marker": {
             "colorbar": {
              "outlinewidth": 0,
              "ticks": ""
             }
            },
            "type": "scatter"
           }
          ],
          "scatter3d": [
           {
            "line": {
             "colorbar": {
              "outlinewidth": 0,
              "ticks": ""
             }
            },
            "marker": {
             "colorbar": {
              "outlinewidth": 0,
              "ticks": ""
             }
            },
            "type": "scatter3d"
           }
          ],
          "scattercarpet": [
           {
            "marker": {
             "colorbar": {
              "outlinewidth": 0,
              "ticks": ""
             }
            },
            "type": "scattercarpet"
           }
          ],
          "scattergeo": [
           {
            "marker": {
             "colorbar": {
              "outlinewidth": 0,
              "ticks": ""
             }
            },
            "type": "scattergeo"
           }
          ],
          "scattergl": [
           {
            "marker": {
             "colorbar": {
              "outlinewidth": 0,
              "ticks": ""
             }
            },
            "type": "scattergl"
           }
          ],
          "scattermapbox": [
           {
            "marker": {
             "colorbar": {
              "outlinewidth": 0,
              "ticks": ""
             }
            },
            "type": "scattermapbox"
           }
          ],
          "scatterpolar": [
           {
            "marker": {
             "colorbar": {
              "outlinewidth": 0,
              "ticks": ""
             }
            },
            "type": "scatterpolar"
           }
          ],
          "scatterpolargl": [
           {
            "marker": {
             "colorbar": {
              "outlinewidth": 0,
              "ticks": ""
             }
            },
            "type": "scatterpolargl"
           }
          ],
          "scatterternary": [
           {
            "marker": {
             "colorbar": {
              "outlinewidth": 0,
              "ticks": ""
             }
            },
            "type": "scatterternary"
           }
          ],
          "surface": [
           {
            "colorbar": {
             "outlinewidth": 0,
             "ticks": ""
            },
            "colorscale": [
             [
              0,
              "#0d0887"
             ],
             [
              0.1111111111111111,
              "#46039f"
             ],
             [
              0.2222222222222222,
              "#7201a8"
             ],
             [
              0.3333333333333333,
              "#9c179e"
             ],
             [
              0.4444444444444444,
              "#bd3786"
             ],
             [
              0.5555555555555556,
              "#d8576b"
             ],
             [
              0.6666666666666666,
              "#ed7953"
             ],
             [
              0.7777777777777778,
              "#fb9f3a"
             ],
             [
              0.8888888888888888,
              "#fdca26"
             ],
             [
              1,
              "#f0f921"
             ]
            ],
            "type": "surface"
           }
          ],
          "table": [
           {
            "cells": {
             "fill": {
              "color": "#EBF0F8"
             },
             "line": {
              "color": "white"
             }
            },
            "header": {
             "fill": {
              "color": "#C8D4E3"
             },
             "line": {
              "color": "white"
             }
            },
            "type": "table"
           }
          ]
         },
         "layout": {
          "annotationdefaults": {
           "arrowcolor": "#2a3f5f",
           "arrowhead": 0,
           "arrowwidth": 1
          },
          "autotypenumbers": "strict",
          "coloraxis": {
           "colorbar": {
            "outlinewidth": 0,
            "ticks": ""
           }
          },
          "colorscale": {
           "diverging": [
            [
             0,
             "#8e0152"
            ],
            [
             0.1,
             "#c51b7d"
            ],
            [
             0.2,
             "#de77ae"
            ],
            [
             0.3,
             "#f1b6da"
            ],
            [
             0.4,
             "#fde0ef"
            ],
            [
             0.5,
             "#f7f7f7"
            ],
            [
             0.6,
             "#e6f5d0"
            ],
            [
             0.7,
             "#b8e186"
            ],
            [
             0.8,
             "#7fbc41"
            ],
            [
             0.9,
             "#4d9221"
            ],
            [
             1,
             "#276419"
            ]
           ],
           "sequential": [
            [
             0,
             "#0d0887"
            ],
            [
             0.1111111111111111,
             "#46039f"
            ],
            [
             0.2222222222222222,
             "#7201a8"
            ],
            [
             0.3333333333333333,
             "#9c179e"
            ],
            [
             0.4444444444444444,
             "#bd3786"
            ],
            [
             0.5555555555555556,
             "#d8576b"
            ],
            [
             0.6666666666666666,
             "#ed7953"
            ],
            [
             0.7777777777777778,
             "#fb9f3a"
            ],
            [
             0.8888888888888888,
             "#fdca26"
            ],
            [
             1,
             "#f0f921"
            ]
           ],
           "sequentialminus": [
            [
             0,
             "#0d0887"
            ],
            [
             0.1111111111111111,
             "#46039f"
            ],
            [
             0.2222222222222222,
             "#7201a8"
            ],
            [
             0.3333333333333333,
             "#9c179e"
            ],
            [
             0.4444444444444444,
             "#bd3786"
            ],
            [
             0.5555555555555556,
             "#d8576b"
            ],
            [
             0.6666666666666666,
             "#ed7953"
            ],
            [
             0.7777777777777778,
             "#fb9f3a"
            ],
            [
             0.8888888888888888,
             "#fdca26"
            ],
            [
             1,
             "#f0f921"
            ]
           ]
          },
          "colorway": [
           "#636efa",
           "#EF553B",
           "#00cc96",
           "#ab63fa",
           "#FFA15A",
           "#19d3f3",
           "#FF6692",
           "#B6E880",
           "#FF97FF",
           "#FECB52"
          ],
          "font": {
           "color": "#2a3f5f"
          },
          "geo": {
           "bgcolor": "white",
           "lakecolor": "white",
           "landcolor": "#E5ECF6",
           "showlakes": true,
           "showland": true,
           "subunitcolor": "white"
          },
          "hoverlabel": {
           "align": "left"
          },
          "hovermode": "closest",
          "mapbox": {
           "style": "light"
          },
          "paper_bgcolor": "white",
          "plot_bgcolor": "#E5ECF6",
          "polar": {
           "angularaxis": {
            "gridcolor": "white",
            "linecolor": "white",
            "ticks": ""
           },
           "bgcolor": "#E5ECF6",
           "radialaxis": {
            "gridcolor": "white",
            "linecolor": "white",
            "ticks": ""
           }
          },
          "scene": {
           "xaxis": {
            "backgroundcolor": "#E5ECF6",
            "gridcolor": "white",
            "gridwidth": 2,
            "linecolor": "white",
            "showbackground": true,
            "ticks": "",
            "zerolinecolor": "white"
           },
           "yaxis": {
            "backgroundcolor": "#E5ECF6",
            "gridcolor": "white",
            "gridwidth": 2,
            "linecolor": "white",
            "showbackground": true,
            "ticks": "",
            "zerolinecolor": "white"
           },
           "zaxis": {
            "backgroundcolor": "#E5ECF6",
            "gridcolor": "white",
            "gridwidth": 2,
            "linecolor": "white",
            "showbackground": true,
            "ticks": "",
            "zerolinecolor": "white"
           }
          },
          "shapedefaults": {
           "line": {
            "color": "#2a3f5f"
           }
          },
          "ternary": {
           "aaxis": {
            "gridcolor": "white",
            "linecolor": "white",
            "ticks": ""
           },
           "baxis": {
            "gridcolor": "white",
            "linecolor": "white",
            "ticks": ""
           },
           "bgcolor": "#E5ECF6",
           "caxis": {
            "gridcolor": "white",
            "linecolor": "white",
            "ticks": ""
           }
          },
          "title": {
           "x": 0.05
          },
          "xaxis": {
           "automargin": true,
           "gridcolor": "white",
           "linecolor": "white",
           "ticks": "",
           "title": {
            "standoff": 15
           },
           "zerolinecolor": "white",
           "zerolinewidth": 2
          },
          "yaxis": {
           "automargin": true,
           "gridcolor": "white",
           "linecolor": "white",
           "ticks": "",
           "title": {
            "standoff": 15
           },
           "zerolinecolor": "white",
           "zerolinewidth": 2
          }
         }
        },
        "title": {
         "font": {
          "size": 20
         },
         "text": "How a monthly child allowance would lift moms out of poverty by state"
        },
        "updatemenus": [
         {
          "buttons": [
           {
            "args": [
             null,
             {
              "frame": {
               "duration": 500,
               "redraw": true
              },
              "fromcurrent": true,
              "mode": "immediate",
              "transition": {
               "duration": 500,
               "easing": "linear"
              }
             }
            ],
            "label": "&#9654;",
            "method": "animate"
           },
           {
            "args": [
             [
              null
             ],
             {
              "frame": {
               "duration": 0,
               "redraw": true
              },
              "fromcurrent": true,
              "mode": "immediate",
              "transition": {
               "duration": 0,
               "easing": "linear"
              }
             }
            ],
            "label": "&#9724;",
            "method": "animate"
           }
          ],
          "direction": "left",
          "pad": {
           "r": 10,
           "t": 70
          },
          "showactive": false,
          "type": "buttons",
          "x": 0.1,
          "xanchor": "right",
          "y": 0,
          "yanchor": "top"
         }
        ],
        "width": 800,
        "xaxis": {
         "tickfont": {
          "size": 14
         },
         "title": {
          "font": {
           "color": "black",
           "size": 16
          }
         }
        },
        "yaxis": {
         "tickfont": {
          "size": 14
         },
         "title": {
          "font": {
           "color": "black",
           "size": 16
          }
         }
        }
       }
      }
     },
     "metadata": {},
     "output_type": "display_data"
    }
   ],
   "source": [
    "# Process data\n",
    "import us\n",
    "\n",
    "state_df[\"state_name\"] = state_df.state_code.apply(lambda x: us.states.lookup(x).name)\n",
    "current_mothers_in_poverty = state_df[state_df.child_allowance == 0][[\"state_code\", \"mother_poverty_count\"]].rename(\n",
    "    columns={\"mother_poverty_count\": \"current_mothers_in_poverty\"}\n",
    ")\n",
    "state_df2 = state_df.merge(current_mothers_in_poverty, on=\"state_code\")\n",
    "state_df2[\"mother_poverty_cut\"] = state_df2.current_mothers_in_poverty - state_df2.mother_poverty_count\n",
    "state_df2[\"mother_poverty_pct_cut\"] = state_df2.mother_poverty_cut / state_df2.current_mothers_in_poverty\n",
    "state_df2[\"hover\"] = (\n",
    "    \"<b>A $\" + state_df2.child_allowance.astype(int).astype(str) +\n",
    "    \" monthly child allowance in \" + state_df2.state_name + \"</b><br>\" +\n",
    "    \"would lift \" + (state_df2.mother_poverty_cut / 1e3).astype(int).astype(str) + \n",
    "    \",000 mothers (\" + (state_df2.mother_poverty_pct_cut * 100).astype(int).astype(str) + \n",
    "    \"%) out of poverty<br>\" +\n",
    "    \"and cost $\" +\n",
    "    (state_df2.cost / 1e9).round(1).astype(str) +\n",
    "    \" billion per year\"\n",
    ")\n",
    "# Graph.\n",
    "LABELS = dict(child_allowance=\"Monthly child allowance\", mother_poverty_count=\"Mothers in poverty\")\n",
    "HOVER_TEMPLATE = \"%{customdata[0]}<extra></extra>\"\n",
    "fig = px.choropleth(\n",
    "    state_df2,\n",
    "    locations=\"state_code\",\n",
    "    locationmode=\"USA-states\",\n",
    "    color=\"mother_poverty_pct_cut\",\n",
    "    scope=\"usa\",\n",
    "    animation_frame=\"child_allowance\",\n",
    "    labels=LABELS,\n",
    "    custom_data=[\"hover\"],\n",
    "    title=\"How a monthly child allowance would lift moms out of poverty by state\",\n",
    "    color_continuous_scale=px.colors.sequential.Blues,\n",
    "    range_color=[0, state_df2.mother_poverty_pct_cut.max()]\n",
    ")\n",
    "fig.update_traces(hovertemplate=HOVER_TEMPLATE)\n",
    "for frame in fig.frames:\n",
    "    frame.data[0].hovertemplate = HOVER_TEMPLATE\n",
    "fig.update_layout(coloraxis_showscale=False)\n",
    "format_fig(fig)"
   ]
  },
  {
   "cell_type": "markdown",
   "metadata": {},
   "source": [
    "Maternal poverty is associated with [depression and worsened child development](https://srcd.onlinelibrary.wiley.com/doi/abs/10.1111/1467-8624.00379).\n",
    "Mothers spend about [1.7 hours per day](https://www.bls.gov/charts/american-time-use/activity-by-parent.htm) caring for children.\n",
    "And of course, mothers suffer from the consequences of poverty like any other person does.\n",
    "Child allowances can improve child outcomes, compensate parents for raising the next generation, and improve the well-being of moms everywhere."
   ]
  }
 ],
 "metadata": {
  "interpreter": {
   "hash": "55caae88f165576005f6048bc75f34cf1d7ac8493d0614f52ff8f060439f0b27"
  },
  "kernelspec": {
   "display_name": "Python 3.7.11 ('base')",
   "language": "python",
   "name": "python3"
  },
  "language_info": {
   "codemirror_mode": {
    "name": "ipython",
    "version": 3
   },
   "file_extension": ".py",
   "mimetype": "text/x-python",
   "name": "python",
   "nbconvert_exporter": "python",
   "pygments_lexer": "ipython3",
   "version": "3.7.11"
  }
 },
 "nbformat": 4,
 "nbformat_minor": 4
}
