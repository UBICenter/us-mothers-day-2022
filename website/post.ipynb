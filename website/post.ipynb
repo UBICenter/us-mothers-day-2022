{
 "cells": [
  {
   "cell_type": "markdown",
   "metadata": {},
   "source": [
    "52 million mothers in the United States live with their children.\n",
    "Of those, over 4.5 million are in poverty.\n",
    "\n",
    "That poverty rate of 9.0 percent is a bit lower than the overall poverty rate of 9.3 percent,[^spm] largely thanks to safety net programs that target families with children.\n",
    "Yet, many of those programs fail to reach low-income mothers due to qualification rules and complex bureaucracies.\n",
    "\n",
    "[^spm]: This analysis uses the 2020 Current Population Survey March Supplement, and the [Supplemental Poverty Measure](https://www.census.gov/library/publications/2021/demo/p60-275.html).\n",
    "The official SPM poverty rate was 9.1 percent in 2020, but the public use microdata that powers our analysis produces slightly different results.\n",
    "\n",
    "A simpler alternative, which [other countries adopt](https://child-allowance.ubicenter.org/policies.html#other-countries) and [which we've written about in several other reports](https://www.ubicenter.org/tag/child-allowance/), is a universal child allowance: a flat amount given each month to parents for each of their children.\n",
    "\n",
    "While child allowances chiefly reduce child poverty, they also lift mothers out of poverty.\n",
    "For example, a \\$200 per month child allowance would lift one million mothers out of poverty, at an annual cost of \\$173 billion."
   ]
  },
  {
   "cell_type": "code",
   "execution_count": 1,
   "metadata": {},
   "outputs": [],
   "source": [
    "import plotly.express as px\n",
    "from ubicenter import format_fig\n",
    "from openfisca_us import Microsimulation\n",
    "\n",
    "sim = Microsimulation()"
   ]
  },
  {
   "cell_type": "code",
   "execution_count": 2,
   "metadata": {},
   "outputs": [],
   "source": [
    "# sim.calc(\"is_mother\").sum()  # 52 million.\n",
    "# sim.calc(\"spm_unit_is_in_spm_poverty\", map_to=\"person\").mean()  # 9.3%"
   ]
  },
  {
   "cell_type": "code",
   "execution_count": 3,
   "metadata": {},
   "outputs": [],
   "source": [
    "from openfisca_us.api import *\n",
    "\n",
    "from openfisca_us.model_api import *\n",
    "\n",
    "\n",
    "class spm_unit_net_income(Variable):\n",
    "    value_type = float\n",
    "    entity = SPMUnit\n",
    "    label = \"Net income\"\n",
    "    definition_period = YEAR\n",
    "    unit = USD\n",
    "\n",
    "    formula = sum_of_variables(\n",
    "        [\n",
    "            \"spm_unit_net_income_reported\", \"child_allowance\"\n",
    "        ]\n",
    "    )\n",
    "\n",
    "\n",
    "def get_mother_poverty(child_allowance_amount):\n",
    "    \n",
    "    class child_allowance(Variable):\n",
    "        value_type = float\n",
    "        entity = Person\n",
    "        definition_period = YEAR\n",
    "\n",
    "        def formula(person, period, parameters):\n",
    "            return person(\"is_child\", period) * child_allowance_amount * 12\n",
    "\n",
    "\n",
    "    class add_child_allowance(Reform):\n",
    "        def apply(self):\n",
    "            self.update_variable(child_allowance)\n",
    "            self.update_variable(spm_unit_net_income)\n",
    "\n",
    "    reformed = Microsimulation(add_child_allowance)\n",
    "\n",
    "    dfr = reformed.df([\"is_mother\", \"spm_unit_is_in_spm_poverty\"], map_to=\"person\")\n",
    "    return pd.Series(dict(\n",
    "        child_allowance=i,\n",
    "        mother_poverty_count=dfr[dfr.is_mother].spm_unit_is_in_spm_poverty.sum(),\n",
    "        cost=reformed.calc(\"child_allowance\").sum()\n",
    "    ))\n"
   ]
  },
  {
   "cell_type": "code",
   "execution_count": 4,
   "metadata": {},
   "outputs": [],
   "source": [
    "l = []\n",
    "\n",
    "for i in np.arange(0, 500, 10):\n",
    "    l.append(get_mother_poverty(i))\n",
    "\n",
    "df = pd.DataFrame(l)"
   ]
  },
  {
   "cell_type": "code",
   "execution_count": 5,
   "metadata": {},
   "outputs": [
    {
     "data": {
      "application/vnd.plotly.v1+json": {
       "config": {
        "displayModeBar": false,
        "plotlyServerURL": "https://plot.ly"
       },
       "data": [
        {
         "customdata": [
          [
           "A $0 monthly child allowance would cost $0 billion per year and lift 0.0 million mothers out of poverty."
          ],
          [
           "A $10 monthly child allowance would cost $8 billion per year and lift 0.0 million mothers out of poverty."
          ],
          [
           "A $20 monthly child allowance would cost $17 billion per year and lift 0.1 million mothers out of poverty."
          ],
          [
           "A $30 monthly child allowance would cost $26 billion per year and lift 0.2 million mothers out of poverty."
          ],
          [
           "A $40 monthly child allowance would cost $34 billion per year and lift 0.2 million mothers out of poverty."
          ],
          [
           "A $50 monthly child allowance would cost $43 billion per year and lift 0.3 million mothers out of poverty."
          ],
          [
           "A $60 monthly child allowance would cost $52 billion per year and lift 0.3 million mothers out of poverty."
          ],
          [
           "A $70 monthly child allowance would cost $60 billion per year and lift 0.4 million mothers out of poverty."
          ],
          [
           "A $80 monthly child allowance would cost $69 billion per year and lift 0.4 million mothers out of poverty."
          ],
          [
           "A $90 monthly child allowance would cost $78 billion per year and lift 0.5 million mothers out of poverty."
          ],
          [
           "A $100 monthly child allowance would cost $86 billion per year and lift 0.5 million mothers out of poverty."
          ],
          [
           "A $110 monthly child allowance would cost $95 billion per year and lift 0.6 million mothers out of poverty."
          ],
          [
           "A $120 monthly child allowance would cost $104 billion per year and lift 0.6 million mothers out of poverty."
          ],
          [
           "A $130 monthly child allowance would cost $113 billion per year and lift 0.7 million mothers out of poverty."
          ],
          [
           "A $140 monthly child allowance would cost $121 billion per year and lift 0.7 million mothers out of poverty."
          ],
          [
           "A $150 monthly child allowance would cost $130 billion per year and lift 0.8 million mothers out of poverty."
          ],
          [
           "A $160 monthly child allowance would cost $139 billion per year and lift 0.8 million mothers out of poverty."
          ],
          [
           "A $170 monthly child allowance would cost $147 billion per year and lift 0.9 million mothers out of poverty."
          ],
          [
           "A $180 monthly child allowance would cost $156 billion per year and lift 0.9 million mothers out of poverty."
          ],
          [
           "A $190 monthly child allowance would cost $165 billion per year and lift 1.0 million mothers out of poverty."
          ],
          [
           "A $200 monthly child allowance would cost $173 billion per year and lift 1.0 million mothers out of poverty."
          ],
          [
           "A $210 monthly child allowance would cost $182 billion per year and lift 1.0 million mothers out of poverty."
          ],
          [
           "A $220 monthly child allowance would cost $191 billion per year and lift 1.1 million mothers out of poverty."
          ],
          [
           "A $230 monthly child allowance would cost $199 billion per year and lift 1.1 million mothers out of poverty."
          ],
          [
           "A $240 monthly child allowance would cost $208 billion per year and lift 1.2 million mothers out of poverty."
          ],
          [
           "A $250 monthly child allowance would cost $217 billion per year and lift 1.2 million mothers out of poverty."
          ],
          [
           "A $260 monthly child allowance would cost $226 billion per year and lift 1.2 million mothers out of poverty."
          ],
          [
           "A $270 monthly child allowance would cost $234 billion per year and lift 1.2 million mothers out of poverty."
          ],
          [
           "A $280 monthly child allowance would cost $243 billion per year and lift 1.3 million mothers out of poverty."
          ],
          [
           "A $290 monthly child allowance would cost $252 billion per year and lift 1.4 million mothers out of poverty."
          ],
          [
           "A $300 monthly child allowance would cost $260 billion per year and lift 1.4 million mothers out of poverty."
          ],
          [
           "A $310 monthly child allowance would cost $269 billion per year and lift 1.4 million mothers out of poverty."
          ],
          [
           "A $320 monthly child allowance would cost $278 billion per year and lift 1.5 million mothers out of poverty."
          ],
          [
           "A $330 monthly child allowance would cost $286 billion per year and lift 1.5 million mothers out of poverty."
          ],
          [
           "A $340 monthly child allowance would cost $295 billion per year and lift 1.5 million mothers out of poverty."
          ],
          [
           "A $350 monthly child allowance would cost $304 billion per year and lift 1.6 million mothers out of poverty."
          ],
          [
           "A $360 monthly child allowance would cost $313 billion per year and lift 1.6 million mothers out of poverty."
          ],
          [
           "A $370 monthly child allowance would cost $321 billion per year and lift 1.7 million mothers out of poverty."
          ],
          [
           "A $380 monthly child allowance would cost $330 billion per year and lift 1.7 million mothers out of poverty."
          ],
          [
           "A $390 monthly child allowance would cost $339 billion per year and lift 1.7 million mothers out of poverty."
          ],
          [
           "A $400 monthly child allowance would cost $347 billion per year and lift 1.8 million mothers out of poverty."
          ],
          [
           "A $410 monthly child allowance would cost $356 billion per year and lift 1.8 million mothers out of poverty."
          ],
          [
           "A $420 monthly child allowance would cost $365 billion per year and lift 1.9 million mothers out of poverty."
          ],
          [
           "A $430 monthly child allowance would cost $373 billion per year and lift 1.9 million mothers out of poverty."
          ],
          [
           "A $440 monthly child allowance would cost $382 billion per year and lift 1.9 million mothers out of poverty."
          ],
          [
           "A $450 monthly child allowance would cost $391 billion per year and lift 1.9 million mothers out of poverty."
          ],
          [
           "A $460 monthly child allowance would cost $399 billion per year and lift 2.0 million mothers out of poverty."
          ],
          [
           "A $470 monthly child allowance would cost $408 billion per year and lift 2.0 million mothers out of poverty."
          ],
          [
           "A $480 monthly child allowance would cost $417 billion per year and lift 2.0 million mothers out of poverty."
          ],
          [
           "A $490 monthly child allowance would cost $426 billion per year and lift 2.1 million mothers out of poverty."
          ]
         ],
         "hovertemplate": "%{customdata[0]}<extra></extra>",
         "legendgroup": "",
         "line": {
          "color": "#636efa",
          "dash": "solid"
         },
         "marker": {
          "symbol": "circle"
         },
         "mode": "lines",
         "name": "",
         "orientation": "v",
         "showlegend": false,
         "type": "scatter",
         "x": [
          0,
          10,
          20,
          30,
          40,
          50,
          60,
          70,
          80,
          90,
          100,
          110,
          120,
          130,
          140,
          150,
          160,
          170,
          180,
          190,
          200,
          210,
          220,
          230,
          240,
          250,
          260,
          270,
          280,
          290,
          300,
          310,
          320,
          330,
          340,
          350,
          360,
          370,
          380,
          390,
          400,
          410,
          420,
          430,
          440,
          450,
          460,
          470,
          480,
          490
         ],
         "xaxis": "x",
         "y": [
          4637714.04788208,
          4589049.247558594,
          4541634.787658691,
          4468437.307861328,
          4405358.997314453,
          4376307.197418213,
          4317801.897491455,
          4254511.017913818,
          4222136.827575684,
          4146290.077697754,
          4097081.337890625,
          4034198.886932373,
          3994925.9668884277,
          3953549.946624756,
          3895433.1867370605,
          3855670.327026367,
          3817896.1670532227,
          3760180.8677368164,
          3707888.268310547,
          3643901.428100586,
          3621373.618347168,
          3595964.768432617,
          3551274.267944336,
          3528817.4576416016,
          3480995.5982666016,
          3460547.258117676,
          3415511.3783569336,
          3389217.4381713867,
          3318713.668334961,
          3285993.798095703,
          3262599.088195801,
          3219778.1482543945,
          3178411.5282592773,
          3145004.628601074,
          3105674.4083251953,
          3061571.9984436035,
          3040479.398162842,
          2955861.3587036133,
          2902010.0386047363,
          2888008.308380127,
          2849612.1784973145,
          2816402.4386291504,
          2779818.888885498,
          2742702.7183532715,
          2717422.2078552246,
          2691179.3875427246,
          2674582.087615967,
          2637441.0672912598,
          2589261.7367248535,
          2576323.236968994
         ],
         "yaxis": "y"
        }
       ],
       "layout": {
        "font": {
         "family": "Roboto"
        },
        "height": 600,
        "hoverlabel": {
         "align": "right"
        },
        "images": [
         {
          "sizex": 0.12,
          "sizey": 0.12,
          "source": "https://raw.githubusercontent.com/UBICenter/ubicenter.org/master/assets/images/logos/wide-blue.jpg",
          "x": 0.98,
          "xanchor": "right",
          "xref": "paper",
          "y": -0.12,
          "yanchor": "bottom",
          "yref": "paper"
         }
        ],
        "legend": {
         "tracegroupgap": 0
        },
        "paper_bgcolor": "white",
        "plot_bgcolor": "white",
        "template": {
         "data": {
          "bar": [
           {
            "error_x": {
             "color": "#2a3f5f"
            },
            "error_y": {
             "color": "#2a3f5f"
            },
            "marker": {
             "line": {
              "color": "#E5ECF6",
              "width": 0.5
             },
             "pattern": {
              "fillmode": "overlay",
              "size": 10,
              "solidity": 0.2
             }
            },
            "type": "bar"
           }
          ],
          "barpolar": [
           {
            "marker": {
             "line": {
              "color": "#E5ECF6",
              "width": 0.5
             },
             "pattern": {
              "fillmode": "overlay",
              "size": 10,
              "solidity": 0.2
             }
            },
            "type": "barpolar"
           }
          ],
          "carpet": [
           {
            "aaxis": {
             "endlinecolor": "#2a3f5f",
             "gridcolor": "white",
             "linecolor": "white",
             "minorgridcolor": "white",
             "startlinecolor": "#2a3f5f"
            },
            "baxis": {
             "endlinecolor": "#2a3f5f",
             "gridcolor": "white",
             "linecolor": "white",
             "minorgridcolor": "white",
             "startlinecolor": "#2a3f5f"
            },
            "type": "carpet"
           }
          ],
          "choropleth": [
           {
            "colorbar": {
             "outlinewidth": 0,
             "ticks": ""
            },
            "type": "choropleth"
           }
          ],
          "contour": [
           {
            "colorbar": {
             "outlinewidth": 0,
             "ticks": ""
            },
            "colorscale": [
             [
              0,
              "#0d0887"
             ],
             [
              0.1111111111111111,
              "#46039f"
             ],
             [
              0.2222222222222222,
              "#7201a8"
             ],
             [
              0.3333333333333333,
              "#9c179e"
             ],
             [
              0.4444444444444444,
              "#bd3786"
             ],
             [
              0.5555555555555556,
              "#d8576b"
             ],
             [
              0.6666666666666666,
              "#ed7953"
             ],
             [
              0.7777777777777778,
              "#fb9f3a"
             ],
             [
              0.8888888888888888,
              "#fdca26"
             ],
             [
              1,
              "#f0f921"
             ]
            ],
            "type": "contour"
           }
          ],
          "contourcarpet": [
           {
            "colorbar": {
             "outlinewidth": 0,
             "ticks": ""
            },
            "type": "contourcarpet"
           }
          ],
          "heatmap": [
           {
            "colorbar": {
             "outlinewidth": 0,
             "ticks": ""
            },
            "colorscale": [
             [
              0,
              "#0d0887"
             ],
             [
              0.1111111111111111,
              "#46039f"
             ],
             [
              0.2222222222222222,
              "#7201a8"
             ],
             [
              0.3333333333333333,
              "#9c179e"
             ],
             [
              0.4444444444444444,
              "#bd3786"
             ],
             [
              0.5555555555555556,
              "#d8576b"
             ],
             [
              0.6666666666666666,
              "#ed7953"
             ],
             [
              0.7777777777777778,
              "#fb9f3a"
             ],
             [
              0.8888888888888888,
              "#fdca26"
             ],
             [
              1,
              "#f0f921"
             ]
            ],
            "type": "heatmap"
           }
          ],
          "heatmapgl": [
           {
            "colorbar": {
             "outlinewidth": 0,
             "ticks": ""
            },
            "colorscale": [
             [
              0,
              "#0d0887"
             ],
             [
              0.1111111111111111,
              "#46039f"
             ],
             [
              0.2222222222222222,
              "#7201a8"
             ],
             [
              0.3333333333333333,
              "#9c179e"
             ],
             [
              0.4444444444444444,
              "#bd3786"
             ],
             [
              0.5555555555555556,
              "#d8576b"
             ],
             [
              0.6666666666666666,
              "#ed7953"
             ],
             [
              0.7777777777777778,
              "#fb9f3a"
             ],
             [
              0.8888888888888888,
              "#fdca26"
             ],
             [
              1,
              "#f0f921"
             ]
            ],
            "type": "heatmapgl"
           }
          ],
          "histogram": [
           {
            "marker": {
             "pattern": {
              "fillmode": "overlay",
              "size": 10,
              "solidity": 0.2
             }
            },
            "type": "histogram"
           }
          ],
          "histogram2d": [
           {
            "colorbar": {
             "outlinewidth": 0,
             "ticks": ""
            },
            "colorscale": [
             [
              0,
              "#0d0887"
             ],
             [
              0.1111111111111111,
              "#46039f"
             ],
             [
              0.2222222222222222,
              "#7201a8"
             ],
             [
              0.3333333333333333,
              "#9c179e"
             ],
             [
              0.4444444444444444,
              "#bd3786"
             ],
             [
              0.5555555555555556,
              "#d8576b"
             ],
             [
              0.6666666666666666,
              "#ed7953"
             ],
             [
              0.7777777777777778,
              "#fb9f3a"
             ],
             [
              0.8888888888888888,
              "#fdca26"
             ],
             [
              1,
              "#f0f921"
             ]
            ],
            "type": "histogram2d"
           }
          ],
          "histogram2dcontour": [
           {
            "colorbar": {
             "outlinewidth": 0,
             "ticks": ""
            },
            "colorscale": [
             [
              0,
              "#0d0887"
             ],
             [
              0.1111111111111111,
              "#46039f"
             ],
             [
              0.2222222222222222,
              "#7201a8"
             ],
             [
              0.3333333333333333,
              "#9c179e"
             ],
             [
              0.4444444444444444,
              "#bd3786"
             ],
             [
              0.5555555555555556,
              "#d8576b"
             ],
             [
              0.6666666666666666,
              "#ed7953"
             ],
             [
              0.7777777777777778,
              "#fb9f3a"
             ],
             [
              0.8888888888888888,
              "#fdca26"
             ],
             [
              1,
              "#f0f921"
             ]
            ],
            "type": "histogram2dcontour"
           }
          ],
          "mesh3d": [
           {
            "colorbar": {
             "outlinewidth": 0,
             "ticks": ""
            },
            "type": "mesh3d"
           }
          ],
          "parcoords": [
           {
            "line": {
             "colorbar": {
              "outlinewidth": 0,
              "ticks": ""
             }
            },
            "type": "parcoords"
           }
          ],
          "pie": [
           {
            "automargin": true,
            "type": "pie"
           }
          ],
          "scatter": [
           {
            "marker": {
             "colorbar": {
              "outlinewidth": 0,
              "ticks": ""
             }
            },
            "type": "scatter"
           }
          ],
          "scatter3d": [
           {
            "line": {
             "colorbar": {
              "outlinewidth": 0,
              "ticks": ""
             }
            },
            "marker": {
             "colorbar": {
              "outlinewidth": 0,
              "ticks": ""
             }
            },
            "type": "scatter3d"
           }
          ],
          "scattercarpet": [
           {
            "marker": {
             "colorbar": {
              "outlinewidth": 0,
              "ticks": ""
             }
            },
            "type": "scattercarpet"
           }
          ],
          "scattergeo": [
           {
            "marker": {
             "colorbar": {
              "outlinewidth": 0,
              "ticks": ""
             }
            },
            "type": "scattergeo"
           }
          ],
          "scattergl": [
           {
            "marker": {
             "colorbar": {
              "outlinewidth": 0,
              "ticks": ""
             }
            },
            "type": "scattergl"
           }
          ],
          "scattermapbox": [
           {
            "marker": {
             "colorbar": {
              "outlinewidth": 0,
              "ticks": ""
             }
            },
            "type": "scattermapbox"
           }
          ],
          "scatterpolar": [
           {
            "marker": {
             "colorbar": {
              "outlinewidth": 0,
              "ticks": ""
             }
            },
            "type": "scatterpolar"
           }
          ],
          "scatterpolargl": [
           {
            "marker": {
             "colorbar": {
              "outlinewidth": 0,
              "ticks": ""
             }
            },
            "type": "scatterpolargl"
           }
          ],
          "scatterternary": [
           {
            "marker": {
             "colorbar": {
              "outlinewidth": 0,
              "ticks": ""
             }
            },
            "type": "scatterternary"
           }
          ],
          "surface": [
           {
            "colorbar": {
             "outlinewidth": 0,
             "ticks": ""
            },
            "colorscale": [
             [
              0,
              "#0d0887"
             ],
             [
              0.1111111111111111,
              "#46039f"
             ],
             [
              0.2222222222222222,
              "#7201a8"
             ],
             [
              0.3333333333333333,
              "#9c179e"
             ],
             [
              0.4444444444444444,
              "#bd3786"
             ],
             [
              0.5555555555555556,
              "#d8576b"
             ],
             [
              0.6666666666666666,
              "#ed7953"
             ],
             [
              0.7777777777777778,
              "#fb9f3a"
             ],
             [
              0.8888888888888888,
              "#fdca26"
             ],
             [
              1,
              "#f0f921"
             ]
            ],
            "type": "surface"
           }
          ],
          "table": [
           {
            "cells": {
             "fill": {
              "color": "#EBF0F8"
             },
             "line": {
              "color": "white"
             }
            },
            "header": {
             "fill": {
              "color": "#C8D4E3"
             },
             "line": {
              "color": "white"
             }
            },
            "type": "table"
           }
          ]
         },
         "layout": {
          "annotationdefaults": {
           "arrowcolor": "#2a3f5f",
           "arrowhead": 0,
           "arrowwidth": 1
          },
          "autotypenumbers": "strict",
          "coloraxis": {
           "colorbar": {
            "outlinewidth": 0,
            "ticks": ""
           }
          },
          "colorscale": {
           "diverging": [
            [
             0,
             "#8e0152"
            ],
            [
             0.1,
             "#c51b7d"
            ],
            [
             0.2,
             "#de77ae"
            ],
            [
             0.3,
             "#f1b6da"
            ],
            [
             0.4,
             "#fde0ef"
            ],
            [
             0.5,
             "#f7f7f7"
            ],
            [
             0.6,
             "#e6f5d0"
            ],
            [
             0.7,
             "#b8e186"
            ],
            [
             0.8,
             "#7fbc41"
            ],
            [
             0.9,
             "#4d9221"
            ],
            [
             1,
             "#276419"
            ]
           ],
           "sequential": [
            [
             0,
             "#0d0887"
            ],
            [
             0.1111111111111111,
             "#46039f"
            ],
            [
             0.2222222222222222,
             "#7201a8"
            ],
            [
             0.3333333333333333,
             "#9c179e"
            ],
            [
             0.4444444444444444,
             "#bd3786"
            ],
            [
             0.5555555555555556,
             "#d8576b"
            ],
            [
             0.6666666666666666,
             "#ed7953"
            ],
            [
             0.7777777777777778,
             "#fb9f3a"
            ],
            [
             0.8888888888888888,
             "#fdca26"
            ],
            [
             1,
             "#f0f921"
            ]
           ],
           "sequentialminus": [
            [
             0,
             "#0d0887"
            ],
            [
             0.1111111111111111,
             "#46039f"
            ],
            [
             0.2222222222222222,
             "#7201a8"
            ],
            [
             0.3333333333333333,
             "#9c179e"
            ],
            [
             0.4444444444444444,
             "#bd3786"
            ],
            [
             0.5555555555555556,
             "#d8576b"
            ],
            [
             0.6666666666666666,
             "#ed7953"
            ],
            [
             0.7777777777777778,
             "#fb9f3a"
            ],
            [
             0.8888888888888888,
             "#fdca26"
            ],
            [
             1,
             "#f0f921"
            ]
           ]
          },
          "colorway": [
           "#636efa",
           "#EF553B",
           "#00cc96",
           "#ab63fa",
           "#FFA15A",
           "#19d3f3",
           "#FF6692",
           "#B6E880",
           "#FF97FF",
           "#FECB52"
          ],
          "font": {
           "color": "#2a3f5f"
          },
          "geo": {
           "bgcolor": "white",
           "lakecolor": "white",
           "landcolor": "#E5ECF6",
           "showlakes": true,
           "showland": true,
           "subunitcolor": "white"
          },
          "hoverlabel": {
           "align": "left"
          },
          "hovermode": "closest",
          "mapbox": {
           "style": "light"
          },
          "paper_bgcolor": "white",
          "plot_bgcolor": "#E5ECF6",
          "polar": {
           "angularaxis": {
            "gridcolor": "white",
            "linecolor": "white",
            "ticks": ""
           },
           "bgcolor": "#E5ECF6",
           "radialaxis": {
            "gridcolor": "white",
            "linecolor": "white",
            "ticks": ""
           }
          },
          "scene": {
           "xaxis": {
            "backgroundcolor": "#E5ECF6",
            "gridcolor": "white",
            "gridwidth": 2,
            "linecolor": "white",
            "showbackground": true,
            "ticks": "",
            "zerolinecolor": "white"
           },
           "yaxis": {
            "backgroundcolor": "#E5ECF6",
            "gridcolor": "white",
            "gridwidth": 2,
            "linecolor": "white",
            "showbackground": true,
            "ticks": "",
            "zerolinecolor": "white"
           },
           "zaxis": {
            "backgroundcolor": "#E5ECF6",
            "gridcolor": "white",
            "gridwidth": 2,
            "linecolor": "white",
            "showbackground": true,
            "ticks": "",
            "zerolinecolor": "white"
           }
          },
          "shapedefaults": {
           "line": {
            "color": "#2a3f5f"
           }
          },
          "ternary": {
           "aaxis": {
            "gridcolor": "white",
            "linecolor": "white",
            "ticks": ""
           },
           "baxis": {
            "gridcolor": "white",
            "linecolor": "white",
            "ticks": ""
           },
           "bgcolor": "#E5ECF6",
           "caxis": {
            "gridcolor": "white",
            "linecolor": "white",
            "ticks": ""
           }
          },
          "title": {
           "x": 0.05
          },
          "xaxis": {
           "automargin": true,
           "gridcolor": "white",
           "linecolor": "white",
           "ticks": "",
           "title": {
            "standoff": 15
           },
           "zerolinecolor": "white",
           "zerolinewidth": 2
          },
          "yaxis": {
           "automargin": true,
           "gridcolor": "white",
           "linecolor": "white",
           "ticks": "",
           "title": {
            "standoff": 15
           },
           "zerolinecolor": "white",
           "zerolinewidth": 2
          }
         }
        },
        "title": {
         "font": {
          "size": 20
         },
         "text": "How a monthly child allowance would lift moms out of poverty"
        },
        "width": 800,
        "xaxis": {
         "anchor": "y",
         "domain": [
          0,
          1
         ],
         "tickfont": {
          "size": 14
         },
         "tickformat": "$0",
         "title": {
          "font": {
           "color": "black",
           "size": 16
          },
          "text": "Monthly child allowance"
         }
        },
        "yaxis": {
         "anchor": "x",
         "domain": [
          0,
          1
         ],
         "range": [
          0,
          5000000
         ],
         "tickfont": {
          "size": 14
         },
         "title": {
          "font": {
           "color": "black",
           "size": 16
          },
          "text": "Mothers in poverty"
         }
        }
       }
      }
     },
     "metadata": {},
     "output_type": "display_data"
    }
   ],
   "source": [
    "df[\"hover\"] = (\n",
    "    \"A $\" + df.child_allowance.astype(int).astype(str) +\n",
    "    \" monthly child allowance would cost $\" +\n",
    "    (df.cost / 1e9).astype(int).astype(str) +\n",
    "    \" billion per year and lift \" +\n",
    "    ((df.mother_poverty_count[0] - df.mother_poverty_count) / 1e6).round(1).astype(str) + \n",
    "    \" million mothers out of poverty.\"\n",
    "    )\n",
    "LABELS = dict(child_allowance=\"Monthly child allowance\", mother_poverty_count=\"Mothers in poverty\")\n",
    "HOVER_TEMPLATE = \"%{customdata[0]}<extra></extra>\"\n",
    "fig = px.line(\n",
    "    df, x=\"child_allowance\", y=\"mother_poverty_count\", labels=LABELS, custom_data=[\"hover\"],\n",
    "    title=\"How a monthly child allowance would lift moms out of poverty\")\n",
    "fig.update_layout(yaxis_range=[0, 5e6], xaxis_tickformat=\"$0\")\n",
    "fig.update_traces(hovertemplate=HOVER_TEMPLATE)\n",
    "format_fig(fig)"
   ]
  },
  {
   "cell_type": "markdown",
   "metadata": {},
   "source": [
    "Maternal poverty is associated with [depression and worsened child development](https://srcd.onlinelibrary.wiley.com/doi/abs/10.1111/1467-8624.00379).\n",
    "Mothers spend about [1.7 hours per day](https://www.bls.gov/charts/american-time-use/activity-by-parent.htm) caring for children.\n",
    "And of course, mothers suffer from the consequences of poverty like any other person does.\n",
    "Child allowances can improve child outcomes, compensate parents for raising the next generation, and improve the well-being of moms everywhere."
   ]
  }
 ],
 "metadata": {
  "interpreter": {
   "hash": "55caae88f165576005f6048bc75f34cf1d7ac8493d0614f52ff8f060439f0b27"
  },
  "kernelspec": {
   "display_name": "Python 3.7.11 ('base')",
   "language": "python",
   "name": "python3"
  },
  "language_info": {
   "codemirror_mode": {
    "name": "ipython",
    "version": 3
   },
   "file_extension": ".py",
   "mimetype": "text/x-python",
   "name": "python",
   "nbconvert_exporter": "python",
   "pygments_lexer": "ipython3",
   "version": "3.7.11"
  }
 },
 "nbformat": 4,
 "nbformat_minor": 4
}
